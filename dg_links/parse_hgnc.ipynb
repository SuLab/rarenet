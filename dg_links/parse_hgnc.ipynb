{
 "cells": [
  {
   "cell_type": "markdown",
   "metadata": {},
   "source": [
    "# Convert HGNC identifiers to Entrez Gene identifiers\n",
    "\n",
    "2017-06-09"
   ]
  },
  {
   "cell_type": "code",
   "execution_count": 1,
   "metadata": {
    "collapsed": true
   },
   "outputs": [],
   "source": [
    "import pandas as pd\n",
    "import numpy as np"
   ]
  },
  {
   "cell_type": "markdown",
   "metadata": {},
   "source": [
    "## Read source HGNC data\n",
    "\n",
    "**Data Source**\n",
    "\n",
    "1. Go to the \"Complete Dataset Download Links\" section on the following website:www.genenames.org/cgi-bin/statistics\n",
    "2. Download the \"Complete HGNC dataset (txt)\" file called `hgnc_complete_set.txt`\n",
    "3. File was renamed to `hgnc_id_map.tsv`"
   ]
  },
  {
   "cell_type": "code",
   "execution_count": 2,
   "metadata": {
    "collapsed": true
   },
   "outputs": [],
   "source": [
    "hgnc_raw = pd.read_csv(\"../data/maps/hgnc_id_map.tsv\", sep='\\t', low_memory=False)"
   ]
  },
  {
   "cell_type": "code",
   "execution_count": 3,
   "metadata": {},
   "outputs": [
    {
     "data": {
      "text/plain": [
       "(42215, 49)"
      ]
     },
     "execution_count": 3,
     "metadata": {},
     "output_type": "execute_result"
    }
   ],
   "source": [
    "hgnc_raw.shape"
   ]
  },
  {
   "cell_type": "code",
   "execution_count": 4,
   "metadata": {},
   "outputs": [
    {
     "data": {
      "text/html": [
       "<div>\n",
       "<style>\n",
       "    .dataframe thead tr:only-child th {\n",
       "        text-align: right;\n",
       "    }\n",
       "\n",
       "    .dataframe thead th {\n",
       "        text-align: left;\n",
       "    }\n",
       "\n",
       "    .dataframe tbody tr th {\n",
       "        vertical-align: top;\n",
       "    }\n",
       "</style>\n",
       "<table border=\"1\" class=\"dataframe\">\n",
       "  <thead>\n",
       "    <tr style=\"text-align: right;\">\n",
       "      <th></th>\n",
       "      <th>hgnc_id</th>\n",
       "      <th>symbol</th>\n",
       "      <th>name</th>\n",
       "      <th>locus_group</th>\n",
       "      <th>locus_type</th>\n",
       "      <th>status</th>\n",
       "      <th>location</th>\n",
       "      <th>location_sortable</th>\n",
       "      <th>alias_symbol</th>\n",
       "      <th>alias_name</th>\n",
       "      <th>...</th>\n",
       "      <th>merops</th>\n",
       "      <th>imgt</th>\n",
       "      <th>iuphar</th>\n",
       "      <th>kznf_gene_catalog</th>\n",
       "      <th>mamit-trnadb</th>\n",
       "      <th>cd</th>\n",
       "      <th>lncrnadb</th>\n",
       "      <th>enzyme_id</th>\n",
       "      <th>intermediate_filament_db</th>\n",
       "      <th>rna_central_ids</th>\n",
       "    </tr>\n",
       "  </thead>\n",
       "  <tbody>\n",
       "    <tr>\n",
       "      <th>0</th>\n",
       "      <td>HGNC:5</td>\n",
       "      <td>A1BG</td>\n",
       "      <td>alpha-1-B glycoprotein</td>\n",
       "      <td>protein-coding gene</td>\n",
       "      <td>gene with protein product</td>\n",
       "      <td>Approved</td>\n",
       "      <td>19q13.43</td>\n",
       "      <td>19q13.43</td>\n",
       "      <td>NaN</td>\n",
       "      <td>NaN</td>\n",
       "      <td>...</td>\n",
       "      <td>I43.950</td>\n",
       "      <td>NaN</td>\n",
       "      <td>NaN</td>\n",
       "      <td>NaN</td>\n",
       "      <td>NaN</td>\n",
       "      <td>NaN</td>\n",
       "      <td>NaN</td>\n",
       "      <td>NaN</td>\n",
       "      <td>NaN</td>\n",
       "      <td>NaN</td>\n",
       "    </tr>\n",
       "    <tr>\n",
       "      <th>1</th>\n",
       "      <td>HGNC:37133</td>\n",
       "      <td>A1BG-AS1</td>\n",
       "      <td>A1BG antisense RNA 1</td>\n",
       "      <td>non-coding RNA</td>\n",
       "      <td>RNA, long non-coding</td>\n",
       "      <td>Approved</td>\n",
       "      <td>19q13.43</td>\n",
       "      <td>19q13.43</td>\n",
       "      <td>FLJ23569</td>\n",
       "      <td>NaN</td>\n",
       "      <td>...</td>\n",
       "      <td>NaN</td>\n",
       "      <td>NaN</td>\n",
       "      <td>NaN</td>\n",
       "      <td>NaN</td>\n",
       "      <td>NaN</td>\n",
       "      <td>NaN</td>\n",
       "      <td>NaN</td>\n",
       "      <td>NaN</td>\n",
       "      <td>NaN</td>\n",
       "      <td>URS00007E4F6E</td>\n",
       "    </tr>\n",
       "  </tbody>\n",
       "</table>\n",
       "<p>2 rows × 49 columns</p>\n",
       "</div>"
      ],
      "text/plain": [
       "      hgnc_id    symbol                    name          locus_group  \\\n",
       "0      HGNC:5      A1BG  alpha-1-B glycoprotein  protein-coding gene   \n",
       "1  HGNC:37133  A1BG-AS1    A1BG antisense RNA 1       non-coding RNA   \n",
       "\n",
       "                  locus_type    status  location location_sortable  \\\n",
       "0  gene with protein product  Approved  19q13.43          19q13.43   \n",
       "1       RNA, long non-coding  Approved  19q13.43          19q13.43   \n",
       "\n",
       "  alias_symbol alias_name       ...         merops imgt iuphar  \\\n",
       "0          NaN        NaN       ...        I43.950  NaN    NaN   \n",
       "1     FLJ23569        NaN       ...            NaN  NaN    NaN   \n",
       "\n",
       "  kznf_gene_catalog mamit-trnadb   cd lncrnadb enzyme_id  \\\n",
       "0               NaN          NaN  NaN      NaN       NaN   \n",
       "1               NaN          NaN  NaN      NaN       NaN   \n",
       "\n",
       "   intermediate_filament_db rna_central_ids  \n",
       "0                       NaN             NaN  \n",
       "1                       NaN   URS00007E4F6E  \n",
       "\n",
       "[2 rows x 49 columns]"
      ]
     },
     "execution_count": 4,
     "metadata": {},
     "output_type": "execute_result"
    }
   ],
   "source": [
    "hgnc_raw.head(2)"
   ]
  },
  {
   "cell_type": "markdown",
   "metadata": {},
   "source": [
    "---"
   ]
  },
  {
   "cell_type": "markdown",
   "metadata": {},
   "source": [
    "## Convert to Entrez space\n",
    "\n",
    "All genes in Rephetio are in Entrez space, which we will need to convert to."
   ]
  },
  {
   "cell_type": "code",
   "execution_count": 5,
   "metadata": {
    "collapsed": true
   },
   "outputs": [],
   "source": [
    "small = (hgnc_raw\n",
    "    [[\"hgnc_id\", \"symbol\", \"status\", \"entrez_id\"]]\n",
    "    .assign(hgnc_id = lambda df: df[\"hgnc_id\"].str[5:].astype(int))\n",
    ")"
   ]
  },
  {
   "cell_type": "code",
   "execution_count": 6,
   "metadata": {},
   "outputs": [
    {
     "data": {
      "text/html": [
       "<div>\n",
       "<style>\n",
       "    .dataframe thead tr:only-child th {\n",
       "        text-align: right;\n",
       "    }\n",
       "\n",
       "    .dataframe thead th {\n",
       "        text-align: left;\n",
       "    }\n",
       "\n",
       "    .dataframe tbody tr th {\n",
       "        vertical-align: top;\n",
       "    }\n",
       "</style>\n",
       "<table border=\"1\" class=\"dataframe\">\n",
       "  <thead>\n",
       "    <tr style=\"text-align: right;\">\n",
       "      <th></th>\n",
       "      <th>hgnc_id</th>\n",
       "      <th>symbol</th>\n",
       "      <th>status</th>\n",
       "      <th>entrez_id</th>\n",
       "    </tr>\n",
       "  </thead>\n",
       "  <tbody>\n",
       "    <tr>\n",
       "      <th>0</th>\n",
       "      <td>5</td>\n",
       "      <td>A1BG</td>\n",
       "      <td>Approved</td>\n",
       "      <td>1.0</td>\n",
       "    </tr>\n",
       "    <tr>\n",
       "      <th>1</th>\n",
       "      <td>37133</td>\n",
       "      <td>A1BG-AS1</td>\n",
       "      <td>Approved</td>\n",
       "      <td>503538.0</td>\n",
       "    </tr>\n",
       "    <tr>\n",
       "      <th>2</th>\n",
       "      <td>24086</td>\n",
       "      <td>A1CF</td>\n",
       "      <td>Approved</td>\n",
       "      <td>29974.0</td>\n",
       "    </tr>\n",
       "    <tr>\n",
       "      <th>3</th>\n",
       "      <td>7</td>\n",
       "      <td>A2M</td>\n",
       "      <td>Approved</td>\n",
       "      <td>2.0</td>\n",
       "    </tr>\n",
       "    <tr>\n",
       "      <th>4</th>\n",
       "      <td>27057</td>\n",
       "      <td>A2M-AS1</td>\n",
       "      <td>Approved</td>\n",
       "      <td>144571.0</td>\n",
       "    </tr>\n",
       "  </tbody>\n",
       "</table>\n",
       "</div>"
      ],
      "text/plain": [
       "   hgnc_id    symbol    status  entrez_id\n",
       "0        5      A1BG  Approved        1.0\n",
       "1    37133  A1BG-AS1  Approved   503538.0\n",
       "2    24086      A1CF  Approved    29974.0\n",
       "3        7       A2M  Approved        2.0\n",
       "4    27057   A2M-AS1  Approved   144571.0"
      ]
     },
     "execution_count": 6,
     "metadata": {},
     "output_type": "execute_result"
    }
   ],
   "source": [
    "small.head()"
   ]
  },
  {
   "cell_type": "markdown",
   "metadata": {},
   "source": [
    "### Are any HGNC genes missing Entrez ids?"
   ]
  },
  {
   "cell_type": "code",
   "execution_count": 7,
   "metadata": {},
   "outputs": [
    {
     "data": {
      "text/plain": [
       "hgnc_id         0\n",
       "symbol          0\n",
       "status          0\n",
       "entrez_id    1288\n",
       "dtype: int64"
      ]
     },
     "execution_count": 7,
     "metadata": {},
     "output_type": "execute_result"
    }
   ],
   "source": [
    "small.isnull().sum()"
   ]
  },
  {
   "cell_type": "code",
   "execution_count": 8,
   "metadata": {},
   "outputs": [
    {
     "data": {
      "text/plain": [
       "status\n",
       "Approved            127\n",
       "Entry Withdrawn    1161\n",
       "dtype: int64"
      ]
     },
     "execution_count": 8,
     "metadata": {},
     "output_type": "execute_result"
    }
   ],
   "source": [
    "small.groupby(\"status\").apply(lambda df: df[\"entrez_id\"].isnull().sum())"
   ]
  },
  {
   "cell_type": "markdown",
   "metadata": {},
   "source": [
    "The majority of missing Entrez IDs come from the non-approved HGNC ids."
   ]
  },
  {
   "cell_type": "code",
   "execution_count": 9,
   "metadata": {},
   "outputs": [
    {
     "data": {
      "text/plain": [
       "Approved           41054\n",
       "Entry Withdrawn     1161\n",
       "Name: status, dtype: int64"
      ]
     },
     "execution_count": 9,
     "metadata": {},
     "output_type": "execute_result"
    }
   ],
   "source": [
    "small[\"status\"].value_counts()"
   ]
  },
  {
   "cell_type": "code",
   "execution_count": 10,
   "metadata": {
    "collapsed": true
   },
   "outputs": [],
   "source": [
    "small.to_csv(\"hgnc_entrez_map.tsv\", sep='\\t', index=False)"
   ]
  }
 ],
 "metadata": {
  "kernelspec": {
   "display_name": "Python 3",
   "language": "python",
   "name": "python3"
  },
  "language_info": {
   "codemirror_mode": {
    "name": "ipython",
    "version": 3
   },
   "file_extension": ".py",
   "mimetype": "text/x-python",
   "name": "python",
   "nbconvert_exporter": "python",
   "pygments_lexer": "ipython3",
   "version": "3.5.3"
  }
 },
 "nbformat": 4,
 "nbformat_minor": 2
}
