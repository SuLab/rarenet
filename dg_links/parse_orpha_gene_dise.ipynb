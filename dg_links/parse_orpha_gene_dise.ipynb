{
 "cells": [
  {
   "cell_type": "markdown",
   "metadata": {},
   "source": [
    "# Parse gene-disease associations from OrphaNet\n",
    "\n",
    "2017-06-08\n",
    "\n",
    "1. Parse OrphaNet XML files for gene-disease links and gene cross-references.\n",
    "2. Map genes to HGNC identifiers.\n",
    "3. Map genes from HGNC ids to Entrez ids."
   ]
  },
  {
   "cell_type": "code",
   "execution_count": 1,
   "metadata": {
    "collapsed": true
   },
   "outputs": [],
   "source": [
    "import xml.etree.ElementTree as ET\n",
    "from collections import defaultdict\n",
    "\n",
    "import pandas as pd\n",
    "import numpy as np"
   ]
  },
  {
   "cell_type": "markdown",
   "metadata": {},
   "source": [
    "## Create OrphaNet XML parsers"
   ]
  },
  {
   "cell_type": "code",
   "execution_count": 2,
   "metadata": {
    "collapsed": true
   },
   "outputs": [],
   "source": [
    "def parse_links(root):\n",
    "    \"\"\"Parse out gene-disease links.\"\"\"\n",
    "    links = defaultdict(list)\n",
    "\n",
    "    for disease in root.iter(\"Disorder\"):\n",
    "        dise_id = disease.find(\"OrphaNumber\").text\n",
    "        dise_name = disease.find(\"Name\").text\n",
    "\n",
    "        for link in disease.iterfind(\"DisorderGeneAssociationList/DisorderGeneAssociation\"):\n",
    "            link_type = link.find(\"DisorderGeneAssociationType/Name\").text\n",
    "            link_status = link.find(\"DisorderGeneAssociationStatus/Name\").text\n",
    "\n",
    "            gene_id = link.find(\"Gene/OrphaNumber\").text\n",
    "\n",
    "            # create gene-dise link\n",
    "            vals = [\"dise_id\", \"dise_name\", \"gene_id\", \"link_type\", \"link_status\"]\n",
    "            for vname in vals:\n",
    "                links[vname].append(locals()[vname])\n",
    "        \n",
    "    return (pd\n",
    "        .DataFrame(links)\n",
    "        .astype({\"dise_id\": np.int64, \"gene_id\": np.int64})\n",
    "    )"
   ]
  },
  {
   "cell_type": "code",
   "execution_count": 3,
   "metadata": {
    "collapsed": true
   },
   "outputs": [],
   "source": [
    "def parse_xrefs(root):\n",
    "    \"\"\"Parse out gene identifier cross references.\"\"\"\n",
    "    \n",
    "    res = defaultdict(list)\n",
    "    \n",
    "    for link in root.iter(\"DisorderGeneAssociation\"):\n",
    "        gene = link.find(\"Gene\")\n",
    "        \n",
    "        gene_id = gene.find(\"OrphaNumber\").text\n",
    "        gene_name = gene.find(\"Name\").text\n",
    "        gene_symb = gene.find(\"Symbol\").text\n",
    "        \n",
    "        for xref in gene.iterfind(\"ExternalReferenceList/ExternalReference\"):\n",
    "            ref_name = xref.find(\"Source\").text\n",
    "            ref_id = xref.find(\"Reference\").text\n",
    "            \n",
    "            vals = [\"gene_id\", \"gene_name\", \"gene_symb\", \"ref_name\", \"ref_id\"]\n",
    "            for vname in vals:\n",
    "                res[vname].append(locals()[vname])\n",
    "        \n",
    "    return (pd\n",
    "        .DataFrame(res)\n",
    "        .drop_duplicates()\n",
    "        .astype({\"gene_id\": np.int64})\n",
    "    )"
   ]
  },
  {
   "cell_type": "markdown",
   "metadata": {},
   "source": [
    "---"
   ]
  },
  {
   "cell_type": "markdown",
   "metadata": {},
   "source": [
    "## Extract information"
   ]
  },
  {
   "cell_type": "code",
   "execution_count": 4,
   "metadata": {
    "collapsed": true
   },
   "outputs": [],
   "source": [
    "tree = ET.parse(\"../data/raw/orphanet/gene_disease_links.xml\")\n",
    "\n",
    "root = tree.getroot()"
   ]
  },
  {
   "cell_type": "code",
   "execution_count": 5,
   "metadata": {
    "collapsed": true
   },
   "outputs": [],
   "source": [
    "links = parse_links(root)\n",
    "xrefs = parse_xrefs(root)"
   ]
  },
  {
   "cell_type": "code",
   "execution_count": 6,
   "metadata": {},
   "outputs": [
    {
     "data": {
      "text/plain": [
       "(6977, 5)"
      ]
     },
     "execution_count": 6,
     "metadata": {},
     "output_type": "execute_result"
    }
   ],
   "source": [
    "links.shape"
   ]
  },
  {
   "cell_type": "code",
   "execution_count": 7,
   "metadata": {},
   "outputs": [
    {
     "data": {
      "text/plain": [
       "(21702, 5)"
      ]
     },
     "execution_count": 7,
     "metadata": {},
     "output_type": "execute_result"
    }
   ],
   "source": [
    "xrefs.shape"
   ]
  },
  {
   "cell_type": "code",
   "execution_count": 8,
   "metadata": {},
   "outputs": [
    {
     "data": {
      "text/html": [
       "<div>\n",
       "<style>\n",
       "    .dataframe thead tr:only-child th {\n",
       "        text-align: right;\n",
       "    }\n",
       "\n",
       "    .dataframe thead th {\n",
       "        text-align: left;\n",
       "    }\n",
       "\n",
       "    .dataframe tbody tr th {\n",
       "        vertical-align: top;\n",
       "    }\n",
       "</style>\n",
       "<table border=\"1\" class=\"dataframe\">\n",
       "  <thead>\n",
       "    <tr style=\"text-align: right;\">\n",
       "      <th></th>\n",
       "      <th>dise_id</th>\n",
       "      <th>dise_name</th>\n",
       "      <th>gene_id</th>\n",
       "      <th>link_status</th>\n",
       "      <th>link_type</th>\n",
       "    </tr>\n",
       "  </thead>\n",
       "  <tbody>\n",
       "    <tr>\n",
       "      <th>0</th>\n",
       "      <td>166024</td>\n",
       "      <td>Multiple epiphyseal dysplasia, Al-Gazali type</td>\n",
       "      <td>268061</td>\n",
       "      <td>Assessed</td>\n",
       "      <td>Disease-causing germline mutation(s) in</td>\n",
       "    </tr>\n",
       "    <tr>\n",
       "      <th>1</th>\n",
       "      <td>93</td>\n",
       "      <td>Aspartylglucosaminuria</td>\n",
       "      <td>119513</td>\n",
       "      <td>Assessed</td>\n",
       "      <td>Disease-causing germline mutation(s) in</td>\n",
       "    </tr>\n",
       "    <tr>\n",
       "      <th>2</th>\n",
       "      <td>585</td>\n",
       "      <td>Multiple sulfatase deficiency</td>\n",
       "      <td>119899</td>\n",
       "      <td>Assessed</td>\n",
       "      <td>Disease-causing germline mutation(s) in</td>\n",
       "    </tr>\n",
       "    <tr>\n",
       "      <th>3</th>\n",
       "      <td>118</td>\n",
       "      <td>Beta-mannosidosis</td>\n",
       "      <td>123131</td>\n",
       "      <td>Assessed</td>\n",
       "      <td>Disease-causing germline mutation(s) in</td>\n",
       "    </tr>\n",
       "    <tr>\n",
       "      <th>4</th>\n",
       "      <td>166068</td>\n",
       "      <td>Pontocerebellar hypoplasia type 5</td>\n",
       "      <td>168268</td>\n",
       "      <td>Assessed</td>\n",
       "      <td>Disease-causing germline mutation(s) in</td>\n",
       "    </tr>\n",
       "  </tbody>\n",
       "</table>\n",
       "</div>"
      ],
      "text/plain": [
       "   dise_id                                      dise_name  gene_id  \\\n",
       "0   166024  Multiple epiphyseal dysplasia, Al-Gazali type   268061   \n",
       "1       93                         Aspartylglucosaminuria   119513   \n",
       "2      585                  Multiple sulfatase deficiency   119899   \n",
       "3      118                              Beta-mannosidosis   123131   \n",
       "4   166068              Pontocerebellar hypoplasia type 5   168268   \n",
       "\n",
       "  link_status                                link_type  \n",
       "0    Assessed  Disease-causing germline mutation(s) in  \n",
       "1    Assessed  Disease-causing germline mutation(s) in  \n",
       "2    Assessed  Disease-causing germline mutation(s) in  \n",
       "3    Assessed  Disease-causing germline mutation(s) in  \n",
       "4    Assessed  Disease-causing germline mutation(s) in  "
      ]
     },
     "execution_count": 8,
     "metadata": {},
     "output_type": "execute_result"
    }
   ],
   "source": [
    "links.head()"
   ]
  },
  {
   "cell_type": "code",
   "execution_count": 9,
   "metadata": {},
   "outputs": [
    {
     "data": {
      "text/html": [
       "<div>\n",
       "<style>\n",
       "    .dataframe thead tr:only-child th {\n",
       "        text-align: right;\n",
       "    }\n",
       "\n",
       "    .dataframe thead th {\n",
       "        text-align: left;\n",
       "    }\n",
       "\n",
       "    .dataframe tbody tr th {\n",
       "        vertical-align: top;\n",
       "    }\n",
       "</style>\n",
       "<table border=\"1\" class=\"dataframe\">\n",
       "  <thead>\n",
       "    <tr style=\"text-align: right;\">\n",
       "      <th></th>\n",
       "      <th>gene_id</th>\n",
       "      <th>gene_name</th>\n",
       "      <th>gene_symb</th>\n",
       "      <th>ref_id</th>\n",
       "      <th>ref_name</th>\n",
       "    </tr>\n",
       "  </thead>\n",
       "  <tbody>\n",
       "    <tr>\n",
       "      <th>0</th>\n",
       "      <td>268061</td>\n",
       "      <td>kinesin family member 7</td>\n",
       "      <td>KIF7</td>\n",
       "      <td>30497</td>\n",
       "      <td>HGNC</td>\n",
       "    </tr>\n",
       "    <tr>\n",
       "      <th>1</th>\n",
       "      <td>268061</td>\n",
       "      <td>kinesin family member 7</td>\n",
       "      <td>KIF7</td>\n",
       "      <td>611254</td>\n",
       "      <td>OMIM</td>\n",
       "    </tr>\n",
       "    <tr>\n",
       "      <th>2</th>\n",
       "      <td>268061</td>\n",
       "      <td>kinesin family member 7</td>\n",
       "      <td>KIF7</td>\n",
       "      <td>KIF7</td>\n",
       "      <td>Genatlas</td>\n",
       "    </tr>\n",
       "    <tr>\n",
       "      <th>3</th>\n",
       "      <td>268061</td>\n",
       "      <td>kinesin family member 7</td>\n",
       "      <td>KIF7</td>\n",
       "      <td>Q2M1P5</td>\n",
       "      <td>SwissProt</td>\n",
       "    </tr>\n",
       "    <tr>\n",
       "      <th>4</th>\n",
       "      <td>268061</td>\n",
       "      <td>kinesin family member 7</td>\n",
       "      <td>KIF7</td>\n",
       "      <td>ENSG00000166813</td>\n",
       "      <td>Ensembl</td>\n",
       "    </tr>\n",
       "  </tbody>\n",
       "</table>\n",
       "</div>"
      ],
      "text/plain": [
       "   gene_id                gene_name gene_symb           ref_id   ref_name\n",
       "0   268061  kinesin family member 7      KIF7            30497       HGNC\n",
       "1   268061  kinesin family member 7      KIF7           611254       OMIM\n",
       "2   268061  kinesin family member 7      KIF7             KIF7   Genatlas\n",
       "3   268061  kinesin family member 7      KIF7           Q2M1P5  SwissProt\n",
       "4   268061  kinesin family member 7      KIF7  ENSG00000166813    Ensembl"
      ]
     },
     "execution_count": 9,
     "metadata": {},
     "output_type": "execute_result"
    }
   ],
   "source": [
    "xrefs.head()"
   ]
  },
  {
   "cell_type": "code",
   "execution_count": 10,
   "metadata": {
    "scrolled": true
   },
   "outputs": [
    {
     "data": {
      "text/plain": [
       "1    21663\n",
       "2       11\n",
       "5        2\n",
       "4        1\n",
       "3        1\n",
       "Name: ref_id, dtype: int64"
      ]
     },
     "execution_count": 10,
     "metadata": {},
     "output_type": "execute_result"
    }
   ],
   "source": [
    "xrefs.groupby([\"gene_id\", \"ref_name\"])[\"ref_id\"].nunique().value_counts()"
   ]
  },
  {
   "cell_type": "markdown",
   "metadata": {},
   "source": [
    "One gene may have multiple protein products, which leads to the multiple identifiers for the cross references. I have manually verified that these are ok."
   ]
  },
  {
   "cell_type": "markdown",
   "metadata": {},
   "source": [
    "---"
   ]
  },
  {
   "cell_type": "markdown",
   "metadata": {},
   "source": [
    "## Check for data consistency"
   ]
  },
  {
   "cell_type": "code",
   "execution_count": 11,
   "metadata": {},
   "outputs": [
    {
     "data": {
      "text/plain": [
       "3713"
      ]
     },
     "execution_count": 11,
     "metadata": {},
     "output_type": "execute_result"
    }
   ],
   "source": [
    "links[\"gene_id\"].nunique()"
   ]
  },
  {
   "cell_type": "code",
   "execution_count": 12,
   "metadata": {},
   "outputs": [
    {
     "data": {
      "text/plain": [
       "3712"
      ]
     },
     "execution_count": 12,
     "metadata": {},
     "output_type": "execute_result"
    }
   ],
   "source": [
    "xrefs[\"gene_id\"].nunique()"
   ]
  },
  {
   "cell_type": "code",
   "execution_count": 13,
   "metadata": {},
   "outputs": [
    {
     "data": {
      "text/plain": [
       "{398677}"
      ]
     },
     "execution_count": 13,
     "metadata": {},
     "output_type": "execute_result"
    }
   ],
   "source": [
    "set(links[\"gene_id\"]) - set(xrefs[\"gene_id\"])"
   ]
  },
  {
   "cell_type": "markdown",
   "metadata": {},
   "source": [
    "One gene in OrphaNet has no Xrefs to other databases and can therefore be discarded."
   ]
  },
  {
   "cell_type": "code",
   "execution_count": 14,
   "metadata": {},
   "outputs": [
    {
     "data": {
      "text/plain": [
       "ref_name\n",
       "HGNC         3711\n",
       "Ensembl      3674\n",
       "OMIM         3667\n",
       "SwissProt    3646\n",
       "Genatlas     3641\n",
       "Reactome     2867\n",
       "IUPHAR        472\n",
       "Name: gene_id, dtype: int64"
      ]
     },
     "execution_count": 14,
     "metadata": {},
     "output_type": "execute_result"
    }
   ],
   "source": [
    "xrefs.groupby(\"ref_name\")[\"gene_id\"].nunique().sort_values(ascending=False)"
   ]
  },
  {
   "cell_type": "markdown",
   "metadata": {},
   "source": [
    "HGNC identifiers exist for all but one of the genes. The missing gene can be discarded."
   ]
  },
  {
   "cell_type": "code",
   "execution_count": 15,
   "metadata": {},
   "outputs": [
    {
     "data": {
      "text/html": [
       "<div>\n",
       "<style>\n",
       "    .dataframe thead tr:only-child th {\n",
       "        text-align: right;\n",
       "    }\n",
       "\n",
       "    .dataframe thead th {\n",
       "        text-align: left;\n",
       "    }\n",
       "\n",
       "    .dataframe tbody tr th {\n",
       "        vertical-align: top;\n",
       "    }\n",
       "</style>\n",
       "<table border=\"1\" class=\"dataframe\">\n",
       "  <thead>\n",
       "    <tr style=\"text-align: right;\">\n",
       "      <th></th>\n",
       "      <th>gene_id</th>\n",
       "      <th>gene_name</th>\n",
       "      <th>gene_symb</th>\n",
       "      <th>ref_id</th>\n",
       "      <th>ref_name</th>\n",
       "    </tr>\n",
       "  </thead>\n",
       "  <tbody>\n",
       "    <tr>\n",
       "      <th>30593</th>\n",
       "      <td>455932</td>\n",
       "      <td>DNase1 hypersensitivity, chromosome 6, site 1</td>\n",
       "      <td>DHS6S1</td>\n",
       "      <td>616842</td>\n",
       "      <td>OMIM</td>\n",
       "    </tr>\n",
       "  </tbody>\n",
       "</table>\n",
       "</div>"
      ],
      "text/plain": [
       "       gene_id                                      gene_name gene_symb  \\\n",
       "30593   455932  DNase1 hypersensitivity, chromosome 6, site 1    DHS6S1   \n",
       "\n",
       "       ref_id ref_name  \n",
       "30593  616842     OMIM  "
      ]
     },
     "execution_count": 15,
     "metadata": {},
     "output_type": "execute_result"
    }
   ],
   "source": [
    "xrefs.groupby(\"gene_id\").filter(lambda df: 'HGNC' not in df[\"ref_name\"].values)"
   ]
  },
  {
   "cell_type": "markdown",
   "metadata": {},
   "source": [
    "Conclusion: two genes in the gene-disease links do not have HGNC ids, and will be discarded."
   ]
  },
  {
   "cell_type": "markdown",
   "metadata": {},
   "source": [
    "---"
   ]
  },
  {
   "cell_type": "markdown",
   "metadata": {},
   "source": [
    "## Link information"
   ]
  },
  {
   "cell_type": "code",
   "execution_count": 16,
   "metadata": {},
   "outputs": [
    {
     "data": {
      "text/plain": [
       "3605"
      ]
     },
     "execution_count": 16,
     "metadata": {},
     "output_type": "execute_result"
    }
   ],
   "source": [
    "links[\"dise_id\"].nunique()"
   ]
  },
  {
   "cell_type": "code",
   "execution_count": 17,
   "metadata": {},
   "outputs": [
    {
     "data": {
      "text/plain": [
       "Assessed            6514\n",
       "Not yet assessed     463\n",
       "Name: link_status, dtype: int64"
      ]
     },
     "execution_count": 17,
     "metadata": {},
     "output_type": "execute_result"
    }
   ],
   "source": [
    "links[\"link_status\"].value_counts()"
   ]
  },
  {
   "cell_type": "code",
   "execution_count": 18,
   "metadata": {},
   "outputs": [
    {
     "data": {
      "text/plain": [
       "Disease-causing germline mutation(s) in                       4318\n",
       "Disease-causing germline mutation(s) (loss of function) in     993\n",
       "Major susceptibility factor in                                 478\n",
       "Candidate gene tested in                                       256\n",
       "Part of a fusion gene in                                       222\n",
       "Role in the phenotype of                                       221\n",
       "Disease-causing germline mutation(s) (gain of function) in     198\n",
       "Disease-causing somatic mutation(s) in                         161\n",
       "Biomarker tested in                                             92\n",
       "Modifying germline mutation in                                  38\n",
       "Name: link_type, dtype: int64"
      ]
     },
     "execution_count": 18,
     "metadata": {},
     "output_type": "execute_result"
    }
   ],
   "source": [
    "links[\"link_type\"].value_counts()"
   ]
  },
  {
   "cell_type": "markdown",
   "metadata": {
    "collapsed": true
   },
   "source": [
    "---"
   ]
  },
  {
   "cell_type": "markdown",
   "metadata": {},
   "source": [
    "## Map gene-disease links to Entrez space"
   ]
  },
  {
   "cell_type": "markdown",
   "metadata": {},
   "source": [
    "### Convert Orphanet gene ids to HGNC ids"
   ]
  },
  {
   "cell_type": "code",
   "execution_count": 19,
   "metadata": {
    "collapsed": true
   },
   "outputs": [],
   "source": [
    "good = (xrefs\n",
    "    .query(\"ref_name == 'HGNC'\")\n",
    "    .drop(\"ref_name\", axis=1)\n",
    "    .rename(columns={\"ref_id\": \"hgnc_id\"})\n",
    "    .astype({\"hgnc_id\": np.int64})\n",
    ")"
   ]
  },
  {
   "cell_type": "code",
   "execution_count": 20,
   "metadata": {},
   "outputs": [
    {
     "data": {
      "text/html": [
       "<div>\n",
       "<style>\n",
       "    .dataframe thead tr:only-child th {\n",
       "        text-align: right;\n",
       "    }\n",
       "\n",
       "    .dataframe thead th {\n",
       "        text-align: left;\n",
       "    }\n",
       "\n",
       "    .dataframe tbody tr th {\n",
       "        vertical-align: top;\n",
       "    }\n",
       "</style>\n",
       "<table border=\"1\" class=\"dataframe\">\n",
       "  <thead>\n",
       "    <tr style=\"text-align: right;\">\n",
       "      <th></th>\n",
       "      <th>gene_id</th>\n",
       "      <th>gene_name</th>\n",
       "      <th>gene_symb</th>\n",
       "      <th>hgnc_id</th>\n",
       "    </tr>\n",
       "  </thead>\n",
       "  <tbody>\n",
       "    <tr>\n",
       "      <th>0</th>\n",
       "      <td>268061</td>\n",
       "      <td>kinesin family member 7</td>\n",
       "      <td>KIF7</td>\n",
       "      <td>30497</td>\n",
       "    </tr>\n",
       "    <tr>\n",
       "      <th>7</th>\n",
       "      <td>119513</td>\n",
       "      <td>aspartylglucosaminidase</td>\n",
       "      <td>AGA</td>\n",
       "      <td>318</td>\n",
       "    </tr>\n",
       "    <tr>\n",
       "      <th>13</th>\n",
       "      <td>119899</td>\n",
       "      <td>sulfatase modifying factor 1</td>\n",
       "      <td>SUMF1</td>\n",
       "      <td>20376</td>\n",
       "    </tr>\n",
       "    <tr>\n",
       "      <th>19</th>\n",
       "      <td>123131</td>\n",
       "      <td>mannosidase beta</td>\n",
       "      <td>MANBA</td>\n",
       "      <td>6831</td>\n",
       "    </tr>\n",
       "    <tr>\n",
       "      <th>25</th>\n",
       "      <td>168268</td>\n",
       "      <td>tRNA splicing endonuclease subunit 54</td>\n",
       "      <td>TSEN54</td>\n",
       "      <td>27561</td>\n",
       "    </tr>\n",
       "  </tbody>\n",
       "</table>\n",
       "</div>"
      ],
      "text/plain": [
       "    gene_id                              gene_name gene_symb  hgnc_id\n",
       "0    268061                kinesin family member 7      KIF7    30497\n",
       "7    119513                aspartylglucosaminidase       AGA      318\n",
       "13   119899           sulfatase modifying factor 1     SUMF1    20376\n",
       "19   123131                       mannosidase beta     MANBA     6831\n",
       "25   168268  tRNA splicing endonuclease subunit 54    TSEN54    27561"
      ]
     },
     "execution_count": 20,
     "metadata": {},
     "output_type": "execute_result"
    }
   ],
   "source": [
    "good.head()"
   ]
  },
  {
   "cell_type": "code",
   "execution_count": 21,
   "metadata": {
    "collapsed": true
   },
   "outputs": [],
   "source": [
    "id_map = pd.read_csv(\"hgnc_entrez_map.tsv\", sep='\\t')"
   ]
  },
  {
   "cell_type": "code",
   "execution_count": 22,
   "metadata": {},
   "outputs": [
    {
     "data": {
      "text/html": [
       "<div>\n",
       "<style>\n",
       "    .dataframe thead tr:only-child th {\n",
       "        text-align: right;\n",
       "    }\n",
       "\n",
       "    .dataframe thead th {\n",
       "        text-align: left;\n",
       "    }\n",
       "\n",
       "    .dataframe tbody tr th {\n",
       "        vertical-align: top;\n",
       "    }\n",
       "</style>\n",
       "<table border=\"1\" class=\"dataframe\">\n",
       "  <thead>\n",
       "    <tr style=\"text-align: right;\">\n",
       "      <th></th>\n",
       "      <th>hgnc_id</th>\n",
       "      <th>symbol</th>\n",
       "      <th>status</th>\n",
       "      <th>entrez_id</th>\n",
       "    </tr>\n",
       "  </thead>\n",
       "  <tbody>\n",
       "    <tr>\n",
       "      <th>0</th>\n",
       "      <td>5</td>\n",
       "      <td>A1BG</td>\n",
       "      <td>Approved</td>\n",
       "      <td>1.0</td>\n",
       "    </tr>\n",
       "    <tr>\n",
       "      <th>1</th>\n",
       "      <td>37133</td>\n",
       "      <td>A1BG-AS1</td>\n",
       "      <td>Approved</td>\n",
       "      <td>503538.0</td>\n",
       "    </tr>\n",
       "    <tr>\n",
       "      <th>2</th>\n",
       "      <td>24086</td>\n",
       "      <td>A1CF</td>\n",
       "      <td>Approved</td>\n",
       "      <td>29974.0</td>\n",
       "    </tr>\n",
       "    <tr>\n",
       "      <th>3</th>\n",
       "      <td>7</td>\n",
       "      <td>A2M</td>\n",
       "      <td>Approved</td>\n",
       "      <td>2.0</td>\n",
       "    </tr>\n",
       "    <tr>\n",
       "      <th>4</th>\n",
       "      <td>27057</td>\n",
       "      <td>A2M-AS1</td>\n",
       "      <td>Approved</td>\n",
       "      <td>144571.0</td>\n",
       "    </tr>\n",
       "  </tbody>\n",
       "</table>\n",
       "</div>"
      ],
      "text/plain": [
       "   hgnc_id    symbol    status  entrez_id\n",
       "0        5      A1BG  Approved        1.0\n",
       "1    37133  A1BG-AS1  Approved   503538.0\n",
       "2    24086      A1CF  Approved    29974.0\n",
       "3        7       A2M  Approved        2.0\n",
       "4    27057   A2M-AS1  Approved   144571.0"
      ]
     },
     "execution_count": 22,
     "metadata": {},
     "output_type": "execute_result"
    }
   ],
   "source": [
    "id_map.head()"
   ]
  },
  {
   "cell_type": "markdown",
   "metadata": {},
   "source": [
    "### Check that all genes have an Entrez id"
   ]
  },
  {
   "cell_type": "code",
   "execution_count": 23,
   "metadata": {},
   "outputs": [
    {
     "data": {
      "text/plain": [
       "True"
      ]
     },
     "execution_count": 23,
     "metadata": {},
     "output_type": "execute_result"
    }
   ],
   "source": [
    "set(good[\"hgnc_id\"]) <= set(\n",
    "    id_map.query(\"status == 'Approved'\").dropna(how=\"any\")[\"hgnc_id\"]\n",
    ")"
   ]
  },
  {
   "cell_type": "markdown",
   "metadata": {},
   "source": [
    "All genes involved in gene-disease links have Entrez gene ids."
   ]
  },
  {
   "cell_type": "markdown",
   "metadata": {},
   "source": [
    "### Map HGNC ids to Entrez Gene"
   ]
  },
  {
   "cell_type": "code",
   "execution_count": 24,
   "metadata": {
    "collapsed": true
   },
   "outputs": [],
   "source": [
    "# 22 gene symbols do not match; we will use the HGNC symbol to override disagreements\n",
    "\n",
    "gene_map = (good\n",
    "    .merge(\n",
    "        id_map.dropna(how=\"any\").astype({\"entrez_id\": np.int64}),\n",
    "        how=\"left\", on=\"hgnc_id\"\n",
    "    )\n",
    "    .drop([\"status\", \"gene_symb\"], axis=1)\n",
    ")            "
   ]
  },
  {
   "cell_type": "code",
   "execution_count": 25,
   "metadata": {},
   "outputs": [
    {
     "data": {
      "text/html": [
       "<div>\n",
       "<style>\n",
       "    .dataframe thead tr:only-child th {\n",
       "        text-align: right;\n",
       "    }\n",
       "\n",
       "    .dataframe thead th {\n",
       "        text-align: left;\n",
       "    }\n",
       "\n",
       "    .dataframe tbody tr th {\n",
       "        vertical-align: top;\n",
       "    }\n",
       "</style>\n",
       "<table border=\"1\" class=\"dataframe\">\n",
       "  <thead>\n",
       "    <tr style=\"text-align: right;\">\n",
       "      <th></th>\n",
       "      <th>gene_id</th>\n",
       "      <th>gene_name</th>\n",
       "      <th>hgnc_id</th>\n",
       "      <th>symbol</th>\n",
       "      <th>entrez_id</th>\n",
       "    </tr>\n",
       "  </thead>\n",
       "  <tbody>\n",
       "    <tr>\n",
       "      <th>0</th>\n",
       "      <td>268061</td>\n",
       "      <td>kinesin family member 7</td>\n",
       "      <td>30497</td>\n",
       "      <td>KIF7</td>\n",
       "      <td>374654</td>\n",
       "    </tr>\n",
       "    <tr>\n",
       "      <th>1</th>\n",
       "      <td>119513</td>\n",
       "      <td>aspartylglucosaminidase</td>\n",
       "      <td>318</td>\n",
       "      <td>AGA</td>\n",
       "      <td>175</td>\n",
       "    </tr>\n",
       "    <tr>\n",
       "      <th>2</th>\n",
       "      <td>119899</td>\n",
       "      <td>sulfatase modifying factor 1</td>\n",
       "      <td>20376</td>\n",
       "      <td>SUMF1</td>\n",
       "      <td>285362</td>\n",
       "    </tr>\n",
       "    <tr>\n",
       "      <th>3</th>\n",
       "      <td>123131</td>\n",
       "      <td>mannosidase beta</td>\n",
       "      <td>6831</td>\n",
       "      <td>MANBA</td>\n",
       "      <td>4126</td>\n",
       "    </tr>\n",
       "    <tr>\n",
       "      <th>4</th>\n",
       "      <td>168268</td>\n",
       "      <td>tRNA splicing endonuclease subunit 54</td>\n",
       "      <td>27561</td>\n",
       "      <td>TSEN54</td>\n",
       "      <td>283989</td>\n",
       "    </tr>\n",
       "  </tbody>\n",
       "</table>\n",
       "</div>"
      ],
      "text/plain": [
       "   gene_id                              gene_name  hgnc_id  symbol  entrez_id\n",
       "0   268061                kinesin family member 7    30497    KIF7     374654\n",
       "1   119513                aspartylglucosaminidase      318     AGA        175\n",
       "2   119899           sulfatase modifying factor 1    20376   SUMF1     285362\n",
       "3   123131                       mannosidase beta     6831   MANBA       4126\n",
       "4   168268  tRNA splicing endonuclease subunit 54    27561  TSEN54     283989"
      ]
     },
     "execution_count": 25,
     "metadata": {},
     "output_type": "execute_result"
    }
   ],
   "source": [
    "gene_map.head()"
   ]
  },
  {
   "cell_type": "markdown",
   "metadata": {},
   "source": [
    "## Convert gene ids in gene-disease link info to Entrez ids"
   ]
  },
  {
   "cell_type": "code",
   "execution_count": 26,
   "metadata": {
    "collapsed": true
   },
   "outputs": [],
   "source": [
    "fin_links = (links\n",
    "    .merge(gene_map, how=\"inner\", on=\"gene_id\")\n",
    "    .drop(\"gene_id\", axis=1)\n",
    "    .rename(columns={\"dise_id\": \"dise_orpha_id\"})\n",
    ")"
   ]
  },
  {
   "cell_type": "code",
   "execution_count": 27,
   "metadata": {},
   "outputs": [
    {
     "data": {
      "text/html": [
       "<div>\n",
       "<style>\n",
       "    .dataframe thead tr:only-child th {\n",
       "        text-align: right;\n",
       "    }\n",
       "\n",
       "    .dataframe thead th {\n",
       "        text-align: left;\n",
       "    }\n",
       "\n",
       "    .dataframe tbody tr th {\n",
       "        vertical-align: top;\n",
       "    }\n",
       "</style>\n",
       "<table border=\"1\" class=\"dataframe\">\n",
       "  <thead>\n",
       "    <tr style=\"text-align: right;\">\n",
       "      <th></th>\n",
       "      <th>dise_orpha_id</th>\n",
       "      <th>dise_name</th>\n",
       "      <th>link_status</th>\n",
       "      <th>link_type</th>\n",
       "      <th>gene_name</th>\n",
       "      <th>hgnc_id</th>\n",
       "      <th>symbol</th>\n",
       "      <th>entrez_id</th>\n",
       "    </tr>\n",
       "  </thead>\n",
       "  <tbody>\n",
       "    <tr>\n",
       "      <th>0</th>\n",
       "      <td>166024</td>\n",
       "      <td>Multiple epiphyseal dysplasia, Al-Gazali type</td>\n",
       "      <td>Assessed</td>\n",
       "      <td>Disease-causing germline mutation(s) in</td>\n",
       "      <td>kinesin family member 7</td>\n",
       "      <td>30497</td>\n",
       "      <td>KIF7</td>\n",
       "      <td>374654</td>\n",
       "    </tr>\n",
       "    <tr>\n",
       "      <th>1</th>\n",
       "      <td>36</td>\n",
       "      <td>Acrocallosal syndrome</td>\n",
       "      <td>Assessed</td>\n",
       "      <td>Disease-causing germline mutation(s) in</td>\n",
       "      <td>kinesin family member 7</td>\n",
       "      <td>30497</td>\n",
       "      <td>KIF7</td>\n",
       "      <td>374654</td>\n",
       "    </tr>\n",
       "    <tr>\n",
       "      <th>2</th>\n",
       "      <td>2189</td>\n",
       "      <td>Hydrolethalus</td>\n",
       "      <td>Assessed</td>\n",
       "      <td>Disease-causing germline mutation(s) in</td>\n",
       "      <td>kinesin family member 7</td>\n",
       "      <td>30497</td>\n",
       "      <td>KIF7</td>\n",
       "      <td>374654</td>\n",
       "    </tr>\n",
       "    <tr>\n",
       "      <th>3</th>\n",
       "      <td>2754</td>\n",
       "      <td>Joubert syndrome with orofaciodigital defect</td>\n",
       "      <td>Assessed</td>\n",
       "      <td>Disease-causing germline mutation(s) in</td>\n",
       "      <td>kinesin family member 7</td>\n",
       "      <td>30497</td>\n",
       "      <td>KIF7</td>\n",
       "      <td>374654</td>\n",
       "    </tr>\n",
       "    <tr>\n",
       "      <th>4</th>\n",
       "      <td>93</td>\n",
       "      <td>Aspartylglucosaminuria</td>\n",
       "      <td>Assessed</td>\n",
       "      <td>Disease-causing germline mutation(s) in</td>\n",
       "      <td>aspartylglucosaminidase</td>\n",
       "      <td>318</td>\n",
       "      <td>AGA</td>\n",
       "      <td>175</td>\n",
       "    </tr>\n",
       "  </tbody>\n",
       "</table>\n",
       "</div>"
      ],
      "text/plain": [
       "   dise_orpha_id                                      dise_name link_status  \\\n",
       "0         166024  Multiple epiphyseal dysplasia, Al-Gazali type    Assessed   \n",
       "1             36                          Acrocallosal syndrome    Assessed   \n",
       "2           2189                                  Hydrolethalus    Assessed   \n",
       "3           2754   Joubert syndrome with orofaciodigital defect    Assessed   \n",
       "4             93                         Aspartylglucosaminuria    Assessed   \n",
       "\n",
       "                                 link_type                gene_name  hgnc_id  \\\n",
       "0  Disease-causing germline mutation(s) in  kinesin family member 7    30497   \n",
       "1  Disease-causing germline mutation(s) in  kinesin family member 7    30497   \n",
       "2  Disease-causing germline mutation(s) in  kinesin family member 7    30497   \n",
       "3  Disease-causing germline mutation(s) in  kinesin family member 7    30497   \n",
       "4  Disease-causing germline mutation(s) in  aspartylglucosaminidase      318   \n",
       "\n",
       "  symbol  entrez_id  \n",
       "0   KIF7     374654  \n",
       "1   KIF7     374654  \n",
       "2   KIF7     374654  \n",
       "3   KIF7     374654  \n",
       "4    AGA        175  "
      ]
     },
     "execution_count": 27,
     "metadata": {},
     "output_type": "execute_result"
    }
   ],
   "source": [
    "fin_links.head()"
   ]
  },
  {
   "cell_type": "code",
   "execution_count": 28,
   "metadata": {},
   "outputs": [
    {
     "data": {
      "text/plain": [
       "(6975, 8)"
      ]
     },
     "execution_count": 28,
     "metadata": {},
     "output_type": "execute_result"
    }
   ],
   "source": [
    "fin_links.shape"
   ]
  },
  {
   "cell_type": "code",
   "execution_count": 29,
   "metadata": {},
   "outputs": [
    {
     "data": {
      "text/plain": [
       "3603"
      ]
     },
     "execution_count": 29,
     "metadata": {},
     "output_type": "execute_result"
    }
   ],
   "source": [
    "fin_links[\"dise_orpha_id\"].nunique()"
   ]
  },
  {
   "cell_type": "code",
   "execution_count": 30,
   "metadata": {},
   "outputs": [
    {
     "data": {
      "text/plain": [
       "3711"
      ]
     },
     "execution_count": 30,
     "metadata": {},
     "output_type": "execute_result"
    }
   ],
   "source": [
    "fin_links[\"entrez_id\"].nunique()"
   ]
  },
  {
   "cell_type": "code",
   "execution_count": 31,
   "metadata": {},
   "outputs": [
    {
     "data": {
      "text/plain": [
       "(6947, 2)"
      ]
     },
     "execution_count": 31,
     "metadata": {},
     "output_type": "execute_result"
    }
   ],
   "source": [
    "fin_links[[\"dise_orpha_id\", \"entrez_id\"]].drop_duplicates().shape"
   ]
  },
  {
   "cell_type": "markdown",
   "metadata": {},
   "source": [
    "Different mutations in the same gene may cause the disease, leading to more rows than there are gene-disease pairs. This is ok, and can be constructed as different edges in the final graph."
   ]
  },
  {
   "cell_type": "markdown",
   "metadata": {},
   "source": [
    "## Save to file"
   ]
  },
  {
   "cell_type": "code",
   "execution_count": 32,
   "metadata": {
    "collapsed": true
   },
   "outputs": [],
   "source": [
    "fin_links.to_csv(\"orpha_gene_dise_links.tsv\", sep='\\t', index=False)"
   ]
  }
 ],
 "metadata": {
  "kernelspec": {
   "display_name": "Python 3",
   "language": "python",
   "name": "python3"
  },
  "language_info": {
   "codemirror_mode": {
    "name": "ipython",
    "version": 3
   },
   "file_extension": ".py",
   "mimetype": "text/x-python",
   "name": "python",
   "nbconvert_exporter": "python",
   "pygments_lexer": "ipython3",
   "version": "3.5.3"
  }
 },
 "nbformat": 4,
 "nbformat_minor": 2
}
