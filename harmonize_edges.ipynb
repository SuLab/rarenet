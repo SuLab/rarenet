{
 "cells": [
  {
   "cell_type": "markdown",
   "metadata": {},
   "source": [
    "# Harmonize rare disease information for network integration\n",
    "\n",
    "Prepare the final edges of the rare disease network to be integrated into Rephetio."
   ]
  },
  {
   "cell_type": "code",
   "execution_count": 1,
   "metadata": {
    "collapsed": true
   },
   "outputs": [],
   "source": [
    "import pandas as pd\n",
    "import numpy as np"
   ]
  },
  {
   "cell_type": "markdown",
   "metadata": {},
   "source": [
    "## Read rare disease-gene links"
   ]
  },
  {
   "cell_type": "code",
   "execution_count": 2,
   "metadata": {
    "collapsed": true
   },
   "outputs": [],
   "source": [
    "dg_links = pd.read_csv(\"dg_links/orpha_gene_dise_links.tsv\", sep='\\t')"
   ]
  },
  {
   "cell_type": "code",
   "execution_count": 3,
   "metadata": {},
   "outputs": [
    {
     "data": {
      "text/html": [
       "<div>\n",
       "<style>\n",
       "    .dataframe thead tr:only-child th {\n",
       "        text-align: right;\n",
       "    }\n",
       "\n",
       "    .dataframe thead th {\n",
       "        text-align: left;\n",
       "    }\n",
       "\n",
       "    .dataframe tbody tr th {\n",
       "        vertical-align: top;\n",
       "    }\n",
       "</style>\n",
       "<table border=\"1\" class=\"dataframe\">\n",
       "  <thead>\n",
       "    <tr style=\"text-align: right;\">\n",
       "      <th></th>\n",
       "      <th>dise_orpha_id</th>\n",
       "      <th>dise_name</th>\n",
       "      <th>link_status</th>\n",
       "      <th>link_type</th>\n",
       "      <th>gene_name</th>\n",
       "      <th>hgnc_id</th>\n",
       "      <th>symbol</th>\n",
       "      <th>entrez_id</th>\n",
       "    </tr>\n",
       "  </thead>\n",
       "  <tbody>\n",
       "    <tr>\n",
       "      <th>0</th>\n",
       "      <td>166024</td>\n",
       "      <td>Multiple epiphyseal dysplasia, Al-Gazali type</td>\n",
       "      <td>Assessed</td>\n",
       "      <td>Disease-causing germline mutation(s) in</td>\n",
       "      <td>kinesin family member 7</td>\n",
       "      <td>30497</td>\n",
       "      <td>KIF7</td>\n",
       "      <td>374654</td>\n",
       "    </tr>\n",
       "    <tr>\n",
       "      <th>1</th>\n",
       "      <td>36</td>\n",
       "      <td>Acrocallosal syndrome</td>\n",
       "      <td>Assessed</td>\n",
       "      <td>Disease-causing germline mutation(s) in</td>\n",
       "      <td>kinesin family member 7</td>\n",
       "      <td>30497</td>\n",
       "      <td>KIF7</td>\n",
       "      <td>374654</td>\n",
       "    </tr>\n",
       "  </tbody>\n",
       "</table>\n",
       "</div>"
      ],
      "text/plain": [
       "   dise_orpha_id                                      dise_name link_status  \\\n",
       "0         166024  Multiple epiphyseal dysplasia, Al-Gazali type    Assessed   \n",
       "1             36                          Acrocallosal syndrome    Assessed   \n",
       "\n",
       "                                 link_type                gene_name  hgnc_id  \\\n",
       "0  Disease-causing germline mutation(s) in  kinesin family member 7    30497   \n",
       "1  Disease-causing germline mutation(s) in  kinesin family member 7    30497   \n",
       "\n",
       "  symbol  entrez_id  \n",
       "0   KIF7     374654  \n",
       "1   KIF7     374654  "
      ]
     },
     "execution_count": 3,
     "metadata": {},
     "output_type": "execute_result"
    }
   ],
   "source": [
    "dg_links.head(2)"
   ]
  },
  {
   "cell_type": "markdown",
   "metadata": {},
   "source": [
    "## Filter gene-disease links to those with existing genes"
   ]
  },
  {
   "cell_type": "code",
   "execution_count": 4,
   "metadata": {
    "collapsed": true
   },
   "outputs": [],
   "source": [
    "genes = (pd\n",
    "    .read_csv(\"data/hetnet_nodes.csv\")\n",
    "    .drop(\"identifier:string\", axis=1)\n",
    "    .rename(columns={\n",
    "        \":ID\": \"entrez_id\",\n",
    "        \"name:string\": \"gene_name\",\n",
    "        \":LABEL\": \"node_type\"\n",
    "    })\n",
    "    .query(\"node_type == 'Gene'\")\n",
    "    .drop(\"node_type\", axis=1)\n",
    "    .astype({\"entrez_id\": np.int64})\n",
    ")"
   ]
  },
  {
   "cell_type": "code",
   "execution_count": 5,
   "metadata": {},
   "outputs": [
    {
     "data": {
      "text/plain": [
       "(20945, 2)"
      ]
     },
     "execution_count": 5,
     "metadata": {},
     "output_type": "execute_result"
    }
   ],
   "source": [
    "genes.shape"
   ]
  },
  {
   "cell_type": "code",
   "execution_count": 6,
   "metadata": {},
   "outputs": [
    {
     "data": {
      "text/html": [
       "<div>\n",
       "<style>\n",
       "    .dataframe thead tr:only-child th {\n",
       "        text-align: right;\n",
       "    }\n",
       "\n",
       "    .dataframe thead th {\n",
       "        text-align: left;\n",
       "    }\n",
       "\n",
       "    .dataframe tbody tr th {\n",
       "        vertical-align: top;\n",
       "    }\n",
       "</style>\n",
       "<table border=\"1\" class=\"dataframe\">\n",
       "  <thead>\n",
       "    <tr style=\"text-align: right;\">\n",
       "      <th></th>\n",
       "      <th>entrez_id</th>\n",
       "      <th>gene_name</th>\n",
       "    </tr>\n",
       "  </thead>\n",
       "  <tbody>\n",
       "    <tr>\n",
       "      <th>6</th>\n",
       "      <td>400830</td>\n",
       "      <td>DEFB132</td>\n",
       "    </tr>\n",
       "    <tr>\n",
       "      <th>12</th>\n",
       "      <td>84662</td>\n",
       "      <td>GLIS2</td>\n",
       "    </tr>\n",
       "    <tr>\n",
       "      <th>14</th>\n",
       "      <td>4212</td>\n",
       "      <td>MEIS2</td>\n",
       "    </tr>\n",
       "    <tr>\n",
       "      <th>15</th>\n",
       "      <td>283870</td>\n",
       "      <td>BRICD5</td>\n",
       "    </tr>\n",
       "    <tr>\n",
       "      <th>17</th>\n",
       "      <td>56882</td>\n",
       "      <td>CDC42SE1</td>\n",
       "    </tr>\n",
       "  </tbody>\n",
       "</table>\n",
       "</div>"
      ],
      "text/plain": [
       "    entrez_id gene_name\n",
       "6      400830   DEFB132\n",
       "12      84662     GLIS2\n",
       "14       4212     MEIS2\n",
       "15     283870    BRICD5\n",
       "17      56882  CDC42SE1"
      ]
     },
     "execution_count": 6,
     "metadata": {},
     "output_type": "execute_result"
    }
   ],
   "source": [
    "genes.head()"
   ]
  },
  {
   "cell_type": "code",
   "execution_count": 7,
   "metadata": {
    "collapsed": true
   },
   "outputs": [],
   "source": [
    "fin_links = (dg_links\n",
    "    .merge(\n",
    "        genes.drop(\"gene_name\", axis=1), how=\"inner\", on=\"entrez_id\"\n",
    "    )\n",
    ")"
   ]
  },
  {
   "cell_type": "code",
   "execution_count": 8,
   "metadata": {},
   "outputs": [
    {
     "data": {
      "text/plain": [
       "(6766, 8)"
      ]
     },
     "execution_count": 8,
     "metadata": {},
     "output_type": "execute_result"
    }
   ],
   "source": [
    "fin_links.shape"
   ]
  },
  {
   "cell_type": "code",
   "execution_count": 9,
   "metadata": {},
   "outputs": [
    {
     "data": {
      "text/html": [
       "<div>\n",
       "<style>\n",
       "    .dataframe thead tr:only-child th {\n",
       "        text-align: right;\n",
       "    }\n",
       "\n",
       "    .dataframe thead th {\n",
       "        text-align: left;\n",
       "    }\n",
       "\n",
       "    .dataframe tbody tr th {\n",
       "        vertical-align: top;\n",
       "    }\n",
       "</style>\n",
       "<table border=\"1\" class=\"dataframe\">\n",
       "  <thead>\n",
       "    <tr style=\"text-align: right;\">\n",
       "      <th></th>\n",
       "      <th>dise_orpha_id</th>\n",
       "      <th>dise_name</th>\n",
       "      <th>link_status</th>\n",
       "      <th>link_type</th>\n",
       "      <th>gene_name</th>\n",
       "      <th>hgnc_id</th>\n",
       "      <th>symbol</th>\n",
       "      <th>entrez_id</th>\n",
       "    </tr>\n",
       "  </thead>\n",
       "  <tbody>\n",
       "    <tr>\n",
       "      <th>0</th>\n",
       "      <td>166024</td>\n",
       "      <td>Multiple epiphyseal dysplasia, Al-Gazali type</td>\n",
       "      <td>Assessed</td>\n",
       "      <td>Disease-causing germline mutation(s) in</td>\n",
       "      <td>kinesin family member 7</td>\n",
       "      <td>30497</td>\n",
       "      <td>KIF7</td>\n",
       "      <td>374654</td>\n",
       "    </tr>\n",
       "    <tr>\n",
       "      <th>1</th>\n",
       "      <td>36</td>\n",
       "      <td>Acrocallosal syndrome</td>\n",
       "      <td>Assessed</td>\n",
       "      <td>Disease-causing germline mutation(s) in</td>\n",
       "      <td>kinesin family member 7</td>\n",
       "      <td>30497</td>\n",
       "      <td>KIF7</td>\n",
       "      <td>374654</td>\n",
       "    </tr>\n",
       "    <tr>\n",
       "      <th>2</th>\n",
       "      <td>2189</td>\n",
       "      <td>Hydrolethalus</td>\n",
       "      <td>Assessed</td>\n",
       "      <td>Disease-causing germline mutation(s) in</td>\n",
       "      <td>kinesin family member 7</td>\n",
       "      <td>30497</td>\n",
       "      <td>KIF7</td>\n",
       "      <td>374654</td>\n",
       "    </tr>\n",
       "    <tr>\n",
       "      <th>3</th>\n",
       "      <td>2754</td>\n",
       "      <td>Joubert syndrome with orofaciodigital defect</td>\n",
       "      <td>Assessed</td>\n",
       "      <td>Disease-causing germline mutation(s) in</td>\n",
       "      <td>kinesin family member 7</td>\n",
       "      <td>30497</td>\n",
       "      <td>KIF7</td>\n",
       "      <td>374654</td>\n",
       "    </tr>\n",
       "    <tr>\n",
       "      <th>4</th>\n",
       "      <td>93</td>\n",
       "      <td>Aspartylglucosaminuria</td>\n",
       "      <td>Assessed</td>\n",
       "      <td>Disease-causing germline mutation(s) in</td>\n",
       "      <td>aspartylglucosaminidase</td>\n",
       "      <td>318</td>\n",
       "      <td>AGA</td>\n",
       "      <td>175</td>\n",
       "    </tr>\n",
       "  </tbody>\n",
       "</table>\n",
       "</div>"
      ],
      "text/plain": [
       "   dise_orpha_id                                      dise_name link_status  \\\n",
       "0         166024  Multiple epiphyseal dysplasia, Al-Gazali type    Assessed   \n",
       "1             36                          Acrocallosal syndrome    Assessed   \n",
       "2           2189                                  Hydrolethalus    Assessed   \n",
       "3           2754   Joubert syndrome with orofaciodigital defect    Assessed   \n",
       "4             93                         Aspartylglucosaminuria    Assessed   \n",
       "\n",
       "                                 link_type                gene_name  hgnc_id  \\\n",
       "0  Disease-causing germline mutation(s) in  kinesin family member 7    30497   \n",
       "1  Disease-causing germline mutation(s) in  kinesin family member 7    30497   \n",
       "2  Disease-causing germline mutation(s) in  kinesin family member 7    30497   \n",
       "3  Disease-causing germline mutation(s) in  kinesin family member 7    30497   \n",
       "4  Disease-causing germline mutation(s) in  aspartylglucosaminidase      318   \n",
       "\n",
       "  symbol  entrez_id  \n",
       "0   KIF7     374654  \n",
       "1   KIF7     374654  \n",
       "2   KIF7     374654  \n",
       "3   KIF7     374654  \n",
       "4    AGA        175  "
      ]
     },
     "execution_count": 9,
     "metadata": {},
     "output_type": "execute_result"
    }
   ],
   "source": [
    "fin_links.head()"
   ]
  },
  {
   "cell_type": "code",
   "execution_count": 10,
   "metadata": {},
   "outputs": [
    {
     "data": {
      "text/plain": [
       "3669"
      ]
     },
     "execution_count": 10,
     "metadata": {},
     "output_type": "execute_result"
    }
   ],
   "source": [
    "dg_links[\"entrez_id\"].nunique()"
   ]
  },
  {
   "cell_type": "code",
   "execution_count": 11,
   "metadata": {},
   "outputs": [
    {
     "data": {
      "text/plain": [
       "3599"
      ]
     },
     "execution_count": 11,
     "metadata": {},
     "output_type": "execute_result"
    }
   ],
   "source": [
    "fin_links[\"entrez_id\"].nunique()"
   ]
  },
  {
   "cell_type": "code",
   "execution_count": 12,
   "metadata": {},
   "outputs": [
    {
     "data": {
      "text/plain": [
       "(6739, 2)"
      ]
     },
     "execution_count": 12,
     "metadata": {},
     "output_type": "execute_result"
    }
   ],
   "source": [
    "fin_links[[\"entrez_id\", \"dise_orpha_id\"]].drop_duplicates().shape"
   ]
  },
  {
   "cell_type": "markdown",
   "metadata": {},
   "source": [
    "There are a total of 6739 unique gene-disease relations that we will be adding to the network."
   ]
  },
  {
   "cell_type": "markdown",
   "metadata": {},
   "source": [
    "## Read rare disease drug indications\n",
    "\n",
    "But drop the contraindications."
   ]
  },
  {
   "cell_type": "code",
   "execution_count": 13,
   "metadata": {
    "collapsed": true
   },
   "outputs": [],
   "source": [
    "inds = (pd\n",
    "    .read_csv(\"cd_links/rare_disease_indications.tsv\", sep='\\t')\n",
    "    .query(\"relationship_name != 'contraindication'\")\n",
    ")"
   ]
  },
  {
   "cell_type": "code",
   "execution_count": 14,
   "metadata": {},
   "outputs": [
    {
     "data": {
      "text/html": [
       "<div>\n",
       "<style>\n",
       "    .dataframe thead tr:only-child th {\n",
       "        text-align: right;\n",
       "    }\n",
       "\n",
       "    .dataframe thead th {\n",
       "        text-align: left;\n",
       "    }\n",
       "\n",
       "    .dataframe tbody tr th {\n",
       "        vertical-align: top;\n",
       "    }\n",
       "</style>\n",
       "<table border=\"1\" class=\"dataframe\">\n",
       "  <thead>\n",
       "    <tr style=\"text-align: right;\">\n",
       "      <th></th>\n",
       "      <th>struct_id</th>\n",
       "      <th>relationship_name</th>\n",
       "      <th>orphanet_id</th>\n",
       "      <th>dise_name</th>\n",
       "      <th>dise_type</th>\n",
       "      <th>drug_name</th>\n",
       "    </tr>\n",
       "  </thead>\n",
       "  <tbody>\n",
       "    <tr>\n",
       "      <th>0</th>\n",
       "      <td>1253</td>\n",
       "      <td>indication</td>\n",
       "      <td>3389</td>\n",
       "      <td>Tuberculosis</td>\n",
       "      <td>not_genetic</td>\n",
       "      <td>ftivazide</td>\n",
       "    </tr>\n",
       "    <tr>\n",
       "      <th>1</th>\n",
       "      <td>5205</td>\n",
       "      <td>indication</td>\n",
       "      <td>58017</td>\n",
       "      <td>Hairy cell leukemia</td>\n",
       "      <td>not_genetic</td>\n",
       "      <td>interferon alfa-2b</td>\n",
       "    </tr>\n",
       "  </tbody>\n",
       "</table>\n",
       "</div>"
      ],
      "text/plain": [
       "   struct_id relationship_name  orphanet_id            dise_name    dise_type  \\\n",
       "0       1253        indication         3389         Tuberculosis  not_genetic   \n",
       "1       5205        indication        58017  Hairy cell leukemia  not_genetic   \n",
       "\n",
       "            drug_name  \n",
       "0           ftivazide  \n",
       "1  interferon alfa-2b  "
      ]
     },
     "execution_count": 14,
     "metadata": {},
     "output_type": "execute_result"
    }
   ],
   "source": [
    "inds.head(2)"
   ]
  },
  {
   "cell_type": "code",
   "execution_count": 15,
   "metadata": {},
   "outputs": [
    {
     "data": {
      "text/plain": [
       "976"
      ]
     },
     "execution_count": 15,
     "metadata": {},
     "output_type": "execute_result"
    }
   ],
   "source": [
    "inds[\"struct_id\"].nunique()"
   ]
  },
  {
   "cell_type": "markdown",
   "metadata": {},
   "source": [
    "---"
   ]
  },
  {
   "cell_type": "markdown",
   "metadata": {},
   "source": [
    "## Filter drugs down to those already in the network"
   ]
  },
  {
   "cell_type": "code",
   "execution_count": 16,
   "metadata": {
    "collapsed": true
   },
   "outputs": [],
   "source": [
    "drugs = (pd\n",
    "    .read_csv(\"data/hetnet_nodes.csv\")\n",
    "    .drop(\"identifier:string\", axis=1)\n",
    "    .rename(columns={\n",
    "        \":ID\": \"drugbank_id\",\n",
    "        \"name:string\": \"drug_name\",\n",
    "        \":LABEL\": \"node_type\"\n",
    "    })\n",
    "    .query(\"node_type == 'Compound'\")\n",
    "    .drop(\"node_type\", axis=1)\n",
    ")"
   ]
  },
  {
   "cell_type": "code",
   "execution_count": 17,
   "metadata": {},
   "outputs": [
    {
     "data": {
      "text/html": [
       "<div>\n",
       "<style>\n",
       "    .dataframe thead tr:only-child th {\n",
       "        text-align: right;\n",
       "    }\n",
       "\n",
       "    .dataframe thead th {\n",
       "        text-align: left;\n",
       "    }\n",
       "\n",
       "    .dataframe tbody tr th {\n",
       "        vertical-align: top;\n",
       "    }\n",
       "</style>\n",
       "<table border=\"1\" class=\"dataframe\">\n",
       "  <thead>\n",
       "    <tr style=\"text-align: right;\">\n",
       "      <th></th>\n",
       "      <th>drugbank_id</th>\n",
       "      <th>drug_name</th>\n",
       "    </tr>\n",
       "  </thead>\n",
       "  <tbody>\n",
       "    <tr>\n",
       "      <th>34</th>\n",
       "      <td>DB01169</td>\n",
       "      <td>Arsenic trioxide</td>\n",
       "    </tr>\n",
       "    <tr>\n",
       "      <th>93</th>\n",
       "      <td>DB01106</td>\n",
       "      <td>Levocabastine</td>\n",
       "    </tr>\n",
       "    <tr>\n",
       "      <th>130</th>\n",
       "      <td>DB06288</td>\n",
       "      <td>Amisulpride</td>\n",
       "    </tr>\n",
       "    <tr>\n",
       "      <th>132</th>\n",
       "      <td>DB00513</td>\n",
       "      <td>Aminocaproic Acid</td>\n",
       "    </tr>\n",
       "    <tr>\n",
       "      <th>156</th>\n",
       "      <td>DB00118</td>\n",
       "      <td>S-Adenosylmethionine</td>\n",
       "    </tr>\n",
       "  </tbody>\n",
       "</table>\n",
       "</div>"
      ],
      "text/plain": [
       "    drugbank_id             drug_name\n",
       "34      DB01169      Arsenic trioxide\n",
       "93      DB01106         Levocabastine\n",
       "130     DB06288           Amisulpride\n",
       "132     DB00513     Aminocaproic Acid\n",
       "156     DB00118  S-Adenosylmethionine"
      ]
     },
     "execution_count": 17,
     "metadata": {},
     "output_type": "execute_result"
    }
   ],
   "source": [
    "drugs.head()"
   ]
  },
  {
   "cell_type": "code",
   "execution_count": 18,
   "metadata": {},
   "outputs": [
    {
     "data": {
      "text/plain": [
       "1552"
      ]
     },
     "execution_count": 18,
     "metadata": {},
     "output_type": "execute_result"
    }
   ],
   "source": [
    "drugs[\"drugbank_id\"].nunique()"
   ]
  },
  {
   "cell_type": "markdown",
   "metadata": {},
   "source": [
    "### Convert indication drug ids to drugbank ids"
   ]
  },
  {
   "cell_type": "code",
   "execution_count": 19,
   "metadata": {
    "collapsed": true
   },
   "outputs": [],
   "source": [
    "chem_ids = (pd\n",
    "    .read_csv(\"data/drug_ids.csv\")\n",
    "    .drop([\"id\", \"parent_match\"], axis=1)\n",
    ")"
   ]
  },
  {
   "cell_type": "code",
   "execution_count": 20,
   "metadata": {},
   "outputs": [
    {
     "data": {
      "text/html": [
       "<div>\n",
       "<style>\n",
       "    .dataframe thead tr:only-child th {\n",
       "        text-align: right;\n",
       "    }\n",
       "\n",
       "    .dataframe thead th {\n",
       "        text-align: left;\n",
       "    }\n",
       "\n",
       "    .dataframe tbody tr th {\n",
       "        vertical-align: top;\n",
       "    }\n",
       "</style>\n",
       "<table border=\"1\" class=\"dataframe\">\n",
       "  <thead>\n",
       "    <tr style=\"text-align: right;\">\n",
       "      <th></th>\n",
       "      <th>identifier</th>\n",
       "      <th>id_type</th>\n",
       "      <th>struct_id</th>\n",
       "    </tr>\n",
       "  </thead>\n",
       "  <tbody>\n",
       "    <tr>\n",
       "      <th>0</th>\n",
       "      <td>DB00001</td>\n",
       "      <td>DRUGBANK_ID</td>\n",
       "      <td>2995</td>\n",
       "    </tr>\n",
       "    <tr>\n",
       "      <th>1</th>\n",
       "      <td>DB00002</td>\n",
       "      <td>DRUGBANK_ID</td>\n",
       "      <td>4954</td>\n",
       "    </tr>\n",
       "    <tr>\n",
       "      <th>2</th>\n",
       "      <td>DB00003</td>\n",
       "      <td>DRUGBANK_ID</td>\n",
       "      <td>5135</td>\n",
       "    </tr>\n",
       "    <tr>\n",
       "      <th>3</th>\n",
       "      <td>DB00004</td>\n",
       "      <td>DRUGBANK_ID</td>\n",
       "      <td>5087</td>\n",
       "    </tr>\n",
       "    <tr>\n",
       "      <th>4</th>\n",
       "      <td>DB00005</td>\n",
       "      <td>DRUGBANK_ID</td>\n",
       "      <td>4978</td>\n",
       "    </tr>\n",
       "  </tbody>\n",
       "</table>\n",
       "</div>"
      ],
      "text/plain": [
       "  identifier      id_type  struct_id\n",
       "0    DB00001  DRUGBANK_ID       2995\n",
       "1    DB00002  DRUGBANK_ID       4954\n",
       "2    DB00003  DRUGBANK_ID       5135\n",
       "3    DB00004  DRUGBANK_ID       5087\n",
       "4    DB00005  DRUGBANK_ID       4978"
      ]
     },
     "execution_count": 20,
     "metadata": {},
     "output_type": "execute_result"
    }
   ],
   "source": [
    "chem_ids.head()"
   ]
  },
  {
   "cell_type": "code",
   "execution_count": 21,
   "metadata": {
    "scrolled": false
   },
   "outputs": [
    {
     "data": {
      "text/plain": [
       "ChEMBL_ID                      5895\n",
       "SNOMEDCT_US                    4902\n",
       "UNII                           4347\n",
       "PUBCHEM_CID                    4271\n",
       "NDFRT                          4216\n",
       "CHEBI                          3819\n",
       "MMSL                           3684\n",
       "INN_ID                         3547\n",
       "KEGG_DRUG                      3542\n",
       "NDDF                           3335\n",
       "RXNORM                         2938\n",
       "UMLSCUI                        2838\n",
       "MESH_SUPPLEMENTAL_RECORD_UI    2533\n",
       "DRUGBANK_ID                    2465\n",
       "VANDF                          2136\n",
       "NUI                            2044\n",
       "VUID                           1790\n",
       "SECONDARY_CAS_RN               1653\n",
       "MESH_DESCRIPTOR_UI             1587\n",
       "IUPHAR_LIGAND_ID               1370\n",
       "PDB_CHEM_ID                     649\n",
       "Name: id_type, dtype: int64"
      ]
     },
     "execution_count": 21,
     "metadata": {},
     "output_type": "execute_result"
    }
   ],
   "source": [
    "chem_ids[\"id_type\"].value_counts()"
   ]
  },
  {
   "cell_type": "markdown",
   "metadata": {},
   "source": [
    "The chemicals in DrugCentral are not very well indexed by DrugBank ids."
   ]
  },
  {
   "cell_type": "code",
   "execution_count": 22,
   "metadata": {
    "collapsed": true
   },
   "outputs": [],
   "source": [
    "chem_map = (chem_ids\n",
    "    .query(\"id_type == 'DRUGBANK_ID'\")\n",
    "    .drop(\"id_type\", axis=1)\n",
    "    .rename(columns={\"identifier\": \"drugbank_id\"})\n",
    ")"
   ]
  },
  {
   "cell_type": "code",
   "execution_count": 23,
   "metadata": {
    "collapsed": true
   },
   "outputs": [],
   "source": [
    "drugs = drugs.merge(chem_map, how=\"inner\", on=\"drugbank_id\")"
   ]
  },
  {
   "cell_type": "code",
   "execution_count": 24,
   "metadata": {},
   "outputs": [
    {
     "data": {
      "text/plain": [
       "(1617, 3)"
      ]
     },
     "execution_count": 24,
     "metadata": {},
     "output_type": "execute_result"
    }
   ],
   "source": [
    "drugs.shape"
   ]
  },
  {
   "cell_type": "code",
   "execution_count": 25,
   "metadata": {},
   "outputs": [
    {
     "data": {
      "text/html": [
       "<div>\n",
       "<style>\n",
       "    .dataframe thead tr:only-child th {\n",
       "        text-align: right;\n",
       "    }\n",
       "\n",
       "    .dataframe thead th {\n",
       "        text-align: left;\n",
       "    }\n",
       "\n",
       "    .dataframe tbody tr th {\n",
       "        vertical-align: top;\n",
       "    }\n",
       "</style>\n",
       "<table border=\"1\" class=\"dataframe\">\n",
       "  <thead>\n",
       "    <tr style=\"text-align: right;\">\n",
       "      <th></th>\n",
       "      <th>drugbank_id</th>\n",
       "      <th>drug_name</th>\n",
       "      <th>struct_id</th>\n",
       "    </tr>\n",
       "  </thead>\n",
       "  <tbody>\n",
       "    <tr>\n",
       "      <th>0</th>\n",
       "      <td>DB01169</td>\n",
       "      <td>Arsenic trioxide</td>\n",
       "      <td>244</td>\n",
       "    </tr>\n",
       "    <tr>\n",
       "      <th>1</th>\n",
       "      <td>DB01106</td>\n",
       "      <td>Levocabastine</td>\n",
       "      <td>1564</td>\n",
       "    </tr>\n",
       "    <tr>\n",
       "      <th>2</th>\n",
       "      <td>DB06288</td>\n",
       "      <td>Amisulpride</td>\n",
       "      <td>179</td>\n",
       "    </tr>\n",
       "    <tr>\n",
       "      <th>3</th>\n",
       "      <td>DB00513</td>\n",
       "      <td>Aminocaproic Acid</td>\n",
       "      <td>163</td>\n",
       "    </tr>\n",
       "    <tr>\n",
       "      <th>4</th>\n",
       "      <td>DB00118</td>\n",
       "      <td>S-Adenosylmethionine</td>\n",
       "      <td>2414</td>\n",
       "    </tr>\n",
       "  </tbody>\n",
       "</table>\n",
       "</div>"
      ],
      "text/plain": [
       "  drugbank_id             drug_name  struct_id\n",
       "0     DB01169      Arsenic trioxide        244\n",
       "1     DB01106         Levocabastine       1564\n",
       "2     DB06288           Amisulpride        179\n",
       "3     DB00513     Aminocaproic Acid        163\n",
       "4     DB00118  S-Adenosylmethionine       2414"
      ]
     },
     "execution_count": 25,
     "metadata": {},
     "output_type": "execute_result"
    }
   ],
   "source": [
    "drugs.head()"
   ]
  },
  {
   "cell_type": "code",
   "execution_count": 26,
   "metadata": {},
   "outputs": [
    {
     "data": {
      "text/plain": [
       "1521"
      ]
     },
     "execution_count": 26,
     "metadata": {},
     "output_type": "execute_result"
    }
   ],
   "source": [
    "drugs[\"drugbank_id\"].nunique()"
   ]
  },
  {
   "cell_type": "code",
   "execution_count": 27,
   "metadata": {},
   "outputs": [
    {
     "data": {
      "text/plain": [
       "1617"
      ]
     },
     "execution_count": 27,
     "metadata": {},
     "output_type": "execute_result"
    }
   ],
   "source": [
    "drugs[\"struct_id\"].nunique()"
   ]
  },
  {
   "cell_type": "markdown",
   "metadata": {},
   "source": [
    "DrugBank to struct_id is one to many."
   ]
  },
  {
   "cell_type": "markdown",
   "metadata": {},
   "source": [
    "## Filter indications to those with existing drugs"
   ]
  },
  {
   "cell_type": "code",
   "execution_count": 28,
   "metadata": {
    "collapsed": true
   },
   "outputs": [],
   "source": [
    "fin_inds = (inds\n",
    "    .drop(\"drug_name\", axis=1)\n",
    "    .merge(drugs, how=\"inner\", on=\"struct_id\")\n",
    "    .drop(\"struct_id\", axis=1)\n",
    "    .drop_duplicates()\n",
    ")"
   ]
  },
  {
   "cell_type": "markdown",
   "metadata": {},
   "source": [
    "### Filter indications to those with diseases with gene-disease links"
   ]
  },
  {
   "cell_type": "code",
   "execution_count": 29,
   "metadata": {
    "collapsed": true
   },
   "outputs": [],
   "source": [
    "common_dises = set(fin_links[\"dise_orpha_id\"])\n",
    "fin_inds = fin_inds.query(\"orphanet_id in @common_dises\")"
   ]
  },
  {
   "cell_type": "code",
   "execution_count": 30,
   "metadata": {},
   "outputs": [
    {
     "data": {
      "text/plain": [
       "(2044, 6)"
      ]
     },
     "execution_count": 30,
     "metadata": {},
     "output_type": "execute_result"
    }
   ],
   "source": [
    "fin_inds.shape"
   ]
  },
  {
   "cell_type": "code",
   "execution_count": 31,
   "metadata": {},
   "outputs": [
    {
     "data": {
      "text/html": [
       "<div>\n",
       "<style>\n",
       "    .dataframe thead tr:only-child th {\n",
       "        text-align: right;\n",
       "    }\n",
       "\n",
       "    .dataframe thead th {\n",
       "        text-align: left;\n",
       "    }\n",
       "\n",
       "    .dataframe tbody tr th {\n",
       "        vertical-align: top;\n",
       "    }\n",
       "</style>\n",
       "<table border=\"1\" class=\"dataframe\">\n",
       "  <thead>\n",
       "    <tr style=\"text-align: right;\">\n",
       "      <th></th>\n",
       "      <th>relationship_name</th>\n",
       "      <th>orphanet_id</th>\n",
       "      <th>dise_name</th>\n",
       "      <th>dise_type</th>\n",
       "      <th>drugbank_id</th>\n",
       "      <th>drug_name</th>\n",
       "    </tr>\n",
       "  </thead>\n",
       "  <tbody>\n",
       "    <tr>\n",
       "      <th>0</th>\n",
       "      <td>indication</td>\n",
       "      <td>58017</td>\n",
       "      <td>Hairy cell leukemia</td>\n",
       "      <td>not_genetic</td>\n",
       "      <td>DB00552</td>\n",
       "      <td>Pentostatin</td>\n",
       "    </tr>\n",
       "    <tr>\n",
       "      <th>1</th>\n",
       "      <td>off-label use</td>\n",
       "      <td>67038</td>\n",
       "      <td>B-cell chronic lymphocytic leukemia</td>\n",
       "      <td>not_genetic</td>\n",
       "      <td>DB00552</td>\n",
       "      <td>Pentostatin</td>\n",
       "    </tr>\n",
       "    <tr>\n",
       "      <th>2</th>\n",
       "      <td>indication</td>\n",
       "      <td>58017</td>\n",
       "      <td>Hairy cell leukemia</td>\n",
       "      <td>not_genetic</td>\n",
       "      <td>DB00242</td>\n",
       "      <td>Cladribine</td>\n",
       "    </tr>\n",
       "    <tr>\n",
       "      <th>3</th>\n",
       "      <td>off-label use</td>\n",
       "      <td>33226</td>\n",
       "      <td>Waldenström macroglobulinemia</td>\n",
       "      <td>not_genetic</td>\n",
       "      <td>DB00242</td>\n",
       "      <td>Cladribine</td>\n",
       "    </tr>\n",
       "    <tr>\n",
       "      <th>6</th>\n",
       "      <td>indication</td>\n",
       "      <td>545</td>\n",
       "      <td>Follicular lymphoma</td>\n",
       "      <td>not_genetic</td>\n",
       "      <td>DB00620</td>\n",
       "      <td>Triamcinolone</td>\n",
       "    </tr>\n",
       "  </tbody>\n",
       "</table>\n",
       "</div>"
      ],
      "text/plain": [
       "  relationship_name  orphanet_id                            dise_name  \\\n",
       "0        indication        58017                  Hairy cell leukemia   \n",
       "1     off-label use        67038  B-cell chronic lymphocytic leukemia   \n",
       "2        indication        58017                  Hairy cell leukemia   \n",
       "3     off-label use        33226        Waldenström macroglobulinemia   \n",
       "6        indication          545                  Follicular lymphoma   \n",
       "\n",
       "     dise_type drugbank_id      drug_name  \n",
       "0  not_genetic     DB00552    Pentostatin  \n",
       "1  not_genetic     DB00552    Pentostatin  \n",
       "2  not_genetic     DB00242     Cladribine  \n",
       "3  not_genetic     DB00242     Cladribine  \n",
       "6  not_genetic     DB00620  Triamcinolone  "
      ]
     },
     "execution_count": 31,
     "metadata": {},
     "output_type": "execute_result"
    }
   ],
   "source": [
    "fin_inds.head()"
   ]
  },
  {
   "cell_type": "code",
   "execution_count": 32,
   "metadata": {},
   "outputs": [
    {
     "data": {
      "text/plain": [
       "599"
      ]
     },
     "execution_count": 32,
     "metadata": {},
     "output_type": "execute_result"
    }
   ],
   "source": [
    "fin_inds[\"orphanet_id\"].nunique()"
   ]
  },
  {
   "cell_type": "code",
   "execution_count": 33,
   "metadata": {},
   "outputs": [
    {
     "data": {
      "text/plain": [
       "319"
      ]
     },
     "execution_count": 33,
     "metadata": {},
     "output_type": "execute_result"
    }
   ],
   "source": [
    "fin_inds[\"drugbank_id\"].nunique()"
   ]
  },
  {
   "cell_type": "code",
   "execution_count": 34,
   "metadata": {},
   "outputs": [
    {
     "data": {
      "text/plain": [
       "(2015, 2)"
      ]
     },
     "execution_count": 34,
     "metadata": {},
     "output_type": "execute_result"
    }
   ],
   "source": [
    "fin_inds[[\"drugbank_id\", \"orphanet_id\"]].drop_duplicates().shape"
   ]
  },
  {
   "cell_type": "markdown",
   "metadata": {},
   "source": [
    "---"
   ]
  },
  {
   "cell_type": "markdown",
   "metadata": {},
   "source": [
    "## Gene-disease link stats"
   ]
  },
  {
   "cell_type": "code",
   "execution_count": 35,
   "metadata": {},
   "outputs": [
    {
     "data": {
      "text/plain": [
       "3555"
      ]
     },
     "execution_count": 35,
     "metadata": {},
     "output_type": "execute_result"
    }
   ],
   "source": [
    "fin_links[\"dise_orpha_id\"].nunique()"
   ]
  },
  {
   "cell_type": "code",
   "execution_count": 36,
   "metadata": {},
   "outputs": [
    {
     "data": {
      "text/plain": [
       "3599"
      ]
     },
     "execution_count": 36,
     "metadata": {},
     "output_type": "execute_result"
    }
   ],
   "source": [
    "fin_links[\"entrez_id\"].nunique()"
   ]
  },
  {
   "cell_type": "code",
   "execution_count": 37,
   "metadata": {},
   "outputs": [
    {
     "data": {
      "text/plain": [
       "(6739, 2)"
      ]
     },
     "execution_count": 37,
     "metadata": {},
     "output_type": "execute_result"
    }
   ],
   "source": [
    "fin_links[[\"entrez_id\", \"dise_orpha_id\"]].drop_duplicates().shape"
   ]
  },
  {
   "cell_type": "code",
   "execution_count": 38,
   "metadata": {},
   "outputs": [
    {
     "data": {
      "text/html": [
       "<div>\n",
       "<style>\n",
       "    .dataframe thead tr:only-child th {\n",
       "        text-align: right;\n",
       "    }\n",
       "\n",
       "    .dataframe thead th {\n",
       "        text-align: left;\n",
       "    }\n",
       "\n",
       "    .dataframe tbody tr th {\n",
       "        vertical-align: top;\n",
       "    }\n",
       "</style>\n",
       "<table border=\"1\" class=\"dataframe\">\n",
       "  <thead>\n",
       "    <tr style=\"text-align: right;\">\n",
       "      <th></th>\n",
       "      <th>dise_orpha_id</th>\n",
       "      <th>dise_name</th>\n",
       "      <th>link_status</th>\n",
       "      <th>link_type</th>\n",
       "      <th>gene_name</th>\n",
       "      <th>hgnc_id</th>\n",
       "      <th>symbol</th>\n",
       "      <th>entrez_id</th>\n",
       "    </tr>\n",
       "  </thead>\n",
       "  <tbody>\n",
       "    <tr>\n",
       "      <th>0</th>\n",
       "      <td>166024</td>\n",
       "      <td>Multiple epiphyseal dysplasia, Al-Gazali type</td>\n",
       "      <td>Assessed</td>\n",
       "      <td>Disease-causing germline mutation(s) in</td>\n",
       "      <td>kinesin family member 7</td>\n",
       "      <td>30497</td>\n",
       "      <td>KIF7</td>\n",
       "      <td>374654</td>\n",
       "    </tr>\n",
       "    <tr>\n",
       "      <th>1</th>\n",
       "      <td>36</td>\n",
       "      <td>Acrocallosal syndrome</td>\n",
       "      <td>Assessed</td>\n",
       "      <td>Disease-causing germline mutation(s) in</td>\n",
       "      <td>kinesin family member 7</td>\n",
       "      <td>30497</td>\n",
       "      <td>KIF7</td>\n",
       "      <td>374654</td>\n",
       "    </tr>\n",
       "    <tr>\n",
       "      <th>2</th>\n",
       "      <td>2189</td>\n",
       "      <td>Hydrolethalus</td>\n",
       "      <td>Assessed</td>\n",
       "      <td>Disease-causing germline mutation(s) in</td>\n",
       "      <td>kinesin family member 7</td>\n",
       "      <td>30497</td>\n",
       "      <td>KIF7</td>\n",
       "      <td>374654</td>\n",
       "    </tr>\n",
       "    <tr>\n",
       "      <th>3</th>\n",
       "      <td>2754</td>\n",
       "      <td>Joubert syndrome with orofaciodigital defect</td>\n",
       "      <td>Assessed</td>\n",
       "      <td>Disease-causing germline mutation(s) in</td>\n",
       "      <td>kinesin family member 7</td>\n",
       "      <td>30497</td>\n",
       "      <td>KIF7</td>\n",
       "      <td>374654</td>\n",
       "    </tr>\n",
       "    <tr>\n",
       "      <th>4</th>\n",
       "      <td>93</td>\n",
       "      <td>Aspartylglucosaminuria</td>\n",
       "      <td>Assessed</td>\n",
       "      <td>Disease-causing germline mutation(s) in</td>\n",
       "      <td>aspartylglucosaminidase</td>\n",
       "      <td>318</td>\n",
       "      <td>AGA</td>\n",
       "      <td>175</td>\n",
       "    </tr>\n",
       "  </tbody>\n",
       "</table>\n",
       "</div>"
      ],
      "text/plain": [
       "   dise_orpha_id                                      dise_name link_status  \\\n",
       "0         166024  Multiple epiphyseal dysplasia, Al-Gazali type    Assessed   \n",
       "1             36                          Acrocallosal syndrome    Assessed   \n",
       "2           2189                                  Hydrolethalus    Assessed   \n",
       "3           2754   Joubert syndrome with orofaciodigital defect    Assessed   \n",
       "4             93                         Aspartylglucosaminuria    Assessed   \n",
       "\n",
       "                                 link_type                gene_name  hgnc_id  \\\n",
       "0  Disease-causing germline mutation(s) in  kinesin family member 7    30497   \n",
       "1  Disease-causing germline mutation(s) in  kinesin family member 7    30497   \n",
       "2  Disease-causing germline mutation(s) in  kinesin family member 7    30497   \n",
       "3  Disease-causing germline mutation(s) in  kinesin family member 7    30497   \n",
       "4  Disease-causing germline mutation(s) in  aspartylglucosaminidase      318   \n",
       "\n",
       "  symbol  entrez_id  \n",
       "0   KIF7     374654  \n",
       "1   KIF7     374654  \n",
       "2   KIF7     374654  \n",
       "3   KIF7     374654  \n",
       "4    AGA        175  "
      ]
     },
     "execution_count": 38,
     "metadata": {},
     "output_type": "execute_result"
    }
   ],
   "source": [
    "fin_links.head()"
   ]
  },
  {
   "cell_type": "code",
   "execution_count": 39,
   "metadata": {},
   "outputs": [
    {
     "data": {
      "text/plain": [
       "599"
      ]
     },
     "execution_count": 39,
     "metadata": {},
     "output_type": "execute_result"
    }
   ],
   "source": [
    "len(set(fin_links[\"dise_orpha_id\"]) & set(fin_inds[\"orphanet_id\"]))"
   ]
  },
  {
   "cell_type": "markdown",
   "metadata": {},
   "source": [
    "---"
   ]
  },
  {
   "cell_type": "markdown",
   "metadata": {},
   "source": [
    "## Read disease-phenotype links"
   ]
  },
  {
   "cell_type": "code",
   "execution_count": 40,
   "metadata": {
    "collapsed": true
   },
   "outputs": [],
   "source": [
    "phenos = pd.read_csv(\"dise_pheno/dise_pheno_links.tsv\", sep='\\t')"
   ]
  },
  {
   "cell_type": "code",
   "execution_count": 41,
   "metadata": {},
   "outputs": [
    {
     "data": {
      "text/html": [
       "<div>\n",
       "<style>\n",
       "    .dataframe thead tr:only-child th {\n",
       "        text-align: right;\n",
       "    }\n",
       "\n",
       "    .dataframe thead th {\n",
       "        text-align: left;\n",
       "    }\n",
       "\n",
       "    .dataframe tbody tr th {\n",
       "        vertical-align: top;\n",
       "    }\n",
       "</style>\n",
       "<table border=\"1\" class=\"dataframe\">\n",
       "  <thead>\n",
       "    <tr style=\"text-align: right;\">\n",
       "      <th></th>\n",
       "      <th>dise_id</th>\n",
       "      <th>dise_name</th>\n",
       "      <th>freq</th>\n",
       "      <th>hpo_id</th>\n",
       "      <th>hpo_name</th>\n",
       "      <th>mesh_id</th>\n",
       "    </tr>\n",
       "  </thead>\n",
       "  <tbody>\n",
       "    <tr>\n",
       "      <th>0</th>\n",
       "      <td>166024</td>\n",
       "      <td>Multiple epiphyseal dysplasia, Al-Gazali type</td>\n",
       "      <td>Very frequent (99-80%)</td>\n",
       "      <td>HP:0000256</td>\n",
       "      <td>Macrocephaly</td>\n",
       "      <td>NaN</td>\n",
       "    </tr>\n",
       "    <tr>\n",
       "      <th>1</th>\n",
       "      <td>58</td>\n",
       "      <td>Alexander disease</td>\n",
       "      <td>Very frequent (99-80%)</td>\n",
       "      <td>HP:0000256</td>\n",
       "      <td>Macrocephaly</td>\n",
       "      <td>NaN</td>\n",
       "    </tr>\n",
       "    <tr>\n",
       "      <th>2</th>\n",
       "      <td>61</td>\n",
       "      <td>Alpha-mannosidosis</td>\n",
       "      <td>Occasional (29-5%)</td>\n",
       "      <td>HP:0000256</td>\n",
       "      <td>Macrocephaly</td>\n",
       "      <td>NaN</td>\n",
       "    </tr>\n",
       "    <tr>\n",
       "      <th>3</th>\n",
       "      <td>585</td>\n",
       "      <td>Multiple sulfatase deficiency</td>\n",
       "      <td>Frequent (79-30%)</td>\n",
       "      <td>HP:0000256</td>\n",
       "      <td>Macrocephaly</td>\n",
       "      <td>NaN</td>\n",
       "    </tr>\n",
       "    <tr>\n",
       "      <th>4</th>\n",
       "      <td>141</td>\n",
       "      <td>Canavan disease</td>\n",
       "      <td>Frequent (79-30%)</td>\n",
       "      <td>HP:0000256</td>\n",
       "      <td>Macrocephaly</td>\n",
       "      <td>NaN</td>\n",
       "    </tr>\n",
       "  </tbody>\n",
       "</table>\n",
       "</div>"
      ],
      "text/plain": [
       "   dise_id                                      dise_name  \\\n",
       "0   166024  Multiple epiphyseal dysplasia, Al-Gazali type   \n",
       "1       58                              Alexander disease   \n",
       "2       61                             Alpha-mannosidosis   \n",
       "3      585                  Multiple sulfatase deficiency   \n",
       "4      141                                Canavan disease   \n",
       "\n",
       "                     freq      hpo_id      hpo_name mesh_id  \n",
       "0  Very frequent (99-80%)  HP:0000256  Macrocephaly     NaN  \n",
       "1  Very frequent (99-80%)  HP:0000256  Macrocephaly     NaN  \n",
       "2      Occasional (29-5%)  HP:0000256  Macrocephaly     NaN  \n",
       "3       Frequent (79-30%)  HP:0000256  Macrocephaly     NaN  \n",
       "4       Frequent (79-30%)  HP:0000256  Macrocephaly     NaN  "
      ]
     },
     "execution_count": 41,
     "metadata": {},
     "output_type": "execute_result"
    }
   ],
   "source": [
    "phenos.head()"
   ]
  },
  {
   "cell_type": "markdown",
   "metadata": {},
   "source": [
    "### Read existing phenotypes in network"
   ]
  },
  {
   "cell_type": "code",
   "execution_count": 42,
   "metadata": {
    "collapsed": true
   },
   "outputs": [],
   "source": [
    "symptoms = pd.read_csv(\"data/symptoms.tsv\", sep='\\t')"
   ]
  },
  {
   "cell_type": "code",
   "execution_count": 43,
   "metadata": {},
   "outputs": [
    {
     "data": {
      "text/html": [
       "<div>\n",
       "<style>\n",
       "    .dataframe thead tr:only-child th {\n",
       "        text-align: right;\n",
       "    }\n",
       "\n",
       "    .dataframe thead th {\n",
       "        text-align: left;\n",
       "    }\n",
       "\n",
       "    .dataframe tbody tr th {\n",
       "        vertical-align: top;\n",
       "    }\n",
       "</style>\n",
       "<table border=\"1\" class=\"dataframe\">\n",
       "  <thead>\n",
       "    <tr style=\"text-align: right;\">\n",
       "      <th></th>\n",
       "      <th>mesh_id</th>\n",
       "      <th>mesh_name</th>\n",
       "      <th>in_hsdn</th>\n",
       "    </tr>\n",
       "  </thead>\n",
       "  <tbody>\n",
       "    <tr>\n",
       "      <th>0</th>\n",
       "      <td>D000006</td>\n",
       "      <td>Abdomen, Acute</td>\n",
       "      <td>1</td>\n",
       "    </tr>\n",
       "    <tr>\n",
       "      <th>1</th>\n",
       "      <td>D000270</td>\n",
       "      <td>Adie Syndrome</td>\n",
       "      <td>0</td>\n",
       "    </tr>\n",
       "    <tr>\n",
       "      <th>2</th>\n",
       "      <td>D000326</td>\n",
       "      <td>Adrenoleukodystrophy</td>\n",
       "      <td>0</td>\n",
       "    </tr>\n",
       "    <tr>\n",
       "      <th>3</th>\n",
       "      <td>D000334</td>\n",
       "      <td>Aerophagy</td>\n",
       "      <td>1</td>\n",
       "    </tr>\n",
       "    <tr>\n",
       "      <th>4</th>\n",
       "      <td>D000370</td>\n",
       "      <td>Ageusia</td>\n",
       "      <td>1</td>\n",
       "    </tr>\n",
       "  </tbody>\n",
       "</table>\n",
       "</div>"
      ],
      "text/plain": [
       "   mesh_id             mesh_name  in_hsdn\n",
       "0  D000006        Abdomen, Acute        1\n",
       "1  D000270         Adie Syndrome        0\n",
       "2  D000326  Adrenoleukodystrophy        0\n",
       "3  D000334             Aerophagy        1\n",
       "4  D000370               Ageusia        1"
      ]
     },
     "execution_count": 43,
     "metadata": {},
     "output_type": "execute_result"
    }
   ],
   "source": [
    "symptoms.head()"
   ]
  },
  {
   "cell_type": "markdown",
   "metadata": {},
   "source": [
    "## Combine existing phenotypes with new rare disease ones"
   ]
  },
  {
   "cell_type": "code",
   "execution_count": 44,
   "metadata": {
    "collapsed": true
   },
   "outputs": [],
   "source": [
    "fin_phenos = (phenos\n",
    "    .query(\"dise_id in @common_dises\")\n",
    "    .append(\n",
    "        phenos.merge(symptoms[[\"mesh_id\"]], how=\"inner\", on=\"mesh_id\")\n",
    "    )\n",
    "    .drop_duplicates()\n",
    "    .sort_values([\"dise_id\", \"hpo_id\"])\n",
    "    .reset_index(drop=True)\n",
    ")"
   ]
  },
  {
   "cell_type": "code",
   "execution_count": 45,
   "metadata": {},
   "outputs": [
    {
     "data": {
      "text/plain": [
       "(35088, 6)"
      ]
     },
     "execution_count": 45,
     "metadata": {},
     "output_type": "execute_result"
    }
   ],
   "source": [
    "fin_phenos.shape"
   ]
  },
  {
   "cell_type": "code",
   "execution_count": 46,
   "metadata": {},
   "outputs": [
    {
     "data": {
      "text/html": [
       "<div>\n",
       "<style>\n",
       "    .dataframe thead tr:only-child th {\n",
       "        text-align: right;\n",
       "    }\n",
       "\n",
       "    .dataframe thead th {\n",
       "        text-align: left;\n",
       "    }\n",
       "\n",
       "    .dataframe tbody tr th {\n",
       "        vertical-align: top;\n",
       "    }\n",
       "</style>\n",
       "<table border=\"1\" class=\"dataframe\">\n",
       "  <thead>\n",
       "    <tr style=\"text-align: right;\">\n",
       "      <th></th>\n",
       "      <th>dise_id</th>\n",
       "      <th>dise_name</th>\n",
       "      <th>freq</th>\n",
       "      <th>hpo_id</th>\n",
       "      <th>hpo_name</th>\n",
       "      <th>mesh_id</th>\n",
       "    </tr>\n",
       "  </thead>\n",
       "  <tbody>\n",
       "    <tr>\n",
       "      <th>0</th>\n",
       "      <td>6</td>\n",
       "      <td>3-methylcrotonyl-CoA carboxylase deficiency</td>\n",
       "      <td>Very frequent (99-80%)</td>\n",
       "      <td>HP:0001252</td>\n",
       "      <td>Muscular hypotonia</td>\n",
       "      <td>D009123</td>\n",
       "    </tr>\n",
       "    <tr>\n",
       "      <th>1</th>\n",
       "      <td>6</td>\n",
       "      <td>3-methylcrotonyl-CoA carboxylase deficiency</td>\n",
       "      <td>Occasional (29-5%)</td>\n",
       "      <td>HP:0001257</td>\n",
       "      <td>Spasticity</td>\n",
       "      <td>D009128</td>\n",
       "    </tr>\n",
       "    <tr>\n",
       "      <th>2</th>\n",
       "      <td>6</td>\n",
       "      <td>3-methylcrotonyl-CoA carboxylase deficiency</td>\n",
       "      <td>Frequent (79-30%)</td>\n",
       "      <td>HP:0001531</td>\n",
       "      <td>Failure to thrive in infancy</td>\n",
       "      <td>NaN</td>\n",
       "    </tr>\n",
       "    <tr>\n",
       "      <th>3</th>\n",
       "      <td>6</td>\n",
       "      <td>3-methylcrotonyl-CoA carboxylase deficiency</td>\n",
       "      <td>Very frequent (99-80%)</td>\n",
       "      <td>HP:0001943</td>\n",
       "      <td>Hypoglycemia</td>\n",
       "      <td>D007003</td>\n",
       "    </tr>\n",
       "    <tr>\n",
       "      <th>4</th>\n",
       "      <td>6</td>\n",
       "      <td>3-methylcrotonyl-CoA carboxylase deficiency</td>\n",
       "      <td>Frequent (79-30%)</td>\n",
       "      <td>HP:0001987</td>\n",
       "      <td>Hyperammonemia</td>\n",
       "      <td>D022124</td>\n",
       "    </tr>\n",
       "  </tbody>\n",
       "</table>\n",
       "</div>"
      ],
      "text/plain": [
       "   dise_id                                    dise_name  \\\n",
       "0        6  3-methylcrotonyl-CoA carboxylase deficiency   \n",
       "1        6  3-methylcrotonyl-CoA carboxylase deficiency   \n",
       "2        6  3-methylcrotonyl-CoA carboxylase deficiency   \n",
       "3        6  3-methylcrotonyl-CoA carboxylase deficiency   \n",
       "4        6  3-methylcrotonyl-CoA carboxylase deficiency   \n",
       "\n",
       "                     freq      hpo_id                      hpo_name  mesh_id  \n",
       "0  Very frequent (99-80%)  HP:0001252            Muscular hypotonia  D009123  \n",
       "1      Occasional (29-5%)  HP:0001257                    Spasticity  D009128  \n",
       "2       Frequent (79-30%)  HP:0001531  Failure to thrive in infancy      NaN  \n",
       "3  Very frequent (99-80%)  HP:0001943                  Hypoglycemia  D007003  \n",
       "4       Frequent (79-30%)  HP:0001987                Hyperammonemia  D022124  "
      ]
     },
     "execution_count": 46,
     "metadata": {},
     "output_type": "execute_result"
    }
   ],
   "source": [
    "fin_phenos.head()"
   ]
  },
  {
   "cell_type": "markdown",
   "metadata": {},
   "source": [
    "## Output to file"
   ]
  },
  {
   "cell_type": "code",
   "execution_count": 47,
   "metadata": {
    "collapsed": true
   },
   "outputs": [],
   "source": [
    "fin_inds.to_csv(\"results/rare_dise_indications.tsv\", sep='\\t', index=False)\n",
    "fin_links.to_csv(\"results/rare_dise_gene_links.tsv\", sep='\\t', index=False)\n",
    "fin_phenos.to_csv(\"results/rare_dise_phenotype_links.tsv\", sep='\\t', index=False)"
   ]
  }
 ],
 "metadata": {
  "kernelspec": {
   "display_name": "Python 3",
   "language": "python",
   "name": "python3"
  },
  "language_info": {
   "codemirror_mode": {
    "name": "ipython",
    "version": 3
   },
   "file_extension": ".py",
   "mimetype": "text/x-python",
   "name": "python",
   "nbconvert_exporter": "python",
   "pygments_lexer": "ipython3",
   "version": "3.5.3"
  }
 },
 "nbformat": 4,
 "nbformat_minor": 2
}
