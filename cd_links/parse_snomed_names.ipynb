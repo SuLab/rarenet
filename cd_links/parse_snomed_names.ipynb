{
 "cells": [
  {
   "cell_type": "markdown",
   "metadata": {},
   "source": [
    "# Parse all SNOMED concepts\n",
    "\n",
    "2017-06-22\n",
    "\n",
    "As a last ditch attempt to extract as much information as possible, we will use exact string matching on disease names to determine if Orphanet diseases have SNOMED identifiers."
   ]
  },
  {
   "cell_type": "code",
   "execution_count": 1,
   "metadata": {
    "collapsed": true
   },
   "outputs": [],
   "source": [
    "import pandas as pd"
   ]
  },
  {
   "cell_type": "markdown",
   "metadata": {},
   "source": [
    "---"
   ]
  },
  {
   "cell_type": "markdown",
   "metadata": {},
   "source": [
    "## Read SNOMED ID file"
   ]
  },
  {
   "cell_type": "code",
   "execution_count": 2,
   "metadata": {
    "collapsed": true
   },
   "outputs": [],
   "source": [
    "data = pd.read_csv(\"../snomed_full.txt\", sep='\\t')"
   ]
  },
  {
   "cell_type": "code",
   "execution_count": 3,
   "metadata": {},
   "outputs": [
    {
     "data": {
      "text/plain": [
       "(1613155, 9)"
      ]
     },
     "execution_count": 3,
     "metadata": {},
     "output_type": "execute_result"
    }
   ],
   "source": [
    "data.shape"
   ]
  },
  {
   "cell_type": "code",
   "execution_count": 4,
   "metadata": {},
   "outputs": [
    {
     "data": {
      "text/html": [
       "<div>\n",
       "<style>\n",
       "    .dataframe thead tr:only-child th {\n",
       "        text-align: right;\n",
       "    }\n",
       "\n",
       "    .dataframe thead th {\n",
       "        text-align: left;\n",
       "    }\n",
       "\n",
       "    .dataframe tbody tr th {\n",
       "        vertical-align: top;\n",
       "    }\n",
       "</style>\n",
       "<table border=\"1\" class=\"dataframe\">\n",
       "  <thead>\n",
       "    <tr style=\"text-align: right;\">\n",
       "      <th></th>\n",
       "      <th>id</th>\n",
       "      <th>effectiveTime</th>\n",
       "      <th>active</th>\n",
       "      <th>moduleId</th>\n",
       "      <th>conceptId</th>\n",
       "      <th>languageCode</th>\n",
       "      <th>typeId</th>\n",
       "      <th>term</th>\n",
       "      <th>caseSignificanceId</th>\n",
       "    </tr>\n",
       "  </thead>\n",
       "  <tbody>\n",
       "    <tr>\n",
       "      <th>0</th>\n",
       "      <td>100000016</td>\n",
       "      <td>20020131</td>\n",
       "      <td>0</td>\n",
       "      <td>900000000000207008</td>\n",
       "      <td>60203004</td>\n",
       "      <td>en</td>\n",
       "      <td>900000000000013009</td>\n",
       "      <td>Abrasion or friction burn of gum with infection</td>\n",
       "      <td>900000000000020002</td>\n",
       "    </tr>\n",
       "    <tr>\n",
       "      <th>1</th>\n",
       "      <td>10000010</td>\n",
       "      <td>20020131</td>\n",
       "      <td>1</td>\n",
       "      <td>900000000000207008</td>\n",
       "      <td>5379004</td>\n",
       "      <td>en</td>\n",
       "      <td>900000000000013009</td>\n",
       "      <td>Small intestine muscularis propria</td>\n",
       "      <td>900000000000020002</td>\n",
       "    </tr>\n",
       "    <tr>\n",
       "      <th>2</th>\n",
       "      <td>100001017</td>\n",
       "      <td>20020131</td>\n",
       "      <td>1</td>\n",
       "      <td>900000000000207008</td>\n",
       "      <td>60203004</td>\n",
       "      <td>en</td>\n",
       "      <td>900000000000013009</td>\n",
       "      <td>Gingival abrasion with infection</td>\n",
       "      <td>900000000000020002</td>\n",
       "    </tr>\n",
       "    <tr>\n",
       "      <th>3</th>\n",
       "      <td>100002012</td>\n",
       "      <td>20020131</td>\n",
       "      <td>1</td>\n",
       "      <td>900000000000207008</td>\n",
       "      <td>60204005</td>\n",
       "      <td>en</td>\n",
       "      <td>900000000000013009</td>\n",
       "      <td>Cauterization of conjunctival lesion</td>\n",
       "      <td>900000000000020002</td>\n",
       "    </tr>\n",
       "    <tr>\n",
       "      <th>4</th>\n",
       "      <td>100003019</td>\n",
       "      <td>20020131</td>\n",
       "      <td>1</td>\n",
       "      <td>900000000000207008</td>\n",
       "      <td>60205006</td>\n",
       "      <td>en</td>\n",
       "      <td>900000000000013009</td>\n",
       "      <td>Retired procedure</td>\n",
       "      <td>900000000000020002</td>\n",
       "    </tr>\n",
       "  </tbody>\n",
       "</table>\n",
       "</div>"
      ],
      "text/plain": [
       "          id  effectiveTime  active            moduleId  conceptId  \\\n",
       "0  100000016       20020131       0  900000000000207008   60203004   \n",
       "1   10000010       20020131       1  900000000000207008    5379004   \n",
       "2  100001017       20020131       1  900000000000207008   60203004   \n",
       "3  100002012       20020131       1  900000000000207008   60204005   \n",
       "4  100003019       20020131       1  900000000000207008   60205006   \n",
       "\n",
       "  languageCode              typeId  \\\n",
       "0           en  900000000000013009   \n",
       "1           en  900000000000013009   \n",
       "2           en  900000000000013009   \n",
       "3           en  900000000000013009   \n",
       "4           en  900000000000013009   \n",
       "\n",
       "                                              term  caseSignificanceId  \n",
       "0  Abrasion or friction burn of gum with infection  900000000000020002  \n",
       "1               Small intestine muscularis propria  900000000000020002  \n",
       "2                 Gingival abrasion with infection  900000000000020002  \n",
       "3             Cauterization of conjunctival lesion  900000000000020002  \n",
       "4                                Retired procedure  900000000000020002  "
      ]
     },
     "execution_count": 4,
     "metadata": {},
     "output_type": "execute_result"
    }
   ],
   "source": [
    "data.head()"
   ]
  },
  {
   "cell_type": "markdown",
   "metadata": {},
   "source": [
    "---"
   ]
  },
  {
   "cell_type": "markdown",
   "metadata": {},
   "source": [
    "## Extract out relevant info"
   ]
  },
  {
   "cell_type": "code",
   "execution_count": 5,
   "metadata": {
    "collapsed": true
   },
   "outputs": [],
   "source": [
    "info = data[[\"conceptId\", \"active\", \"term\"]].drop_duplicates()"
   ]
  },
  {
   "cell_type": "code",
   "execution_count": 6,
   "metadata": {},
   "outputs": [
    {
     "data": {
      "text/html": [
       "<div>\n",
       "<style>\n",
       "    .dataframe thead tr:only-child th {\n",
       "        text-align: right;\n",
       "    }\n",
       "\n",
       "    .dataframe thead th {\n",
       "        text-align: left;\n",
       "    }\n",
       "\n",
       "    .dataframe tbody tr th {\n",
       "        vertical-align: top;\n",
       "    }\n",
       "</style>\n",
       "<table border=\"1\" class=\"dataframe\">\n",
       "  <thead>\n",
       "    <tr style=\"text-align: right;\">\n",
       "      <th></th>\n",
       "      <th>conceptId</th>\n",
       "      <th>active</th>\n",
       "      <th>term</th>\n",
       "    </tr>\n",
       "  </thead>\n",
       "  <tbody>\n",
       "    <tr>\n",
       "      <th>0</th>\n",
       "      <td>60203004</td>\n",
       "      <td>0</td>\n",
       "      <td>Abrasion or friction burn of gum with infection</td>\n",
       "    </tr>\n",
       "    <tr>\n",
       "      <th>1</th>\n",
       "      <td>5379004</td>\n",
       "      <td>1</td>\n",
       "      <td>Small intestine muscularis propria</td>\n",
       "    </tr>\n",
       "    <tr>\n",
       "      <th>2</th>\n",
       "      <td>60203004</td>\n",
       "      <td>1</td>\n",
       "      <td>Gingival abrasion with infection</td>\n",
       "    </tr>\n",
       "    <tr>\n",
       "      <th>3</th>\n",
       "      <td>60204005</td>\n",
       "      <td>1</td>\n",
       "      <td>Cauterization of conjunctival lesion</td>\n",
       "    </tr>\n",
       "    <tr>\n",
       "      <th>4</th>\n",
       "      <td>60205006</td>\n",
       "      <td>1</td>\n",
       "      <td>Retired procedure</td>\n",
       "    </tr>\n",
       "  </tbody>\n",
       "</table>\n",
       "</div>"
      ],
      "text/plain": [
       "   conceptId  active                                             term\n",
       "0   60203004       0  Abrasion or friction burn of gum with infection\n",
       "1    5379004       1               Small intestine muscularis propria\n",
       "2   60203004       1                 Gingival abrasion with infection\n",
       "3   60204005       1             Cauterization of conjunctival lesion\n",
       "4   60205006       1                                Retired procedure"
      ]
     },
     "execution_count": 6,
     "metadata": {},
     "output_type": "execute_result"
    }
   ],
   "source": [
    "info.head()"
   ]
  },
  {
   "cell_type": "markdown",
   "metadata": {},
   "source": [
    "## Clean up data: drop inactive\n",
    "\n",
    "Drop any concepts which are not active. There is also one concept with no textual name, and will be dropped."
   ]
  },
  {
   "cell_type": "code",
   "execution_count": 7,
   "metadata": {
    "collapsed": true
   },
   "outputs": [],
   "source": [
    "res = (info\n",
    "    .query(\"active == 1\")\n",
    "    .rename(columns={\"conceptId\": \"snomed_id\", \"term\": \"snomed_name\"})\n",
    "    .drop(\"active\", axis=1)\n",
    "    .dropna(how=\"any\")\n",
    ")"
   ]
  },
  {
   "cell_type": "code",
   "execution_count": 8,
   "metadata": {},
   "outputs": [
    {
     "data": {
      "text/plain": [
       "(1231897, 2)"
      ]
     },
     "execution_count": 8,
     "metadata": {},
     "output_type": "execute_result"
    }
   ],
   "source": [
    "res.shape"
   ]
  },
  {
   "cell_type": "code",
   "execution_count": 9,
   "metadata": {},
   "outputs": [
    {
     "data": {
      "text/html": [
       "<div>\n",
       "<style>\n",
       "    .dataframe thead tr:only-child th {\n",
       "        text-align: right;\n",
       "    }\n",
       "\n",
       "    .dataframe thead th {\n",
       "        text-align: left;\n",
       "    }\n",
       "\n",
       "    .dataframe tbody tr th {\n",
       "        vertical-align: top;\n",
       "    }\n",
       "</style>\n",
       "<table border=\"1\" class=\"dataframe\">\n",
       "  <thead>\n",
       "    <tr style=\"text-align: right;\">\n",
       "      <th></th>\n",
       "      <th>snomed_id</th>\n",
       "      <th>snomed_name</th>\n",
       "    </tr>\n",
       "  </thead>\n",
       "  <tbody>\n",
       "    <tr>\n",
       "      <th>1</th>\n",
       "      <td>5379004</td>\n",
       "      <td>Small intestine muscularis propria</td>\n",
       "    </tr>\n",
       "    <tr>\n",
       "      <th>2</th>\n",
       "      <td>60203004</td>\n",
       "      <td>Gingival abrasion with infection</td>\n",
       "    </tr>\n",
       "    <tr>\n",
       "      <th>3</th>\n",
       "      <td>60204005</td>\n",
       "      <td>Cauterization of conjunctival lesion</td>\n",
       "    </tr>\n",
       "    <tr>\n",
       "      <th>4</th>\n",
       "      <td>60205006</td>\n",
       "      <td>Retired procedure</td>\n",
       "    </tr>\n",
       "    <tr>\n",
       "      <th>5</th>\n",
       "      <td>60206007</td>\n",
       "      <td>Cutaneous actinobacillosis of sheep AND/OR cattle</td>\n",
       "    </tr>\n",
       "  </tbody>\n",
       "</table>\n",
       "</div>"
      ],
      "text/plain": [
       "   snomed_id                                        snomed_name\n",
       "1    5379004                 Small intestine muscularis propria\n",
       "2   60203004                   Gingival abrasion with infection\n",
       "3   60204005               Cauterization of conjunctival lesion\n",
       "4   60205006                                  Retired procedure\n",
       "5   60206007  Cutaneous actinobacillosis of sheep AND/OR cattle"
      ]
     },
     "execution_count": 9,
     "metadata": {},
     "output_type": "execute_result"
    }
   ],
   "source": [
    "res.head()"
   ]
  },
  {
   "cell_type": "markdown",
   "metadata": {},
   "source": [
    "## Save to file"
   ]
  },
  {
   "cell_type": "code",
   "execution_count": 10,
   "metadata": {
    "collapsed": true
   },
   "outputs": [],
   "source": [
    "res.to_csv(\"all_snomed_concepts.tsv\", sep='\\t', index=False)"
   ]
  }
 ],
 "metadata": {
  "kernelspec": {
   "display_name": "Python 3",
   "language": "python",
   "name": "python3"
  },
  "language_info": {
   "codemirror_mode": {
    "name": "ipython",
    "version": 3
   },
   "file_extension": ".py",
   "mimetype": "text/x-python",
   "name": "python",
   "nbconvert_exporter": "python",
   "pygments_lexer": "ipython3",
   "version": "3.5.3"
  }
 },
 "nbformat": 4,
 "nbformat_minor": 2
}
