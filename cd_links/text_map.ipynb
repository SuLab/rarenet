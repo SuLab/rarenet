{
 "cells": [
  {
   "cell_type": "markdown",
   "metadata": {},
   "source": [
    "# Missing ICD-10 conversion\n",
    "\n",
    "Map Orphanet diseases with ICD-10 codes (no UMLS CUIs) directly to SNOMED ids through exact string matching on the disease names.\n",
    "\n",
    "#### Notes:\n",
    "\n",
    "SNOMED contains 1.2 million different concepts, which is too many to try to map to the 1200 missing Orphanet diseases through fuzzy string matching (takes ~20 seconds for one disease). MONDO contains cross references to UMLS CUIs for some diseases, but it seems that this data is not in the API. Therefore unless we can find a UMLS and OMIM mapper, we will just do exact string matching."
   ]
  },
  {
   "cell_type": "code",
   "execution_count": 1,
   "metadata": {
    "collapsed": true
   },
   "outputs": [],
   "source": [
    "import pandas as pd"
   ]
  },
  {
   "cell_type": "code",
   "execution_count": 2,
   "metadata": {
    "collapsed": true
   },
   "outputs": [],
   "source": [
    "snomed = (pd\n",
    "    .read_csv(\"all_snomed_concepts.tsv\", sep='\\t')\n",
    "    .assign(snomed_name = lambda df: df[\"snomed_name\"].str.lower())\n",
    ")\n",
    "          \n",
    "dises = (pd\n",
    "    .read_csv(\"need_conv.tsv\", sep='\\t')\n",
    "    .drop_duplicates()\n",
    "    .assign(dise_name = lambda df: df[\"dise_name\"].str.lower())\n",
    ")"
   ]
  },
  {
   "cell_type": "code",
   "execution_count": 3,
   "metadata": {},
   "outputs": [
    {
     "data": {
      "text/plain": [
       "(1499, 2)"
      ]
     },
     "execution_count": 3,
     "metadata": {},
     "output_type": "execute_result"
    }
   ],
   "source": [
    "dises.shape"
   ]
  },
  {
   "cell_type": "markdown",
   "metadata": {},
   "source": [
    "---"
   ]
  },
  {
   "cell_type": "markdown",
   "metadata": {},
   "source": [
    "## Map through exact name matching"
   ]
  },
  {
   "cell_type": "code",
   "execution_count": 4,
   "metadata": {
    "collapsed": true
   },
   "outputs": [],
   "source": [
    "matches = dises.merge(snomed, how=\"inner\", left_on=\"dise_name\", right_on=\"snomed_name\")"
   ]
  },
  {
   "cell_type": "code",
   "execution_count": 5,
   "metadata": {},
   "outputs": [
    {
     "data": {
      "text/plain": [
       "(351, 4)"
      ]
     },
     "execution_count": 5,
     "metadata": {},
     "output_type": "execute_result"
    }
   ],
   "source": [
    "matches.shape"
   ]
  },
  {
   "cell_type": "code",
   "execution_count": 6,
   "metadata": {},
   "outputs": [
    {
     "data": {
      "text/html": [
       "<div>\n",
       "<style>\n",
       "    .dataframe thead tr:only-child th {\n",
       "        text-align: right;\n",
       "    }\n",
       "\n",
       "    .dataframe thead th {\n",
       "        text-align: left;\n",
       "    }\n",
       "\n",
       "    .dataframe tbody tr th {\n",
       "        vertical-align: top;\n",
       "    }\n",
       "</style>\n",
       "<table border=\"1\" class=\"dataframe\">\n",
       "  <thead>\n",
       "    <tr style=\"text-align: right;\">\n",
       "      <th></th>\n",
       "      <th>orphanet_id</th>\n",
       "      <th>dise_name</th>\n",
       "      <th>snomed_id</th>\n",
       "      <th>snomed_name</th>\n",
       "    </tr>\n",
       "  </thead>\n",
       "  <tbody>\n",
       "    <tr>\n",
       "      <th>0</th>\n",
       "      <td>104</td>\n",
       "      <td>leber hereditary optic neuropathy</td>\n",
       "      <td>58610003</td>\n",
       "      <td>leber hereditary optic neuropathy</td>\n",
       "    </tr>\n",
       "    <tr>\n",
       "      <th>1</th>\n",
       "      <td>169090</td>\n",
       "      <td>combined immunodeficiency due to crac channel ...</td>\n",
       "      <td>717811007</td>\n",
       "      <td>combined immunodeficiency due to crac channel ...</td>\n",
       "    </tr>\n",
       "    <tr>\n",
       "      <th>2</th>\n",
       "      <td>168566</td>\n",
       "      <td>fatal mitochondrial disease due to combined ox...</td>\n",
       "      <td>720951008</td>\n",
       "      <td>fatal mitochondrial disease due to combined ox...</td>\n",
       "    </tr>\n",
       "    <tr>\n",
       "      <th>3</th>\n",
       "      <td>1310</td>\n",
       "      <td>caffey disease</td>\n",
       "      <td>24752008</td>\n",
       "      <td>caffey disease</td>\n",
       "    </tr>\n",
       "    <tr>\n",
       "      <th>4</th>\n",
       "      <td>833</td>\n",
       "      <td>encephalopathy due to sulfite oxidase deficiency</td>\n",
       "      <td>715980003</td>\n",
       "      <td>encephalopathy due to sulfite oxidase deficiency</td>\n",
       "    </tr>\n",
       "  </tbody>\n",
       "</table>\n",
       "</div>"
      ],
      "text/plain": [
       "   orphanet_id                                          dise_name  snomed_id  \\\n",
       "0          104                  leber hereditary optic neuropathy   58610003   \n",
       "1       169090  combined immunodeficiency due to crac channel ...  717811007   \n",
       "2       168566  fatal mitochondrial disease due to combined ox...  720951008   \n",
       "3         1310                                     caffey disease   24752008   \n",
       "4          833   encephalopathy due to sulfite oxidase deficiency  715980003   \n",
       "\n",
       "                                         snomed_name  \n",
       "0                  leber hereditary optic neuropathy  \n",
       "1  combined immunodeficiency due to crac channel ...  \n",
       "2  fatal mitochondrial disease due to combined ox...  \n",
       "3                                     caffey disease  \n",
       "4   encephalopathy due to sulfite oxidase deficiency  "
      ]
     },
     "execution_count": 6,
     "metadata": {},
     "output_type": "execute_result"
    }
   ],
   "source": [
    "matches.head()"
   ]
  },
  {
   "cell_type": "code",
   "execution_count": 7,
   "metadata": {},
   "outputs": [
    {
     "data": {
      "text/plain": [
       "276"
      ]
     },
     "execution_count": 7,
     "metadata": {},
     "output_type": "execute_result"
    }
   ],
   "source": [
    "matches[\"orphanet_id\"].nunique()"
   ]
  },
  {
   "cell_type": "markdown",
   "metadata": {},
   "source": [
    "We were able to match 276 unique diseases to SNOMED directly."
   ]
  },
  {
   "cell_type": "markdown",
   "metadata": {},
   "source": [
    "## Save matches to file"
   ]
  },
  {
   "cell_type": "code",
   "execution_count": 8,
   "metadata": {
    "collapsed": true
   },
   "outputs": [],
   "source": [
    "matches[[\"orphanet_id\", \"snomed_id\"]].to_csv(\"orpha_snomed_map.tsv\", sep='\\t', index=False)"
   ]
  }
 ],
 "metadata": {
  "kernelspec": {
   "display_name": "Python 3",
   "language": "python",
   "name": "python3"
  },
  "language_info": {
   "codemirror_mode": {
    "name": "ipython",
    "version": 3
   },
   "file_extension": ".py",
   "mimetype": "text/x-python",
   "name": "python",
   "nbconvert_exporter": "python",
   "pygments_lexer": "ipython3",
   "version": "3.5.3"
  }
 },
 "nbformat": 4,
 "nbformat_minor": 2
}
