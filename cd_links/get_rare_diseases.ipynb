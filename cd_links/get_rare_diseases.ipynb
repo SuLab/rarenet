{
 "cells": [
  {
   "cell_type": "markdown",
   "metadata": {},
   "source": [
    "# Identify rare diseases cataloged by OrphaNet\n",
    "\n",
    "2017-06-06\n",
    "\n",
    "1. Parse OrphaNet to get identifiers of rare diseases\n",
    "2. Parse OrphaNet to identify which rare diseases are genetic in origin\n",
    "\n",
    "## Parse out rare diseases from OrphatNet\n",
    "\n",
    "1. Identify the diseases by OrphaNet id\n",
    "2. Find cross references to other ontologies"
   ]
  },
  {
   "cell_type": "code",
   "execution_count": 1,
   "metadata": {
    "collapsed": true
   },
   "outputs": [],
   "source": [
    "import xml.etree.ElementTree as ET\n",
    "from collections import defaultdict\n",
    "\n",
    "import pandas as pd"
   ]
  },
  {
   "cell_type": "markdown",
   "metadata": {},
   "source": [
    "File was downloaded from Orphanet (http://www.orphadata.org/data/xml/en_product1.xml) and renamed to `rare_disease_list.xml` for simplicity."
   ]
  },
  {
   "cell_type": "code",
   "execution_count": 2,
   "metadata": {
    "collapsed": true
   },
   "outputs": [],
   "source": [
    "tree = ET.parse(\"../data/raw/orphanet/rare_disease_list.xml\")\n",
    "\n",
    "root = tree.getroot()"
   ]
  },
  {
   "cell_type": "code",
   "execution_count": 3,
   "metadata": {
    "collapsed": true
   },
   "outputs": [],
   "source": [
    "res = defaultdict(list)\n",
    "\n",
    "for disease in root.iter(\"Disorder\"):\n",
    "    orpha_id = disease.find(\"OrphaNumber\").text\n",
    "    name = disease.find(\"Name\").text\n",
    "    \n",
    "    for ref in disease.iter(\"ExternalReference\"):\n",
    "        ref_name = ref.find(\"Source\").text\n",
    "        ref_id = ref.find(\"Reference\").text\n",
    "\n",
    "        res[\"orphanet_id\"].append(orpha_id)\n",
    "        res[\"dise_name\"].append(name)\n",
    "        \n",
    "        res[\"ref_name\"].append(ref_name)\n",
    "        res[\"ref_id\"].append(ref_id)\n",
    "    \n",
    "rare = pd.DataFrame(res)"
   ]
  },
  {
   "cell_type": "code",
   "execution_count": 4,
   "metadata": {},
   "outputs": [
    {
     "data": {
      "text/plain": [
       "(21445, 4)"
      ]
     },
     "execution_count": 4,
     "metadata": {},
     "output_type": "execute_result"
    }
   ],
   "source": [
    "rare.shape"
   ]
  },
  {
   "cell_type": "code",
   "execution_count": 5,
   "metadata": {},
   "outputs": [
    {
     "data": {
      "text/html": [
       "<div>\n",
       "<style>\n",
       "    .dataframe thead tr:only-child th {\n",
       "        text-align: right;\n",
       "    }\n",
       "\n",
       "    .dataframe thead th {\n",
       "        text-align: left;\n",
       "    }\n",
       "\n",
       "    .dataframe tbody tr th {\n",
       "        vertical-align: top;\n",
       "    }\n",
       "</style>\n",
       "<table border=\"1\" class=\"dataframe\">\n",
       "  <thead>\n",
       "    <tr style=\"text-align: right;\">\n",
       "      <th></th>\n",
       "      <th>dise_name</th>\n",
       "      <th>orphanet_id</th>\n",
       "      <th>ref_id</th>\n",
       "      <th>ref_name</th>\n",
       "    </tr>\n",
       "  </thead>\n",
       "  <tbody>\n",
       "    <tr>\n",
       "      <th>0</th>\n",
       "      <td>Multiple epiphyseal dysplasia, Al-Gazali type</td>\n",
       "      <td>166024</td>\n",
       "      <td>Q77.3</td>\n",
       "      <td>ICD-10</td>\n",
       "    </tr>\n",
       "    <tr>\n",
       "      <th>1</th>\n",
       "      <td>Multiple epiphyseal dysplasia, Al-Gazali type</td>\n",
       "      <td>166024</td>\n",
       "      <td>607131</td>\n",
       "      <td>OMIM</td>\n",
       "    </tr>\n",
       "    <tr>\n",
       "      <th>2</th>\n",
       "      <td>Multiple epiphyseal dysplasia, with miniepiphyses</td>\n",
       "      <td>166032</td>\n",
       "      <td>Q77.3</td>\n",
       "      <td>ICD-10</td>\n",
       "    </tr>\n",
       "    <tr>\n",
       "      <th>3</th>\n",
       "      <td>Multiple epiphyseal dysplasia, with miniepiphyses</td>\n",
       "      <td>166032</td>\n",
       "      <td>609325</td>\n",
       "      <td>OMIM</td>\n",
       "    </tr>\n",
       "    <tr>\n",
       "      <th>4</th>\n",
       "      <td>Alexander disease</td>\n",
       "      <td>58</td>\n",
       "      <td>203450</td>\n",
       "      <td>OMIM</td>\n",
       "    </tr>\n",
       "  </tbody>\n",
       "</table>\n",
       "</div>"
      ],
      "text/plain": [
       "                                           dise_name orphanet_id  ref_id  \\\n",
       "0      Multiple epiphyseal dysplasia, Al-Gazali type      166024   Q77.3   \n",
       "1      Multiple epiphyseal dysplasia, Al-Gazali type      166024  607131   \n",
       "2  Multiple epiphyseal dysplasia, with miniepiphyses      166032   Q77.3   \n",
       "3  Multiple epiphyseal dysplasia, with miniepiphyses      166032  609325   \n",
       "4                                  Alexander disease          58  203450   \n",
       "\n",
       "  ref_name  \n",
       "0   ICD-10  \n",
       "1     OMIM  \n",
       "2   ICD-10  \n",
       "3     OMIM  \n",
       "4     OMIM  "
      ]
     },
     "execution_count": 5,
     "metadata": {},
     "output_type": "execute_result"
    }
   ],
   "source": [
    "rare.head()"
   ]
  },
  {
   "cell_type": "markdown",
   "metadata": {
    "collapsed": true
   },
   "source": [
    "---"
   ]
  },
  {
   "cell_type": "markdown",
   "metadata": {},
   "source": [
    "### Which are the most common cross references?"
   ]
  },
  {
   "cell_type": "code",
   "execution_count": 6,
   "metadata": {},
   "outputs": [
    {
     "data": {
      "text/plain": [
       "ref_name\n",
       "ICD-10    7076\n",
       "OMIM      4381\n",
       "UMLS      2879\n",
       "MeSH      1760\n",
       "MedDRA    1166\n",
       "Name: orphanet_id, dtype: int64"
      ]
     },
     "execution_count": 6,
     "metadata": {},
     "output_type": "execute_result"
    }
   ],
   "source": [
    "rare.groupby(\"ref_name\")[\"orphanet_id\"].nunique().sort_values(ascending=False)"
   ]
  },
  {
   "cell_type": "markdown",
   "metadata": {},
   "source": [
    "OrphaNet seems to be most uniquely identified by ICD-10 codes."
   ]
  },
  {
   "cell_type": "markdown",
   "metadata": {},
   "source": [
    "### Are ICD-10 codes uniquely assigned to OrphaNet rare diseases?"
   ]
  },
  {
   "cell_type": "code",
   "execution_count": 7,
   "metadata": {},
   "outputs": [
    {
     "data": {
      "text/plain": [
       "1     6700\n",
       "2      140\n",
       "3       55\n",
       "5       49\n",
       "4       46\n",
       "6       23\n",
       "7       19\n",
       "8       18\n",
       "10      16\n",
       "9        6\n",
       "11       1\n",
       "22       1\n",
       "17       1\n",
       "13       1\n",
       "dtype: int64"
      ]
     },
     "execution_count": 7,
     "metadata": {},
     "output_type": "execute_result"
    }
   ],
   "source": [
    "rare.query(\"ref_name == 'ICD-10'\").groupby(\"orphanet_id\").size().value_counts()"
   ]
  },
  {
   "cell_type": "markdown",
   "metadata": {},
   "source": [
    "Most rare diseases are uniquely mapped to ICD-10, but some have one-to-many relationships."
   ]
  },
  {
   "cell_type": "markdown",
   "metadata": {},
   "source": [
    "---"
   ]
  },
  {
   "cell_type": "markdown",
   "metadata": {},
   "source": [
    "## Determine which rare diseases are genetic in origin\n",
    "\n",
    "Original file was downloaded from http://www.orphadata.org/data/xml/en_product3_156.xml. File was renamed to `rare_genetic_dises.xml` for simplicity."
   ]
  },
  {
   "cell_type": "code",
   "execution_count": 8,
   "metadata": {
    "collapsed": true
   },
   "outputs": [],
   "source": [
    "tree = ET.parse(\"../data/raw/orphanet/rare_genetic_dises.xml\")\n",
    "\n",
    "root = tree.getroot()"
   ]
  },
  {
   "cell_type": "markdown",
   "metadata": {},
   "source": [
    "Looks like this file gives a hierarchy of classifications, which is not at this moment particularly important. We just want to know if the disease is genetic in origin (and not something like a rare infectious disease)."
   ]
  },
  {
   "cell_type": "code",
   "execution_count": 9,
   "metadata": {
    "collapsed": true
   },
   "outputs": [],
   "source": [
    "res = defaultdict(list)\n",
    "\n",
    "for disease in root.iter(\"Disorder\"):\n",
    "    orpha_id = disease.find(\"OrphaNumber\").text\n",
    "    name = disease.find(\"Name\").text\n",
    "    \n",
    "    res[\"orphanet_id\"].append(orpha_id)\n",
    "    res[\"dise_name\"].append(name)\n",
    "    \n",
    "genetic = (pd\n",
    "    .DataFrame(res)\n",
    "    .assign(dise_type = \"rare_genetic\")\n",
    "    .drop_duplicates()\n",
    ")"
   ]
  },
  {
   "cell_type": "code",
   "execution_count": 10,
   "metadata": {},
   "outputs": [
    {
     "data": {
      "text/plain": [
       "(6490, 3)"
      ]
     },
     "execution_count": 10,
     "metadata": {},
     "output_type": "execute_result"
    }
   ],
   "source": [
    "genetic.shape"
   ]
  },
  {
   "cell_type": "code",
   "execution_count": 11,
   "metadata": {},
   "outputs": [
    {
     "data": {
      "text/html": [
       "<div>\n",
       "<style>\n",
       "    .dataframe thead tr:only-child th {\n",
       "        text-align: right;\n",
       "    }\n",
       "\n",
       "    .dataframe thead th {\n",
       "        text-align: left;\n",
       "    }\n",
       "\n",
       "    .dataframe tbody tr th {\n",
       "        vertical-align: top;\n",
       "    }\n",
       "</style>\n",
       "<table border=\"1\" class=\"dataframe\">\n",
       "  <thead>\n",
       "    <tr style=\"text-align: right;\">\n",
       "      <th></th>\n",
       "      <th>dise_name</th>\n",
       "      <th>orphanet_id</th>\n",
       "      <th>dise_type</th>\n",
       "    </tr>\n",
       "  </thead>\n",
       "  <tbody>\n",
       "    <tr>\n",
       "      <th>0</th>\n",
       "      <td>Rare genetic disease</td>\n",
       "      <td>98053</td>\n",
       "      <td>rare_genetic</td>\n",
       "    </tr>\n",
       "    <tr>\n",
       "      <th>1</th>\n",
       "      <td>Biological anomaly without phenotypic characte...</td>\n",
       "      <td>447874</td>\n",
       "      <td>rare_genetic</td>\n",
       "    </tr>\n",
       "    <tr>\n",
       "      <th>2</th>\n",
       "      <td>Congenital deficiency in alpha-fetoprotein</td>\n",
       "      <td>168612</td>\n",
       "      <td>rare_genetic</td>\n",
       "    </tr>\n",
       "    <tr>\n",
       "      <th>3</th>\n",
       "      <td>Hereditary persistence of alpha-fetoprotein</td>\n",
       "      <td>168615</td>\n",
       "      <td>rare_genetic</td>\n",
       "    </tr>\n",
       "    <tr>\n",
       "      <th>4</th>\n",
       "      <td>Genetic hyperferritinemia without iron overload</td>\n",
       "      <td>254704</td>\n",
       "      <td>rare_genetic</td>\n",
       "    </tr>\n",
       "  </tbody>\n",
       "</table>\n",
       "</div>"
      ],
      "text/plain": [
       "                                           dise_name orphanet_id     dise_type\n",
       "0                               Rare genetic disease       98053  rare_genetic\n",
       "1  Biological anomaly without phenotypic characte...      447874  rare_genetic\n",
       "2         Congenital deficiency in alpha-fetoprotein      168612  rare_genetic\n",
       "3        Hereditary persistence of alpha-fetoprotein      168615  rare_genetic\n",
       "4    Genetic hyperferritinemia without iron overload      254704  rare_genetic"
      ]
     },
     "execution_count": 11,
     "metadata": {},
     "output_type": "execute_result"
    }
   ],
   "source": [
    "genetic.head()"
   ]
  },
  {
   "cell_type": "markdown",
   "metadata": {},
   "source": [
    "---"
   ]
  },
  {
   "cell_type": "markdown",
   "metadata": {},
   "source": [
    "## Annotate which rare diseases are genetic"
   ]
  },
  {
   "cell_type": "code",
   "execution_count": 12,
   "metadata": {
    "collapsed": true
   },
   "outputs": [],
   "source": [
    "res = (rare\n",
    "    .merge(\n",
    "        genetic.drop(\"dise_name\", axis=1),\n",
    "        how=\"left\", on=\"orphanet_id\"\n",
    "    )\n",
    "    .fillna(\"not_genetic\")\n",
    ")"
   ]
  },
  {
   "cell_type": "code",
   "execution_count": 13,
   "metadata": {},
   "outputs": [
    {
     "data": {
      "text/plain": [
       "(21445, 5)"
      ]
     },
     "execution_count": 13,
     "metadata": {},
     "output_type": "execute_result"
    }
   ],
   "source": [
    "res.shape"
   ]
  },
  {
   "cell_type": "code",
   "execution_count": 14,
   "metadata": {},
   "outputs": [
    {
     "data": {
      "text/html": [
       "<div>\n",
       "<style>\n",
       "    .dataframe thead tr:only-child th {\n",
       "        text-align: right;\n",
       "    }\n",
       "\n",
       "    .dataframe thead th {\n",
       "        text-align: left;\n",
       "    }\n",
       "\n",
       "    .dataframe tbody tr th {\n",
       "        vertical-align: top;\n",
       "    }\n",
       "</style>\n",
       "<table border=\"1\" class=\"dataframe\">\n",
       "  <thead>\n",
       "    <tr style=\"text-align: right;\">\n",
       "      <th></th>\n",
       "      <th>dise_name</th>\n",
       "      <th>orphanet_id</th>\n",
       "      <th>ref_id</th>\n",
       "      <th>ref_name</th>\n",
       "      <th>dise_type</th>\n",
       "    </tr>\n",
       "  </thead>\n",
       "  <tbody>\n",
       "    <tr>\n",
       "      <th>0</th>\n",
       "      <td>Multiple epiphyseal dysplasia, Al-Gazali type</td>\n",
       "      <td>166024</td>\n",
       "      <td>Q77.3</td>\n",
       "      <td>ICD-10</td>\n",
       "      <td>rare_genetic</td>\n",
       "    </tr>\n",
       "    <tr>\n",
       "      <th>1</th>\n",
       "      <td>Multiple epiphyseal dysplasia, Al-Gazali type</td>\n",
       "      <td>166024</td>\n",
       "      <td>607131</td>\n",
       "      <td>OMIM</td>\n",
       "      <td>rare_genetic</td>\n",
       "    </tr>\n",
       "    <tr>\n",
       "      <th>2</th>\n",
       "      <td>Multiple epiphyseal dysplasia, with miniepiphyses</td>\n",
       "      <td>166032</td>\n",
       "      <td>Q77.3</td>\n",
       "      <td>ICD-10</td>\n",
       "      <td>rare_genetic</td>\n",
       "    </tr>\n",
       "    <tr>\n",
       "      <th>3</th>\n",
       "      <td>Multiple epiphyseal dysplasia, with miniepiphyses</td>\n",
       "      <td>166032</td>\n",
       "      <td>609325</td>\n",
       "      <td>OMIM</td>\n",
       "      <td>rare_genetic</td>\n",
       "    </tr>\n",
       "    <tr>\n",
       "      <th>4</th>\n",
       "      <td>Alexander disease</td>\n",
       "      <td>58</td>\n",
       "      <td>203450</td>\n",
       "      <td>OMIM</td>\n",
       "      <td>rare_genetic</td>\n",
       "    </tr>\n",
       "  </tbody>\n",
       "</table>\n",
       "</div>"
      ],
      "text/plain": [
       "                                           dise_name orphanet_id  ref_id  \\\n",
       "0      Multiple epiphyseal dysplasia, Al-Gazali type      166024   Q77.3   \n",
       "1      Multiple epiphyseal dysplasia, Al-Gazali type      166024  607131   \n",
       "2  Multiple epiphyseal dysplasia, with miniepiphyses      166032   Q77.3   \n",
       "3  Multiple epiphyseal dysplasia, with miniepiphyses      166032  609325   \n",
       "4                                  Alexander disease          58  203450   \n",
       "\n",
       "  ref_name     dise_type  \n",
       "0   ICD-10  rare_genetic  \n",
       "1     OMIM  rare_genetic  \n",
       "2   ICD-10  rare_genetic  \n",
       "3     OMIM  rare_genetic  \n",
       "4     OMIM  rare_genetic  "
      ]
     },
     "execution_count": 14,
     "metadata": {},
     "output_type": "execute_result"
    }
   ],
   "source": [
    "res.head()"
   ]
  },
  {
   "cell_type": "code",
   "execution_count": 15,
   "metadata": {},
   "outputs": [
    {
     "data": {
      "text/plain": [
       "dise_type\n",
       "not_genetic     2142\n",
       "rare_genetic    5620\n",
       "Name: orphanet_id, dtype: int64"
      ]
     },
     "execution_count": 15,
     "metadata": {},
     "output_type": "execute_result"
    }
   ],
   "source": [
    "res.groupby(\"dise_type\")[\"orphanet_id\"].nunique()"
   ]
  },
  {
   "cell_type": "markdown",
   "metadata": {},
   "source": [
    "---"
   ]
  },
  {
   "cell_type": "markdown",
   "metadata": {},
   "source": [
    "## Output results to file"
   ]
  },
  {
   "cell_type": "code",
   "execution_count": 16,
   "metadata": {
    "collapsed": true
   },
   "outputs": [],
   "source": [
    "res.to_csv(\"data/rare_disease_info.tsv\", sep='\\t', index=False)"
   ]
  }
 ],
 "metadata": {
  "kernelspec": {
   "display_name": "Python 3",
   "language": "python",
   "name": "python3"
  },
  "language_info": {
   "codemirror_mode": {
    "name": "ipython",
    "version": 3
   },
   "file_extension": ".py",
   "mimetype": "text/x-python",
   "name": "python",
   "nbconvert_exporter": "python",
   "pygments_lexer": "ipython3",
   "version": "3.5.3"
  }
 },
 "nbformat": 4,
 "nbformat_minor": 2
}
