{
 "cells": [
  {
   "cell_type": "markdown",
   "metadata": {},
   "source": [
    "# Format DrugCentral indications for rare diseases"
   ]
  },
  {
   "cell_type": "code",
   "execution_count": 1,
   "metadata": {
    "collapsed": true
   },
   "outputs": [],
   "source": [
    "import pandas as pd\n",
    "import numpy as np"
   ]
  },
  {
   "cell_type": "markdown",
   "metadata": {},
   "source": [
    "## Read rare disease data"
   ]
  },
  {
   "cell_type": "code",
   "execution_count": 3,
   "metadata": {},
   "outputs": [],
   "source": [
    "rare_dises = pd.read_csv(\"data/rare_disease_info.tsv\", sep='\\t')"
   ]
  },
  {
   "cell_type": "code",
   "execution_count": 4,
   "metadata": {},
   "outputs": [
    {
     "data": {
      "text/html": [
       "<div>\n",
       "<style>\n",
       "    .dataframe thead tr:only-child th {\n",
       "        text-align: right;\n",
       "    }\n",
       "\n",
       "    .dataframe thead th {\n",
       "        text-align: left;\n",
       "    }\n",
       "\n",
       "    .dataframe tbody tr th {\n",
       "        vertical-align: top;\n",
       "    }\n",
       "</style>\n",
       "<table border=\"1\" class=\"dataframe\">\n",
       "  <thead>\n",
       "    <tr style=\"text-align: right;\">\n",
       "      <th></th>\n",
       "      <th>dise_name</th>\n",
       "      <th>orphanet_id</th>\n",
       "      <th>ref_id</th>\n",
       "      <th>ref_name</th>\n",
       "      <th>dise_type</th>\n",
       "    </tr>\n",
       "  </thead>\n",
       "  <tbody>\n",
       "    <tr>\n",
       "      <th>0</th>\n",
       "      <td>Multiple epiphyseal dysplasia, Al-Gazali type</td>\n",
       "      <td>166024</td>\n",
       "      <td>Q77.3</td>\n",
       "      <td>ICD-10</td>\n",
       "      <td>rare_genetic</td>\n",
       "    </tr>\n",
       "    <tr>\n",
       "      <th>1</th>\n",
       "      <td>Multiple epiphyseal dysplasia, Al-Gazali type</td>\n",
       "      <td>166024</td>\n",
       "      <td>607131</td>\n",
       "      <td>OMIM</td>\n",
       "      <td>rare_genetic</td>\n",
       "    </tr>\n",
       "  </tbody>\n",
       "</table>\n",
       "</div>"
      ],
      "text/plain": [
       "                                       dise_name  orphanet_id  ref_id  \\\n",
       "0  Multiple epiphyseal dysplasia, Al-Gazali type       166024   Q77.3   \n",
       "1  Multiple epiphyseal dysplasia, Al-Gazali type       166024  607131   \n",
       "\n",
       "  ref_name     dise_type  \n",
       "0   ICD-10  rare_genetic  \n",
       "1     OMIM  rare_genetic  "
      ]
     },
     "execution_count": 4,
     "metadata": {},
     "output_type": "execute_result"
    }
   ],
   "source": [
    "rare_dises.head(2)"
   ]
  },
  {
   "cell_type": "markdown",
   "metadata": {},
   "source": [
    "## Read indications"
   ]
  },
  {
   "cell_type": "code",
   "execution_count": 5,
   "metadata": {},
   "outputs": [
    {
     "name": "stdout",
     "output_type": "stream",
     "text": [
      "10254\n"
     ]
    }
   ],
   "source": [
    "inds = (pd\n",
    "    .read_csv(\"data/simple_indications.tsv\", sep='\\t')\n",
    "    .query(\"relationship_name != 'contraindication'\")\n",
    ")\n",
    "\n",
    "print(len(inds))"
   ]
  },
  {
   "cell_type": "code",
   "execution_count": 6,
   "metadata": {},
   "outputs": [
    {
     "data": {
      "text/html": [
       "<div>\n",
       "<style>\n",
       "    .dataframe thead tr:only-child th {\n",
       "        text-align: right;\n",
       "    }\n",
       "\n",
       "    .dataframe thead th {\n",
       "        text-align: left;\n",
       "    }\n",
       "\n",
       "    .dataframe tbody tr th {\n",
       "        vertical-align: top;\n",
       "    }\n",
       "</style>\n",
       "<table border=\"1\" class=\"dataframe\">\n",
       "  <thead>\n",
       "    <tr style=\"text-align: right;\">\n",
       "      <th></th>\n",
       "      <th>struct_id</th>\n",
       "      <th>relationship_name</th>\n",
       "      <th>disease_name</th>\n",
       "      <th>umls_cui</th>\n",
       "      <th>snomed_conceptid</th>\n",
       "    </tr>\n",
       "  </thead>\n",
       "  <tbody>\n",
       "    <tr>\n",
       "      <th>0</th>\n",
       "      <td>1253</td>\n",
       "      <td>indication</td>\n",
       "      <td>Tuberculosis</td>\n",
       "      <td>C0041296</td>\n",
       "      <td>56717001</td>\n",
       "    </tr>\n",
       "    <tr>\n",
       "      <th>1</th>\n",
       "      <td>5203</td>\n",
       "      <td>indication</td>\n",
       "      <td>Malignant tumor of ovary</td>\n",
       "      <td>C1140680</td>\n",
       "      <td>363443007</td>\n",
       "    </tr>\n",
       "  </tbody>\n",
       "</table>\n",
       "</div>"
      ],
      "text/plain": [
       "   struct_id relationship_name              disease_name  umls_cui  \\\n",
       "0       1253        indication              Tuberculosis  C0041296   \n",
       "1       5203        indication  Malignant tumor of ovary  C1140680   \n",
       "\n",
       "   snomed_conceptid  \n",
       "0          56717001  \n",
       "1         363443007  "
      ]
     },
     "execution_count": 6,
     "metadata": {},
     "output_type": "execute_result"
    }
   ],
   "source": [
    "inds.head(2)"
   ]
  },
  {
   "cell_type": "markdown",
   "metadata": {},
   "source": [
    "---"
   ]
  },
  {
   "cell_type": "markdown",
   "metadata": {},
   "source": [
    "## Rare disease identifier conversion\n",
    "\n",
    "Rare diseases are best identified by ICD-10 ids. However, the diseases in the DrugCentral indications are in UMLS and SNOMED namespace.\n",
    "\n",
    "We will try to use ICD-10 (to SNOMED), UMLS, and OMIM ids to try and map the rare diseases to diseases in the indications file."
   ]
  },
  {
   "cell_type": "code",
   "execution_count": 7,
   "metadata": {},
   "outputs": [
    {
     "data": {
      "text/plain": [
       "7762"
      ]
     },
     "execution_count": 7,
     "metadata": {},
     "output_type": "execute_result"
    }
   ],
   "source": [
    "rare_dises[\"orphanet_id\"].nunique()"
   ]
  },
  {
   "cell_type": "code",
   "execution_count": 8,
   "metadata": {},
   "outputs": [
    {
     "data": {
      "text/plain": [
       "ref_name\n",
       "ICD-10    7076\n",
       "OMIM      4381\n",
       "UMLS      2879\n",
       "MeSH      1760\n",
       "MedDRA    1166\n",
       "Name: orphanet_id, dtype: int64"
      ]
     },
     "execution_count": 8,
     "metadata": {},
     "output_type": "execute_result"
    }
   ],
   "source": [
    "rare_dises.groupby(\"ref_name\")[\"orphanet_id\"].nunique().sort_values(ascending=False)"
   ]
  },
  {
   "cell_type": "markdown",
   "metadata": {},
   "source": [
    "## Convert rare diseases to snomed\n",
    "\n",
    "Rare OrphaNet diseases are best referenced by ICD-10. We will use UMLS if ICD-10 ids don't exist."
   ]
  },
  {
   "cell_type": "code",
   "execution_count": 8,
   "metadata": {
    "collapsed": true
   },
   "outputs": [],
   "source": [
    "rare_dises = rare_dises.query(\"ref_name in('OMIM', 'UMLS', 'ICD-10')\")"
   ]
  },
  {
   "cell_type": "code",
   "execution_count": 9,
   "metadata": {},
   "outputs": [
    {
     "data": {
      "text/plain": [
       "7755"
      ]
     },
     "execution_count": 9,
     "metadata": {},
     "output_type": "execute_result"
    }
   ],
   "source": [
    "rare_dises[\"orphanet_id\"].nunique()"
   ]
  },
  {
   "cell_type": "markdown",
   "metadata": {},
   "source": [
    "Using a combination of the three id types allows us almost perfect coverage of the rare diseases."
   ]
  },
  {
   "cell_type": "markdown",
   "metadata": {},
   "source": [
    "### Orphanet to UMLS map"
   ]
  },
  {
   "cell_type": "code",
   "execution_count": 10,
   "metadata": {
    "collapsed": true
   },
   "outputs": [],
   "source": [
    "# orphanet to umls map\n",
    "# one umls cui may have multiple orphanet ids\n",
    "\n",
    "umls_map = (rare_dises\n",
    "    .query(\"ref_name == 'UMLS'\")\n",
    "    [[\"orphanet_id\", \"ref_id\"]]\n",
    "    .rename(columns={\"ref_id\": \"umls_cui\"})\n",
    ")"
   ]
  },
  {
   "cell_type": "code",
   "execution_count": 11,
   "metadata": {},
   "outputs": [
    {
     "data": {
      "text/html": [
       "<div>\n",
       "<style>\n",
       "    .dataframe thead tr:only-child th {\n",
       "        text-align: right;\n",
       "    }\n",
       "\n",
       "    .dataframe thead th {\n",
       "        text-align: left;\n",
       "    }\n",
       "\n",
       "    .dataframe tbody tr th {\n",
       "        vertical-align: top;\n",
       "    }\n",
       "</style>\n",
       "<table border=\"1\" class=\"dataframe\">\n",
       "  <thead>\n",
       "    <tr style=\"text-align: right;\">\n",
       "      <th></th>\n",
       "      <th>orphanet_id</th>\n",
       "      <th>umls_cui</th>\n",
       "    </tr>\n",
       "  </thead>\n",
       "  <tbody>\n",
       "    <tr>\n",
       "      <th>6</th>\n",
       "      <td>58</td>\n",
       "      <td>C0270726</td>\n",
       "    </tr>\n",
       "    <tr>\n",
       "      <th>12</th>\n",
       "      <td>61</td>\n",
       "      <td>C0024748</td>\n",
       "    </tr>\n",
       "  </tbody>\n",
       "</table>\n",
       "</div>"
      ],
      "text/plain": [
       "    orphanet_id  umls_cui\n",
       "6            58  C0270726\n",
       "12           61  C0024748"
      ]
     },
     "execution_count": 11,
     "metadata": {},
     "output_type": "execute_result"
    }
   ],
   "source": [
    "umls_map.head(2)"
   ]
  },
  {
   "cell_type": "markdown",
   "metadata": {},
   "source": [
    "## Orphanet to OMIM map"
   ]
  },
  {
   "cell_type": "code",
   "execution_count": 12,
   "metadata": {
    "collapsed": true
   },
   "outputs": [],
   "source": [
    "omim_map = (rare_dises\n",
    "    .query(\"ref_name == 'OMIM'\")\n",
    "    [[\"orphanet_id\", \"ref_id\"]]\n",
    "    .rename(columns={\"ref_id\": \"omim_id\"})\n",
    "    .astype({\"omim_id\": np.int64})\n",
    ")"
   ]
  },
  {
   "cell_type": "code",
   "execution_count": 13,
   "metadata": {},
   "outputs": [
    {
     "data": {
      "text/html": [
       "<div>\n",
       "<style>\n",
       "    .dataframe thead tr:only-child th {\n",
       "        text-align: right;\n",
       "    }\n",
       "\n",
       "    .dataframe thead th {\n",
       "        text-align: left;\n",
       "    }\n",
       "\n",
       "    .dataframe tbody tr th {\n",
       "        vertical-align: top;\n",
       "    }\n",
       "</style>\n",
       "<table border=\"1\" class=\"dataframe\">\n",
       "  <thead>\n",
       "    <tr style=\"text-align: right;\">\n",
       "      <th></th>\n",
       "      <th>orphanet_id</th>\n",
       "      <th>omim_id</th>\n",
       "    </tr>\n",
       "  </thead>\n",
       "  <tbody>\n",
       "    <tr>\n",
       "      <th>1</th>\n",
       "      <td>166024</td>\n",
       "      <td>607131</td>\n",
       "    </tr>\n",
       "    <tr>\n",
       "      <th>3</th>\n",
       "      <td>166032</td>\n",
       "      <td>609325</td>\n",
       "    </tr>\n",
       "  </tbody>\n",
       "</table>\n",
       "</div>"
      ],
      "text/plain": [
       "   orphanet_id  omim_id\n",
       "1       166024   607131\n",
       "3       166032   609325"
      ]
     },
     "execution_count": 13,
     "metadata": {},
     "output_type": "execute_result"
    }
   ],
   "source": [
    "omim_map.head(2)"
   ]
  },
  {
   "cell_type": "markdown",
   "metadata": {},
   "source": [
    "## Orphanet to ICD-10 to SNOMED map"
   ]
  },
  {
   "cell_type": "code",
   "execution_count": 14,
   "metadata": {
    "collapsed": true
   },
   "outputs": [],
   "source": [
    "rare_icd = (rare_dises\n",
    "    .query(\"ref_name == 'ICD-10'\")\n",
    "    [[\"dise_name\", \"orphanet_id\", \"ref_id\"]]\n",
    "    .rename(columns={\"ref_id\": \"icd_id\"})\n",
    ")"
   ]
  },
  {
   "cell_type": "code",
   "execution_count": 15,
   "metadata": {},
   "outputs": [
    {
     "data": {
      "text/html": [
       "<div>\n",
       "<style>\n",
       "    .dataframe thead tr:only-child th {\n",
       "        text-align: right;\n",
       "    }\n",
       "\n",
       "    .dataframe thead th {\n",
       "        text-align: left;\n",
       "    }\n",
       "\n",
       "    .dataframe tbody tr th {\n",
       "        vertical-align: top;\n",
       "    }\n",
       "</style>\n",
       "<table border=\"1\" class=\"dataframe\">\n",
       "  <thead>\n",
       "    <tr style=\"text-align: right;\">\n",
       "      <th></th>\n",
       "      <th>dise_name</th>\n",
       "      <th>orphanet_id</th>\n",
       "      <th>icd_id</th>\n",
       "    </tr>\n",
       "  </thead>\n",
       "  <tbody>\n",
       "    <tr>\n",
       "      <th>0</th>\n",
       "      <td>Multiple epiphyseal dysplasia, Al-Gazali type</td>\n",
       "      <td>166024</td>\n",
       "      <td>Q77.3</td>\n",
       "    </tr>\n",
       "    <tr>\n",
       "      <th>2</th>\n",
       "      <td>Multiple epiphyseal dysplasia, with miniepiphyses</td>\n",
       "      <td>166032</td>\n",
       "      <td>Q77.3</td>\n",
       "    </tr>\n",
       "  </tbody>\n",
       "</table>\n",
       "</div>"
      ],
      "text/plain": [
       "                                           dise_name  orphanet_id icd_id\n",
       "0      Multiple epiphyseal dysplasia, Al-Gazali type       166024  Q77.3\n",
       "2  Multiple epiphyseal dysplasia, with miniepiphyses       166032  Q77.3"
      ]
     },
     "execution_count": 15,
     "metadata": {},
     "output_type": "execute_result"
    }
   ],
   "source": [
    "rare_icd.head(2)"
   ]
  },
  {
   "cell_type": "markdown",
   "metadata": {},
   "source": [
    "### Convert ICD-10 to SNOMED"
   ]
  },
  {
   "cell_type": "code",
   "execution_count": 16,
   "metadata": {
    "collapsed": true
   },
   "outputs": [],
   "source": [
    "mapping = pd.read_csv(\"snomed_icd_map.tsv\", sep='\\t')"
   ]
  },
  {
   "cell_type": "code",
   "execution_count": 17,
   "metadata": {},
   "outputs": [
    {
     "data": {
      "text/html": [
       "<div>\n",
       "<style>\n",
       "    .dataframe thead tr:only-child th {\n",
       "        text-align: right;\n",
       "    }\n",
       "\n",
       "    .dataframe thead th {\n",
       "        text-align: left;\n",
       "    }\n",
       "\n",
       "    .dataframe tbody tr th {\n",
       "        vertical-align: top;\n",
       "    }\n",
       "</style>\n",
       "<table border=\"1\" class=\"dataframe\">\n",
       "  <thead>\n",
       "    <tr style=\"text-align: right;\">\n",
       "      <th></th>\n",
       "      <th>snomed_id</th>\n",
       "      <th>snomed_name</th>\n",
       "      <th>icd_id</th>\n",
       "      <th>icd_name</th>\n",
       "    </tr>\n",
       "  </thead>\n",
       "  <tbody>\n",
       "    <tr>\n",
       "      <th>0</th>\n",
       "      <td>109006</td>\n",
       "      <td>Anxiety disorder of childhood OR adolescence (...</td>\n",
       "      <td>F93.0</td>\n",
       "      <td>Separation anxiety disorder of childhood</td>\n",
       "    </tr>\n",
       "    <tr>\n",
       "      <th>1</th>\n",
       "      <td>109006</td>\n",
       "      <td>Anxiety disorder of childhood OR adolescence (...</td>\n",
       "      <td>F40.8</td>\n",
       "      <td>Other phobic anxiety disorders</td>\n",
       "    </tr>\n",
       "  </tbody>\n",
       "</table>\n",
       "</div>"
      ],
      "text/plain": [
       "   snomed_id                                        snomed_name icd_id  \\\n",
       "0     109006  Anxiety disorder of childhood OR adolescence (...  F93.0   \n",
       "1     109006  Anxiety disorder of childhood OR adolescence (...  F40.8   \n",
       "\n",
       "                                   icd_name  \n",
       "0  Separation anxiety disorder of childhood  \n",
       "1            Other phobic anxiety disorders  "
      ]
     },
     "execution_count": 17,
     "metadata": {},
     "output_type": "execute_result"
    }
   ],
   "source": [
    "mapping.head(2)"
   ]
  },
  {
   "cell_type": "code",
   "execution_count": 18,
   "metadata": {
    "collapsed": true
   },
   "outputs": [],
   "source": [
    "rare_sno = rare_icd.merge(mapping[[\"snomed_id\", \"icd_id\"]], how=\"left\", on=\"icd_id\")"
   ]
  },
  {
   "cell_type": "code",
   "execution_count": 19,
   "metadata": {},
   "outputs": [
    {
     "data": {
      "text/html": [
       "<div>\n",
       "<style>\n",
       "    .dataframe thead tr:only-child th {\n",
       "        text-align: right;\n",
       "    }\n",
       "\n",
       "    .dataframe thead th {\n",
       "        text-align: left;\n",
       "    }\n",
       "\n",
       "    .dataframe tbody tr th {\n",
       "        vertical-align: top;\n",
       "    }\n",
       "</style>\n",
       "<table border=\"1\" class=\"dataframe\">\n",
       "  <thead>\n",
       "    <tr style=\"text-align: right;\">\n",
       "      <th></th>\n",
       "      <th>dise_name</th>\n",
       "      <th>orphanet_id</th>\n",
       "      <th>icd_id</th>\n",
       "      <th>snomed_id</th>\n",
       "    </tr>\n",
       "  </thead>\n",
       "  <tbody>\n",
       "    <tr>\n",
       "      <th>0</th>\n",
       "      <td>Multiple epiphyseal dysplasia, Al-Gazali type</td>\n",
       "      <td>166024</td>\n",
       "      <td>Q77.3</td>\n",
       "      <td>76556008.0</td>\n",
       "    </tr>\n",
       "    <tr>\n",
       "      <th>1</th>\n",
       "      <td>Multiple epiphyseal dysplasia, Al-Gazali type</td>\n",
       "      <td>166024</td>\n",
       "      <td>Q77.3</td>\n",
       "      <td>205465004.0</td>\n",
       "    </tr>\n",
       "  </tbody>\n",
       "</table>\n",
       "</div>"
      ],
      "text/plain": [
       "                                       dise_name  orphanet_id icd_id  \\\n",
       "0  Multiple epiphyseal dysplasia, Al-Gazali type       166024  Q77.3   \n",
       "1  Multiple epiphyseal dysplasia, Al-Gazali type       166024  Q77.3   \n",
       "\n",
       "     snomed_id  \n",
       "0   76556008.0  \n",
       "1  205465004.0  "
      ]
     },
     "execution_count": 19,
     "metadata": {},
     "output_type": "execute_result"
    }
   ],
   "source": [
    "rare_sno.head(2)"
   ]
  },
  {
   "cell_type": "code",
   "execution_count": null,
   "metadata": {
    "collapsed": true
   },
   "outputs": [],
   "source": []
  },
  {
   "cell_type": "code",
   "execution_count": null,
   "metadata": {
    "collapsed": true
   },
   "outputs": [],
   "source": []
  },
  {
   "cell_type": "code",
   "execution_count": null,
   "metadata": {
    "collapsed": true
   },
   "outputs": [],
   "source": []
  },
  {
   "cell_type": "code",
   "execution_count": 39,
   "metadata": {},
   "outputs": [
    {
     "data": {
      "text/html": [
       "<div>\n",
       "<style>\n",
       "    .dataframe thead tr:only-child th {\n",
       "        text-align: right;\n",
       "    }\n",
       "\n",
       "    .dataframe thead th {\n",
       "        text-align: left;\n",
       "    }\n",
       "\n",
       "    .dataframe tbody tr th {\n",
       "        vertical-align: top;\n",
       "    }\n",
       "</style>\n",
       "<table border=\"1\" class=\"dataframe\">\n",
       "  <thead>\n",
       "    <tr style=\"text-align: right;\">\n",
       "      <th></th>\n",
       "      <th>snomed_id</th>\n",
       "      <th>snomed_name</th>\n",
       "      <th>icd_id</th>\n",
       "      <th>icd_name</th>\n",
       "    </tr>\n",
       "  </thead>\n",
       "  <tbody>\n",
       "    <tr>\n",
       "      <th>74476</th>\n",
       "      <td>237075006</td>\n",
       "      <td>Incarceration of uterus (disorder)</td>\n",
       "      <td>O34.539</td>\n",
       "      <td>Maternal care for retroversion of gravid uteru...</td>\n",
       "    </tr>\n",
       "    <tr>\n",
       "      <th>74477</th>\n",
       "      <td>237075006</td>\n",
       "      <td>Incarceration of uterus (disorder)</td>\n",
       "      <td>N85.8</td>\n",
       "      <td>Other specified noninflammatory disorders of u...</td>\n",
       "    </tr>\n",
       "    <tr>\n",
       "      <th>74478</th>\n",
       "      <td>237075006</td>\n",
       "      <td>Incarceration of uterus (disorder)</td>\n",
       "      <td>O34.511</td>\n",
       "      <td>Maternal care for incarceration of gravid uter...</td>\n",
       "    </tr>\n",
       "    <tr>\n",
       "      <th>74479</th>\n",
       "      <td>237075006</td>\n",
       "      <td>Incarceration of uterus (disorder)</td>\n",
       "      <td>O34.519</td>\n",
       "      <td>Maternal care for incarceration of gravid uter...</td>\n",
       "    </tr>\n",
       "    <tr>\n",
       "      <th>74480</th>\n",
       "      <td>237075006</td>\n",
       "      <td>Incarceration of uterus (disorder)</td>\n",
       "      <td>NaN</td>\n",
       "      <td>NaN</td>\n",
       "    </tr>\n",
       "    <tr>\n",
       "      <th>74481</th>\n",
       "      <td>237075006</td>\n",
       "      <td>Incarceration of uterus (disorder)</td>\n",
       "      <td>Z37.9</td>\n",
       "      <td>Outcome of delivery, unspecified</td>\n",
       "    </tr>\n",
       "    <tr>\n",
       "      <th>74482</th>\n",
       "      <td>237075006</td>\n",
       "      <td>Incarceration of uterus (disorder)</td>\n",
       "      <td>O90.9</td>\n",
       "      <td>Complication of the puerperium, unspecified</td>\n",
       "    </tr>\n",
       "  </tbody>\n",
       "</table>\n",
       "</div>"
      ],
      "text/plain": [
       "       snomed_id                         snomed_name   icd_id  \\\n",
       "74476  237075006  Incarceration of uterus (disorder)  O34.539   \n",
       "74477  237075006  Incarceration of uterus (disorder)    N85.8   \n",
       "74478  237075006  Incarceration of uterus (disorder)  O34.511   \n",
       "74479  237075006  Incarceration of uterus (disorder)  O34.519   \n",
       "74480  237075006  Incarceration of uterus (disorder)      NaN   \n",
       "74481  237075006  Incarceration of uterus (disorder)    Z37.9   \n",
       "74482  237075006  Incarceration of uterus (disorder)    O90.9   \n",
       "\n",
       "                                                icd_name  \n",
       "74476  Maternal care for retroversion of gravid uteru...  \n",
       "74477  Other specified noninflammatory disorders of u...  \n",
       "74478  Maternal care for incarceration of gravid uter...  \n",
       "74479  Maternal care for incarceration of gravid uter...  \n",
       "74480                                                NaN  \n",
       "74481                   Outcome of delivery, unspecified  \n",
       "74482        Complication of the puerperium, unspecified  "
      ]
     },
     "execution_count": 39,
     "metadata": {},
     "output_type": "execute_result"
    }
   ],
   "source": [
    "mapping.query(\"snomed_id == 237075006\")"
   ]
  },
  {
   "cell_type": "code",
   "execution_count": 37,
   "metadata": {},
   "outputs": [
    {
     "data": {
      "text/html": [
       "<div>\n",
       "<style>\n",
       "    .dataframe thead tr:only-child th {\n",
       "        text-align: right;\n",
       "    }\n",
       "\n",
       "    .dataframe thead th {\n",
       "        text-align: left;\n",
       "    }\n",
       "\n",
       "    .dataframe tbody tr th {\n",
       "        vertical-align: top;\n",
       "    }\n",
       "</style>\n",
       "<table border=\"1\" class=\"dataframe\">\n",
       "  <thead>\n",
       "    <tr style=\"text-align: right;\">\n",
       "      <th></th>\n",
       "      <th>snomed_id</th>\n",
       "      <th>icd_id</th>\n",
       "    </tr>\n",
       "  </thead>\n",
       "  <tbody>\n",
       "    <tr>\n",
       "      <th>133008</th>\n",
       "      <td>430349003</td>\n",
       "      <td>K92.2</td>\n",
       "    </tr>\n",
       "    <tr>\n",
       "      <th>26518</th>\n",
       "      <td>73602001</td>\n",
       "      <td>T79.9XX?</td>\n",
       "    </tr>\n",
       "    <tr>\n",
       "      <th>148211</th>\n",
       "      <td>104951000119106</td>\n",
       "      <td>H43.10</td>\n",
       "    </tr>\n",
       "    <tr>\n",
       "      <th>130123</th>\n",
       "      <td>422352008</td>\n",
       "      <td>NaN</td>\n",
       "    </tr>\n",
       "    <tr>\n",
       "      <th>147861</th>\n",
       "      <td>90121000119102</td>\n",
       "      <td>K08.434</td>\n",
       "    </tr>\n",
       "    <tr>\n",
       "      <th>96063</th>\n",
       "      <td>283641007</td>\n",
       "      <td>W27.3XX?</td>\n",
       "    </tr>\n",
       "    <tr>\n",
       "      <th>133001</th>\n",
       "      <td>430337004</td>\n",
       "      <td>Z82.0</td>\n",
       "    </tr>\n",
       "    <tr>\n",
       "      <th>74477</th>\n",
       "      <td>237075006</td>\n",
       "      <td>N85.8</td>\n",
       "    </tr>\n",
       "    <tr>\n",
       "      <th>14833</th>\n",
       "      <td>41174002</td>\n",
       "      <td>L04.2</td>\n",
       "    </tr>\n",
       "    <tr>\n",
       "      <th>14684</th>\n",
       "      <td>40873003</td>\n",
       "      <td>E72.19</td>\n",
       "    </tr>\n",
       "  </tbody>\n",
       "</table>\n",
       "</div>"
      ],
      "text/plain": [
       "              snomed_id    icd_id\n",
       "133008        430349003     K92.2\n",
       "26518          73602001  T79.9XX?\n",
       "148211  104951000119106    H43.10\n",
       "130123        422352008       NaN\n",
       "147861   90121000119102   K08.434\n",
       "96063         283641007  W27.3XX?\n",
       "133001        430337004     Z82.0\n",
       "74477         237075006     N85.8\n",
       "14833          41174002     L04.2\n",
       "14684          40873003    E72.19"
      ]
     },
     "execution_count": 37,
     "metadata": {},
     "output_type": "execute_result"
    }
   ],
   "source": [
    "mapping[[\"snomed_id\", \"icd_id\"]].sample(10)"
   ]
  },
  {
   "cell_type": "code",
   "execution_count": 38,
   "metadata": {},
   "outputs": [
    {
     "data": {
      "text/html": [
       "<div>\n",
       "<style>\n",
       "    .dataframe thead tr:only-child th {\n",
       "        text-align: right;\n",
       "    }\n",
       "\n",
       "    .dataframe thead th {\n",
       "        text-align: left;\n",
       "    }\n",
       "\n",
       "    .dataframe tbody tr th {\n",
       "        vertical-align: top;\n",
       "    }\n",
       "</style>\n",
       "<table border=\"1\" class=\"dataframe\">\n",
       "  <thead>\n",
       "    <tr style=\"text-align: right;\">\n",
       "      <th></th>\n",
       "      <th>snomed_id</th>\n",
       "      <th>snomed_name</th>\n",
       "      <th>icd_id</th>\n",
       "      <th>icd_name</th>\n",
       "    </tr>\n",
       "  </thead>\n",
       "  <tbody>\n",
       "    <tr>\n",
       "      <th>14684</th>\n",
       "      <td>40873003</td>\n",
       "      <td>Sulfite oxidase deficiency syndrome (disorder)</td>\n",
       "      <td>E72.19</td>\n",
       "      <td>Other disorders of sulfur-bearing amino-acid m...</td>\n",
       "    </tr>\n",
       "  </tbody>\n",
       "</table>\n",
       "</div>"
      ],
      "text/plain": [
       "       snomed_id                                     snomed_name  icd_id  \\\n",
       "14684   40873003  Sulfite oxidase deficiency syndrome (disorder)  E72.19   \n",
       "\n",
       "                                                icd_name  \n",
       "14684  Other disorders of sulfur-bearing amino-acid m...  "
      ]
     },
     "execution_count": 38,
     "metadata": {},
     "output_type": "execute_result"
    }
   ],
   "source": [
    "mapping.query(\"snomed_id == 40873003\")"
   ]
  },
  {
   "cell_type": "code",
   "execution_count": null,
   "metadata": {
    "collapsed": true
   },
   "outputs": [],
   "source": []
  },
  {
   "cell_type": "markdown",
   "metadata": {},
   "source": [
    "---"
   ]
  },
  {
   "cell_type": "markdown",
   "metadata": {},
   "source": [
    "### String match diseases without UMLS or SNOMED to SNOMED directly\n",
    "\n",
    "Map through a crude string matching format."
   ]
  },
  {
   "cell_type": "code",
   "execution_count": 20,
   "metadata": {
    "collapsed": true
   },
   "outputs": [],
   "source": [
    "missing_sno = set(rare_sno[rare_sno[\"snomed_id\"].isnull()][\"orphanet_id\"])\n",
    "\n",
    "icd = set(rare_dises.query(\"ref_name == 'ICD-10'\")[\"orphanet_id\"])\n",
    "umls = set(rare_dises.query(\"ref_name == 'UMLS'\")[\"orphanet_id\"])\n",
    "\n",
    "icd_only_no_sno = (icd - umls) & missing_sno"
   ]
  },
  {
   "cell_type": "code",
   "execution_count": 21,
   "metadata": {},
   "outputs": [
    {
     "data": {
      "text/plain": [
       "1499"
      ]
     },
     "execution_count": 21,
     "metadata": {},
     "output_type": "execute_result"
    }
   ],
   "source": [
    "len(icd_only_no_sno)"
   ]
  },
  {
   "cell_type": "code",
   "execution_count": 22,
   "metadata": {
    "collapsed": true
   },
   "outputs": [],
   "source": [
    "need_conv = rare_sno.query(\"orphanet_id in @icd_only_no_sno\")[[\"orphanet_id\", \"dise_name\"]]"
   ]
  },
  {
   "cell_type": "code",
   "execution_count": 23,
   "metadata": {},
   "outputs": [
    {
     "data": {
      "text/html": [
       "<div>\n",
       "<style>\n",
       "    .dataframe thead tr:only-child th {\n",
       "        text-align: right;\n",
       "    }\n",
       "\n",
       "    .dataframe thead th {\n",
       "        text-align: left;\n",
       "    }\n",
       "\n",
       "    .dataframe tbody tr th {\n",
       "        vertical-align: top;\n",
       "    }\n",
       "</style>\n",
       "<table border=\"1\" class=\"dataframe\">\n",
       "  <thead>\n",
       "    <tr style=\"text-align: right;\">\n",
       "      <th></th>\n",
       "      <th>orphanet_id</th>\n",
       "      <th>dise_name</th>\n",
       "    </tr>\n",
       "  </thead>\n",
       "  <tbody>\n",
       "    <tr>\n",
       "      <th>538</th>\n",
       "      <td>166108</td>\n",
       "      <td>Intellectual disability, Birk-Barel type</td>\n",
       "    </tr>\n",
       "    <tr>\n",
       "      <th>1075</th>\n",
       "      <td>166295</td>\n",
       "      <td>Benign non-familial infantile seizures</td>\n",
       "    </tr>\n",
       "  </tbody>\n",
       "</table>\n",
       "</div>"
      ],
      "text/plain": [
       "      orphanet_id                                 dise_name\n",
       "538        166108  Intellectual disability, Birk-Barel type\n",
       "1075       166295    Benign non-familial infantile seizures"
      ]
     },
     "execution_count": 23,
     "metadata": {},
     "output_type": "execute_result"
    }
   ],
   "source": [
    "need_conv.head(2)"
   ]
  },
  {
   "cell_type": "markdown",
   "metadata": {},
   "source": [
    "The names were mapped in another notebook."
   ]
  },
  {
   "cell_type": "code",
   "execution_count": 24,
   "metadata": {
    "collapsed": true
   },
   "outputs": [],
   "source": [
    "mapped = (pd\n",
    "    .read_csv(\"orpha_snomed_map.tsv\", sep='\\t')\n",
    "    .merge(\n",
    "        rare_dises[[\"orphanet_id\", \"dise_name\"]],\n",
    "        how=\"inner\", on=\"orphanet_id\"\n",
    "    )\n",
    "    .drop_duplicates()\n",
    ")"
   ]
  },
  {
   "cell_type": "code",
   "execution_count": 25,
   "metadata": {},
   "outputs": [
    {
     "data": {
      "text/html": [
       "<div>\n",
       "<style>\n",
       "    .dataframe thead tr:only-child th {\n",
       "        text-align: right;\n",
       "    }\n",
       "\n",
       "    .dataframe thead th {\n",
       "        text-align: left;\n",
       "    }\n",
       "\n",
       "    .dataframe tbody tr th {\n",
       "        vertical-align: top;\n",
       "    }\n",
       "</style>\n",
       "<table border=\"1\" class=\"dataframe\">\n",
       "  <thead>\n",
       "    <tr style=\"text-align: right;\">\n",
       "      <th></th>\n",
       "      <th>orphanet_id</th>\n",
       "      <th>snomed_id</th>\n",
       "      <th>dise_name</th>\n",
       "    </tr>\n",
       "  </thead>\n",
       "  <tbody>\n",
       "    <tr>\n",
       "      <th>0</th>\n",
       "      <td>104</td>\n",
       "      <td>58610003</td>\n",
       "      <td>Leber hereditary optic neuropathy</td>\n",
       "    </tr>\n",
       "    <tr>\n",
       "      <th>3</th>\n",
       "      <td>169090</td>\n",
       "      <td>717811007</td>\n",
       "      <td>Combined immunodeficiency due to CRAC channel ...</td>\n",
       "    </tr>\n",
       "  </tbody>\n",
       "</table>\n",
       "</div>"
      ],
      "text/plain": [
       "   orphanet_id  snomed_id                                          dise_name\n",
       "0          104   58610003                  Leber hereditary optic neuropathy\n",
       "3       169090  717811007  Combined immunodeficiency due to CRAC channel ..."
      ]
     },
     "execution_count": 25,
     "metadata": {},
     "output_type": "execute_result"
    }
   ],
   "source": [
    "mapped.head(2)"
   ]
  },
  {
   "cell_type": "code",
   "execution_count": 26,
   "metadata": {},
   "outputs": [
    {
     "data": {
      "text/plain": [
       "276"
      ]
     },
     "execution_count": 26,
     "metadata": {},
     "output_type": "execute_result"
    }
   ],
   "source": [
    "mapped[\"orphanet_id\"].nunique()"
   ]
  },
  {
   "cell_type": "markdown",
   "metadata": {},
   "source": [
    "## Final Orphanet to SNOMED mapping"
   ]
  },
  {
   "cell_type": "code",
   "execution_count": 27,
   "metadata": {},
   "outputs": [
    {
     "data": {
      "text/plain": [
       "(152606, 4)"
      ]
     },
     "execution_count": 27,
     "metadata": {},
     "output_type": "execute_result"
    }
   ],
   "source": [
    "rare_sno.shape"
   ]
  },
  {
   "cell_type": "code",
   "execution_count": 28,
   "metadata": {},
   "outputs": [
    {
     "data": {
      "text/html": [
       "<div>\n",
       "<style>\n",
       "    .dataframe thead tr:only-child th {\n",
       "        text-align: right;\n",
       "    }\n",
       "\n",
       "    .dataframe thead th {\n",
       "        text-align: left;\n",
       "    }\n",
       "\n",
       "    .dataframe tbody tr th {\n",
       "        vertical-align: top;\n",
       "    }\n",
       "</style>\n",
       "<table border=\"1\" class=\"dataframe\">\n",
       "  <thead>\n",
       "    <tr style=\"text-align: right;\">\n",
       "      <th></th>\n",
       "      <th>dise_name</th>\n",
       "      <th>orphanet_id</th>\n",
       "      <th>icd_id</th>\n",
       "      <th>snomed_id</th>\n",
       "    </tr>\n",
       "  </thead>\n",
       "  <tbody>\n",
       "    <tr>\n",
       "      <th>0</th>\n",
       "      <td>Multiple epiphyseal dysplasia, Al-Gazali type</td>\n",
       "      <td>166024</td>\n",
       "      <td>Q77.3</td>\n",
       "      <td>76556008.0</td>\n",
       "    </tr>\n",
       "    <tr>\n",
       "      <th>1</th>\n",
       "      <td>Multiple epiphyseal dysplasia, Al-Gazali type</td>\n",
       "      <td>166024</td>\n",
       "      <td>Q77.3</td>\n",
       "      <td>205465004.0</td>\n",
       "    </tr>\n",
       "    <tr>\n",
       "      <th>2</th>\n",
       "      <td>Multiple epiphyseal dysplasia, Al-Gazali type</td>\n",
       "      <td>166024</td>\n",
       "      <td>Q77.3</td>\n",
       "      <td>254082007.0</td>\n",
       "    </tr>\n",
       "    <tr>\n",
       "      <th>3</th>\n",
       "      <td>Multiple epiphyseal dysplasia, Al-Gazali type</td>\n",
       "      <td>166024</td>\n",
       "      <td>Q77.3</td>\n",
       "      <td>254083002.0</td>\n",
       "    </tr>\n",
       "    <tr>\n",
       "      <th>4</th>\n",
       "      <td>Multiple epiphyseal dysplasia, Al-Gazali type</td>\n",
       "      <td>166024</td>\n",
       "      <td>Q77.3</td>\n",
       "      <td>278715001.0</td>\n",
       "    </tr>\n",
       "  </tbody>\n",
       "</table>\n",
       "</div>"
      ],
      "text/plain": [
       "                                       dise_name  orphanet_id icd_id  \\\n",
       "0  Multiple epiphyseal dysplasia, Al-Gazali type       166024  Q77.3   \n",
       "1  Multiple epiphyseal dysplasia, Al-Gazali type       166024  Q77.3   \n",
       "2  Multiple epiphyseal dysplasia, Al-Gazali type       166024  Q77.3   \n",
       "3  Multiple epiphyseal dysplasia, Al-Gazali type       166024  Q77.3   \n",
       "4  Multiple epiphyseal dysplasia, Al-Gazali type       166024  Q77.3   \n",
       "\n",
       "     snomed_id  \n",
       "0   76556008.0  \n",
       "1  205465004.0  \n",
       "2  254082007.0  \n",
       "3  254083002.0  \n",
       "4  278715001.0  "
      ]
     },
     "execution_count": 28,
     "metadata": {},
     "output_type": "execute_result"
    }
   ],
   "source": [
    "rare_sno.head()"
   ]
  },
  {
   "cell_type": "code",
   "execution_count": 29,
   "metadata": {},
   "outputs": [
    {
     "data": {
      "text/plain": [
       "dise_name         0\n",
       "orphanet_id       0\n",
       "icd_id            0\n",
       "snomed_id      2640\n",
       "dtype: int64"
      ]
     },
     "execution_count": 29,
     "metadata": {},
     "output_type": "execute_result"
    }
   ],
   "source": [
    "rare_sno.isnull().sum()"
   ]
  },
  {
   "cell_type": "code",
   "execution_count": 30,
   "metadata": {
    "collapsed": true
   },
   "outputs": [],
   "source": [
    "kek = (rare_sno\n",
    "    [[\"orphanet_id\", \"snomed_id\"]]\n",
    "    .dropna(axis=0, how=\"any\")\n",
    "    .astype({\"snomed_id\": np.int64})\n",
    "    .drop_duplicates()\n",
    ")"
   ]
  },
  {
   "cell_type": "code",
   "execution_count": 31,
   "metadata": {},
   "outputs": [
    {
     "data": {
      "text/plain": [
       "14"
      ]
     },
     "execution_count": 31,
     "metadata": {},
     "output_type": "execute_result"
    }
   ],
   "source": [
    "len(set(kek[\"orphanet_id\"]) & set(mapped[\"orphanet_id\"]))"
   ]
  },
  {
   "cell_type": "code",
   "execution_count": 32,
   "metadata": {},
   "outputs": [
    {
     "data": {
      "text/plain": [
       "{17,\n",
       " 28,\n",
       " 59,\n",
       " 104,\n",
       " 134,\n",
       " 227,\n",
       " 229,\n",
       " 318,\n",
       " 334,\n",
       " 405,\n",
       " 427,\n",
       " 469,\n",
       " 492,\n",
       " 513,\n",
       " 518,\n",
       " 530,\n",
       " 622,\n",
       " 641,\n",
       " 723,\n",
       " 747,\n",
       " 793,\n",
       " 811,\n",
       " 833,\n",
       " 911,\n",
       " 956,\n",
       " 959,\n",
       " 991,\n",
       " 1302,\n",
       " 1305,\n",
       " 1308,\n",
       " 1310,\n",
       " 1467,\n",
       " 1768,\n",
       " 1797,\n",
       " 1930,\n",
       " 1972,\n",
       " 2029,\n",
       " 2032,\n",
       " 2038,\n",
       " 2056,\n",
       " 2062,\n",
       " 2090,\n",
       " 2115,\n",
       " 2119,\n",
       " 2176,\n",
       " 2306,\n",
       " 2369,\n",
       " 2498,\n",
       " 2729,\n",
       " 2741,\n",
       " 2744,\n",
       " 2903,\n",
       " 3086,\n",
       " 3097,\n",
       " 3337,\n",
       " 3434,\n",
       " 3437,\n",
       " 3439,\n",
       " 3473,\n",
       " 3474,\n",
       " 26792,\n",
       " 26793,\n",
       " 28378,\n",
       " 31824,\n",
       " 31825,\n",
       " 31828,\n",
       " 33069,\n",
       " 33208,\n",
       " 35107,\n",
       " 35689,\n",
       " 35710,\n",
       " 35807,\n",
       " 39041,\n",
       " 39812,\n",
       " 45358,\n",
       " 45452,\n",
       " 46487,\n",
       " 47159,\n",
       " 49804,\n",
       " 52047,\n",
       " 52416,\n",
       " 52427,\n",
       " 52994,\n",
       " 57782,\n",
       " 60030,\n",
       " 63261,\n",
       " 64280,\n",
       " 69665,\n",
       " 70573,\n",
       " 71212,\n",
       " 71269,\n",
       " 71493,\n",
       " 75377,\n",
       " 77295,\n",
       " 79094,\n",
       " 79238,\n",
       " 79430,\n",
       " 79435,\n",
       " 79473,\n",
       " 79500,\n",
       " 83465,\n",
       " 83468,\n",
       " 83597,\n",
       " 84085,\n",
       " 85128,\n",
       " 85201,\n",
       " 85279,\n",
       " 85284,\n",
       " 85335,\n",
       " 85451,\n",
       " 85458,\n",
       " 86788,\n",
       " 86814,\n",
       " 86820,\n",
       " 86850,\n",
       " 86854,\n",
       " 86867,\n",
       " 86884,\n",
       " 86911,\n",
       " 88629,\n",
       " 90058,\n",
       " 90068,\n",
       " 90797,\n",
       " 91359,\n",
       " 91483,\n",
       " 93320,\n",
       " 93321,\n",
       " 93322,\n",
       " 93402,\n",
       " 93558,\n",
       " 93623,\n",
       " 93929,\n",
       " 95157,\n",
       " 97353,\n",
       " 97355,\n",
       " 98627,\n",
       " 98833,\n",
       " 98834,\n",
       " 98839,\n",
       " 98841,\n",
       " 98890,\n",
       " 98920,\n",
       " 98971,\n",
       " 98973,\n",
       " 98981,\n",
       " 99083,\n",
       " 99429,\n",
       " 99654,\n",
       " 99718,\n",
       " 99735,\n",
       " 99745,\n",
       " 99852,\n",
       " 99920,\n",
       " 99922,\n",
       " 99930,\n",
       " 99932,\n",
       " 100085,\n",
       " 101068,\n",
       " 103907,\n",
       " 137667,\n",
       " 137935,\n",
       " 139406,\n",
       " 139431,\n",
       " 139447,\n",
       " 139474,\n",
       " 140957,\n",
       " 168566,\n",
       " 169090,\n",
       " 206484,\n",
       " 206583,\n",
       " 206701,\n",
       " 206973,\n",
       " 206994,\n",
       " 209932,\n",
       " 217266,\n",
       " 217385,\n",
       " 217557,\n",
       " 227796,\n",
       " 228315,\n",
       " 228399,\n",
       " 228415,\n",
       " 231580,\n",
       " 235936,\n",
       " 238329,\n",
       " 238446,\n",
       " 243343,\n",
       " 247585,\n",
       " 247598,\n",
       " 247685,\n",
       " 250831,\n",
       " 251038,\n",
       " 251262,\n",
       " 251937,\n",
       " 261243,\n",
       " 263297,\n",
       " 275864,\n",
       " 276152,\n",
       " 280065,\n",
       " 280397,\n",
       " 282166,\n",
       " 284388,\n",
       " 284818,\n",
       " 289176,\n",
       " 289356,\n",
       " 289902,\n",
       " 293381,\n",
       " 293621,\n",
       " 293843,\n",
       " 294016,\n",
       " 294967,\n",
       " 294969,\n",
       " 294975,\n",
       " 294977,\n",
       " 294981,\n",
       " 294983,\n",
       " 294986,\n",
       " 300605,\n",
       " 306773,\n",
       " 308552,\n",
       " 313838,\n",
       " 317476,\n",
       " 324764,\n",
       " 329967,\n",
       " 330012,\n",
       " 330015,\n",
       " 330021,\n",
       " 352328,\n",
       " 352649,\n",
       " 352723,\n",
       " 352745,\n",
       " 352763,\n",
       " 363504,\n",
       " 364039,\n",
       " 364043,\n",
       " 370091,\n",
       " 370097,\n",
       " 391651,\n",
       " 391673,\n",
       " 397596,\n",
       " 399307,\n",
       " 399319,\n",
       " 402035,\n",
       " 411527,\n",
       " 411634,\n",
       " 420259,\n",
       " 420429,\n",
       " 435372,\n",
       " 439167,\n",
       " 443070,\n",
       " 443079,\n",
       " 443173,\n",
       " 448237,\n",
       " 454706,\n",
       " 454714,\n",
       " 454718,\n",
       " 454745,\n",
       " 454836,\n",
       " 457246,\n",
       " 458758,\n",
       " 458763,\n",
       " 464343,\n",
       " 466670}"
      ]
     },
     "execution_count": 32,
     "metadata": {},
     "output_type": "execute_result"
    }
   ],
   "source": [
    "set(mapped[\"orphanet_id\"]) - set(kek[\"orphanet_id\"])"
   ]
  },
  {
   "cell_type": "code",
   "execution_count": 33,
   "metadata": {},
   "outputs": [
    {
     "data": {
      "text/html": [
       "<div>\n",
       "<style>\n",
       "    .dataframe thead tr:only-child th {\n",
       "        text-align: right;\n",
       "    }\n",
       "\n",
       "    .dataframe thead th {\n",
       "        text-align: left;\n",
       "    }\n",
       "\n",
       "    .dataframe tbody tr th {\n",
       "        vertical-align: top;\n",
       "    }\n",
       "</style>\n",
       "<table border=\"1\" class=\"dataframe\">\n",
       "  <thead>\n",
       "    <tr style=\"text-align: right;\">\n",
       "      <th></th>\n",
       "      <th>dise_name</th>\n",
       "      <th>orphanet_id</th>\n",
       "      <th>ref_id</th>\n",
       "      <th>ref_name</th>\n",
       "      <th>dise_type</th>\n",
       "    </tr>\n",
       "  </thead>\n",
       "  <tbody>\n",
       "    <tr>\n",
       "      <th>14992</th>\n",
       "      <td>Lipoid proteinosis</td>\n",
       "      <td>530</td>\n",
       "      <td>247100</td>\n",
       "      <td>OMIM</td>\n",
       "      <td>rare_genetic</td>\n",
       "    </tr>\n",
       "    <tr>\n",
       "      <th>14993</th>\n",
       "      <td>Lipoid proteinosis</td>\n",
       "      <td>530</td>\n",
       "      <td>E78.8</td>\n",
       "      <td>ICD-10</td>\n",
       "      <td>rare_genetic</td>\n",
       "    </tr>\n",
       "  </tbody>\n",
       "</table>\n",
       "</div>"
      ],
      "text/plain": [
       "                dise_name  orphanet_id  ref_id ref_name     dise_type\n",
       "14992  Lipoid proteinosis          530  247100     OMIM  rare_genetic\n",
       "14993  Lipoid proteinosis          530   E78.8   ICD-10  rare_genetic"
      ]
     },
     "execution_count": 33,
     "metadata": {},
     "output_type": "execute_result"
    }
   ],
   "source": [
    "rare_dises.query(\"orphanet_id == 530\")"
   ]
  },
  {
   "cell_type": "code",
   "execution_count": 35,
   "metadata": {},
   "outputs": [
    {
     "data": {
      "text/html": [
       "<div>\n",
       "<style>\n",
       "    .dataframe thead tr:only-child th {\n",
       "        text-align: right;\n",
       "    }\n",
       "\n",
       "    .dataframe thead th {\n",
       "        text-align: left;\n",
       "    }\n",
       "\n",
       "    .dataframe tbody tr th {\n",
       "        vertical-align: top;\n",
       "    }\n",
       "</style>\n",
       "<table border=\"1\" class=\"dataframe\">\n",
       "  <thead>\n",
       "    <tr style=\"text-align: right;\">\n",
       "      <th></th>\n",
       "      <th>orphanet_id</th>\n",
       "      <th>snomed_id</th>\n",
       "      <th>dise_name</th>\n",
       "    </tr>\n",
       "  </thead>\n",
       "  <tbody>\n",
       "    <tr>\n",
       "      <th>488</th>\n",
       "      <td>530</td>\n",
       "      <td>238950006</td>\n",
       "      <td>Lipoid proteinosis</td>\n",
       "    </tr>\n",
       "    <tr>\n",
       "      <th>490</th>\n",
       "      <td>530</td>\n",
       "      <td>38692000</td>\n",
       "      <td>Lipoid proteinosis</td>\n",
       "    </tr>\n",
       "  </tbody>\n",
       "</table>\n",
       "</div>"
      ],
      "text/plain": [
       "     orphanet_id  snomed_id           dise_name\n",
       "488          530  238950006  Lipoid proteinosis\n",
       "490          530   38692000  Lipoid proteinosis"
      ]
     },
     "execution_count": 35,
     "metadata": {},
     "output_type": "execute_result"
    }
   ],
   "source": [
    "mapped.query(\"orphanet_id == 530\")"
   ]
  },
  {
   "cell_type": "code",
   "execution_count": 34,
   "metadata": {},
   "outputs": [
    {
     "data": {
      "text/html": [
       "<div>\n",
       "<style>\n",
       "    .dataframe thead tr:only-child th {\n",
       "        text-align: right;\n",
       "    }\n",
       "\n",
       "    .dataframe thead th {\n",
       "        text-align: left;\n",
       "    }\n",
       "\n",
       "    .dataframe tbody tr th {\n",
       "        vertical-align: top;\n",
       "    }\n",
       "</style>\n",
       "<table border=\"1\" class=\"dataframe\">\n",
       "  <thead>\n",
       "    <tr style=\"text-align: right;\">\n",
       "      <th></th>\n",
       "      <th>dise_name</th>\n",
       "      <th>orphanet_id</th>\n",
       "      <th>icd_id</th>\n",
       "      <th>snomed_id</th>\n",
       "    </tr>\n",
       "  </thead>\n",
       "  <tbody>\n",
       "    <tr>\n",
       "      <th>105628</th>\n",
       "      <td>Lipoid proteinosis</td>\n",
       "      <td>530</td>\n",
       "      <td>E78.8</td>\n",
       "      <td>NaN</td>\n",
       "    </tr>\n",
       "  </tbody>\n",
       "</table>\n",
       "</div>"
      ],
      "text/plain": [
       "                 dise_name  orphanet_id icd_id  snomed_id\n",
       "105628  Lipoid proteinosis          530  E78.8        NaN"
      ]
     },
     "execution_count": 34,
     "metadata": {},
     "output_type": "execute_result"
    }
   ],
   "source": [
    "rare_sno.query(\"orphanet_id == 530\")"
   ]
  },
  {
   "cell_type": "code",
   "execution_count": null,
   "metadata": {
    "collapsed": true
   },
   "outputs": [],
   "source": []
  },
  {
   "cell_type": "code",
   "execution_count": null,
   "metadata": {
    "collapsed": true
   },
   "outputs": [],
   "source": []
  },
  {
   "cell_type": "code",
   "execution_count": null,
   "metadata": {
    "collapsed": true
   },
   "outputs": [],
   "source": []
  },
  {
   "cell_type": "code",
   "execution_count": null,
   "metadata": {
    "collapsed": true
   },
   "outputs": [],
   "source": []
  },
  {
   "cell_type": "markdown",
   "metadata": {},
   "source": [
    "----"
   ]
  },
  {
   "cell_type": "markdown",
   "metadata": {},
   "source": [
    "### Remove diseases with missing SNOMED ids"
   ]
  },
  {
   "cell_type": "code",
   "execution_count": 26,
   "metadata": {
    "collapsed": true
   },
   "outputs": [],
   "source": [
    "dise_res = (rare_sno\n",
    "    .dropna(axis=0, how=\"any\")\n",
    "    .astype({\"snomed_id\": np.int64})\n",
    "    .drop(\"icd_id\", axis=1)\n",
    "    .drop_duplicates()\n",
    ")"
   ]
  },
  {
   "cell_type": "code",
   "execution_count": 27,
   "metadata": {},
   "outputs": [
    {
     "data": {
      "text/plain": [
       "(148960, 3)"
      ]
     },
     "execution_count": 27,
     "metadata": {},
     "output_type": "execute_result"
    }
   ],
   "source": [
    "dise_res.shape"
   ]
  },
  {
   "cell_type": "code",
   "execution_count": 28,
   "metadata": {},
   "outputs": [
    {
     "data": {
      "text/html": [
       "<div>\n",
       "<style>\n",
       "    .dataframe thead tr:only-child th {\n",
       "        text-align: right;\n",
       "    }\n",
       "\n",
       "    .dataframe thead th {\n",
       "        text-align: left;\n",
       "    }\n",
       "\n",
       "    .dataframe tbody tr th {\n",
       "        vertical-align: top;\n",
       "    }\n",
       "</style>\n",
       "<table border=\"1\" class=\"dataframe\">\n",
       "  <thead>\n",
       "    <tr style=\"text-align: right;\">\n",
       "      <th></th>\n",
       "      <th>dise_name</th>\n",
       "      <th>orphanet_id</th>\n",
       "      <th>snomed_id</th>\n",
       "    </tr>\n",
       "  </thead>\n",
       "  <tbody>\n",
       "    <tr>\n",
       "      <th>0</th>\n",
       "      <td>Multiple epiphyseal dysplasia, Al-Gazali type</td>\n",
       "      <td>166024</td>\n",
       "      <td>76556008</td>\n",
       "    </tr>\n",
       "    <tr>\n",
       "      <th>1</th>\n",
       "      <td>Multiple epiphyseal dysplasia, Al-Gazali type</td>\n",
       "      <td>166024</td>\n",
       "      <td>205465004</td>\n",
       "    </tr>\n",
       "    <tr>\n",
       "      <th>2</th>\n",
       "      <td>Multiple epiphyseal dysplasia, Al-Gazali type</td>\n",
       "      <td>166024</td>\n",
       "      <td>254082007</td>\n",
       "    </tr>\n",
       "    <tr>\n",
       "      <th>3</th>\n",
       "      <td>Multiple epiphyseal dysplasia, Al-Gazali type</td>\n",
       "      <td>166024</td>\n",
       "      <td>254083002</td>\n",
       "    </tr>\n",
       "    <tr>\n",
       "      <th>4</th>\n",
       "      <td>Multiple epiphyseal dysplasia, Al-Gazali type</td>\n",
       "      <td>166024</td>\n",
       "      <td>278715001</td>\n",
       "    </tr>\n",
       "  </tbody>\n",
       "</table>\n",
       "</div>"
      ],
      "text/plain": [
       "                                       dise_name  orphanet_id  snomed_id\n",
       "0  Multiple epiphyseal dysplasia, Al-Gazali type       166024   76556008\n",
       "1  Multiple epiphyseal dysplasia, Al-Gazali type       166024  205465004\n",
       "2  Multiple epiphyseal dysplasia, Al-Gazali type       166024  254082007\n",
       "3  Multiple epiphyseal dysplasia, Al-Gazali type       166024  254083002\n",
       "4  Multiple epiphyseal dysplasia, Al-Gazali type       166024  278715001"
      ]
     },
     "execution_count": 28,
     "metadata": {},
     "output_type": "execute_result"
    }
   ],
   "source": [
    "dise_res.head()"
   ]
  },
  {
   "cell_type": "code",
   "execution_count": 29,
   "metadata": {},
   "outputs": [
    {
     "data": {
      "text/plain": [
       "4814"
      ]
     },
     "execution_count": 29,
     "metadata": {},
     "output_type": "execute_result"
    }
   ],
   "source": [
    "dise_res[\"orphanet_id\"].nunique()"
   ]
  },
  {
   "cell_type": "code",
   "execution_count": 30,
   "metadata": {},
   "outputs": [
    {
     "data": {
      "text/plain": [
       "15223"
      ]
     },
     "execution_count": 30,
     "metadata": {},
     "output_type": "execute_result"
    }
   ],
   "source": [
    "dise_res[\"snomed_id\"].nunique()"
   ]
  },
  {
   "cell_type": "markdown",
   "metadata": {},
   "source": [
    "### Add on direct SNOMED matches"
   ]
  },
  {
   "cell_type": "code",
   "execution_count": 31,
   "metadata": {
    "collapsed": true
   },
   "outputs": [],
   "source": [
    "dise_map = dise_res.append(mapped).drop_duplicates()"
   ]
  },
  {
   "cell_type": "code",
   "execution_count": 32,
   "metadata": {},
   "outputs": [
    {
     "data": {
      "text/plain": [
       "(149304, 3)"
      ]
     },
     "execution_count": 32,
     "metadata": {},
     "output_type": "execute_result"
    }
   ],
   "source": [
    "dise_map.shape"
   ]
  },
  {
   "cell_type": "code",
   "execution_count": 33,
   "metadata": {},
   "outputs": [
    {
     "data": {
      "text/plain": [
       "5076"
      ]
     },
     "execution_count": 33,
     "metadata": {},
     "output_type": "execute_result"
    }
   ],
   "source": [
    "dise_map[\"orphanet_id\"].nunique()"
   ]
  },
  {
   "cell_type": "code",
   "execution_count": 34,
   "metadata": {},
   "outputs": [
    {
     "data": {
      "text/html": [
       "<div>\n",
       "<style>\n",
       "    .dataframe thead tr:only-child th {\n",
       "        text-align: right;\n",
       "    }\n",
       "\n",
       "    .dataframe thead th {\n",
       "        text-align: left;\n",
       "    }\n",
       "\n",
       "    .dataframe tbody tr th {\n",
       "        vertical-align: top;\n",
       "    }\n",
       "</style>\n",
       "<table border=\"1\" class=\"dataframe\">\n",
       "  <thead>\n",
       "    <tr style=\"text-align: right;\">\n",
       "      <th></th>\n",
       "      <th>dise_name</th>\n",
       "      <th>orphanet_id</th>\n",
       "      <th>snomed_id</th>\n",
       "    </tr>\n",
       "  </thead>\n",
       "  <tbody>\n",
       "    <tr>\n",
       "      <th>0</th>\n",
       "      <td>Multiple epiphyseal dysplasia, Al-Gazali type</td>\n",
       "      <td>166024</td>\n",
       "      <td>76556008</td>\n",
       "    </tr>\n",
       "    <tr>\n",
       "      <th>1</th>\n",
       "      <td>Multiple epiphyseal dysplasia, Al-Gazali type</td>\n",
       "      <td>166024</td>\n",
       "      <td>205465004</td>\n",
       "    </tr>\n",
       "    <tr>\n",
       "      <th>2</th>\n",
       "      <td>Multiple epiphyseal dysplasia, Al-Gazali type</td>\n",
       "      <td>166024</td>\n",
       "      <td>254082007</td>\n",
       "    </tr>\n",
       "    <tr>\n",
       "      <th>3</th>\n",
       "      <td>Multiple epiphyseal dysplasia, Al-Gazali type</td>\n",
       "      <td>166024</td>\n",
       "      <td>254083002</td>\n",
       "    </tr>\n",
       "    <tr>\n",
       "      <th>4</th>\n",
       "      <td>Multiple epiphyseal dysplasia, Al-Gazali type</td>\n",
       "      <td>166024</td>\n",
       "      <td>278715001</td>\n",
       "    </tr>\n",
       "  </tbody>\n",
       "</table>\n",
       "</div>"
      ],
      "text/plain": [
       "                                       dise_name  orphanet_id  snomed_id\n",
       "0  Multiple epiphyseal dysplasia, Al-Gazali type       166024   76556008\n",
       "1  Multiple epiphyseal dysplasia, Al-Gazali type       166024  205465004\n",
       "2  Multiple epiphyseal dysplasia, Al-Gazali type       166024  254082007\n",
       "3  Multiple epiphyseal dysplasia, Al-Gazali type       166024  254083002\n",
       "4  Multiple epiphyseal dysplasia, Al-Gazali type       166024  278715001"
      ]
     },
     "execution_count": 34,
     "metadata": {},
     "output_type": "execute_result"
    }
   ],
   "source": [
    "dise_map.head()"
   ]
  },
  {
   "cell_type": "markdown",
   "metadata": {},
   "source": [
    "---"
   ]
  },
  {
   "cell_type": "markdown",
   "metadata": {},
   "source": [
    "## Match to indications\n",
    "\n",
    "The drug central indications are given with snomed ids as diseases, so we will use that to cross reference to see which indications are about rare diseases."
   ]
  },
  {
   "cell_type": "code",
   "execution_count": 53,
   "metadata": {
    "collapsed": true
   },
   "outputs": [],
   "source": [
    "inds = pd.read_csv(\"simple_inds.tsv\", sep='\\t')"
   ]
  },
  {
   "cell_type": "code",
   "execution_count": 54,
   "metadata": {},
   "outputs": [
    {
     "data": {
      "text/html": [
       "<div>\n",
       "<style>\n",
       "    .dataframe thead tr:only-child th {\n",
       "        text-align: right;\n",
       "    }\n",
       "\n",
       "    .dataframe thead th {\n",
       "        text-align: left;\n",
       "    }\n",
       "\n",
       "    .dataframe tbody tr th {\n",
       "        vertical-align: top;\n",
       "    }\n",
       "</style>\n",
       "<table border=\"1\" class=\"dataframe\">\n",
       "  <thead>\n",
       "    <tr style=\"text-align: right;\">\n",
       "      <th></th>\n",
       "      <th>struct_id</th>\n",
       "      <th>relationship_name</th>\n",
       "      <th>concept_name</th>\n",
       "      <th>umls_cui</th>\n",
       "      <th>snomed_full_name</th>\n",
       "      <th>cui_semantic_type</th>\n",
       "      <th>snomed_conceptid</th>\n",
       "    </tr>\n",
       "  </thead>\n",
       "  <tbody>\n",
       "    <tr>\n",
       "      <th>0</th>\n",
       "      <td>1253</td>\n",
       "      <td>indication</td>\n",
       "      <td>Tuberculosis</td>\n",
       "      <td>C0041296</td>\n",
       "      <td>Tuberculosis</td>\n",
       "      <td>T047</td>\n",
       "      <td>56717001</td>\n",
       "    </tr>\n",
       "    <tr>\n",
       "      <th>1</th>\n",
       "      <td>5203</td>\n",
       "      <td>indication</td>\n",
       "      <td>Malignant tumor of ovary</td>\n",
       "      <td>C1140680</td>\n",
       "      <td>Malignant tumor of ovary</td>\n",
       "      <td>T191</td>\n",
       "      <td>363443007</td>\n",
       "    </tr>\n",
       "  </tbody>\n",
       "</table>\n",
       "</div>"
      ],
      "text/plain": [
       "   struct_id relationship_name              concept_name  umls_cui  \\\n",
       "0       1253        indication              Tuberculosis  C0041296   \n",
       "1       5203        indication  Malignant tumor of ovary  C1140680   \n",
       "\n",
       "           snomed_full_name cui_semantic_type  snomed_conceptid  \n",
       "0              Tuberculosis              T047          56717001  \n",
       "1  Malignant tumor of ovary              T191         363443007  "
      ]
     },
     "execution_count": 54,
     "metadata": {},
     "output_type": "execute_result"
    }
   ],
   "source": [
    "inds.head(2)"
   ]
  },
  {
   "cell_type": "code",
   "execution_count": 55,
   "metadata": {},
   "outputs": [
    {
     "data": {
      "text/plain": [
       "(36949, 7)"
      ]
     },
     "execution_count": 55,
     "metadata": {},
     "output_type": "execute_result"
    }
   ],
   "source": [
    "inds.shape"
   ]
  },
  {
   "cell_type": "code",
   "execution_count": 56,
   "metadata": {
    "collapsed": true
   },
   "outputs": [],
   "source": [
    "stuff = (inds\n",
    "    .drop([\"concept_name\", \"snomed_full_name\", \"cui_semantic_type\"], axis=1)\n",
    "    .rename(columns={\"snomed_conceptid\": \"snomed_id\"})\n",
    "        )"
   ]
  },
  {
   "cell_type": "code",
   "execution_count": 57,
   "metadata": {},
   "outputs": [
    {
     "data": {
      "text/html": [
       "<div>\n",
       "<style>\n",
       "    .dataframe thead tr:only-child th {\n",
       "        text-align: right;\n",
       "    }\n",
       "\n",
       "    .dataframe thead th {\n",
       "        text-align: left;\n",
       "    }\n",
       "\n",
       "    .dataframe tbody tr th {\n",
       "        vertical-align: top;\n",
       "    }\n",
       "</style>\n",
       "<table border=\"1\" class=\"dataframe\">\n",
       "  <thead>\n",
       "    <tr style=\"text-align: right;\">\n",
       "      <th></th>\n",
       "      <th>struct_id</th>\n",
       "      <th>relationship_name</th>\n",
       "      <th>umls_cui</th>\n",
       "      <th>snomed_id</th>\n",
       "    </tr>\n",
       "  </thead>\n",
       "  <tbody>\n",
       "    <tr>\n",
       "      <th>0</th>\n",
       "      <td>1253</td>\n",
       "      <td>indication</td>\n",
       "      <td>C0041296</td>\n",
       "      <td>56717001</td>\n",
       "    </tr>\n",
       "    <tr>\n",
       "      <th>1</th>\n",
       "      <td>5203</td>\n",
       "      <td>indication</td>\n",
       "      <td>C1140680</td>\n",
       "      <td>363443007</td>\n",
       "    </tr>\n",
       "    <tr>\n",
       "      <th>2</th>\n",
       "      <td>5202</td>\n",
       "      <td>indication</td>\n",
       "      <td>C0003873</td>\n",
       "      <td>69896004</td>\n",
       "    </tr>\n",
       "    <tr>\n",
       "      <th>3</th>\n",
       "      <td>67</td>\n",
       "      <td>indication</td>\n",
       "      <td>C0004238</td>\n",
       "      <td>49436004</td>\n",
       "    </tr>\n",
       "    <tr>\n",
       "      <th>4</th>\n",
       "      <td>67</td>\n",
       "      <td>indication</td>\n",
       "      <td>C0018802</td>\n",
       "      <td>42343007</td>\n",
       "    </tr>\n",
       "  </tbody>\n",
       "</table>\n",
       "</div>"
      ],
      "text/plain": [
       "   struct_id relationship_name  umls_cui  snomed_id\n",
       "0       1253        indication  C0041296   56717001\n",
       "1       5203        indication  C1140680  363443007\n",
       "2       5202        indication  C0003873   69896004\n",
       "3         67        indication  C0004238   49436004\n",
       "4         67        indication  C0018802   42343007"
      ]
     },
     "execution_count": 57,
     "metadata": {},
     "output_type": "execute_result"
    }
   ],
   "source": [
    "stuff.head()"
   ]
  },
  {
   "cell_type": "code",
   "execution_count": 58,
   "metadata": {
    "collapsed": true
   },
   "outputs": [],
   "source": [
    "ja = stuff.merge(dise_map[[\"snomed_id\", \"orphanet_id\"]], how=\"left\", on=\"snomed_id\")"
   ]
  },
  {
   "cell_type": "code",
   "execution_count": 59,
   "metadata": {},
   "outputs": [
    {
     "data": {
      "text/html": [
       "<div>\n",
       "<style>\n",
       "    .dataframe thead tr:only-child th {\n",
       "        text-align: right;\n",
       "    }\n",
       "\n",
       "    .dataframe thead th {\n",
       "        text-align: left;\n",
       "    }\n",
       "\n",
       "    .dataframe tbody tr th {\n",
       "        vertical-align: top;\n",
       "    }\n",
       "</style>\n",
       "<table border=\"1\" class=\"dataframe\">\n",
       "  <thead>\n",
       "    <tr style=\"text-align: right;\">\n",
       "      <th></th>\n",
       "      <th>struct_id</th>\n",
       "      <th>relationship_name</th>\n",
       "      <th>umls_cui</th>\n",
       "      <th>snomed_id</th>\n",
       "      <th>orphanet_id</th>\n",
       "    </tr>\n",
       "  </thead>\n",
       "  <tbody>\n",
       "    <tr>\n",
       "      <th>0</th>\n",
       "      <td>1253</td>\n",
       "      <td>indication</td>\n",
       "      <td>C0041296</td>\n",
       "      <td>56717001</td>\n",
       "      <td>NaN</td>\n",
       "    </tr>\n",
       "    <tr>\n",
       "      <th>1</th>\n",
       "      <td>5203</td>\n",
       "      <td>indication</td>\n",
       "      <td>C1140680</td>\n",
       "      <td>363443007</td>\n",
       "      <td>NaN</td>\n",
       "    </tr>\n",
       "    <tr>\n",
       "      <th>2</th>\n",
       "      <td>5202</td>\n",
       "      <td>indication</td>\n",
       "      <td>C0003873</td>\n",
       "      <td>69896004</td>\n",
       "      <td>NaN</td>\n",
       "    </tr>\n",
       "    <tr>\n",
       "      <th>3</th>\n",
       "      <td>67</td>\n",
       "      <td>indication</td>\n",
       "      <td>C0004238</td>\n",
       "      <td>49436004</td>\n",
       "      <td>NaN</td>\n",
       "    </tr>\n",
       "    <tr>\n",
       "      <th>4</th>\n",
       "      <td>67</td>\n",
       "      <td>indication</td>\n",
       "      <td>C0018802</td>\n",
       "      <td>42343007</td>\n",
       "      <td>NaN</td>\n",
       "    </tr>\n",
       "  </tbody>\n",
       "</table>\n",
       "</div>"
      ],
      "text/plain": [
       "   struct_id relationship_name  umls_cui  snomed_id  orphanet_id\n",
       "0       1253        indication  C0041296   56717001          NaN\n",
       "1       5203        indication  C1140680  363443007          NaN\n",
       "2       5202        indication  C0003873   69896004          NaN\n",
       "3         67        indication  C0004238   49436004          NaN\n",
       "4         67        indication  C0018802   42343007          NaN"
      ]
     },
     "execution_count": 59,
     "metadata": {},
     "output_type": "execute_result"
    }
   ],
   "source": [
    "ja.head()"
   ]
  },
  {
   "cell_type": "code",
   "execution_count": 60,
   "metadata": {},
   "outputs": [
    {
     "data": {
      "text/html": [
       "<div>\n",
       "<style>\n",
       "    .dataframe thead tr:only-child th {\n",
       "        text-align: right;\n",
       "    }\n",
       "\n",
       "    .dataframe thead th {\n",
       "        text-align: left;\n",
       "    }\n",
       "\n",
       "    .dataframe tbody tr th {\n",
       "        vertical-align: top;\n",
       "    }\n",
       "</style>\n",
       "<table border=\"1\" class=\"dataframe\">\n",
       "  <thead>\n",
       "    <tr style=\"text-align: right;\">\n",
       "      <th></th>\n",
       "      <th>orphanet_id</th>\n",
       "      <th>umls_cui</th>\n",
       "    </tr>\n",
       "  </thead>\n",
       "  <tbody>\n",
       "    <tr>\n",
       "      <th>6</th>\n",
       "      <td>58</td>\n",
       "      <td>C0270726</td>\n",
       "    </tr>\n",
       "    <tr>\n",
       "      <th>12</th>\n",
       "      <td>61</td>\n",
       "      <td>C0024748</td>\n",
       "    </tr>\n",
       "    <tr>\n",
       "      <th>18</th>\n",
       "      <td>93</td>\n",
       "      <td>C0268225</td>\n",
       "    </tr>\n",
       "    <tr>\n",
       "      <th>19</th>\n",
       "      <td>93</td>\n",
       "      <td>C2931840</td>\n",
       "    </tr>\n",
       "    <tr>\n",
       "      <th>25</th>\n",
       "      <td>585</td>\n",
       "      <td>C0268263</td>\n",
       "    </tr>\n",
       "  </tbody>\n",
       "</table>\n",
       "</div>"
      ],
      "text/plain": [
       "    orphanet_id  umls_cui\n",
       "6            58  C0270726\n",
       "12           61  C0024748\n",
       "18           93  C0268225\n",
       "19           93  C2931840\n",
       "25          585  C0268263"
      ]
     },
     "execution_count": 60,
     "metadata": {},
     "output_type": "execute_result"
    }
   ],
   "source": [
    "umls_map.head()"
   ]
  },
  {
   "cell_type": "code",
   "execution_count": 61,
   "metadata": {
    "collapsed": true
   },
   "outputs": [],
   "source": [
    "kek = ja.merge(umls_map, how=\"left\", on=\"umls_cui\")"
   ]
  },
  {
   "cell_type": "code",
   "execution_count": 62,
   "metadata": {},
   "outputs": [
    {
     "data": {
      "text/plain": [
       "(64361, 6)"
      ]
     },
     "execution_count": 62,
     "metadata": {},
     "output_type": "execute_result"
    }
   ],
   "source": [
    "kek.shape"
   ]
  },
  {
   "cell_type": "code",
   "execution_count": 63,
   "metadata": {},
   "outputs": [
    {
     "data": {
      "text/html": [
       "<div>\n",
       "<style>\n",
       "    .dataframe thead tr:only-child th {\n",
       "        text-align: right;\n",
       "    }\n",
       "\n",
       "    .dataframe thead th {\n",
       "        text-align: left;\n",
       "    }\n",
       "\n",
       "    .dataframe tbody tr th {\n",
       "        vertical-align: top;\n",
       "    }\n",
       "</style>\n",
       "<table border=\"1\" class=\"dataframe\">\n",
       "  <thead>\n",
       "    <tr style=\"text-align: right;\">\n",
       "      <th></th>\n",
       "      <th>struct_id</th>\n",
       "      <th>relationship_name</th>\n",
       "      <th>umls_cui</th>\n",
       "      <th>snomed_id</th>\n",
       "      <th>orphanet_id_x</th>\n",
       "      <th>orphanet_id_y</th>\n",
       "    </tr>\n",
       "  </thead>\n",
       "  <tbody>\n",
       "    <tr>\n",
       "      <th>0</th>\n",
       "      <td>1253</td>\n",
       "      <td>indication</td>\n",
       "      <td>C0041296</td>\n",
       "      <td>56717001</td>\n",
       "      <td>NaN</td>\n",
       "      <td>3389.0</td>\n",
       "    </tr>\n",
       "    <tr>\n",
       "      <th>1</th>\n",
       "      <td>5203</td>\n",
       "      <td>indication</td>\n",
       "      <td>C1140680</td>\n",
       "      <td>363443007</td>\n",
       "      <td>NaN</td>\n",
       "      <td>NaN</td>\n",
       "    </tr>\n",
       "    <tr>\n",
       "      <th>2</th>\n",
       "      <td>5202</td>\n",
       "      <td>indication</td>\n",
       "      <td>C0003873</td>\n",
       "      <td>69896004</td>\n",
       "      <td>NaN</td>\n",
       "      <td>NaN</td>\n",
       "    </tr>\n",
       "    <tr>\n",
       "      <th>3</th>\n",
       "      <td>67</td>\n",
       "      <td>indication</td>\n",
       "      <td>C0004238</td>\n",
       "      <td>49436004</td>\n",
       "      <td>NaN</td>\n",
       "      <td>NaN</td>\n",
       "    </tr>\n",
       "    <tr>\n",
       "      <th>4</th>\n",
       "      <td>67</td>\n",
       "      <td>indication</td>\n",
       "      <td>C0018802</td>\n",
       "      <td>42343007</td>\n",
       "      <td>NaN</td>\n",
       "      <td>NaN</td>\n",
       "    </tr>\n",
       "  </tbody>\n",
       "</table>\n",
       "</div>"
      ],
      "text/plain": [
       "   struct_id relationship_name  umls_cui  snomed_id  orphanet_id_x  \\\n",
       "0       1253        indication  C0041296   56717001            NaN   \n",
       "1       5203        indication  C1140680  363443007            NaN   \n",
       "2       5202        indication  C0003873   69896004            NaN   \n",
       "3         67        indication  C0004238   49436004            NaN   \n",
       "4         67        indication  C0018802   42343007            NaN   \n",
       "\n",
       "   orphanet_id_y  \n",
       "0         3389.0  \n",
       "1            NaN  \n",
       "2            NaN  \n",
       "3            NaN  \n",
       "4            NaN  "
      ]
     },
     "execution_count": 63,
     "metadata": {},
     "output_type": "execute_result"
    }
   ],
   "source": [
    "kek.head()"
   ]
  },
  {
   "cell_type": "code",
   "execution_count": 64,
   "metadata": {},
   "outputs": [
    {
     "data": {
      "text/plain": [
       "(64361, 6)"
      ]
     },
     "execution_count": 64,
     "metadata": {},
     "output_type": "execute_result"
    }
   ],
   "source": [
    "kek.shape"
   ]
  },
  {
   "cell_type": "code",
   "execution_count": 65,
   "metadata": {
    "collapsed": true
   },
   "outputs": [],
   "source": [
    "lel = kek.dropna(how=\"any\")"
   ]
  },
  {
   "cell_type": "code",
   "execution_count": 66,
   "metadata": {},
   "outputs": [
    {
     "data": {
      "text/plain": [
       "(7736, 6)"
      ]
     },
     "execution_count": 66,
     "metadata": {},
     "output_type": "execute_result"
    }
   ],
   "source": [
    "lel.shape"
   ]
  },
  {
   "cell_type": "code",
   "execution_count": 67,
   "metadata": {},
   "outputs": [
    {
     "data": {
      "text/html": [
       "<div>\n",
       "<style>\n",
       "    .dataframe thead tr:only-child th {\n",
       "        text-align: right;\n",
       "    }\n",
       "\n",
       "    .dataframe thead th {\n",
       "        text-align: left;\n",
       "    }\n",
       "\n",
       "    .dataframe tbody tr th {\n",
       "        vertical-align: top;\n",
       "    }\n",
       "</style>\n",
       "<table border=\"1\" class=\"dataframe\">\n",
       "  <thead>\n",
       "    <tr style=\"text-align: right;\">\n",
       "      <th></th>\n",
       "      <th>struct_id</th>\n",
       "      <th>relationship_name</th>\n",
       "      <th>umls_cui</th>\n",
       "      <th>snomed_id</th>\n",
       "      <th>orphanet_id_x</th>\n",
       "      <th>orphanet_id_y</th>\n",
       "    </tr>\n",
       "  </thead>\n",
       "  <tbody>\n",
       "    <tr>\n",
       "      <th>54</th>\n",
       "      <td>5189</td>\n",
       "      <td>indication</td>\n",
       "      <td>C0008533</td>\n",
       "      <td>41788008</td>\n",
       "      <td>169799.0</td>\n",
       "      <td>98879.0</td>\n",
       "    </tr>\n",
       "    <tr>\n",
       "      <th>55</th>\n",
       "      <td>5189</td>\n",
       "      <td>indication</td>\n",
       "      <td>C0008533</td>\n",
       "      <td>41788008</td>\n",
       "      <td>169796.0</td>\n",
       "      <td>98879.0</td>\n",
       "    </tr>\n",
       "    <tr>\n",
       "      <th>56</th>\n",
       "      <td>5189</td>\n",
       "      <td>indication</td>\n",
       "      <td>C0008533</td>\n",
       "      <td>41788008</td>\n",
       "      <td>169793.0</td>\n",
       "      <td>98879.0</td>\n",
       "    </tr>\n",
       "    <tr>\n",
       "      <th>57</th>\n",
       "      <td>5189</td>\n",
       "      <td>indication</td>\n",
       "      <td>C0008533</td>\n",
       "      <td>41788008</td>\n",
       "      <td>177929.0</td>\n",
       "      <td>98879.0</td>\n",
       "    </tr>\n",
       "    <tr>\n",
       "      <th>58</th>\n",
       "      <td>5189</td>\n",
       "      <td>indication</td>\n",
       "      <td>C0008533</td>\n",
       "      <td>41788008</td>\n",
       "      <td>98879.0</td>\n",
       "      <td>98879.0</td>\n",
       "    </tr>\n",
       "  </tbody>\n",
       "</table>\n",
       "</div>"
      ],
      "text/plain": [
       "    struct_id relationship_name  umls_cui  snomed_id  orphanet_id_x  \\\n",
       "54       5189        indication  C0008533   41788008       169799.0   \n",
       "55       5189        indication  C0008533   41788008       169796.0   \n",
       "56       5189        indication  C0008533   41788008       169793.0   \n",
       "57       5189        indication  C0008533   41788008       177929.0   \n",
       "58       5189        indication  C0008533   41788008        98879.0   \n",
       "\n",
       "    orphanet_id_y  \n",
       "54        98879.0  \n",
       "55        98879.0  \n",
       "56        98879.0  \n",
       "57        98879.0  \n",
       "58        98879.0  "
      ]
     },
     "execution_count": 67,
     "metadata": {},
     "output_type": "execute_result"
    }
   ],
   "source": [
    "lel.head()"
   ]
  },
  {
   "cell_type": "code",
   "execution_count": 68,
   "metadata": {},
   "outputs": [
    {
     "data": {
      "text/plain": [
       "(7736, 6)"
      ]
     },
     "execution_count": 68,
     "metadata": {},
     "output_type": "execute_result"
    }
   ],
   "source": [
    "lel.shape"
   ]
  },
  {
   "cell_type": "code",
   "execution_count": 69,
   "metadata": {
    "collapsed": true
   },
   "outputs": [],
   "source": [
    "lel = lel.astype({\"orphanet_id_x\": np.int64, \"orphanet_id_y\":np.int64})"
   ]
  },
  {
   "cell_type": "code",
   "execution_count": 70,
   "metadata": {},
   "outputs": [
    {
     "data": {
      "text/plain": [
       "struct_id             int64\n",
       "relationship_name    object\n",
       "umls_cui             object\n",
       "snomed_id             int64\n",
       "orphanet_id_x         int64\n",
       "orphanet_id_y         int64\n",
       "dtype: object"
      ]
     },
     "execution_count": 70,
     "metadata": {},
     "output_type": "execute_result"
    }
   ],
   "source": [
    "lel.dtypes"
   ]
  },
  {
   "cell_type": "code",
   "execution_count": 71,
   "metadata": {},
   "outputs": [
    {
     "data": {
      "text/html": [
       "<div>\n",
       "<style>\n",
       "    .dataframe thead tr:only-child th {\n",
       "        text-align: right;\n",
       "    }\n",
       "\n",
       "    .dataframe thead th {\n",
       "        text-align: left;\n",
       "    }\n",
       "\n",
       "    .dataframe tbody tr th {\n",
       "        vertical-align: top;\n",
       "    }\n",
       "</style>\n",
       "<table border=\"1\" class=\"dataframe\">\n",
       "  <thead>\n",
       "    <tr style=\"text-align: right;\">\n",
       "      <th></th>\n",
       "      <th>struct_id</th>\n",
       "      <th>relationship_name</th>\n",
       "      <th>umls_cui</th>\n",
       "      <th>snomed_id</th>\n",
       "      <th>orphanet_id_x</th>\n",
       "      <th>orphanet_id_y</th>\n",
       "    </tr>\n",
       "  </thead>\n",
       "  <tbody>\n",
       "    <tr>\n",
       "      <th>54</th>\n",
       "      <td>5189</td>\n",
       "      <td>indication</td>\n",
       "      <td>C0008533</td>\n",
       "      <td>41788008</td>\n",
       "      <td>169799</td>\n",
       "      <td>98879</td>\n",
       "    </tr>\n",
       "    <tr>\n",
       "      <th>55</th>\n",
       "      <td>5189</td>\n",
       "      <td>indication</td>\n",
       "      <td>C0008533</td>\n",
       "      <td>41788008</td>\n",
       "      <td>169796</td>\n",
       "      <td>98879</td>\n",
       "    </tr>\n",
       "    <tr>\n",
       "      <th>56</th>\n",
       "      <td>5189</td>\n",
       "      <td>indication</td>\n",
       "      <td>C0008533</td>\n",
       "      <td>41788008</td>\n",
       "      <td>169793</td>\n",
       "      <td>98879</td>\n",
       "    </tr>\n",
       "    <tr>\n",
       "      <th>57</th>\n",
       "      <td>5189</td>\n",
       "      <td>indication</td>\n",
       "      <td>C0008533</td>\n",
       "      <td>41788008</td>\n",
       "      <td>177929</td>\n",
       "      <td>98879</td>\n",
       "    </tr>\n",
       "    <tr>\n",
       "      <th>58</th>\n",
       "      <td>5189</td>\n",
       "      <td>indication</td>\n",
       "      <td>C0008533</td>\n",
       "      <td>41788008</td>\n",
       "      <td>98879</td>\n",
       "      <td>98879</td>\n",
       "    </tr>\n",
       "  </tbody>\n",
       "</table>\n",
       "</div>"
      ],
      "text/plain": [
       "    struct_id relationship_name  umls_cui  snomed_id  orphanet_id_x  \\\n",
       "54       5189        indication  C0008533   41788008         169799   \n",
       "55       5189        indication  C0008533   41788008         169796   \n",
       "56       5189        indication  C0008533   41788008         169793   \n",
       "57       5189        indication  C0008533   41788008         177929   \n",
       "58       5189        indication  C0008533   41788008          98879   \n",
       "\n",
       "    orphanet_id_y  \n",
       "54          98879  \n",
       "55          98879  \n",
       "56          98879  \n",
       "57          98879  \n",
       "58          98879  "
      ]
     },
     "execution_count": 71,
     "metadata": {},
     "output_type": "execute_result"
    }
   ],
   "source": [
    "lel.head()"
   ]
  },
  {
   "cell_type": "code",
   "execution_count": 72,
   "metadata": {},
   "outputs": [
    {
     "data": {
      "text/plain": [
       "6627"
      ]
     },
     "execution_count": 72,
     "metadata": {},
     "output_type": "execute_result"
    }
   ],
   "source": [
    "(lel[\"orphanet_id_x\"] != lel[\"orphanet_id_y\"]).sum()"
   ]
  },
  {
   "cell_type": "code",
   "execution_count": null,
   "metadata": {
    "collapsed": true
   },
   "outputs": [],
   "source": []
  },
  {
   "cell_type": "code",
   "execution_count": null,
   "metadata": {
    "collapsed": true
   },
   "outputs": [],
   "source": []
  },
  {
   "cell_type": "code",
   "execution_count": null,
   "metadata": {
    "collapsed": true
   },
   "outputs": [],
   "source": []
  },
  {
   "cell_type": "code",
   "execution_count": null,
   "metadata": {
    "collapsed": true
   },
   "outputs": [],
   "source": []
  },
  {
   "cell_type": "code",
   "execution_count": null,
   "metadata": {
    "collapsed": true
   },
   "outputs": [],
   "source": []
  },
  {
   "cell_type": "code",
   "execution_count": null,
   "metadata": {
    "collapsed": true
   },
   "outputs": [],
   "source": []
  },
  {
   "cell_type": "code",
   "execution_count": null,
   "metadata": {
    "collapsed": true
   },
   "outputs": [],
   "source": []
  },
  {
   "cell_type": "code",
   "execution_count": 37,
   "metadata": {
    "collapsed": true
   },
   "outputs": [],
   "source": [
    "res = (inds\n",
    "    .drop([\"umls_cui\", \"cui_semantic_type\", \"concept_name\"], axis=1)\n",
    "    .rename(columns={\"snomed_conceptid\": \"snomed_id\"})\n",
    "    .merge(dise_map, on=\"snomed_id\", how=\"inner\")\n",
    "    .drop(\"snomed_full_name\", axis=1)\n",
    ")"
   ]
  },
  {
   "cell_type": "code",
   "execution_count": 38,
   "metadata": {},
   "outputs": [
    {
     "data": {
      "text/plain": [
       "(34578, 5)"
      ]
     },
     "execution_count": 38,
     "metadata": {},
     "output_type": "execute_result"
    }
   ],
   "source": [
    "res.shape"
   ]
  },
  {
   "cell_type": "code",
   "execution_count": 39,
   "metadata": {},
   "outputs": [
    {
     "data": {
      "text/plain": [
       "(34578, 5)"
      ]
     },
     "execution_count": 39,
     "metadata": {},
     "output_type": "execute_result"
    }
   ],
   "source": [
    "res.shape"
   ]
  },
  {
   "cell_type": "code",
   "execution_count": 40,
   "metadata": {},
   "outputs": [
    {
     "data": {
      "text/html": [
       "<div>\n",
       "<style>\n",
       "    .dataframe thead tr:only-child th {\n",
       "        text-align: right;\n",
       "    }\n",
       "\n",
       "    .dataframe thead th {\n",
       "        text-align: left;\n",
       "    }\n",
       "\n",
       "    .dataframe tbody tr th {\n",
       "        vertical-align: top;\n",
       "    }\n",
       "</style>\n",
       "<table border=\"1\" class=\"dataframe\">\n",
       "  <thead>\n",
       "    <tr style=\"text-align: right;\">\n",
       "      <th></th>\n",
       "      <th>struct_id</th>\n",
       "      <th>relationship_name</th>\n",
       "      <th>snomed_id</th>\n",
       "      <th>dise_name</th>\n",
       "      <th>orphanet_id</th>\n",
       "    </tr>\n",
       "  </thead>\n",
       "  <tbody>\n",
       "    <tr>\n",
       "      <th>0</th>\n",
       "      <td>76</td>\n",
       "      <td>indication</td>\n",
       "      <td>3744001</td>\n",
       "      <td>Major hypertriglyceridemia</td>\n",
       "      <td>181425</td>\n",
       "    </tr>\n",
       "    <tr>\n",
       "      <th>1</th>\n",
       "      <td>76</td>\n",
       "      <td>indication</td>\n",
       "      <td>3744001</td>\n",
       "      <td>Rare hyperlipidemia</td>\n",
       "      <td>181422</td>\n",
       "    </tr>\n",
       "    <tr>\n",
       "      <th>2</th>\n",
       "      <td>76</td>\n",
       "      <td>indication</td>\n",
       "      <td>3744001</td>\n",
       "      <td>Hyperlipoproteinemia type 3</td>\n",
       "      <td>412</td>\n",
       "    </tr>\n",
       "    <tr>\n",
       "      <th>3</th>\n",
       "      <td>76</td>\n",
       "      <td>indication</td>\n",
       "      <td>3744001</td>\n",
       "      <td>Familial lipoprotein lipase deficiency</td>\n",
       "      <td>309015</td>\n",
       "    </tr>\n",
       "    <tr>\n",
       "      <th>4</th>\n",
       "      <td>76</td>\n",
       "      <td>indication</td>\n",
       "      <td>3744001</td>\n",
       "      <td>Familial apolipoprotein C-II deficiency</td>\n",
       "      <td>309020</td>\n",
       "    </tr>\n",
       "  </tbody>\n",
       "</table>\n",
       "</div>"
      ],
      "text/plain": [
       "   struct_id relationship_name  snomed_id  \\\n",
       "0         76        indication    3744001   \n",
       "1         76        indication    3744001   \n",
       "2         76        indication    3744001   \n",
       "3         76        indication    3744001   \n",
       "4         76        indication    3744001   \n",
       "\n",
       "                                 dise_name  orphanet_id  \n",
       "0               Major hypertriglyceridemia       181425  \n",
       "1                      Rare hyperlipidemia       181422  \n",
       "2              Hyperlipoproteinemia type 3          412  \n",
       "3   Familial lipoprotein lipase deficiency       309015  \n",
       "4  Familial apolipoprotein C-II deficiency       309020  "
      ]
     },
     "execution_count": 40,
     "metadata": {},
     "output_type": "execute_result"
    }
   ],
   "source": [
    "res.head()"
   ]
  },
  {
   "cell_type": "markdown",
   "metadata": {},
   "source": [
    "### Add in chemical names"
   ]
  },
  {
   "cell_type": "code",
   "execution_count": 29,
   "metadata": {
    "collapsed": true
   },
   "outputs": [],
   "source": [
    "dnames = (pd\n",
    "    .read_csv(\"../data/drug_names.csv\")\n",
    "    [[\"id\", \"name\"]]\n",
    "    .rename(columns={\n",
    "        \"id\": \"struct_id\",\n",
    "        \"name\": \"drug_name\"\n",
    "    })\n",
    ")\n",
    "\n",
    "good = (res\n",
    "    [[\"struct_id\", \"relationship_name\", \"orphanet_id\", \"dise_name\", \"dise_type\"]]\n",
    "    .drop_duplicates()\n",
    "    .merge(dnames, how=\"left\", on=\"struct_id\")\n",
    ")"
   ]
  },
  {
   "cell_type": "markdown",
   "metadata": {},
   "source": [
    "## Information about results"
   ]
  },
  {
   "cell_type": "code",
   "execution_count": 30,
   "metadata": {},
   "outputs": [
    {
     "data": {
      "text/plain": [
       "(33087, 6)"
      ]
     },
     "execution_count": 30,
     "metadata": {},
     "output_type": "execute_result"
    }
   ],
   "source": [
    "good.shape"
   ]
  },
  {
   "cell_type": "code",
   "execution_count": 31,
   "metadata": {},
   "outputs": [
    {
     "data": {
      "text/html": [
       "<div>\n",
       "<style>\n",
       "    .dataframe thead tr:only-child th {\n",
       "        text-align: right;\n",
       "    }\n",
       "\n",
       "    .dataframe thead th {\n",
       "        text-align: left;\n",
       "    }\n",
       "\n",
       "    .dataframe tbody tr th {\n",
       "        vertical-align: top;\n",
       "    }\n",
       "</style>\n",
       "<table border=\"1\" class=\"dataframe\">\n",
       "  <thead>\n",
       "    <tr style=\"text-align: right;\">\n",
       "      <th></th>\n",
       "      <th>struct_id</th>\n",
       "      <th>relationship_name</th>\n",
       "      <th>orphanet_id</th>\n",
       "      <th>dise_name</th>\n",
       "      <th>dise_type</th>\n",
       "      <th>drug_name</th>\n",
       "    </tr>\n",
       "  </thead>\n",
       "  <tbody>\n",
       "    <tr>\n",
       "      <th>0</th>\n",
       "      <td>76</td>\n",
       "      <td>indication</td>\n",
       "      <td>181425</td>\n",
       "      <td>Major hypertriglyceridemia</td>\n",
       "      <td>rare_genetic</td>\n",
       "      <td>acipimox</td>\n",
       "    </tr>\n",
       "    <tr>\n",
       "      <th>1</th>\n",
       "      <td>76</td>\n",
       "      <td>indication</td>\n",
       "      <td>181422</td>\n",
       "      <td>Rare hyperlipidemia</td>\n",
       "      <td>rare_genetic</td>\n",
       "      <td>acipimox</td>\n",
       "    </tr>\n",
       "    <tr>\n",
       "      <th>2</th>\n",
       "      <td>76</td>\n",
       "      <td>indication</td>\n",
       "      <td>412</td>\n",
       "      <td>Hyperlipoproteinemia type 3</td>\n",
       "      <td>rare_genetic</td>\n",
       "      <td>acipimox</td>\n",
       "    </tr>\n",
       "    <tr>\n",
       "      <th>3</th>\n",
       "      <td>76</td>\n",
       "      <td>indication</td>\n",
       "      <td>309015</td>\n",
       "      <td>Familial lipoprotein lipase deficiency</td>\n",
       "      <td>rare_genetic</td>\n",
       "      <td>acipimox</td>\n",
       "    </tr>\n",
       "    <tr>\n",
       "      <th>4</th>\n",
       "      <td>76</td>\n",
       "      <td>indication</td>\n",
       "      <td>309020</td>\n",
       "      <td>Familial apolipoprotein C-II deficiency</td>\n",
       "      <td>rare_genetic</td>\n",
       "      <td>acipimox</td>\n",
       "    </tr>\n",
       "  </tbody>\n",
       "</table>\n",
       "</div>"
      ],
      "text/plain": [
       "   struct_id relationship_name  orphanet_id  \\\n",
       "0         76        indication       181425   \n",
       "1         76        indication       181422   \n",
       "2         76        indication          412   \n",
       "3         76        indication       309015   \n",
       "4         76        indication       309020   \n",
       "\n",
       "                                 dise_name     dise_type drug_name  \n",
       "0               Major hypertriglyceridemia  rare_genetic  acipimox  \n",
       "1                      Rare hyperlipidemia  rare_genetic  acipimox  \n",
       "2              Hyperlipoproteinemia type 3  rare_genetic  acipimox  \n",
       "3   Familial lipoprotein lipase deficiency  rare_genetic  acipimox  \n",
       "4  Familial apolipoprotein C-II deficiency  rare_genetic  acipimox  "
      ]
     },
     "execution_count": 31,
     "metadata": {},
     "output_type": "execute_result"
    }
   ],
   "source": [
    "good.head()"
   ]
  },
  {
   "cell_type": "markdown",
   "metadata": {},
   "source": [
    "### Statistics"
   ]
  },
  {
   "cell_type": "code",
   "execution_count": 32,
   "metadata": {},
   "outputs": [
    {
     "data": {
      "text/plain": [
       "1488"
      ]
     },
     "execution_count": 32,
     "metadata": {},
     "output_type": "execute_result"
    }
   ],
   "source": [
    "good[\"struct_id\"].nunique()"
   ]
  },
  {
   "cell_type": "code",
   "execution_count": 33,
   "metadata": {},
   "outputs": [
    {
     "data": {
      "text/plain": [
       "1753"
      ]
     },
     "execution_count": 33,
     "metadata": {},
     "output_type": "execute_result"
    }
   ],
   "source": [
    "good[\"orphanet_id\"].nunique()"
   ]
  },
  {
   "cell_type": "code",
   "execution_count": 34,
   "metadata": {},
   "outputs": [
    {
     "data": {
      "text/plain": [
       "contraindication    25892\n",
       "indication           5287\n",
       "off-label use        1908\n",
       "Name: relationship_name, dtype: int64"
      ]
     },
     "execution_count": 34,
     "metadata": {},
     "output_type": "execute_result"
    }
   ],
   "source": [
    "good[\"relationship_name\"].value_counts()"
   ]
  },
  {
   "cell_type": "code",
   "execution_count": 35,
   "metadata": {},
   "outputs": [
    {
     "data": {
      "text/plain": [
       "rare_genetic    24595\n",
       "not_genetic      8492\n",
       "Name: dise_type, dtype: int64"
      ]
     },
     "execution_count": 35,
     "metadata": {},
     "output_type": "execute_result"
    }
   ],
   "source": [
    "good[\"dise_type\"].value_counts()"
   ]
  },
  {
   "cell_type": "code",
   "execution_count": 36,
   "metadata": {},
   "outputs": [
    {
     "data": {
      "text/plain": [
       "dise_type     relationship_name\n",
       "not_genetic   contraindication      5412\n",
       "              indication            2198\n",
       "              off-label use          882\n",
       "rare_genetic  contraindication     20480\n",
       "              indication            3089\n",
       "              off-label use         1026\n",
       "dtype: int64"
      ]
     },
     "execution_count": 36,
     "metadata": {},
     "output_type": "execute_result"
    }
   ],
   "source": [
    "good.groupby([\"dise_type\", \"relationship_name\"]).size()"
   ]
  },
  {
   "cell_type": "markdown",
   "metadata": {},
   "source": [
    "About half of the indications in the data are for non genetic rare diseases."
   ]
  },
  {
   "cell_type": "code",
   "execution_count": 37,
   "metadata": {},
   "outputs": [
    {
     "data": {
      "text/plain": [
       "dise_type     relationship_name\n",
       "not_genetic   contraindication     286\n",
       "              indication           410\n",
       "              off-label use        210\n",
       "rare_genetic  contraindication     872\n",
       "              indication           879\n",
       "              off-label use        663\n",
       "Name: orphanet_id, dtype: int64"
      ]
     },
     "execution_count": 37,
     "metadata": {},
     "output_type": "execute_result"
    }
   ],
   "source": [
    "good.groupby([\"dise_type\", \"relationship_name\"])[\"orphanet_id\"].nunique()"
   ]
  },
  {
   "cell_type": "code",
   "execution_count": 38,
   "metadata": {},
   "outputs": [
    {
     "data": {
      "text/plain": [
       "relationship_name\n",
       "contraindication    1158\n",
       "indication          1289\n",
       "off-label use        873\n",
       "Name: orphanet_id, dtype: int64"
      ]
     },
     "execution_count": 38,
     "metadata": {},
     "output_type": "execute_result"
    }
   ],
   "source": [
    "good.groupby(\"relationship_name\")[\"orphanet_id\"].nunique()"
   ]
  },
  {
   "cell_type": "code",
   "execution_count": 39,
   "metadata": {},
   "outputs": [
    {
     "data": {
      "text/plain": [
       "relationship_name\n",
       "contraindication    1111\n",
       "indication           754\n",
       "off-label use        248\n",
       "Name: struct_id, dtype: int64"
      ]
     },
     "execution_count": 39,
     "metadata": {},
     "output_type": "execute_result"
    }
   ],
   "source": [
    "good.groupby(\"relationship_name\")[\"struct_id\"].nunique()"
   ]
  },
  {
   "cell_type": "code",
   "execution_count": 40,
   "metadata": {},
   "outputs": [
    {
     "data": {
      "text/plain": [
       "1    381\n",
       "3    315\n",
       "4    160\n",
       "2    158\n",
       "8     79\n",
       "dtype: int64"
      ]
     },
     "execution_count": 40,
     "metadata": {},
     "output_type": "execute_result"
    }
   ],
   "source": [
    "good.query(\"relationship_name == 'indication'\").groupby(\"orphanet_id\").size().value_counts().head()"
   ]
  },
  {
   "cell_type": "markdown",
   "metadata": {},
   "source": [
    "Drugcentral contains at least 5k drug indications for 1300 diseases with hundreds of different drugs. It seems that there are plenty of rare disease indications that we can integrate into the rephetio network."
   ]
  },
  {
   "cell_type": "markdown",
   "metadata": {},
   "source": [
    "---"
   ]
  },
  {
   "cell_type": "markdown",
   "metadata": {},
   "source": [
    "## Output to file"
   ]
  },
  {
   "cell_type": "code",
   "execution_count": 41,
   "metadata": {
    "collapsed": true
   },
   "outputs": [],
   "source": [
    "good.to_csv(\"rare_disease_indications.tsv\", sep='\\t', index=False)"
   ]
  }
 ],
 "metadata": {
  "kernelspec": {
   "display_name": "Python 3",
   "language": "python",
   "name": "python3"
  },
  "language_info": {
   "codemirror_mode": {
    "name": "ipython",
    "version": 3
   },
   "file_extension": ".py",
   "mimetype": "text/x-python",
   "name": "python",
   "nbconvert_exporter": "python",
   "pygments_lexer": "ipython3",
   "version": "3.5.3"
  }
 },
 "nbformat": 4,
 "nbformat_minor": 2
}
