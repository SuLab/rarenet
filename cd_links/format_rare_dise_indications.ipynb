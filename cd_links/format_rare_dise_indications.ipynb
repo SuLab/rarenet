{
 "cells": [
  {
   "cell_type": "markdown",
   "metadata": {},
   "source": [
    "# Format DrugCentral indications for rare diseases"
   ]
  },
  {
   "cell_type": "code",
   "execution_count": 1,
   "metadata": {
    "collapsed": true
   },
   "outputs": [],
   "source": [
    "import pandas as pd\n",
    "import numpy as np"
   ]
  },
  {
   "cell_type": "markdown",
   "metadata": {},
   "source": [
    "## Read rare disease data"
   ]
  },
  {
   "cell_type": "code",
   "execution_count": 2,
   "metadata": {
    "collapsed": true
   },
   "outputs": [],
   "source": [
    "rare_dises = pd.read_csv(\"data/rare_disease_info.tsv\", sep='\\t')"
   ]
  },
  {
   "cell_type": "code",
   "execution_count": 3,
   "metadata": {},
   "outputs": [
    {
     "data": {
      "text/html": [
       "<div>\n",
       "<style>\n",
       "    .dataframe thead tr:only-child th {\n",
       "        text-align: right;\n",
       "    }\n",
       "\n",
       "    .dataframe thead th {\n",
       "        text-align: left;\n",
       "    }\n",
       "\n",
       "    .dataframe tbody tr th {\n",
       "        vertical-align: top;\n",
       "    }\n",
       "</style>\n",
       "<table border=\"1\" class=\"dataframe\">\n",
       "  <thead>\n",
       "    <tr style=\"text-align: right;\">\n",
       "      <th></th>\n",
       "      <th>dise_name</th>\n",
       "      <th>orphanet_id</th>\n",
       "      <th>ref_id</th>\n",
       "      <th>ref_name</th>\n",
       "      <th>dise_type</th>\n",
       "    </tr>\n",
       "  </thead>\n",
       "  <tbody>\n",
       "    <tr>\n",
       "      <th>0</th>\n",
       "      <td>Multiple epiphyseal dysplasia, Al-Gazali type</td>\n",
       "      <td>166024</td>\n",
       "      <td>607131</td>\n",
       "      <td>OMIM</td>\n",
       "      <td>rare_genetic</td>\n",
       "    </tr>\n",
       "    <tr>\n",
       "      <th>1</th>\n",
       "      <td>Multiple epiphyseal dysplasia, Al-Gazali type</td>\n",
       "      <td>166024</td>\n",
       "      <td>C1846722</td>\n",
       "      <td>UMLS</td>\n",
       "      <td>rare_genetic</td>\n",
       "    </tr>\n",
       "  </tbody>\n",
       "</table>\n",
       "</div>"
      ],
      "text/plain": [
       "                                       dise_name  orphanet_id    ref_id  \\\n",
       "0  Multiple epiphyseal dysplasia, Al-Gazali type       166024    607131   \n",
       "1  Multiple epiphyseal dysplasia, Al-Gazali type       166024  C1846722   \n",
       "\n",
       "  ref_name     dise_type  \n",
       "0     OMIM  rare_genetic  \n",
       "1     UMLS  rare_genetic  "
      ]
     },
     "execution_count": 3,
     "metadata": {},
     "output_type": "execute_result"
    }
   ],
   "source": [
    "rare_dises.head(2)"
   ]
  },
  {
   "cell_type": "markdown",
   "metadata": {},
   "source": [
    "---"
   ]
  },
  {
   "cell_type": "markdown",
   "metadata": {},
   "source": [
    "## Rare disease identifier conversion\n",
    "\n",
    "Rare diseases are best identified by ICD-10 ids. However, the diseases in the DrugCentral indications are in UMLS and SNOMED namespace.\n",
    "\n",
    "We will try to use ICD-10 (to SNOMED) and UMLS ids to try and map the rare diseases to diseases in the indications file."
   ]
  },
  {
   "cell_type": "code",
   "execution_count": 4,
   "metadata": {},
   "outputs": [
    {
     "data": {
      "text/plain": [
       "7945"
      ]
     },
     "execution_count": 4,
     "metadata": {},
     "output_type": "execute_result"
    }
   ],
   "source": [
    "rare_dises[\"orphanet_id\"].nunique()"
   ]
  },
  {
   "cell_type": "code",
   "execution_count": 5,
   "metadata": {},
   "outputs": [
    {
     "data": {
      "text/plain": [
       "ref_name\n",
       "ICD-10    7058\n",
       "UMLS      4838\n",
       "OMIM      4436\n",
       "MeSH      1758\n",
       "MedDRA    1164\n",
       "Name: orphanet_id, dtype: int64"
      ]
     },
     "execution_count": 5,
     "metadata": {},
     "output_type": "execute_result"
    }
   ],
   "source": [
    "rare_dises.groupby(\"ref_name\")[\"orphanet_id\"].nunique().sort_values(ascending=False)"
   ]
  },
  {
   "cell_type": "markdown",
   "metadata": {},
   "source": [
    "## Convert rare diseases to SNOMED\n",
    "\n",
    "Rare OrphaNet diseases are best referenced by ICD-10. We will use UMLS if ICD-10 ids don't exist."
   ]
  },
  {
   "cell_type": "code",
   "execution_count": 6,
   "metadata": {
    "collapsed": true
   },
   "outputs": [],
   "source": [
    "rare_dises = rare_dises.query(\"ref_name in('UMLS', 'ICD-10')\")"
   ]
  },
  {
   "cell_type": "code",
   "execution_count": 7,
   "metadata": {},
   "outputs": [
    {
     "data": {
      "text/plain": [
       "7735"
      ]
     },
     "execution_count": 7,
     "metadata": {},
     "output_type": "execute_result"
    }
   ],
   "source": [
    "rare_dises[\"orphanet_id\"].nunique()"
   ]
  },
  {
   "cell_type": "markdown",
   "metadata": {},
   "source": [
    "Using a combination of the two id types gives 95% coverage of the Orphanet diseases. We will ignore the remaining 5% because they are not likely to have drug indications anyways."
   ]
  },
  {
   "cell_type": "markdown",
   "metadata": {},
   "source": [
    "### Orphanet to UMLS map"
   ]
  },
  {
   "cell_type": "code",
   "execution_count": 8,
   "metadata": {
    "collapsed": true
   },
   "outputs": [],
   "source": [
    "# orphanet to umls map\n",
    "# one umls cui may have multiple orphanet ids\n",
    "\n",
    "umls_map = (rare_dises\n",
    "    .query(\"ref_name == 'UMLS'\")\n",
    "    [[\"orphanet_id\", \"ref_id\"]]\n",
    "    .rename(columns={\"ref_id\": \"umls_cui\"})\n",
    ")"
   ]
  },
  {
   "cell_type": "code",
   "execution_count": 9,
   "metadata": {},
   "outputs": [
    {
     "data": {
      "text/html": [
       "<div>\n",
       "<style>\n",
       "    .dataframe thead tr:only-child th {\n",
       "        text-align: right;\n",
       "    }\n",
       "\n",
       "    .dataframe thead th {\n",
       "        text-align: left;\n",
       "    }\n",
       "\n",
       "    .dataframe tbody tr th {\n",
       "        vertical-align: top;\n",
       "    }\n",
       "</style>\n",
       "<table border=\"1\" class=\"dataframe\">\n",
       "  <thead>\n",
       "    <tr style=\"text-align: right;\">\n",
       "      <th></th>\n",
       "      <th>orphanet_id</th>\n",
       "      <th>umls_cui</th>\n",
       "    </tr>\n",
       "  </thead>\n",
       "  <tbody>\n",
       "    <tr>\n",
       "      <th>1</th>\n",
       "      <td>166024</td>\n",
       "      <td>C1846722</td>\n",
       "    </tr>\n",
       "    <tr>\n",
       "      <th>4</th>\n",
       "      <td>166032</td>\n",
       "      <td>C1836307</td>\n",
       "    </tr>\n",
       "  </tbody>\n",
       "</table>\n",
       "</div>"
      ],
      "text/plain": [
       "   orphanet_id  umls_cui\n",
       "1       166024  C1846722\n",
       "4       166032  C1836307"
      ]
     },
     "execution_count": 9,
     "metadata": {},
     "output_type": "execute_result"
    }
   ],
   "source": [
    "umls_map.head(2)"
   ]
  },
  {
   "cell_type": "markdown",
   "metadata": {},
   "source": [
    "## Orphanet to ICD-10 to SNOMED map"
   ]
  },
  {
   "cell_type": "code",
   "execution_count": 10,
   "metadata": {
    "collapsed": true
   },
   "outputs": [],
   "source": [
    "rare_icd = (rare_dises\n",
    "    .query(\"ref_name == 'ICD-10'\")\n",
    "    [[\"orphanet_id\", \"ref_id\"]]\n",
    "    .rename(columns={\"ref_id\": \"icd_id\"})\n",
    ")"
   ]
  },
  {
   "cell_type": "code",
   "execution_count": 11,
   "metadata": {},
   "outputs": [
    {
     "data": {
      "text/html": [
       "<div>\n",
       "<style>\n",
       "    .dataframe thead tr:only-child th {\n",
       "        text-align: right;\n",
       "    }\n",
       "\n",
       "    .dataframe thead th {\n",
       "        text-align: left;\n",
       "    }\n",
       "\n",
       "    .dataframe tbody tr th {\n",
       "        vertical-align: top;\n",
       "    }\n",
       "</style>\n",
       "<table border=\"1\" class=\"dataframe\">\n",
       "  <thead>\n",
       "    <tr style=\"text-align: right;\">\n",
       "      <th></th>\n",
       "      <th>orphanet_id</th>\n",
       "      <th>icd_id</th>\n",
       "    </tr>\n",
       "  </thead>\n",
       "  <tbody>\n",
       "    <tr>\n",
       "      <th>2</th>\n",
       "      <td>166024</td>\n",
       "      <td>Q77.3</td>\n",
       "    </tr>\n",
       "    <tr>\n",
       "      <th>5</th>\n",
       "      <td>166032</td>\n",
       "      <td>Q77.3</td>\n",
       "    </tr>\n",
       "  </tbody>\n",
       "</table>\n",
       "</div>"
      ],
      "text/plain": [
       "   orphanet_id icd_id\n",
       "2       166024  Q77.3\n",
       "5       166032  Q77.3"
      ]
     },
     "execution_count": 11,
     "metadata": {},
     "output_type": "execute_result"
    }
   ],
   "source": [
    "rare_icd.head(2)"
   ]
  },
  {
   "cell_type": "markdown",
   "metadata": {},
   "source": [
    "### Convert ICD-10 to SNOMED"
   ]
  },
  {
   "cell_type": "code",
   "execution_count": 12,
   "metadata": {
    "collapsed": true
   },
   "outputs": [],
   "source": [
    "mapping = pd.read_csv(\"data/snomed_icd10_map.tsv\", sep='\\t')"
   ]
  },
  {
   "cell_type": "code",
   "execution_count": 13,
   "metadata": {},
   "outputs": [
    {
     "data": {
      "text/html": [
       "<div>\n",
       "<style>\n",
       "    .dataframe thead tr:only-child th {\n",
       "        text-align: right;\n",
       "    }\n",
       "\n",
       "    .dataframe thead th {\n",
       "        text-align: left;\n",
       "    }\n",
       "\n",
       "    .dataframe tbody tr th {\n",
       "        vertical-align: top;\n",
       "    }\n",
       "</style>\n",
       "<table border=\"1\" class=\"dataframe\">\n",
       "  <thead>\n",
       "    <tr style=\"text-align: right;\">\n",
       "      <th></th>\n",
       "      <th>snomed_id</th>\n",
       "      <th>snomed_name</th>\n",
       "      <th>icd_id</th>\n",
       "      <th>icd_name</th>\n",
       "    </tr>\n",
       "  </thead>\n",
       "  <tbody>\n",
       "    <tr>\n",
       "      <th>0</th>\n",
       "      <td>109006</td>\n",
       "      <td>Anxiety disorder of childhood OR adolescence (...</td>\n",
       "      <td>F93.0</td>\n",
       "      <td>Separation anxiety disorder of childhood</td>\n",
       "    </tr>\n",
       "    <tr>\n",
       "      <th>1</th>\n",
       "      <td>109006</td>\n",
       "      <td>Anxiety disorder of childhood OR adolescence (...</td>\n",
       "      <td>F40.8</td>\n",
       "      <td>Other phobic anxiety disorders</td>\n",
       "    </tr>\n",
       "  </tbody>\n",
       "</table>\n",
       "</div>"
      ],
      "text/plain": [
       "   snomed_id                                        snomed_name icd_id  \\\n",
       "0     109006  Anxiety disorder of childhood OR adolescence (...  F93.0   \n",
       "1     109006  Anxiety disorder of childhood OR adolescence (...  F40.8   \n",
       "\n",
       "                                   icd_name  \n",
       "0  Separation anxiety disorder of childhood  \n",
       "1            Other phobic anxiety disorders  "
      ]
     },
     "execution_count": 13,
     "metadata": {},
     "output_type": "execute_result"
    }
   ],
   "source": [
    "mapping.head(2)"
   ]
  },
  {
   "cell_type": "code",
   "execution_count": 14,
   "metadata": {
    "collapsed": true
   },
   "outputs": [],
   "source": [
    "rare_sno = rare_icd.merge(\n",
    "    mapping[[\"snomed_id\", \"icd_id\"]], how=\"inner\", on=\"icd_id\"\n",
    ")"
   ]
  },
  {
   "cell_type": "code",
   "execution_count": 15,
   "metadata": {},
   "outputs": [
    {
     "data": {
      "text/html": [
       "<div>\n",
       "<style>\n",
       "    .dataframe thead tr:only-child th {\n",
       "        text-align: right;\n",
       "    }\n",
       "\n",
       "    .dataframe thead th {\n",
       "        text-align: left;\n",
       "    }\n",
       "\n",
       "    .dataframe tbody tr th {\n",
       "        vertical-align: top;\n",
       "    }\n",
       "</style>\n",
       "<table border=\"1\" class=\"dataframe\">\n",
       "  <thead>\n",
       "    <tr style=\"text-align: right;\">\n",
       "      <th></th>\n",
       "      <th>orphanet_id</th>\n",
       "      <th>icd_id</th>\n",
       "      <th>snomed_id</th>\n",
       "    </tr>\n",
       "  </thead>\n",
       "  <tbody>\n",
       "    <tr>\n",
       "      <th>0</th>\n",
       "      <td>166024</td>\n",
       "      <td>Q77.3</td>\n",
       "      <td>76556008</td>\n",
       "    </tr>\n",
       "    <tr>\n",
       "      <th>1</th>\n",
       "      <td>166024</td>\n",
       "      <td>Q77.3</td>\n",
       "      <td>205465004</td>\n",
       "    </tr>\n",
       "  </tbody>\n",
       "</table>\n",
       "</div>"
      ],
      "text/plain": [
       "   orphanet_id icd_id  snomed_id\n",
       "0       166024  Q77.3   76556008\n",
       "1       166024  Q77.3  205465004"
      ]
     },
     "execution_count": 15,
     "metadata": {},
     "output_type": "execute_result"
    }
   ],
   "source": [
    "rare_sno.head(2)"
   ]
  },
  {
   "cell_type": "markdown",
   "metadata": {},
   "source": [
    "---"
   ]
  },
  {
   "cell_type": "markdown",
   "metadata": {},
   "source": [
    "## Match to indications\n",
    "\n",
    "The drug central indications are given with snomed ids as diseases, so we will use that to cross reference to see which indications are about rare diseases."
   ]
  },
  {
   "cell_type": "markdown",
   "metadata": {},
   "source": [
    "## Read indications"
   ]
  },
  {
   "cell_type": "code",
   "execution_count": 16,
   "metadata": {},
   "outputs": [
    {
     "name": "stdout",
     "output_type": "stream",
     "text": [
      "10254\n"
     ]
    }
   ],
   "source": [
    "inds = (pd\n",
    "    .read_csv(\"data/simple_indications.tsv\", sep='\\t')\n",
    "    .query(\"relationship_name != 'contraindication'\")\n",
    "    .rename(columns={\"snomed_conceptid\": \"snomed_id\"})\n",
    ")\n",
    "\n",
    "print(len(inds))"
   ]
  },
  {
   "cell_type": "code",
   "execution_count": 17,
   "metadata": {},
   "outputs": [
    {
     "data": {
      "text/html": [
       "<div>\n",
       "<style>\n",
       "    .dataframe thead tr:only-child th {\n",
       "        text-align: right;\n",
       "    }\n",
       "\n",
       "    .dataframe thead th {\n",
       "        text-align: left;\n",
       "    }\n",
       "\n",
       "    .dataframe tbody tr th {\n",
       "        vertical-align: top;\n",
       "    }\n",
       "</style>\n",
       "<table border=\"1\" class=\"dataframe\">\n",
       "  <thead>\n",
       "    <tr style=\"text-align: right;\">\n",
       "      <th></th>\n",
       "      <th>struct_id</th>\n",
       "      <th>relationship_name</th>\n",
       "      <th>disease_name</th>\n",
       "      <th>umls_cui</th>\n",
       "      <th>snomed_id</th>\n",
       "    </tr>\n",
       "  </thead>\n",
       "  <tbody>\n",
       "    <tr>\n",
       "      <th>0</th>\n",
       "      <td>1253</td>\n",
       "      <td>indication</td>\n",
       "      <td>Tuberculosis</td>\n",
       "      <td>C0041296</td>\n",
       "      <td>56717001</td>\n",
       "    </tr>\n",
       "    <tr>\n",
       "      <th>1</th>\n",
       "      <td>5203</td>\n",
       "      <td>indication</td>\n",
       "      <td>Malignant tumor of ovary</td>\n",
       "      <td>C1140680</td>\n",
       "      <td>363443007</td>\n",
       "    </tr>\n",
       "  </tbody>\n",
       "</table>\n",
       "</div>"
      ],
      "text/plain": [
       "   struct_id relationship_name              disease_name  umls_cui  snomed_id\n",
       "0       1253        indication              Tuberculosis  C0041296   56717001\n",
       "1       5203        indication  Malignant tumor of ovary  C1140680  363443007"
      ]
     },
     "execution_count": 17,
     "metadata": {},
     "output_type": "execute_result"
    }
   ],
   "source": [
    "inds.head(2)"
   ]
  },
  {
   "cell_type": "markdown",
   "metadata": {},
   "source": [
    "---"
   ]
  },
  {
   "cell_type": "markdown",
   "metadata": {},
   "source": [
    "## Cross reference with Orphanet"
   ]
  },
  {
   "cell_type": "code",
   "execution_count": 18,
   "metadata": {
    "collapsed": true
   },
   "outputs": [],
   "source": [
    "res = pd.concat([\n",
    "    inds.merge(\n",
    "        umls_map, how=\"inner\", on=\"umls_cui\"\n",
    "    ),\n",
    "    inds.merge(\n",
    "        rare_sno[[\"orphanet_id\", \"snomed_id\"]].drop_duplicates(),\n",
    "        how=\"inner\", on=\"snomed_id\"    \n",
    "    )\n",
    "])"
   ]
  },
  {
   "cell_type": "code",
   "execution_count": 19,
   "metadata": {},
   "outputs": [
    {
     "data": {
      "text/plain": [
       "(9656, 6)"
      ]
     },
     "execution_count": 19,
     "metadata": {},
     "output_type": "execute_result"
    }
   ],
   "source": [
    "res.shape"
   ]
  },
  {
   "cell_type": "code",
   "execution_count": 20,
   "metadata": {},
   "outputs": [
    {
     "data": {
      "text/html": [
       "<div>\n",
       "<style>\n",
       "    .dataframe thead tr:only-child th {\n",
       "        text-align: right;\n",
       "    }\n",
       "\n",
       "    .dataframe thead th {\n",
       "        text-align: left;\n",
       "    }\n",
       "\n",
       "    .dataframe tbody tr th {\n",
       "        vertical-align: top;\n",
       "    }\n",
       "</style>\n",
       "<table border=\"1\" class=\"dataframe\">\n",
       "  <thead>\n",
       "    <tr style=\"text-align: right;\">\n",
       "      <th></th>\n",
       "      <th>struct_id</th>\n",
       "      <th>relationship_name</th>\n",
       "      <th>disease_name</th>\n",
       "      <th>umls_cui</th>\n",
       "      <th>snomed_id</th>\n",
       "      <th>orphanet_id</th>\n",
       "    </tr>\n",
       "  </thead>\n",
       "  <tbody>\n",
       "    <tr>\n",
       "      <th>0</th>\n",
       "      <td>1253</td>\n",
       "      <td>indication</td>\n",
       "      <td>Tuberculosis</td>\n",
       "      <td>C0041296</td>\n",
       "      <td>56717001</td>\n",
       "      <td>3389</td>\n",
       "    </tr>\n",
       "    <tr>\n",
       "      <th>1</th>\n",
       "      <td>5203</td>\n",
       "      <td>indication</td>\n",
       "      <td>Malignant tumor of ovary</td>\n",
       "      <td>C1140680</td>\n",
       "      <td>363443007</td>\n",
       "      <td>213500</td>\n",
       "    </tr>\n",
       "    <tr>\n",
       "      <th>2</th>\n",
       "      <td>1667</td>\n",
       "      <td>off-label use</td>\n",
       "      <td>Malignant tumor of ovary</td>\n",
       "      <td>C1140680</td>\n",
       "      <td>363443007</td>\n",
       "      <td>213500</td>\n",
       "    </tr>\n",
       "    <tr>\n",
       "      <th>3</th>\n",
       "      <td>2707</td>\n",
       "      <td>indication</td>\n",
       "      <td>Malignant tumor of ovary</td>\n",
       "      <td>C1140680</td>\n",
       "      <td>363443007</td>\n",
       "      <td>213500</td>\n",
       "    </tr>\n",
       "    <tr>\n",
       "      <th>4</th>\n",
       "      <td>1678</td>\n",
       "      <td>indication</td>\n",
       "      <td>Malignant tumor of ovary</td>\n",
       "      <td>C1140680</td>\n",
       "      <td>363443007</td>\n",
       "      <td>213500</td>\n",
       "    </tr>\n",
       "  </tbody>\n",
       "</table>\n",
       "</div>"
      ],
      "text/plain": [
       "   struct_id relationship_name              disease_name  umls_cui  snomed_id  \\\n",
       "0       1253        indication              Tuberculosis  C0041296   56717001   \n",
       "1       5203        indication  Malignant tumor of ovary  C1140680  363443007   \n",
       "2       1667     off-label use  Malignant tumor of ovary  C1140680  363443007   \n",
       "3       2707        indication  Malignant tumor of ovary  C1140680  363443007   \n",
       "4       1678        indication  Malignant tumor of ovary  C1140680  363443007   \n",
       "\n",
       "   orphanet_id  \n",
       "0         3389  \n",
       "1       213500  \n",
       "2       213500  \n",
       "3       213500  \n",
       "4       213500  "
      ]
     },
     "execution_count": 20,
     "metadata": {},
     "output_type": "execute_result"
    }
   ],
   "source": [
    "res.head()"
   ]
  },
  {
   "cell_type": "markdown",
   "metadata": {},
   "source": [
    "---"
   ]
  },
  {
   "cell_type": "markdown",
   "metadata": {},
   "source": [
    "## Add in disease names from Orphanet"
   ]
  },
  {
   "cell_type": "code",
   "execution_count": 21,
   "metadata": {
    "collapsed": true
   },
   "outputs": [],
   "source": [
    "res = (res\n",
    "    [[\"struct_id\", \"relationship_name\", \"orphanet_id\"]]\n",
    "    .merge(\n",
    "        rare_dises[[\"orphanet_id\", \"dise_name\", \"dise_type\"]],\n",
    "        how=\"inner\", on=\"orphanet_id\"\n",
    "    )\n",
    "    .drop_duplicates()       \n",
    ")"
   ]
  },
  {
   "cell_type": "code",
   "execution_count": 22,
   "metadata": {},
   "outputs": [
    {
     "data": {
      "text/plain": [
       "(8297, 5)"
      ]
     },
     "execution_count": 22,
     "metadata": {},
     "output_type": "execute_result"
    }
   ],
   "source": [
    "res.shape"
   ]
  },
  {
   "cell_type": "code",
   "execution_count": 23,
   "metadata": {},
   "outputs": [
    {
     "data": {
      "text/html": [
       "<div>\n",
       "<style>\n",
       "    .dataframe thead tr:only-child th {\n",
       "        text-align: right;\n",
       "    }\n",
       "\n",
       "    .dataframe thead th {\n",
       "        text-align: left;\n",
       "    }\n",
       "\n",
       "    .dataframe tbody tr th {\n",
       "        vertical-align: top;\n",
       "    }\n",
       "</style>\n",
       "<table border=\"1\" class=\"dataframe\">\n",
       "  <thead>\n",
       "    <tr style=\"text-align: right;\">\n",
       "      <th></th>\n",
       "      <th>struct_id</th>\n",
       "      <th>relationship_name</th>\n",
       "      <th>orphanet_id</th>\n",
       "      <th>dise_name</th>\n",
       "      <th>dise_type</th>\n",
       "    </tr>\n",
       "  </thead>\n",
       "  <tbody>\n",
       "    <tr>\n",
       "      <th>0</th>\n",
       "      <td>1253</td>\n",
       "      <td>indication</td>\n",
       "      <td>3389</td>\n",
       "      <td>Tuberculosis</td>\n",
       "      <td>not_genetic</td>\n",
       "    </tr>\n",
       "    <tr>\n",
       "      <th>1</th>\n",
       "      <td>5203</td>\n",
       "      <td>indication</td>\n",
       "      <td>213500</td>\n",
       "      <td>Ovarian cancer</td>\n",
       "      <td>not_genetic</td>\n",
       "    </tr>\n",
       "    <tr>\n",
       "      <th>2</th>\n",
       "      <td>1667</td>\n",
       "      <td>off-label use</td>\n",
       "      <td>213500</td>\n",
       "      <td>Ovarian cancer</td>\n",
       "      <td>not_genetic</td>\n",
       "    </tr>\n",
       "    <tr>\n",
       "      <th>3</th>\n",
       "      <td>2707</td>\n",
       "      <td>indication</td>\n",
       "      <td>213500</td>\n",
       "      <td>Ovarian cancer</td>\n",
       "      <td>not_genetic</td>\n",
       "    </tr>\n",
       "    <tr>\n",
       "      <th>4</th>\n",
       "      <td>1678</td>\n",
       "      <td>indication</td>\n",
       "      <td>213500</td>\n",
       "      <td>Ovarian cancer</td>\n",
       "      <td>not_genetic</td>\n",
       "    </tr>\n",
       "  </tbody>\n",
       "</table>\n",
       "</div>"
      ],
      "text/plain": [
       "   struct_id relationship_name  orphanet_id       dise_name    dise_type\n",
       "0       1253        indication         3389    Tuberculosis  not_genetic\n",
       "1       5203        indication       213500  Ovarian cancer  not_genetic\n",
       "2       1667     off-label use       213500  Ovarian cancer  not_genetic\n",
       "3       2707        indication       213500  Ovarian cancer  not_genetic\n",
       "4       1678        indication       213500  Ovarian cancer  not_genetic"
      ]
     },
     "execution_count": 23,
     "metadata": {},
     "output_type": "execute_result"
    }
   ],
   "source": [
    "res.head()"
   ]
  },
  {
   "cell_type": "markdown",
   "metadata": {
    "collapsed": true
   },
   "source": [
    "---"
   ]
  },
  {
   "cell_type": "markdown",
   "metadata": {},
   "source": [
    "### Add in chemical names"
   ]
  },
  {
   "cell_type": "code",
   "execution_count": 24,
   "metadata": {
    "collapsed": true
   },
   "outputs": [],
   "source": [
    "dnames = (pd\n",
    "    .read_csv(\"../data/drug_names.csv\")\n",
    "    [[\"id\", \"name\"]]\n",
    "    .rename(columns={\n",
    "        \"id\": \"struct_id\",\n",
    "        \"name\": \"drug_name\"\n",
    "    })\n",
    ")"
   ]
  },
  {
   "cell_type": "code",
   "execution_count": 25,
   "metadata": {
    "collapsed": true
   },
   "outputs": [],
   "source": [
    "good = (res\n",
    "    [[\"struct_id\", \"relationship_name\", \"orphanet_id\", \"dise_name\", \"dise_type\"]]\n",
    "    .drop_duplicates()\n",
    "    .merge(dnames, how=\"left\", on=\"struct_id\")\n",
    ")"
   ]
  },
  {
   "cell_type": "markdown",
   "metadata": {},
   "source": [
    "## Information about results"
   ]
  },
  {
   "cell_type": "code",
   "execution_count": 26,
   "metadata": {},
   "outputs": [
    {
     "data": {
      "text/plain": [
       "(8297, 6)"
      ]
     },
     "execution_count": 26,
     "metadata": {},
     "output_type": "execute_result"
    }
   ],
   "source": [
    "good.shape"
   ]
  },
  {
   "cell_type": "code",
   "execution_count": 27,
   "metadata": {},
   "outputs": [
    {
     "data": {
      "text/html": [
       "<div>\n",
       "<style>\n",
       "    .dataframe thead tr:only-child th {\n",
       "        text-align: right;\n",
       "    }\n",
       "\n",
       "    .dataframe thead th {\n",
       "        text-align: left;\n",
       "    }\n",
       "\n",
       "    .dataframe tbody tr th {\n",
       "        vertical-align: top;\n",
       "    }\n",
       "</style>\n",
       "<table border=\"1\" class=\"dataframe\">\n",
       "  <thead>\n",
       "    <tr style=\"text-align: right;\">\n",
       "      <th></th>\n",
       "      <th>struct_id</th>\n",
       "      <th>relationship_name</th>\n",
       "      <th>orphanet_id</th>\n",
       "      <th>dise_name</th>\n",
       "      <th>dise_type</th>\n",
       "      <th>drug_name</th>\n",
       "    </tr>\n",
       "  </thead>\n",
       "  <tbody>\n",
       "    <tr>\n",
       "      <th>0</th>\n",
       "      <td>1253</td>\n",
       "      <td>indication</td>\n",
       "      <td>3389</td>\n",
       "      <td>Tuberculosis</td>\n",
       "      <td>not_genetic</td>\n",
       "      <td>ftivazide</td>\n",
       "    </tr>\n",
       "    <tr>\n",
       "      <th>1</th>\n",
       "      <td>5203</td>\n",
       "      <td>indication</td>\n",
       "      <td>213500</td>\n",
       "      <td>Ovarian cancer</td>\n",
       "      <td>not_genetic</td>\n",
       "      <td>rucaparib</td>\n",
       "    </tr>\n",
       "    <tr>\n",
       "      <th>2</th>\n",
       "      <td>1667</td>\n",
       "      <td>off-label use</td>\n",
       "      <td>213500</td>\n",
       "      <td>Ovarian cancer</td>\n",
       "      <td>not_genetic</td>\n",
       "      <td>megestrol acetate</td>\n",
       "    </tr>\n",
       "    <tr>\n",
       "      <th>3</th>\n",
       "      <td>2707</td>\n",
       "      <td>indication</td>\n",
       "      <td>213500</td>\n",
       "      <td>Ovarian cancer</td>\n",
       "      <td>not_genetic</td>\n",
       "      <td>topotecan</td>\n",
       "    </tr>\n",
       "    <tr>\n",
       "      <th>4</th>\n",
       "      <td>1678</td>\n",
       "      <td>indication</td>\n",
       "      <td>213500</td>\n",
       "      <td>Ovarian cancer</td>\n",
       "      <td>not_genetic</td>\n",
       "      <td>melphalan</td>\n",
       "    </tr>\n",
       "  </tbody>\n",
       "</table>\n",
       "</div>"
      ],
      "text/plain": [
       "   struct_id relationship_name  orphanet_id       dise_name    dise_type  \\\n",
       "0       1253        indication         3389    Tuberculosis  not_genetic   \n",
       "1       5203        indication       213500  Ovarian cancer  not_genetic   \n",
       "2       1667     off-label use       213500  Ovarian cancer  not_genetic   \n",
       "3       2707        indication       213500  Ovarian cancer  not_genetic   \n",
       "4       1678        indication       213500  Ovarian cancer  not_genetic   \n",
       "\n",
       "           drug_name  \n",
       "0          ftivazide  \n",
       "1          rucaparib  \n",
       "2  megestrol acetate  \n",
       "3          topotecan  \n",
       "4          melphalan  "
      ]
     },
     "execution_count": 27,
     "metadata": {},
     "output_type": "execute_result"
    }
   ],
   "source": [
    "good.head()"
   ]
  },
  {
   "cell_type": "markdown",
   "metadata": {},
   "source": [
    "### Statistics"
   ]
  },
  {
   "cell_type": "code",
   "execution_count": 28,
   "metadata": {},
   "outputs": [
    {
     "data": {
      "text/plain": [
       "1066"
      ]
     },
     "execution_count": 28,
     "metadata": {},
     "output_type": "execute_result"
    }
   ],
   "source": [
    "good[\"struct_id\"].nunique()"
   ]
  },
  {
   "cell_type": "code",
   "execution_count": 29,
   "metadata": {},
   "outputs": [
    {
     "data": {
      "text/plain": [
       "1573"
      ]
     },
     "execution_count": 29,
     "metadata": {},
     "output_type": "execute_result"
    }
   ],
   "source": [
    "good[\"orphanet_id\"].nunique()"
   ]
  },
  {
   "cell_type": "code",
   "execution_count": 30,
   "metadata": {},
   "outputs": [
    {
     "data": {
      "text/plain": [
       "indication       6151\n",
       "off-label use    2146\n",
       "Name: relationship_name, dtype: int64"
      ]
     },
     "execution_count": 30,
     "metadata": {},
     "output_type": "execute_result"
    }
   ],
   "source": [
    "good[\"relationship_name\"].value_counts()"
   ]
  },
  {
   "cell_type": "code",
   "execution_count": 31,
   "metadata": {},
   "outputs": [
    {
     "data": {
      "text/plain": [
       "rare_genetic    4325\n",
       "not_genetic     3972\n",
       "Name: dise_type, dtype: int64"
      ]
     },
     "execution_count": 31,
     "metadata": {},
     "output_type": "execute_result"
    }
   ],
   "source": [
    "good[\"dise_type\"].value_counts()"
   ]
  },
  {
   "cell_type": "code",
   "execution_count": 32,
   "metadata": {},
   "outputs": [
    {
     "data": {
      "text/plain": [
       "dise_type     relationship_name\n",
       "not_genetic   indication           2903\n",
       "              off-label use        1069\n",
       "rare_genetic  indication           3248\n",
       "              off-label use        1077\n",
       "dtype: int64"
      ]
     },
     "execution_count": 32,
     "metadata": {},
     "output_type": "execute_result"
    }
   ],
   "source": [
    "good.groupby([\"dise_type\", \"relationship_name\"]).size()"
   ]
  },
  {
   "cell_type": "markdown",
   "metadata": {},
   "source": [
    "About half of the indications in the data are for non genetic rare diseases."
   ]
  },
  {
   "cell_type": "code",
   "execution_count": 33,
   "metadata": {},
   "outputs": [
    {
     "data": {
      "text/plain": [
       "dise_type     relationship_name\n",
       "not_genetic   indication           505\n",
       "              off-label use        258\n",
       "rare_genetic  indication           930\n",
       "              off-label use        679\n",
       "Name: orphanet_id, dtype: int64"
      ]
     },
     "execution_count": 33,
     "metadata": {},
     "output_type": "execute_result"
    }
   ],
   "source": [
    "good.groupby([\"dise_type\", \"relationship_name\"])[\"orphanet_id\"].nunique()"
   ]
  },
  {
   "cell_type": "code",
   "execution_count": 34,
   "metadata": {},
   "outputs": [
    {
     "data": {
      "text/plain": [
       "relationship_name\n",
       "indication       1435\n",
       "off-label use     937\n",
       "Name: orphanet_id, dtype: int64"
      ]
     },
     "execution_count": 34,
     "metadata": {},
     "output_type": "execute_result"
    }
   ],
   "source": [
    "good.groupby(\"relationship_name\")[\"orphanet_id\"].nunique()"
   ]
  },
  {
   "cell_type": "code",
   "execution_count": 35,
   "metadata": {},
   "outputs": [
    {
     "data": {
      "text/plain": [
       "relationship_name\n",
       "indication       967\n",
       "off-label use    292\n",
       "Name: struct_id, dtype: int64"
      ]
     },
     "execution_count": 35,
     "metadata": {},
     "output_type": "execute_result"
    }
   ],
   "source": [
    "good.groupby(\"relationship_name\")[\"struct_id\"].nunique()"
   ]
  },
  {
   "cell_type": "code",
   "execution_count": 36,
   "metadata": {},
   "outputs": [
    {
     "data": {
      "text/plain": [
       "1    432\n",
       "3    337\n",
       "2    177\n",
       "4    169\n",
       "8     82\n",
       "dtype: int64"
      ]
     },
     "execution_count": 36,
     "metadata": {},
     "output_type": "execute_result"
    }
   ],
   "source": [
    "good.query(\"relationship_name == 'indication'\").groupby(\"orphanet_id\").size().value_counts().head()"
   ]
  },
  {
   "cell_type": "markdown",
   "metadata": {},
   "source": [
    "Drugcentral contains at least 5k drug indications for 1300 diseases with hundreds of different drugs. It seems that there are plenty of rare disease indications that we can integrate into the rephetio network."
   ]
  },
  {
   "cell_type": "markdown",
   "metadata": {},
   "source": [
    "---"
   ]
  },
  {
   "cell_type": "markdown",
   "metadata": {},
   "source": [
    "## Output to file"
   ]
  },
  {
   "cell_type": "code",
   "execution_count": 37,
   "metadata": {
    "collapsed": true
   },
   "outputs": [],
   "source": [
    "good.to_csv(\"rare_disease_indications.tsv\", sep='\\t', index=False)"
   ]
  }
 ],
 "metadata": {
  "kernelspec": {
   "display_name": "Python 3",
   "language": "python",
   "name": "python3"
  },
  "language_info": {
   "codemirror_mode": {
    "name": "ipython",
    "version": 3
   },
   "file_extension": ".py",
   "mimetype": "text/x-python",
   "name": "python",
   "nbconvert_exporter": "python",
   "pygments_lexer": "ipython3",
   "version": "3.5.3"
  }
 },
 "nbformat": 4,
 "nbformat_minor": 2
}
