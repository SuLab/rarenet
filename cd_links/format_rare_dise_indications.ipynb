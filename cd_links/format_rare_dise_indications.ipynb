{
 "cells": [
  {
   "cell_type": "markdown",
   "metadata": {},
   "source": [
    "# Format DrugCentral indications for rare diseases"
   ]
  },
  {
   "cell_type": "code",
   "execution_count": 1,
   "metadata": {
    "collapsed": true
   },
   "outputs": [],
   "source": [
    "import pandas as pd\n",
    "import numpy as np"
   ]
  },
  {
   "cell_type": "markdown",
   "metadata": {},
   "source": [
    "## Read rare disease data"
   ]
  },
  {
   "cell_type": "code",
   "execution_count": 2,
   "metadata": {
    "collapsed": true
   },
   "outputs": [],
   "source": [
    "rare_dises = pd.read_csv(\"rare_disease_info.tsv\", sep='\\t')"
   ]
  },
  {
   "cell_type": "code",
   "execution_count": 3,
   "metadata": {},
   "outputs": [
    {
     "data": {
      "text/html": [
       "<div>\n",
       "<style>\n",
       "    .dataframe thead tr:only-child th {\n",
       "        text-align: right;\n",
       "    }\n",
       "\n",
       "    .dataframe thead th {\n",
       "        text-align: left;\n",
       "    }\n",
       "\n",
       "    .dataframe tbody tr th {\n",
       "        vertical-align: top;\n",
       "    }\n",
       "</style>\n",
       "<table border=\"1\" class=\"dataframe\">\n",
       "  <thead>\n",
       "    <tr style=\"text-align: right;\">\n",
       "      <th></th>\n",
       "      <th>dise_name</th>\n",
       "      <th>orphanet_id</th>\n",
       "      <th>ref_id</th>\n",
       "      <th>ref_name</th>\n",
       "      <th>dise_type</th>\n",
       "    </tr>\n",
       "  </thead>\n",
       "  <tbody>\n",
       "    <tr>\n",
       "      <th>0</th>\n",
       "      <td>Multiple epiphyseal dysplasia, Al-Gazali type</td>\n",
       "      <td>166024</td>\n",
       "      <td>Q77.3</td>\n",
       "      <td>ICD-10</td>\n",
       "      <td>rare_genetic</td>\n",
       "    </tr>\n",
       "    <tr>\n",
       "      <th>1</th>\n",
       "      <td>Multiple epiphyseal dysplasia, Al-Gazali type</td>\n",
       "      <td>166024</td>\n",
       "      <td>607131</td>\n",
       "      <td>OMIM</td>\n",
       "      <td>rare_genetic</td>\n",
       "    </tr>\n",
       "  </tbody>\n",
       "</table>\n",
       "</div>"
      ],
      "text/plain": [
       "                                       dise_name  orphanet_id  ref_id  \\\n",
       "0  Multiple epiphyseal dysplasia, Al-Gazali type       166024   Q77.3   \n",
       "1  Multiple epiphyseal dysplasia, Al-Gazali type       166024  607131   \n",
       "\n",
       "  ref_name     dise_type  \n",
       "0   ICD-10  rare_genetic  \n",
       "1     OMIM  rare_genetic  "
      ]
     },
     "execution_count": 3,
     "metadata": {},
     "output_type": "execute_result"
    }
   ],
   "source": [
    "rare_dises.head(2)"
   ]
  },
  {
   "cell_type": "markdown",
   "metadata": {},
   "source": [
    "---"
   ]
  },
  {
   "cell_type": "markdown",
   "metadata": {},
   "source": [
    "## Rare disease identifier conversion\n",
    "\n",
    "Rare diseases are best identified by ICD-10 ids. However, the diseases in the DrugCentral indications are in UMLS and SNOMED namespace. We will use the ICD-10 identifier to convert to SNOMED, and fall back to UMLS if there is no ICD-10 mapping."
   ]
  },
  {
   "cell_type": "code",
   "execution_count": 4,
   "metadata": {},
   "outputs": [
    {
     "data": {
      "text/plain": [
       "7762"
      ]
     },
     "execution_count": 4,
     "metadata": {},
     "output_type": "execute_result"
    }
   ],
   "source": [
    "rare_dises[\"orphanet_id\"].nunique()"
   ]
  },
  {
   "cell_type": "code",
   "execution_count": 5,
   "metadata": {},
   "outputs": [
    {
     "data": {
      "text/plain": [
       "ref_name\n",
       "ICD-10    7076\n",
       "OMIM      4381\n",
       "UMLS      2879\n",
       "MeSH      1760\n",
       "MedDRA    1166\n",
       "Name: orphanet_id, dtype: int64"
      ]
     },
     "execution_count": 5,
     "metadata": {},
     "output_type": "execute_result"
    }
   ],
   "source": [
    "rare_dises.groupby(\"ref_name\")[\"orphanet_id\"].nunique().sort_values(ascending=False)"
   ]
  },
  {
   "cell_type": "markdown",
   "metadata": {},
   "source": [
    "## Convert rare diseases to snomed\n",
    "\n",
    "Rare OrphaNet diseases are best referenced by ICD-10. We will use UMLS if ICD-10 ids don't exist."
   ]
  },
  {
   "cell_type": "code",
   "execution_count": 6,
   "metadata": {
    "collapsed": true
   },
   "outputs": [],
   "source": [
    "rare_icd = (rare_dises\n",
    "    .query(\"ref_name == 'ICD-10'\")\n",
    "    .rename(columns={\"ref_id\": \"icd_id\"})\n",
    "    .drop(\"ref_name\", axis=1)\n",
    ")"
   ]
  },
  {
   "cell_type": "code",
   "execution_count": 7,
   "metadata": {},
   "outputs": [
    {
     "data": {
      "text/plain": [
       "7076"
      ]
     },
     "execution_count": 7,
     "metadata": {},
     "output_type": "execute_result"
    }
   ],
   "source": [
    "rare_icd[\"orphanet_id\"].nunique()"
   ]
  },
  {
   "cell_type": "code",
   "execution_count": 8,
   "metadata": {},
   "outputs": [
    {
     "data": {
      "text/html": [
       "<div>\n",
       "<style>\n",
       "    .dataframe thead tr:only-child th {\n",
       "        text-align: right;\n",
       "    }\n",
       "\n",
       "    .dataframe thead th {\n",
       "        text-align: left;\n",
       "    }\n",
       "\n",
       "    .dataframe tbody tr th {\n",
       "        vertical-align: top;\n",
       "    }\n",
       "</style>\n",
       "<table border=\"1\" class=\"dataframe\">\n",
       "  <thead>\n",
       "    <tr style=\"text-align: right;\">\n",
       "      <th></th>\n",
       "      <th>dise_name</th>\n",
       "      <th>orphanet_id</th>\n",
       "      <th>icd_id</th>\n",
       "      <th>dise_type</th>\n",
       "    </tr>\n",
       "  </thead>\n",
       "  <tbody>\n",
       "    <tr>\n",
       "      <th>0</th>\n",
       "      <td>Multiple epiphyseal dysplasia, Al-Gazali type</td>\n",
       "      <td>166024</td>\n",
       "      <td>Q77.3</td>\n",
       "      <td>rare_genetic</td>\n",
       "    </tr>\n",
       "    <tr>\n",
       "      <th>2</th>\n",
       "      <td>Multiple epiphyseal dysplasia, with miniepiphyses</td>\n",
       "      <td>166032</td>\n",
       "      <td>Q77.3</td>\n",
       "      <td>rare_genetic</td>\n",
       "    </tr>\n",
       "  </tbody>\n",
       "</table>\n",
       "</div>"
      ],
      "text/plain": [
       "                                           dise_name  orphanet_id icd_id  \\\n",
       "0      Multiple epiphyseal dysplasia, Al-Gazali type       166024  Q77.3   \n",
       "2  Multiple epiphyseal dysplasia, with miniepiphyses       166032  Q77.3   \n",
       "\n",
       "      dise_type  \n",
       "0  rare_genetic  \n",
       "2  rare_genetic  "
      ]
     },
     "execution_count": 8,
     "metadata": {},
     "output_type": "execute_result"
    }
   ],
   "source": [
    "rare_icd.head(2)"
   ]
  },
  {
   "cell_type": "markdown",
   "metadata": {},
   "source": [
    "### Convert ICD-10 to SNOMED"
   ]
  },
  {
   "cell_type": "code",
   "execution_count": 9,
   "metadata": {
    "collapsed": true
   },
   "outputs": [],
   "source": [
    "mapping = pd.read_csv(\"snomed_icd_map.tsv\", sep='\\t')"
   ]
  },
  {
   "cell_type": "code",
   "execution_count": 10,
   "metadata": {},
   "outputs": [
    {
     "data": {
      "text/html": [
       "<div>\n",
       "<style>\n",
       "    .dataframe thead tr:only-child th {\n",
       "        text-align: right;\n",
       "    }\n",
       "\n",
       "    .dataframe thead th {\n",
       "        text-align: left;\n",
       "    }\n",
       "\n",
       "    .dataframe tbody tr th {\n",
       "        vertical-align: top;\n",
       "    }\n",
       "</style>\n",
       "<table border=\"1\" class=\"dataframe\">\n",
       "  <thead>\n",
       "    <tr style=\"text-align: right;\">\n",
       "      <th></th>\n",
       "      <th>snomed_id</th>\n",
       "      <th>snomed_name</th>\n",
       "      <th>icd_id</th>\n",
       "      <th>icd_name</th>\n",
       "    </tr>\n",
       "  </thead>\n",
       "  <tbody>\n",
       "    <tr>\n",
       "      <th>0</th>\n",
       "      <td>109006</td>\n",
       "      <td>Anxiety disorder of childhood OR adolescence (...</td>\n",
       "      <td>F93.0</td>\n",
       "      <td>Separation anxiety disorder of childhood</td>\n",
       "    </tr>\n",
       "    <tr>\n",
       "      <th>1</th>\n",
       "      <td>109006</td>\n",
       "      <td>Anxiety disorder of childhood OR adolescence (...</td>\n",
       "      <td>F40.8</td>\n",
       "      <td>Other phobic anxiety disorders</td>\n",
       "    </tr>\n",
       "  </tbody>\n",
       "</table>\n",
       "</div>"
      ],
      "text/plain": [
       "   snomed_id                                        snomed_name icd_id  \\\n",
       "0     109006  Anxiety disorder of childhood OR adolescence (...  F93.0   \n",
       "1     109006  Anxiety disorder of childhood OR adolescence (...  F40.8   \n",
       "\n",
       "                                   icd_name  \n",
       "0  Separation anxiety disorder of childhood  \n",
       "1            Other phobic anxiety disorders  "
      ]
     },
     "execution_count": 10,
     "metadata": {},
     "output_type": "execute_result"
    }
   ],
   "source": [
    "mapping.head(2)"
   ]
  },
  {
   "cell_type": "code",
   "execution_count": 11,
   "metadata": {
    "collapsed": true
   },
   "outputs": [],
   "source": [
    "dise_res = rare_dises.merge(mapping, how=\"left\", on=\"icd_id\")"
   ]
  },
  {
   "cell_type": "code",
   "execution_count": 12,
   "metadata": {},
   "outputs": [
    {
     "data": {
      "text/plain": [
       "(152606, 7)"
      ]
     },
     "execution_count": 12,
     "metadata": {},
     "output_type": "execute_result"
    }
   ],
   "source": [
    "dise_res.shape"
   ]
  },
  {
   "cell_type": "code",
   "execution_count": 13,
   "metadata": {},
   "outputs": [
    {
     "data": {
      "text/html": [
       "<div>\n",
       "<style>\n",
       "    .dataframe thead tr:only-child th {\n",
       "        text-align: right;\n",
       "    }\n",
       "\n",
       "    .dataframe thead th {\n",
       "        text-align: left;\n",
       "    }\n",
       "\n",
       "    .dataframe tbody tr th {\n",
       "        vertical-align: top;\n",
       "    }\n",
       "</style>\n",
       "<table border=\"1\" class=\"dataframe\">\n",
       "  <thead>\n",
       "    <tr style=\"text-align: right;\">\n",
       "      <th></th>\n",
       "      <th>dise_name</th>\n",
       "      <th>orphanet_id</th>\n",
       "      <th>icd_id</th>\n",
       "      <th>dise_type</th>\n",
       "      <th>snomed_id</th>\n",
       "      <th>snomed_name</th>\n",
       "      <th>icd_name</th>\n",
       "    </tr>\n",
       "  </thead>\n",
       "  <tbody>\n",
       "    <tr>\n",
       "      <th>0</th>\n",
       "      <td>Multiple epiphyseal dysplasia, Al-Gazali type</td>\n",
       "      <td>166024</td>\n",
       "      <td>Q77.3</td>\n",
       "      <td>rare_genetic</td>\n",
       "      <td>76556008.0</td>\n",
       "      <td>Hyperphosphatasia-osteoectasia syndrome (disor...</td>\n",
       "      <td>Chondrodysplasia punctata</td>\n",
       "    </tr>\n",
       "    <tr>\n",
       "      <th>1</th>\n",
       "      <td>Multiple epiphyseal dysplasia, Al-Gazali type</td>\n",
       "      <td>166024</td>\n",
       "      <td>Q77.3</td>\n",
       "      <td>rare_genetic</td>\n",
       "      <td>205465004.0</td>\n",
       "      <td>Chondrodysplasia (disorder)</td>\n",
       "      <td>Chondrodysplasia punctata</td>\n",
       "    </tr>\n",
       "    <tr>\n",
       "      <th>2</th>\n",
       "      <td>Multiple epiphyseal dysplasia, Al-Gazali type</td>\n",
       "      <td>166024</td>\n",
       "      <td>Q77.3</td>\n",
       "      <td>rare_genetic</td>\n",
       "      <td>254082007.0</td>\n",
       "      <td>Chondrodysplasia punctata, X-linked recessive ...</td>\n",
       "      <td>Chondrodysplasia punctata</td>\n",
       "    </tr>\n",
       "    <tr>\n",
       "      <th>3</th>\n",
       "      <td>Multiple epiphyseal dysplasia, Al-Gazali type</td>\n",
       "      <td>166024</td>\n",
       "      <td>Q77.3</td>\n",
       "      <td>rare_genetic</td>\n",
       "      <td>254083002.0</td>\n",
       "      <td>Chondrodysplasia punctata, tibia-metacarpal ty...</td>\n",
       "      <td>Chondrodysplasia punctata</td>\n",
       "    </tr>\n",
       "    <tr>\n",
       "      <th>4</th>\n",
       "      <td>Multiple epiphyseal dysplasia, Al-Gazali type</td>\n",
       "      <td>166024</td>\n",
       "      <td>Q77.3</td>\n",
       "      <td>rare_genetic</td>\n",
       "      <td>278715001.0</td>\n",
       "      <td>Chondrodysplasia punctata (stippled epiphyses)...</td>\n",
       "      <td>Chondrodysplasia punctata</td>\n",
       "    </tr>\n",
       "  </tbody>\n",
       "</table>\n",
       "</div>"
      ],
      "text/plain": [
       "                                       dise_name  orphanet_id icd_id  \\\n",
       "0  Multiple epiphyseal dysplasia, Al-Gazali type       166024  Q77.3   \n",
       "1  Multiple epiphyseal dysplasia, Al-Gazali type       166024  Q77.3   \n",
       "2  Multiple epiphyseal dysplasia, Al-Gazali type       166024  Q77.3   \n",
       "3  Multiple epiphyseal dysplasia, Al-Gazali type       166024  Q77.3   \n",
       "4  Multiple epiphyseal dysplasia, Al-Gazali type       166024  Q77.3   \n",
       "\n",
       "      dise_type    snomed_id  \\\n",
       "0  rare_genetic   76556008.0   \n",
       "1  rare_genetic  205465004.0   \n",
       "2  rare_genetic  254082007.0   \n",
       "3  rare_genetic  254083002.0   \n",
       "4  rare_genetic  278715001.0   \n",
       "\n",
       "                                         snomed_name  \\\n",
       "0  Hyperphosphatasia-osteoectasia syndrome (disor...   \n",
       "1                        Chondrodysplasia (disorder)   \n",
       "2  Chondrodysplasia punctata, X-linked recessive ...   \n",
       "3  Chondrodysplasia punctata, tibia-metacarpal ty...   \n",
       "4  Chondrodysplasia punctata (stippled epiphyses)...   \n",
       "\n",
       "                    icd_name  \n",
       "0  Chondrodysplasia punctata  \n",
       "1  Chondrodysplasia punctata  \n",
       "2  Chondrodysplasia punctata  \n",
       "3  Chondrodysplasia punctata  \n",
       "4  Chondrodysplasia punctata  "
      ]
     },
     "execution_count": 13,
     "metadata": {},
     "output_type": "execute_result"
    }
   ],
   "source": [
    "dise_res.head()"
   ]
  },
  {
   "cell_type": "markdown",
   "metadata": {},
   "source": [
    "### Examine missing information"
   ]
  },
  {
   "cell_type": "code",
   "execution_count": 14,
   "metadata": {},
   "outputs": [
    {
     "data": {
      "text/plain": [
       "dise_name         0\n",
       "orphanet_id       0\n",
       "icd_id            0\n",
       "dise_type         0\n",
       "snomed_id      2640\n",
       "snomed_name    2640\n",
       "icd_name       2640\n",
       "dtype: int64"
      ]
     },
     "execution_count": 14,
     "metadata": {},
     "output_type": "execute_result"
    }
   ],
   "source": [
    "dise_res.isnull().sum()"
   ]
  },
  {
   "cell_type": "code",
   "execution_count": 15,
   "metadata": {},
   "outputs": [
    {
     "data": {
      "text/html": [
       "<div>\n",
       "<style>\n",
       "    .dataframe thead tr:only-child th {\n",
       "        text-align: right;\n",
       "    }\n",
       "\n",
       "    .dataframe thead th {\n",
       "        text-align: left;\n",
       "    }\n",
       "\n",
       "    .dataframe tbody tr th {\n",
       "        vertical-align: top;\n",
       "    }\n",
       "</style>\n",
       "<table border=\"1\" class=\"dataframe\">\n",
       "  <thead>\n",
       "    <tr style=\"text-align: right;\">\n",
       "      <th></th>\n",
       "      <th>dise_name</th>\n",
       "      <th>orphanet_id</th>\n",
       "      <th>icd_id</th>\n",
       "      <th>dise_type</th>\n",
       "      <th>snomed_id</th>\n",
       "      <th>snomed_name</th>\n",
       "      <th>icd_name</th>\n",
       "    </tr>\n",
       "  </thead>\n",
       "  <tbody>\n",
       "    <tr>\n",
       "      <th>24</th>\n",
       "      <td>Alexander disease</td>\n",
       "      <td>58</td>\n",
       "      <td>E75.2</td>\n",
       "      <td>rare_genetic</td>\n",
       "      <td>NaN</td>\n",
       "      <td>NaN</td>\n",
       "      <td>NaN</td>\n",
       "    </tr>\n",
       "    <tr>\n",
       "      <th>71</th>\n",
       "      <td>Multiple sulfatase deficiency</td>\n",
       "      <td>585</td>\n",
       "      <td>E75.2</td>\n",
       "      <td>rare_genetic</td>\n",
       "      <td>NaN</td>\n",
       "      <td>NaN</td>\n",
       "      <td>NaN</td>\n",
       "    </tr>\n",
       "    <tr>\n",
       "      <th>89</th>\n",
       "      <td>Canavan disease</td>\n",
       "      <td>141</td>\n",
       "      <td>E75.2</td>\n",
       "      <td>rare_genetic</td>\n",
       "      <td>NaN</td>\n",
       "      <td>NaN</td>\n",
       "      <td>NaN</td>\n",
       "    </tr>\n",
       "    <tr>\n",
       "      <th>223</th>\n",
       "      <td>Cystinosis</td>\n",
       "      <td>213</td>\n",
       "      <td>E72.0</td>\n",
       "      <td>rare_genetic</td>\n",
       "      <td>NaN</td>\n",
       "      <td>NaN</td>\n",
       "      <td>NaN</td>\n",
       "    </tr>\n",
       "    <tr>\n",
       "      <th>308</th>\n",
       "      <td>Farber disease</td>\n",
       "      <td>333</td>\n",
       "      <td>E75.2</td>\n",
       "      <td>rare_genetic</td>\n",
       "      <td>NaN</td>\n",
       "      <td>NaN</td>\n",
       "      <td>NaN</td>\n",
       "    </tr>\n",
       "  </tbody>\n",
       "</table>\n",
       "</div>"
      ],
      "text/plain": [
       "                         dise_name  orphanet_id icd_id     dise_type  \\\n",
       "24               Alexander disease           58  E75.2  rare_genetic   \n",
       "71   Multiple sulfatase deficiency          585  E75.2  rare_genetic   \n",
       "89                 Canavan disease          141  E75.2  rare_genetic   \n",
       "223                     Cystinosis          213  E72.0  rare_genetic   \n",
       "308                 Farber disease          333  E75.2  rare_genetic   \n",
       "\n",
       "     snomed_id snomed_name icd_name  \n",
       "24         NaN         NaN      NaN  \n",
       "71         NaN         NaN      NaN  \n",
       "89         NaN         NaN      NaN  \n",
       "223        NaN         NaN      NaN  \n",
       "308        NaN         NaN      NaN  "
      ]
     },
     "execution_count": 15,
     "metadata": {},
     "output_type": "execute_result"
    }
   ],
   "source": [
    "dise_res[dise_res[\"snomed_id\"].isnull()].head()"
   ]
  },
  {
   "cell_type": "code",
   "execution_count": 15,
   "metadata": {},
   "outputs": [
    {
     "data": {
      "text/plain": [
       "2357"
      ]
     },
     "execution_count": 15,
     "metadata": {},
     "output_type": "execute_result"
    }
   ],
   "source": [
    "dise_res[dise_res[\"snomed_id\"].isnull()][\"orphanet_id\"].nunique()"
   ]
  },
  {
   "cell_type": "markdown",
   "metadata": {},
   "source": [
    "Some OrphaNet diseases cannot be mapped to SNOMED due to missing ICD-10 to SNOMED mappings. However, these diseases seem to have SNOMED ids based on a name lookup. For now we will drop these diseases."
   ]
  },
  {
   "cell_type": "markdown",
   "metadata": {},
   "source": [
    "### Remove diseases with missing SNOMED ids"
   ]
  },
  {
   "cell_type": "code",
   "execution_count": 16,
   "metadata": {
    "collapsed": true
   },
   "outputs": [],
   "source": [
    "dise_res = (dise_res\n",
    "    .dropna(axis=0, how=\"any\")\n",
    "    .astype({\"snomed_id\": np.int64})\n",
    "    .drop_duplicates()\n",
    ")"
   ]
  },
  {
   "cell_type": "code",
   "execution_count": 17,
   "metadata": {},
   "outputs": [
    {
     "data": {
      "text/plain": [
       "(149966, 7)"
      ]
     },
     "execution_count": 17,
     "metadata": {},
     "output_type": "execute_result"
    }
   ],
   "source": [
    "dise_res.shape"
   ]
  },
  {
   "cell_type": "code",
   "execution_count": 18,
   "metadata": {},
   "outputs": [
    {
     "data": {
      "text/html": [
       "<div>\n",
       "<style>\n",
       "    .dataframe thead tr:only-child th {\n",
       "        text-align: right;\n",
       "    }\n",
       "\n",
       "    .dataframe thead th {\n",
       "        text-align: left;\n",
       "    }\n",
       "\n",
       "    .dataframe tbody tr th {\n",
       "        vertical-align: top;\n",
       "    }\n",
       "</style>\n",
       "<table border=\"1\" class=\"dataframe\">\n",
       "  <thead>\n",
       "    <tr style=\"text-align: right;\">\n",
       "      <th></th>\n",
       "      <th>dise_name</th>\n",
       "      <th>orphanet_id</th>\n",
       "      <th>icd_id</th>\n",
       "      <th>dise_type</th>\n",
       "      <th>snomed_id</th>\n",
       "      <th>snomed_name</th>\n",
       "      <th>icd_name</th>\n",
       "    </tr>\n",
       "  </thead>\n",
       "  <tbody>\n",
       "    <tr>\n",
       "      <th>0</th>\n",
       "      <td>Multiple epiphyseal dysplasia, Al-Gazali type</td>\n",
       "      <td>166024</td>\n",
       "      <td>Q77.3</td>\n",
       "      <td>rare_genetic</td>\n",
       "      <td>76556008</td>\n",
       "      <td>Hyperphosphatasia-osteoectasia syndrome (disor...</td>\n",
       "      <td>Chondrodysplasia punctata</td>\n",
       "    </tr>\n",
       "    <tr>\n",
       "      <th>1</th>\n",
       "      <td>Multiple epiphyseal dysplasia, Al-Gazali type</td>\n",
       "      <td>166024</td>\n",
       "      <td>Q77.3</td>\n",
       "      <td>rare_genetic</td>\n",
       "      <td>205465004</td>\n",
       "      <td>Chondrodysplasia (disorder)</td>\n",
       "      <td>Chondrodysplasia punctata</td>\n",
       "    </tr>\n",
       "    <tr>\n",
       "      <th>2</th>\n",
       "      <td>Multiple epiphyseal dysplasia, Al-Gazali type</td>\n",
       "      <td>166024</td>\n",
       "      <td>Q77.3</td>\n",
       "      <td>rare_genetic</td>\n",
       "      <td>254082007</td>\n",
       "      <td>Chondrodysplasia punctata, X-linked recessive ...</td>\n",
       "      <td>Chondrodysplasia punctata</td>\n",
       "    </tr>\n",
       "    <tr>\n",
       "      <th>3</th>\n",
       "      <td>Multiple epiphyseal dysplasia, Al-Gazali type</td>\n",
       "      <td>166024</td>\n",
       "      <td>Q77.3</td>\n",
       "      <td>rare_genetic</td>\n",
       "      <td>254083002</td>\n",
       "      <td>Chondrodysplasia punctata, tibia-metacarpal ty...</td>\n",
       "      <td>Chondrodysplasia punctata</td>\n",
       "    </tr>\n",
       "    <tr>\n",
       "      <th>4</th>\n",
       "      <td>Multiple epiphyseal dysplasia, Al-Gazali type</td>\n",
       "      <td>166024</td>\n",
       "      <td>Q77.3</td>\n",
       "      <td>rare_genetic</td>\n",
       "      <td>278715001</td>\n",
       "      <td>Chondrodysplasia punctata (stippled epiphyses)...</td>\n",
       "      <td>Chondrodysplasia punctata</td>\n",
       "    </tr>\n",
       "  </tbody>\n",
       "</table>\n",
       "</div>"
      ],
      "text/plain": [
       "                                       dise_name  orphanet_id icd_id  \\\n",
       "0  Multiple epiphyseal dysplasia, Al-Gazali type       166024  Q77.3   \n",
       "1  Multiple epiphyseal dysplasia, Al-Gazali type       166024  Q77.3   \n",
       "2  Multiple epiphyseal dysplasia, Al-Gazali type       166024  Q77.3   \n",
       "3  Multiple epiphyseal dysplasia, Al-Gazali type       166024  Q77.3   \n",
       "4  Multiple epiphyseal dysplasia, Al-Gazali type       166024  Q77.3   \n",
       "\n",
       "      dise_type  snomed_id                                        snomed_name  \\\n",
       "0  rare_genetic   76556008  Hyperphosphatasia-osteoectasia syndrome (disor...   \n",
       "1  rare_genetic  205465004                        Chondrodysplasia (disorder)   \n",
       "2  rare_genetic  254082007  Chondrodysplasia punctata, X-linked recessive ...   \n",
       "3  rare_genetic  254083002  Chondrodysplasia punctata, tibia-metacarpal ty...   \n",
       "4  rare_genetic  278715001  Chondrodysplasia punctata (stippled epiphyses)...   \n",
       "\n",
       "                    icd_name  \n",
       "0  Chondrodysplasia punctata  \n",
       "1  Chondrodysplasia punctata  \n",
       "2  Chondrodysplasia punctata  \n",
       "3  Chondrodysplasia punctata  \n",
       "4  Chondrodysplasia punctata  "
      ]
     },
     "execution_count": 18,
     "metadata": {},
     "output_type": "execute_result"
    }
   ],
   "source": [
    "dise_res.head()"
   ]
  },
  {
   "cell_type": "code",
   "execution_count": 19,
   "metadata": {},
   "outputs": [
    {
     "data": {
      "text/plain": [
       "4814"
      ]
     },
     "execution_count": 19,
     "metadata": {},
     "output_type": "execute_result"
    }
   ],
   "source": [
    "dise_res[\"orphanet_id\"].nunique()"
   ]
  },
  {
   "cell_type": "code",
   "execution_count": 20,
   "metadata": {},
   "outputs": [
    {
     "data": {
      "text/plain": [
       "15223"
      ]
     },
     "execution_count": 20,
     "metadata": {},
     "output_type": "execute_result"
    }
   ],
   "source": [
    "dise_res[\"snomed_id\"].nunique()"
   ]
  },
  {
   "cell_type": "code",
   "execution_count": 21,
   "metadata": {
    "collapsed": true
   },
   "outputs": [],
   "source": [
    "dise_map = (dise_res\n",
    "    .drop([\"icd_id\", \"icd_name\"], axis=1)\n",
    "    .drop_duplicates()\n",
    ")"
   ]
  },
  {
   "cell_type": "code",
   "execution_count": 22,
   "metadata": {},
   "outputs": [
    {
     "data": {
      "text/plain": [
       "(148960, 5)"
      ]
     },
     "execution_count": 22,
     "metadata": {},
     "output_type": "execute_result"
    }
   ],
   "source": [
    "dise_map.shape"
   ]
  },
  {
   "cell_type": "code",
   "execution_count": 23,
   "metadata": {},
   "outputs": [
    {
     "data": {
      "text/html": [
       "<div>\n",
       "<style>\n",
       "    .dataframe thead tr:only-child th {\n",
       "        text-align: right;\n",
       "    }\n",
       "\n",
       "    .dataframe thead th {\n",
       "        text-align: left;\n",
       "    }\n",
       "\n",
       "    .dataframe tbody tr th {\n",
       "        vertical-align: top;\n",
       "    }\n",
       "</style>\n",
       "<table border=\"1\" class=\"dataframe\">\n",
       "  <thead>\n",
       "    <tr style=\"text-align: right;\">\n",
       "      <th></th>\n",
       "      <th>dise_name</th>\n",
       "      <th>orphanet_id</th>\n",
       "      <th>dise_type</th>\n",
       "      <th>snomed_id</th>\n",
       "      <th>snomed_name</th>\n",
       "    </tr>\n",
       "  </thead>\n",
       "  <tbody>\n",
       "    <tr>\n",
       "      <th>0</th>\n",
       "      <td>Multiple epiphyseal dysplasia, Al-Gazali type</td>\n",
       "      <td>166024</td>\n",
       "      <td>rare_genetic</td>\n",
       "      <td>76556008</td>\n",
       "      <td>Hyperphosphatasia-osteoectasia syndrome (disor...</td>\n",
       "    </tr>\n",
       "    <tr>\n",
       "      <th>1</th>\n",
       "      <td>Multiple epiphyseal dysplasia, Al-Gazali type</td>\n",
       "      <td>166024</td>\n",
       "      <td>rare_genetic</td>\n",
       "      <td>205465004</td>\n",
       "      <td>Chondrodysplasia (disorder)</td>\n",
       "    </tr>\n",
       "    <tr>\n",
       "      <th>2</th>\n",
       "      <td>Multiple epiphyseal dysplasia, Al-Gazali type</td>\n",
       "      <td>166024</td>\n",
       "      <td>rare_genetic</td>\n",
       "      <td>254082007</td>\n",
       "      <td>Chondrodysplasia punctata, X-linked recessive ...</td>\n",
       "    </tr>\n",
       "    <tr>\n",
       "      <th>3</th>\n",
       "      <td>Multiple epiphyseal dysplasia, Al-Gazali type</td>\n",
       "      <td>166024</td>\n",
       "      <td>rare_genetic</td>\n",
       "      <td>254083002</td>\n",
       "      <td>Chondrodysplasia punctata, tibia-metacarpal ty...</td>\n",
       "    </tr>\n",
       "    <tr>\n",
       "      <th>4</th>\n",
       "      <td>Multiple epiphyseal dysplasia, Al-Gazali type</td>\n",
       "      <td>166024</td>\n",
       "      <td>rare_genetic</td>\n",
       "      <td>278715001</td>\n",
       "      <td>Chondrodysplasia punctata (stippled epiphyses)...</td>\n",
       "    </tr>\n",
       "  </tbody>\n",
       "</table>\n",
       "</div>"
      ],
      "text/plain": [
       "                                       dise_name  orphanet_id     dise_type  \\\n",
       "0  Multiple epiphyseal dysplasia, Al-Gazali type       166024  rare_genetic   \n",
       "1  Multiple epiphyseal dysplasia, Al-Gazali type       166024  rare_genetic   \n",
       "2  Multiple epiphyseal dysplasia, Al-Gazali type       166024  rare_genetic   \n",
       "3  Multiple epiphyseal dysplasia, Al-Gazali type       166024  rare_genetic   \n",
       "4  Multiple epiphyseal dysplasia, Al-Gazali type       166024  rare_genetic   \n",
       "\n",
       "   snomed_id                                        snomed_name  \n",
       "0   76556008  Hyperphosphatasia-osteoectasia syndrome (disor...  \n",
       "1  205465004                        Chondrodysplasia (disorder)  \n",
       "2  254082007  Chondrodysplasia punctata, X-linked recessive ...  \n",
       "3  254083002  Chondrodysplasia punctata, tibia-metacarpal ty...  \n",
       "4  278715001  Chondrodysplasia punctata (stippled epiphyses)...  "
      ]
     },
     "execution_count": 23,
     "metadata": {},
     "output_type": "execute_result"
    }
   ],
   "source": [
    "dise_map.head()"
   ]
  },
  {
   "cell_type": "markdown",
   "metadata": {},
   "source": [
    "---"
   ]
  },
  {
   "cell_type": "markdown",
   "metadata": {},
   "source": [
    "## Match to indications\n",
    "\n",
    "The drug central indications are given with snomed ids as diseases, so we will use that to cross reference to see which indications are about rare diseases."
   ]
  },
  {
   "cell_type": "code",
   "execution_count": 21,
   "metadata": {
    "collapsed": true
   },
   "outputs": [],
   "source": [
    "inds = pd.read_csv(\"simple_inds.tsv\", sep='\\t')"
   ]
  },
  {
   "cell_type": "code",
   "execution_count": 22,
   "metadata": {},
   "outputs": [
    {
     "data": {
      "text/html": [
       "<div>\n",
       "<style>\n",
       "    .dataframe thead tr:only-child th {\n",
       "        text-align: right;\n",
       "    }\n",
       "\n",
       "    .dataframe thead th {\n",
       "        text-align: left;\n",
       "    }\n",
       "\n",
       "    .dataframe tbody tr th {\n",
       "        vertical-align: top;\n",
       "    }\n",
       "</style>\n",
       "<table border=\"1\" class=\"dataframe\">\n",
       "  <thead>\n",
       "    <tr style=\"text-align: right;\">\n",
       "      <th></th>\n",
       "      <th>struct_id</th>\n",
       "      <th>relationship_name</th>\n",
       "      <th>concept_name</th>\n",
       "      <th>umls_cui</th>\n",
       "      <th>snomed_full_name</th>\n",
       "      <th>cui_semantic_type</th>\n",
       "      <th>snomed_conceptid</th>\n",
       "    </tr>\n",
       "  </thead>\n",
       "  <tbody>\n",
       "    <tr>\n",
       "      <th>0</th>\n",
       "      <td>1253</td>\n",
       "      <td>indication</td>\n",
       "      <td>Tuberculosis</td>\n",
       "      <td>C0041296</td>\n",
       "      <td>Tuberculosis</td>\n",
       "      <td>T047</td>\n",
       "      <td>56717001</td>\n",
       "    </tr>\n",
       "    <tr>\n",
       "      <th>1</th>\n",
       "      <td>5203</td>\n",
       "      <td>indication</td>\n",
       "      <td>Malignant tumor of ovary</td>\n",
       "      <td>C1140680</td>\n",
       "      <td>Malignant tumor of ovary</td>\n",
       "      <td>T191</td>\n",
       "      <td>363443007</td>\n",
       "    </tr>\n",
       "  </tbody>\n",
       "</table>\n",
       "</div>"
      ],
      "text/plain": [
       "   struct_id relationship_name              concept_name  umls_cui  \\\n",
       "0       1253        indication              Tuberculosis  C0041296   \n",
       "1       5203        indication  Malignant tumor of ovary  C1140680   \n",
       "\n",
       "           snomed_full_name cui_semantic_type  snomed_conceptid  \n",
       "0              Tuberculosis              T047          56717001  \n",
       "1  Malignant tumor of ovary              T191         363443007  "
      ]
     },
     "execution_count": 22,
     "metadata": {},
     "output_type": "execute_result"
    }
   ],
   "source": [
    "inds.head(2)"
   ]
  },
  {
   "cell_type": "code",
   "execution_count": 26,
   "metadata": {
    "collapsed": true
   },
   "outputs": [],
   "source": [
    "res = (inds\n",
    "    .drop([\"umls_cui\", \"cui_semantic_type\", \"concept_name\"], axis=1)\n",
    "    .rename(columns={\"snomed_conceptid\": \"snomed_id\"})\n",
    "    .merge(dise_map, on=\"snomed_id\", how=\"inner\")\n",
    "    .drop(\"snomed_full_name\", axis=1)\n",
    ")"
   ]
  },
  {
   "cell_type": "code",
   "execution_count": 27,
   "metadata": {},
   "outputs": [
    {
     "data": {
      "text/plain": [
       "(34386, 7)"
      ]
     },
     "execution_count": 27,
     "metadata": {},
     "output_type": "execute_result"
    }
   ],
   "source": [
    "res.shape"
   ]
  },
  {
   "cell_type": "code",
   "execution_count": 28,
   "metadata": {},
   "outputs": [
    {
     "data": {
      "text/html": [
       "<div>\n",
       "<style>\n",
       "    .dataframe thead tr:only-child th {\n",
       "        text-align: right;\n",
       "    }\n",
       "\n",
       "    .dataframe thead th {\n",
       "        text-align: left;\n",
       "    }\n",
       "\n",
       "    .dataframe tbody tr th {\n",
       "        vertical-align: top;\n",
       "    }\n",
       "</style>\n",
       "<table border=\"1\" class=\"dataframe\">\n",
       "  <thead>\n",
       "    <tr style=\"text-align: right;\">\n",
       "      <th></th>\n",
       "      <th>struct_id</th>\n",
       "      <th>relationship_name</th>\n",
       "      <th>snomed_id</th>\n",
       "      <th>dise_name</th>\n",
       "      <th>orphanet_id</th>\n",
       "      <th>dise_type</th>\n",
       "      <th>snomed_name</th>\n",
       "    </tr>\n",
       "  </thead>\n",
       "  <tbody>\n",
       "    <tr>\n",
       "      <th>0</th>\n",
       "      <td>76</td>\n",
       "      <td>indication</td>\n",
       "      <td>3744001</td>\n",
       "      <td>Major hypertriglyceridemia</td>\n",
       "      <td>181425</td>\n",
       "      <td>rare_genetic</td>\n",
       "      <td>Hyperlipoproteinemia (disorder)</td>\n",
       "    </tr>\n",
       "    <tr>\n",
       "      <th>1</th>\n",
       "      <td>76</td>\n",
       "      <td>indication</td>\n",
       "      <td>3744001</td>\n",
       "      <td>Rare hyperlipidemia</td>\n",
       "      <td>181422</td>\n",
       "      <td>rare_genetic</td>\n",
       "      <td>Hyperlipoproteinemia (disorder)</td>\n",
       "    </tr>\n",
       "    <tr>\n",
       "      <th>2</th>\n",
       "      <td>76</td>\n",
       "      <td>indication</td>\n",
       "      <td>3744001</td>\n",
       "      <td>Hyperlipoproteinemia type 3</td>\n",
       "      <td>412</td>\n",
       "      <td>rare_genetic</td>\n",
       "      <td>Hyperlipoproteinemia (disorder)</td>\n",
       "    </tr>\n",
       "    <tr>\n",
       "      <th>3</th>\n",
       "      <td>76</td>\n",
       "      <td>indication</td>\n",
       "      <td>3744001</td>\n",
       "      <td>Familial lipoprotein lipase deficiency</td>\n",
       "      <td>309015</td>\n",
       "      <td>rare_genetic</td>\n",
       "      <td>Hyperlipoproteinemia (disorder)</td>\n",
       "    </tr>\n",
       "    <tr>\n",
       "      <th>4</th>\n",
       "      <td>76</td>\n",
       "      <td>indication</td>\n",
       "      <td>3744001</td>\n",
       "      <td>Familial apolipoprotein C-II deficiency</td>\n",
       "      <td>309020</td>\n",
       "      <td>rare_genetic</td>\n",
       "      <td>Hyperlipoproteinemia (disorder)</td>\n",
       "    </tr>\n",
       "  </tbody>\n",
       "</table>\n",
       "</div>"
      ],
      "text/plain": [
       "   struct_id relationship_name  snomed_id  \\\n",
       "0         76        indication    3744001   \n",
       "1         76        indication    3744001   \n",
       "2         76        indication    3744001   \n",
       "3         76        indication    3744001   \n",
       "4         76        indication    3744001   \n",
       "\n",
       "                                 dise_name  orphanet_id     dise_type  \\\n",
       "0               Major hypertriglyceridemia       181425  rare_genetic   \n",
       "1                      Rare hyperlipidemia       181422  rare_genetic   \n",
       "2              Hyperlipoproteinemia type 3          412  rare_genetic   \n",
       "3   Familial lipoprotein lipase deficiency       309015  rare_genetic   \n",
       "4  Familial apolipoprotein C-II deficiency       309020  rare_genetic   \n",
       "\n",
       "                       snomed_name  \n",
       "0  Hyperlipoproteinemia (disorder)  \n",
       "1  Hyperlipoproteinemia (disorder)  \n",
       "2  Hyperlipoproteinemia (disorder)  \n",
       "3  Hyperlipoproteinemia (disorder)  \n",
       "4  Hyperlipoproteinemia (disorder)  "
      ]
     },
     "execution_count": 28,
     "metadata": {},
     "output_type": "execute_result"
    }
   ],
   "source": [
    "res.head()"
   ]
  },
  {
   "cell_type": "markdown",
   "metadata": {},
   "source": [
    "### Add in chemical names"
   ]
  },
  {
   "cell_type": "code",
   "execution_count": 29,
   "metadata": {
    "collapsed": true
   },
   "outputs": [],
   "source": [
    "dnames = (pd\n",
    "    .read_csv(\"../data/drug_names.csv\")\n",
    "    [[\"id\", \"name\"]]\n",
    "    .rename(columns={\n",
    "        \"id\": \"struct_id\",\n",
    "        \"name\": \"drug_name\"\n",
    "    })\n",
    ")\n",
    "\n",
    "good = (res\n",
    "    [[\"struct_id\", \"relationship_name\", \"orphanet_id\", \"dise_name\", \"dise_type\"]]\n",
    "    .drop_duplicates()\n",
    "    .merge(dnames, how=\"left\", on=\"struct_id\")\n",
    ")"
   ]
  },
  {
   "cell_type": "markdown",
   "metadata": {},
   "source": [
    "## Information about results"
   ]
  },
  {
   "cell_type": "code",
   "execution_count": 30,
   "metadata": {},
   "outputs": [
    {
     "data": {
      "text/plain": [
       "(33087, 6)"
      ]
     },
     "execution_count": 30,
     "metadata": {},
     "output_type": "execute_result"
    }
   ],
   "source": [
    "good.shape"
   ]
  },
  {
   "cell_type": "code",
   "execution_count": 31,
   "metadata": {},
   "outputs": [
    {
     "data": {
      "text/html": [
       "<div>\n",
       "<style>\n",
       "    .dataframe thead tr:only-child th {\n",
       "        text-align: right;\n",
       "    }\n",
       "\n",
       "    .dataframe thead th {\n",
       "        text-align: left;\n",
       "    }\n",
       "\n",
       "    .dataframe tbody tr th {\n",
       "        vertical-align: top;\n",
       "    }\n",
       "</style>\n",
       "<table border=\"1\" class=\"dataframe\">\n",
       "  <thead>\n",
       "    <tr style=\"text-align: right;\">\n",
       "      <th></th>\n",
       "      <th>struct_id</th>\n",
       "      <th>relationship_name</th>\n",
       "      <th>orphanet_id</th>\n",
       "      <th>dise_name</th>\n",
       "      <th>dise_type</th>\n",
       "      <th>drug_name</th>\n",
       "    </tr>\n",
       "  </thead>\n",
       "  <tbody>\n",
       "    <tr>\n",
       "      <th>0</th>\n",
       "      <td>76</td>\n",
       "      <td>indication</td>\n",
       "      <td>181425</td>\n",
       "      <td>Major hypertriglyceridemia</td>\n",
       "      <td>rare_genetic</td>\n",
       "      <td>acipimox</td>\n",
       "    </tr>\n",
       "    <tr>\n",
       "      <th>1</th>\n",
       "      <td>76</td>\n",
       "      <td>indication</td>\n",
       "      <td>181422</td>\n",
       "      <td>Rare hyperlipidemia</td>\n",
       "      <td>rare_genetic</td>\n",
       "      <td>acipimox</td>\n",
       "    </tr>\n",
       "    <tr>\n",
       "      <th>2</th>\n",
       "      <td>76</td>\n",
       "      <td>indication</td>\n",
       "      <td>412</td>\n",
       "      <td>Hyperlipoproteinemia type 3</td>\n",
       "      <td>rare_genetic</td>\n",
       "      <td>acipimox</td>\n",
       "    </tr>\n",
       "    <tr>\n",
       "      <th>3</th>\n",
       "      <td>76</td>\n",
       "      <td>indication</td>\n",
       "      <td>309015</td>\n",
       "      <td>Familial lipoprotein lipase deficiency</td>\n",
       "      <td>rare_genetic</td>\n",
       "      <td>acipimox</td>\n",
       "    </tr>\n",
       "    <tr>\n",
       "      <th>4</th>\n",
       "      <td>76</td>\n",
       "      <td>indication</td>\n",
       "      <td>309020</td>\n",
       "      <td>Familial apolipoprotein C-II deficiency</td>\n",
       "      <td>rare_genetic</td>\n",
       "      <td>acipimox</td>\n",
       "    </tr>\n",
       "  </tbody>\n",
       "</table>\n",
       "</div>"
      ],
      "text/plain": [
       "   struct_id relationship_name  orphanet_id  \\\n",
       "0         76        indication       181425   \n",
       "1         76        indication       181422   \n",
       "2         76        indication          412   \n",
       "3         76        indication       309015   \n",
       "4         76        indication       309020   \n",
       "\n",
       "                                 dise_name     dise_type drug_name  \n",
       "0               Major hypertriglyceridemia  rare_genetic  acipimox  \n",
       "1                      Rare hyperlipidemia  rare_genetic  acipimox  \n",
       "2              Hyperlipoproteinemia type 3  rare_genetic  acipimox  \n",
       "3   Familial lipoprotein lipase deficiency  rare_genetic  acipimox  \n",
       "4  Familial apolipoprotein C-II deficiency  rare_genetic  acipimox  "
      ]
     },
     "execution_count": 31,
     "metadata": {},
     "output_type": "execute_result"
    }
   ],
   "source": [
    "good.head()"
   ]
  },
  {
   "cell_type": "markdown",
   "metadata": {},
   "source": [
    "### Statistics"
   ]
  },
  {
   "cell_type": "code",
   "execution_count": 32,
   "metadata": {},
   "outputs": [
    {
     "data": {
      "text/plain": [
       "1488"
      ]
     },
     "execution_count": 32,
     "metadata": {},
     "output_type": "execute_result"
    }
   ],
   "source": [
    "good[\"struct_id\"].nunique()"
   ]
  },
  {
   "cell_type": "code",
   "execution_count": 33,
   "metadata": {},
   "outputs": [
    {
     "data": {
      "text/plain": [
       "1753"
      ]
     },
     "execution_count": 33,
     "metadata": {},
     "output_type": "execute_result"
    }
   ],
   "source": [
    "good[\"orphanet_id\"].nunique()"
   ]
  },
  {
   "cell_type": "code",
   "execution_count": 34,
   "metadata": {},
   "outputs": [
    {
     "data": {
      "text/plain": [
       "contraindication    25892\n",
       "indication           5287\n",
       "off-label use        1908\n",
       "Name: relationship_name, dtype: int64"
      ]
     },
     "execution_count": 34,
     "metadata": {},
     "output_type": "execute_result"
    }
   ],
   "source": [
    "good[\"relationship_name\"].value_counts()"
   ]
  },
  {
   "cell_type": "code",
   "execution_count": 35,
   "metadata": {},
   "outputs": [
    {
     "data": {
      "text/plain": [
       "rare_genetic    24595\n",
       "not_genetic      8492\n",
       "Name: dise_type, dtype: int64"
      ]
     },
     "execution_count": 35,
     "metadata": {},
     "output_type": "execute_result"
    }
   ],
   "source": [
    "good[\"dise_type\"].value_counts()"
   ]
  },
  {
   "cell_type": "code",
   "execution_count": 36,
   "metadata": {},
   "outputs": [
    {
     "data": {
      "text/plain": [
       "dise_type     relationship_name\n",
       "not_genetic   contraindication      5412\n",
       "              indication            2198\n",
       "              off-label use          882\n",
       "rare_genetic  contraindication     20480\n",
       "              indication            3089\n",
       "              off-label use         1026\n",
       "dtype: int64"
      ]
     },
     "execution_count": 36,
     "metadata": {},
     "output_type": "execute_result"
    }
   ],
   "source": [
    "good.groupby([\"dise_type\", \"relationship_name\"]).size()"
   ]
  },
  {
   "cell_type": "markdown",
   "metadata": {},
   "source": [
    "About half of the indications in the data are for non genetic rare diseases."
   ]
  },
  {
   "cell_type": "code",
   "execution_count": 37,
   "metadata": {},
   "outputs": [
    {
     "data": {
      "text/plain": [
       "dise_type     relationship_name\n",
       "not_genetic   contraindication     286\n",
       "              indication           410\n",
       "              off-label use        210\n",
       "rare_genetic  contraindication     872\n",
       "              indication           879\n",
       "              off-label use        663\n",
       "Name: orphanet_id, dtype: int64"
      ]
     },
     "execution_count": 37,
     "metadata": {},
     "output_type": "execute_result"
    }
   ],
   "source": [
    "good.groupby([\"dise_type\", \"relationship_name\"])[\"orphanet_id\"].nunique()"
   ]
  },
  {
   "cell_type": "code",
   "execution_count": 38,
   "metadata": {},
   "outputs": [
    {
     "data": {
      "text/plain": [
       "relationship_name\n",
       "contraindication    1158\n",
       "indication          1289\n",
       "off-label use        873\n",
       "Name: orphanet_id, dtype: int64"
      ]
     },
     "execution_count": 38,
     "metadata": {},
     "output_type": "execute_result"
    }
   ],
   "source": [
    "good.groupby(\"relationship_name\")[\"orphanet_id\"].nunique()"
   ]
  },
  {
   "cell_type": "code",
   "execution_count": 39,
   "metadata": {},
   "outputs": [
    {
     "data": {
      "text/plain": [
       "relationship_name\n",
       "contraindication    1111\n",
       "indication           754\n",
       "off-label use        248\n",
       "Name: struct_id, dtype: int64"
      ]
     },
     "execution_count": 39,
     "metadata": {},
     "output_type": "execute_result"
    }
   ],
   "source": [
    "good.groupby(\"relationship_name\")[\"struct_id\"].nunique()"
   ]
  },
  {
   "cell_type": "code",
   "execution_count": 40,
   "metadata": {},
   "outputs": [
    {
     "data": {
      "text/plain": [
       "1    381\n",
       "3    315\n",
       "4    160\n",
       "2    158\n",
       "8     79\n",
       "dtype: int64"
      ]
     },
     "execution_count": 40,
     "metadata": {},
     "output_type": "execute_result"
    }
   ],
   "source": [
    "good.query(\"relationship_name == 'indication'\").groupby(\"orphanet_id\").size().value_counts().head()"
   ]
  },
  {
   "cell_type": "markdown",
   "metadata": {},
   "source": [
    "Drugcentral contains at least 5k drug indications for 1300 diseases with hundreds of different drugs. It seems that there are plenty of rare disease indications that we can integrate into the rephetio network."
   ]
  },
  {
   "cell_type": "markdown",
   "metadata": {},
   "source": [
    "---"
   ]
  },
  {
   "cell_type": "markdown",
   "metadata": {},
   "source": [
    "## Output to file"
   ]
  },
  {
   "cell_type": "code",
   "execution_count": 41,
   "metadata": {
    "collapsed": true
   },
   "outputs": [],
   "source": [
    "good.to_csv(\"rare_disease_indications.tsv\", sep='\\t', index=False)"
   ]
  }
 ],
 "metadata": {
  "kernelspec": {
   "display_name": "Python 3",
   "language": "python",
   "name": "python3"
  },
  "language_info": {
   "codemirror_mode": {
    "name": "ipython",
    "version": 3
   },
   "file_extension": ".py",
   "mimetype": "text/x-python",
   "name": "python",
   "nbconvert_exporter": "python",
   "pygments_lexer": "ipython3",
   "version": "3.5.3"
  }
 },
 "nbformat": 4,
 "nbformat_minor": 2
}
