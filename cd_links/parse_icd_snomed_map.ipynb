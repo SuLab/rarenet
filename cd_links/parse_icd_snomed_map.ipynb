{
 "cells": [
  {
   "cell_type": "markdown",
   "metadata": {},
   "source": [
    "# Parse mapping of SNOMED to ICD-10\n",
    "\n",
    "2017-06-06\n",
    "\n",
    "Parse the mapping so that we can use it to cross reference drug indications from DrugCentral with rare disease information from OrphaNet to determine if the indications contain any information about rare diseases.\n",
    "\n",
    "### Origin of files\n",
    "\n",
    "Files from the March 2017 version of SNOMED CT US edition (downloaded from https://www.nlm.nih.gov/healthit/snomedct/us_edition.html).\n",
    "\n",
    "Filename is `tls_Icd10cmHumanReadableMap_US1000124_20170301.tsv` from `/Documentation` after extracting the downloaded `zip` file. File was removed of `\\r` using `dos2unix` and renamed to `snomed_icd10_map.tsv`."
   ]
  },
  {
   "cell_type": "code",
   "execution_count": 1,
   "metadata": {
    "collapsed": true
   },
   "outputs": [],
   "source": [
    "import pandas as pd"
   ]
  },
  {
   "cell_type": "code",
   "execution_count": 2,
   "metadata": {
    "collapsed": true
   },
   "outputs": [],
   "source": [
    "data = (pd\n",
    "    .read_csv(\"../data/raw/snomed/snomed_icd10_map.tsv\", sep='\\t')\n",
    "    [[\"referencedComponentId\", \"sctName\", \"mapTarget\", \"icdName\"]]\n",
    "    .rename(columns={\n",
    "        \"referencedComponentId\": \"snomed_id\",\n",
    "        \"sctName\": \"snomed_name\",\n",
    "        \"mapTarget\": \"icd_id\",\n",
    "        \"icdName\": \"icd_name\"\n",
    "    })\n",
    "    .drop_duplicates()\n",
    ")"
   ]
  },
  {
   "cell_type": "code",
   "execution_count": 3,
   "metadata": {},
   "outputs": [
    {
     "data": {
      "text/plain": [
       "(156897, 4)"
      ]
     },
     "execution_count": 3,
     "metadata": {},
     "output_type": "execute_result"
    }
   ],
   "source": [
    "data.shape"
   ]
  },
  {
   "cell_type": "code",
   "execution_count": 4,
   "metadata": {},
   "outputs": [
    {
     "data": {
      "text/html": [
       "<div>\n",
       "<style>\n",
       "    .dataframe thead tr:only-child th {\n",
       "        text-align: right;\n",
       "    }\n",
       "\n",
       "    .dataframe thead th {\n",
       "        text-align: left;\n",
       "    }\n",
       "\n",
       "    .dataframe tbody tr th {\n",
       "        vertical-align: top;\n",
       "    }\n",
       "</style>\n",
       "<table border=\"1\" class=\"dataframe\">\n",
       "  <thead>\n",
       "    <tr style=\"text-align: right;\">\n",
       "      <th></th>\n",
       "      <th>snomed_id</th>\n",
       "      <th>snomed_name</th>\n",
       "      <th>icd_id</th>\n",
       "      <th>icd_name</th>\n",
       "    </tr>\n",
       "  </thead>\n",
       "  <tbody>\n",
       "    <tr>\n",
       "      <th>0</th>\n",
       "      <td>109006</td>\n",
       "      <td>Anxiety disorder of childhood OR adolescence (...</td>\n",
       "      <td>F93.0</td>\n",
       "      <td>Separation anxiety disorder of childhood</td>\n",
       "    </tr>\n",
       "    <tr>\n",
       "      <th>1</th>\n",
       "      <td>109006</td>\n",
       "      <td>Anxiety disorder of childhood OR adolescence (...</td>\n",
       "      <td>F40.8</td>\n",
       "      <td>Other phobic anxiety disorders</td>\n",
       "    </tr>\n",
       "    <tr>\n",
       "      <th>2</th>\n",
       "      <td>109006</td>\n",
       "      <td>Anxiety disorder of childhood OR adolescence (...</td>\n",
       "      <td>F94.8</td>\n",
       "      <td>Other childhood disorders of social functioning</td>\n",
       "    </tr>\n",
       "    <tr>\n",
       "      <th>4</th>\n",
       "      <td>109006</td>\n",
       "      <td>Anxiety disorder of childhood OR adolescence (...</td>\n",
       "      <td>F40.10</td>\n",
       "      <td>Social phobia, unspecified</td>\n",
       "    </tr>\n",
       "    <tr>\n",
       "      <th>6</th>\n",
       "      <td>109006</td>\n",
       "      <td>Anxiety disorder of childhood OR adolescence (...</td>\n",
       "      <td>F93.8</td>\n",
       "      <td>Other childhood emotional disorders</td>\n",
       "    </tr>\n",
       "  </tbody>\n",
       "</table>\n",
       "</div>"
      ],
      "text/plain": [
       "   snomed_id                                        snomed_name  icd_id  \\\n",
       "0     109006  Anxiety disorder of childhood OR adolescence (...   F93.0   \n",
       "1     109006  Anxiety disorder of childhood OR adolescence (...   F40.8   \n",
       "2     109006  Anxiety disorder of childhood OR adolescence (...   F94.8   \n",
       "4     109006  Anxiety disorder of childhood OR adolescence (...  F40.10   \n",
       "6     109006  Anxiety disorder of childhood OR adolescence (...   F93.8   \n",
       "\n",
       "                                          icd_name  \n",
       "0         Separation anxiety disorder of childhood  \n",
       "1                   Other phobic anxiety disorders  \n",
       "2  Other childhood disorders of social functioning  \n",
       "4                       Social phobia, unspecified  \n",
       "6              Other childhood emotional disorders  "
      ]
     },
     "execution_count": 4,
     "metadata": {},
     "output_type": "execute_result"
    }
   ],
   "source": [
    "data.head()"
   ]
  },
  {
   "cell_type": "code",
   "execution_count": 5,
   "metadata": {},
   "outputs": [
    {
     "data": {
      "text/plain": [
       "snomed_id          0\n",
       "snomed_name        0\n",
       "icd_id         12391\n",
       "icd_name       12391\n",
       "dtype: int64"
      ]
     },
     "execution_count": 5,
     "metadata": {},
     "output_type": "execute_result"
    }
   ],
   "source": [
    "data.isnull().sum()"
   ]
  },
  {
   "cell_type": "markdown",
   "metadata": {},
   "source": [
    "Note that one snomed id may have multiple ICD-10 identifiers."
   ]
  },
  {
   "cell_type": "markdown",
   "metadata": {},
   "source": [
    "---"
   ]
  },
  {
   "cell_type": "markdown",
   "metadata": {},
   "source": [
    "## Output to file"
   ]
  },
  {
   "cell_type": "code",
   "execution_count": 6,
   "metadata": {
    "collapsed": true
   },
   "outputs": [],
   "source": [
    "data.to_csv(\"data/snomed_icd10_map.tsv\", sep='\\t', index=False)"
   ]
  }
 ],
 "metadata": {
  "kernelspec": {
   "display_name": "Python 3",
   "language": "python",
   "name": "python3"
  },
  "language_info": {
   "codemirror_mode": {
    "name": "ipython",
    "version": 3
   },
   "file_extension": ".py",
   "mimetype": "text/x-python",
   "name": "python",
   "nbconvert_exporter": "python",
   "pygments_lexer": "ipython3",
   "version": "3.5.3"
  }
 },
 "nbformat": 4,
 "nbformat_minor": 2
}
