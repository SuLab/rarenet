{
 "cells": [
  {
   "cell_type": "markdown",
   "metadata": {},
   "source": [
    "# Extract DrugCentral drug indications\n",
    "\n",
    "2017-06-21"
   ]
  },
  {
   "cell_type": "code",
   "execution_count": 1,
   "metadata": {
    "collapsed": true
   },
   "outputs": [],
   "source": [
    "import pandas as pd\n",
    "import numpy as np"
   ]
  },
  {
   "cell_type": "markdown",
   "metadata": {},
   "source": [
    "## Read indication information\n",
    "\n",
    "This is a text file dump of the `omop_relationship` table."
   ]
  },
  {
   "cell_type": "code",
   "execution_count": 2,
   "metadata": {
    "collapsed": true
   },
   "outputs": [],
   "source": [
    "ind = pd.read_csv(\"../data/raw/drugcentral_indications.csv\")"
   ]
  },
  {
   "cell_type": "code",
   "execution_count": 3,
   "metadata": {},
   "outputs": [
    {
     "data": {
      "text/plain": [
       "(40865, 9)"
      ]
     },
     "execution_count": 3,
     "metadata": {},
     "output_type": "execute_result"
    }
   ],
   "source": [
    "ind.shape"
   ]
  },
  {
   "cell_type": "code",
   "execution_count": 4,
   "metadata": {},
   "outputs": [
    {
     "data": {
      "text/html": [
       "<div>\n",
       "<style>\n",
       "    .dataframe thead tr:only-child th {\n",
       "        text-align: right;\n",
       "    }\n",
       "\n",
       "    .dataframe thead th {\n",
       "        text-align: left;\n",
       "    }\n",
       "\n",
       "    .dataframe tbody tr th {\n",
       "        vertical-align: top;\n",
       "    }\n",
       "</style>\n",
       "<table border=\"1\" class=\"dataframe\">\n",
       "  <thead>\n",
       "    <tr style=\"text-align: right;\">\n",
       "      <th></th>\n",
       "      <th>id</th>\n",
       "      <th>struct_id</th>\n",
       "      <th>concept_id</th>\n",
       "      <th>relationship_name</th>\n",
       "      <th>concept_name</th>\n",
       "      <th>umls_cui</th>\n",
       "      <th>snomed_full_name</th>\n",
       "      <th>cui_semantic_type</th>\n",
       "      <th>snomed_conceptid</th>\n",
       "    </tr>\n",
       "  </thead>\n",
       "  <tbody>\n",
       "    <tr>\n",
       "      <th>0</th>\n",
       "      <td>132463</td>\n",
       "      <td>1253</td>\n",
       "      <td>21000041</td>\n",
       "      <td>indication</td>\n",
       "      <td>Tuberculosis</td>\n",
       "      <td>C0041296</td>\n",
       "      <td>Tuberculosis</td>\n",
       "      <td>T047</td>\n",
       "      <td>56717001.0</td>\n",
       "    </tr>\n",
       "    <tr>\n",
       "      <th>1</th>\n",
       "      <td>132464</td>\n",
       "      <td>5203</td>\n",
       "      <td>21000533</td>\n",
       "      <td>indication</td>\n",
       "      <td>Malignant tumor of ovary</td>\n",
       "      <td>C1140680</td>\n",
       "      <td>Malignant tumor of ovary</td>\n",
       "      <td>T191</td>\n",
       "      <td>363443007.0</td>\n",
       "    </tr>\n",
       "  </tbody>\n",
       "</table>\n",
       "</div>"
      ],
      "text/plain": [
       "       id  struct_id  concept_id relationship_name              concept_name  \\\n",
       "0  132463       1253    21000041        indication              Tuberculosis   \n",
       "1  132464       5203    21000533        indication  Malignant tumor of ovary   \n",
       "\n",
       "   umls_cui          snomed_full_name cui_semantic_type  snomed_conceptid  \n",
       "0  C0041296              Tuberculosis              T047        56717001.0  \n",
       "1  C1140680  Malignant tumor of ovary              T191       363443007.0  "
      ]
     },
     "execution_count": 4,
     "metadata": {},
     "output_type": "execute_result"
    }
   ],
   "source": [
    "ind.head(2)"
   ]
  },
  {
   "cell_type": "markdown",
   "metadata": {},
   "source": [
    "### Basic information"
   ]
  },
  {
   "cell_type": "code",
   "execution_count": 5,
   "metadata": {},
   "outputs": [
    {
     "data": {
      "text/plain": [
       "id                      0\n",
       "struct_id               0\n",
       "concept_id              0\n",
       "relationship_name       0\n",
       "concept_name            0\n",
       "umls_cui             3916\n",
       "snomed_full_name     3916\n",
       "cui_semantic_type    3916\n",
       "snomed_conceptid     3916\n",
       "dtype: int64"
      ]
     },
     "execution_count": 5,
     "metadata": {},
     "output_type": "execute_result"
    }
   ],
   "source": [
    "ind.isnull().sum()"
   ]
  },
  {
   "cell_type": "code",
   "execution_count": 6,
   "metadata": {},
   "outputs": [
    {
     "data": {
      "text/plain": [
       "0    36949\n",
       "4     3916\n",
       "dtype: int64"
      ]
     },
     "execution_count": 6,
     "metadata": {},
     "output_type": "execute_result"
    }
   ],
   "source": [
    "ind.isnull().sum(axis=1).value_counts()"
   ]
  },
  {
   "cell_type": "markdown",
   "metadata": {},
   "source": [
    "Empty cells occur together in four columns (umls_cui, snomed_full_name, cui_semantic_type,\n",
    "snomed_conceptid).\n",
    "\n",
    "**Can these diseases with missing ids be mapped with string searching?**\n",
    "\n",
    "Random sampling by hand of the disease name in the UMLS and SNOMED show that mapping through a direct text search would be very difficult."
   ]
  },
  {
   "cell_type": "code",
   "execution_count": 7,
   "metadata": {},
   "outputs": [
    {
     "data": {
      "text/html": [
       "<div>\n",
       "<style>\n",
       "    .dataframe thead tr:only-child th {\n",
       "        text-align: right;\n",
       "    }\n",
       "\n",
       "    .dataframe thead th {\n",
       "        text-align: left;\n",
       "    }\n",
       "\n",
       "    .dataframe tbody tr th {\n",
       "        vertical-align: top;\n",
       "    }\n",
       "</style>\n",
       "<table border=\"1\" class=\"dataframe\">\n",
       "  <thead>\n",
       "    <tr style=\"text-align: right;\">\n",
       "      <th></th>\n",
       "      <th>id</th>\n",
       "      <th>struct_id</th>\n",
       "      <th>concept_id</th>\n",
       "      <th>relationship_name</th>\n",
       "      <th>concept_name</th>\n",
       "      <th>umls_cui</th>\n",
       "      <th>snomed_full_name</th>\n",
       "      <th>cui_semantic_type</th>\n",
       "      <th>snomed_conceptid</th>\n",
       "    </tr>\n",
       "  </thead>\n",
       "  <tbody>\n",
       "    <tr>\n",
       "      <th>711</th>\n",
       "      <td>133173</td>\n",
       "      <td>26</td>\n",
       "      <td>21003143</td>\n",
       "      <td>contraindication</td>\n",
       "      <td>Palmar-Plantar Erythrodysesthesia</td>\n",
       "      <td>NaN</td>\n",
       "      <td>NaN</td>\n",
       "      <td>NaN</td>\n",
       "      <td>NaN</td>\n",
       "    </tr>\n",
       "    <tr>\n",
       "      <th>743</th>\n",
       "      <td>133204</td>\n",
       "      <td>254</td>\n",
       "      <td>21003413</td>\n",
       "      <td>off-label use</td>\n",
       "      <td>Prevention of HIV Infection after Exposure</td>\n",
       "      <td>NaN</td>\n",
       "      <td>NaN</td>\n",
       "      <td>NaN</td>\n",
       "      <td>NaN</td>\n",
       "    </tr>\n",
       "    <tr>\n",
       "      <th>752</th>\n",
       "      <td>133213</td>\n",
       "      <td>348</td>\n",
       "      <td>21002783</td>\n",
       "      <td>indication</td>\n",
       "      <td>Systemic Dermatomyositis</td>\n",
       "      <td>NaN</td>\n",
       "      <td>NaN</td>\n",
       "      <td>NaN</td>\n",
       "      <td>NaN</td>\n",
       "    </tr>\n",
       "    <tr>\n",
       "      <th>795</th>\n",
       "      <td>133256</td>\n",
       "      <td>824</td>\n",
       "      <td>21001374</td>\n",
       "      <td>indication</td>\n",
       "      <td>Otitis Externa Eczema</td>\n",
       "      <td>NaN</td>\n",
       "      <td>NaN</td>\n",
       "      <td>NaN</td>\n",
       "      <td>NaN</td>\n",
       "    </tr>\n",
       "    <tr>\n",
       "      <th>806</th>\n",
       "      <td>133267</td>\n",
       "      <td>865</td>\n",
       "      <td>21002814</td>\n",
       "      <td>indication</td>\n",
       "      <td>Osteoarthritis in Patients at High Ulcer Risk</td>\n",
       "      <td>NaN</td>\n",
       "      <td>NaN</td>\n",
       "      <td>NaN</td>\n",
       "      <td>NaN</td>\n",
       "    </tr>\n",
       "  </tbody>\n",
       "</table>\n",
       "</div>"
      ],
      "text/plain": [
       "         id  struct_id  concept_id relationship_name  \\\n",
       "711  133173         26    21003143  contraindication   \n",
       "743  133204        254    21003413     off-label use   \n",
       "752  133213        348    21002783        indication   \n",
       "795  133256        824    21001374        indication   \n",
       "806  133267        865    21002814        indication   \n",
       "\n",
       "                                      concept_name umls_cui snomed_full_name  \\\n",
       "711              Palmar-Plantar Erythrodysesthesia      NaN              NaN   \n",
       "743     Prevention of HIV Infection after Exposure      NaN              NaN   \n",
       "752                       Systemic Dermatomyositis      NaN              NaN   \n",
       "795                          Otitis Externa Eczema      NaN              NaN   \n",
       "806  Osteoarthritis in Patients at High Ulcer Risk      NaN              NaN   \n",
       "\n",
       "    cui_semantic_type  snomed_conceptid  \n",
       "711               NaN               NaN  \n",
       "743               NaN               NaN  \n",
       "752               NaN               NaN  \n",
       "795               NaN               NaN  \n",
       "806               NaN               NaN  "
      ]
     },
     "execution_count": 7,
     "metadata": {},
     "output_type": "execute_result"
    }
   ],
   "source": [
    "ind[ind[\"umls_cui\"].isnull()].head()"
   ]
  },
  {
   "cell_type": "markdown",
   "metadata": {},
   "source": [
    "## Remove indications with missing disease identifiers"
   ]
  },
  {
   "cell_type": "code",
   "execution_count": 8,
   "metadata": {
    "collapsed": true
   },
   "outputs": [],
   "source": [
    "# snomed_full_name is the same as concept_name\n",
    "res = (ind\n",
    "    .drop([\"id\", \"concept_id\", \"snomed_full_name\", \"cui_semantic_type\"], axis=1)\n",
    "    .dropna(axis=0, how=\"any\")\n",
    "    .astype({\"snomed_conceptid\": np.int64})\n",
    "    .rename(columns={\"concept_name\": \"disease_name\"})\n",
    "    .drop_duplicates()\n",
    ")"
   ]
  },
  {
   "cell_type": "code",
   "execution_count": 9,
   "metadata": {},
   "outputs": [
    {
     "data": {
      "text/plain": [
       "(36949, 5)"
      ]
     },
     "execution_count": 9,
     "metadata": {},
     "output_type": "execute_result"
    }
   ],
   "source": [
    "res.shape"
   ]
  },
  {
   "cell_type": "code",
   "execution_count": 10,
   "metadata": {},
   "outputs": [
    {
     "data": {
      "text/html": [
       "<div>\n",
       "<style>\n",
       "    .dataframe thead tr:only-child th {\n",
       "        text-align: right;\n",
       "    }\n",
       "\n",
       "    .dataframe thead th {\n",
       "        text-align: left;\n",
       "    }\n",
       "\n",
       "    .dataframe tbody tr th {\n",
       "        vertical-align: top;\n",
       "    }\n",
       "</style>\n",
       "<table border=\"1\" class=\"dataframe\">\n",
       "  <thead>\n",
       "    <tr style=\"text-align: right;\">\n",
       "      <th></th>\n",
       "      <th>struct_id</th>\n",
       "      <th>relationship_name</th>\n",
       "      <th>disease_name</th>\n",
       "      <th>umls_cui</th>\n",
       "      <th>snomed_conceptid</th>\n",
       "    </tr>\n",
       "  </thead>\n",
       "  <tbody>\n",
       "    <tr>\n",
       "      <th>0</th>\n",
       "      <td>1253</td>\n",
       "      <td>indication</td>\n",
       "      <td>Tuberculosis</td>\n",
       "      <td>C0041296</td>\n",
       "      <td>56717001</td>\n",
       "    </tr>\n",
       "    <tr>\n",
       "      <th>1</th>\n",
       "      <td>5203</td>\n",
       "      <td>indication</td>\n",
       "      <td>Malignant tumor of ovary</td>\n",
       "      <td>C1140680</td>\n",
       "      <td>363443007</td>\n",
       "    </tr>\n",
       "    <tr>\n",
       "      <th>2</th>\n",
       "      <td>5202</td>\n",
       "      <td>indication</td>\n",
       "      <td>Rheumatoid arthritis</td>\n",
       "      <td>C0003873</td>\n",
       "      <td>69896004</td>\n",
       "    </tr>\n",
       "    <tr>\n",
       "      <th>3</th>\n",
       "      <td>67</td>\n",
       "      <td>indication</td>\n",
       "      <td>Atrial fibrillation</td>\n",
       "      <td>C0004238</td>\n",
       "      <td>49436004</td>\n",
       "    </tr>\n",
       "    <tr>\n",
       "      <th>4</th>\n",
       "      <td>67</td>\n",
       "      <td>indication</td>\n",
       "      <td>Congestive heart failure</td>\n",
       "      <td>C0018802</td>\n",
       "      <td>42343007</td>\n",
       "    </tr>\n",
       "  </tbody>\n",
       "</table>\n",
       "</div>"
      ],
      "text/plain": [
       "   struct_id relationship_name              disease_name  umls_cui  \\\n",
       "0       1253        indication              Tuberculosis  C0041296   \n",
       "1       5203        indication  Malignant tumor of ovary  C1140680   \n",
       "2       5202        indication      Rheumatoid arthritis  C0003873   \n",
       "3         67        indication       Atrial fibrillation  C0004238   \n",
       "4         67        indication  Congestive heart failure  C0018802   \n",
       "\n",
       "   snomed_conceptid  \n",
       "0          56717001  \n",
       "1         363443007  \n",
       "2          69896004  \n",
       "3          49436004  \n",
       "4          42343007  "
      ]
     },
     "execution_count": 10,
     "metadata": {},
     "output_type": "execute_result"
    }
   ],
   "source": [
    "res.head()"
   ]
  },
  {
   "cell_type": "markdown",
   "metadata": {},
   "source": [
    "### Indication statistics"
   ]
  },
  {
   "cell_type": "code",
   "execution_count": 11,
   "metadata": {},
   "outputs": [
    {
     "data": {
      "text/plain": [
       "2370"
      ]
     },
     "execution_count": 11,
     "metadata": {},
     "output_type": "execute_result"
    }
   ],
   "source": [
    "res[\"struct_id\"].nunique()"
   ]
  },
  {
   "cell_type": "code",
   "execution_count": 12,
   "metadata": {},
   "outputs": [
    {
     "data": {
      "text/plain": [
       "contraindication    26695\n",
       "indication           8362\n",
       "off-label use        1891\n",
       "reduce risk             1\n",
       "Name: relationship_name, dtype: int64"
      ]
     },
     "execution_count": 12,
     "metadata": {},
     "output_type": "execute_result"
    }
   ],
   "source": [
    "res[\"relationship_name\"].value_counts()"
   ]
  },
  {
   "cell_type": "code",
   "execution_count": 13,
   "metadata": {},
   "outputs": [
    {
     "data": {
      "text/plain": [
       "2192"
      ]
     },
     "execution_count": 13,
     "metadata": {},
     "output_type": "execute_result"
    }
   ],
   "source": [
    "res[\"umls_cui\"].nunique()"
   ]
  },
  {
   "cell_type": "code",
   "execution_count": 14,
   "metadata": {},
   "outputs": [
    {
     "data": {
      "text/plain": [
       "2214"
      ]
     },
     "execution_count": 14,
     "metadata": {},
     "output_type": "execute_result"
    }
   ],
   "source": [
    "res[\"snomed_conceptid\"].nunique()"
   ]
  },
  {
   "cell_type": "markdown",
   "metadata": {},
   "source": [
    "## Save cleaned indications to file"
   ]
  },
  {
   "cell_type": "code",
   "execution_count": 15,
   "metadata": {
    "collapsed": true
   },
   "outputs": [],
   "source": [
    "res.to_csv(\"data/simple_indications.tsv\", sep='\\t', index=False)"
   ]
  }
 ],
 "metadata": {
  "kernelspec": {
   "display_name": "Python 3",
   "language": "python",
   "name": "python3"
  },
  "language_info": {
   "codemirror_mode": {
    "name": "ipython",
    "version": 3
   },
   "file_extension": ".py",
   "mimetype": "text/x-python",
   "name": "python",
   "nbconvert_exporter": "python",
   "pygments_lexer": "ipython3",
   "version": "3.5.3"
  }
 },
 "nbformat": 4,
 "nbformat_minor": 2
}
