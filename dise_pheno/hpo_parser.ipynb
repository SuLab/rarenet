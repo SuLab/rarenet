{
 "cells": [
  {
   "cell_type": "markdown",
   "metadata": {},
   "source": [
    "# HPO parser\n",
    "\n",
    "Need to parse out HPO to MeSH id mapping in order to link in rare disease phenotypes."
   ]
  },
  {
   "cell_type": "code",
   "execution_count": 1,
   "metadata": {
    "collapsed": true
   },
   "outputs": [],
   "source": [
    "from collections import defaultdict\n",
    "\n",
    "import pandas as pd\n",
    "import numpy as np"
   ]
  },
  {
   "cell_type": "code",
   "execution_count": 2,
   "metadata": {
    "collapsed": true
   },
   "outputs": [],
   "source": [
    "def read_file(fname):\n",
    "    with open(fname, \"r\") as fin:\n",
    "        for line in fin:\n",
    "            yield line.rstrip(\"\\n\")"
   ]
  },
  {
   "cell_type": "markdown",
   "metadata": {},
   "source": [
    "## Parse out all names"
   ]
  },
  {
   "cell_type": "code",
   "execution_count": 3,
   "metadata": {
    "collapsed": true
   },
   "outputs": [],
   "source": [
    "data = defaultdict(list)\n",
    "\n",
    "stream = read_file(\"../data/raw/hpo.obo\")\n",
    "\n",
    "for line in stream:\n",
    "    if line == \"[Term]\":\n",
    "        hpo_id = next(stream)\n",
    "        assert hpo_id.startswith(\"id:\")\n",
    "        hpo_id = hpo_id[4:]\n",
    "        \n",
    "        hpo_name = next(stream)\n",
    "        if not hpo_name.startswith(\"name:\"):\n",
    "            hpo_name = next(stream)\n",
    "            \n",
    "        assert hpo_name.startswith(\"name:\"), hpo_name\n",
    "        hpo_name = hpo_name[6:]\n",
    "        \n",
    "        data[\"hpo_id\"].append(hpo_id)\n",
    "        data[\"hpo_name\"].append(hpo_name)\n",
    "        \n",
    "terms = pd.DataFrame(data)"
   ]
  },
  {
   "cell_type": "markdown",
   "metadata": {},
   "source": [
    "## Parse out cross references"
   ]
  },
  {
   "cell_type": "code",
   "execution_count": 4,
   "metadata": {
    "collapsed": true
   },
   "outputs": [],
   "source": [
    "data = defaultdict(list)\n",
    "\n",
    "stream = read_file(\"../data/raw/hpo.obo\")\n",
    "\n",
    "for line in stream:\n",
    "    if line == \"[Term]\":\n",
    "        hpo_id = next(stream)\n",
    "        assert hpo_id.startswith(\"id:\")\n",
    "        hpo_id = hpo_id[4:]\n",
    "        \n",
    "        for val in stream:\n",
    "            if not val:\n",
    "                break\n",
    "                \n",
    "            if val.startswith(\"xref:\"):\n",
    "                data[\"hpo_id\"].append(hpo_id)\n",
    "                data[\"xref\"].append(val[6:])\n",
    "                \n",
    "xrefs = pd.DataFrame(data)"
   ]
  },
  {
   "cell_type": "markdown",
   "metadata": {},
   "source": [
    "## Parse out alternate ids"
   ]
  },
  {
   "cell_type": "code",
   "execution_count": 5,
   "metadata": {
    "collapsed": true
   },
   "outputs": [],
   "source": [
    "data = defaultdict(list)\n",
    "\n",
    "stream = read_file(\"../data/raw/hpo.obo\")\n",
    "\n",
    "for line in stream:\n",
    "    if line == \"[Term]\":\n",
    "        hpo_id = next(stream)\n",
    "        assert hpo_id.startswith(\"id:\"), hpo_id\n",
    "        hpo_id = hpo_id[4:]\n",
    "        \n",
    "        for val in stream:\n",
    "            if not val:\n",
    "                break\n",
    "                \n",
    "            if val.startswith(\"alt_id:\"):\n",
    "                data[\"hpo_id\"].append(hpo_id)\n",
    "                data[\"alt_id\"].append(val[8:])\n",
    "                \n",
    "alts = pd.DataFrame(data)"
   ]
  },
  {
   "cell_type": "markdown",
   "metadata": {},
   "source": [
    "---"
   ]
  },
  {
   "cell_type": "markdown",
   "metadata": {},
   "source": [
    "## Total number of HPO terms"
   ]
  },
  {
   "cell_type": "code",
   "execution_count": 6,
   "metadata": {},
   "outputs": [
    {
     "data": {
      "text/plain": [
       "(12786, 2)"
      ]
     },
     "execution_count": 6,
     "metadata": {},
     "output_type": "execute_result"
    }
   ],
   "source": [
    "terms.shape"
   ]
  },
  {
   "cell_type": "code",
   "execution_count": 7,
   "metadata": {},
   "outputs": [
    {
     "data": {
      "text/html": [
       "<div>\n",
       "<style>\n",
       "    .dataframe thead tr:only-child th {\n",
       "        text-align: right;\n",
       "    }\n",
       "\n",
       "    .dataframe thead th {\n",
       "        text-align: left;\n",
       "    }\n",
       "\n",
       "    .dataframe tbody tr th {\n",
       "        vertical-align: top;\n",
       "    }\n",
       "</style>\n",
       "<table border=\"1\" class=\"dataframe\">\n",
       "  <thead>\n",
       "    <tr style=\"text-align: right;\">\n",
       "      <th></th>\n",
       "      <th>hpo_id</th>\n",
       "      <th>hpo_name</th>\n",
       "    </tr>\n",
       "  </thead>\n",
       "  <tbody>\n",
       "    <tr>\n",
       "      <th>0</th>\n",
       "      <td>HP:0000001</td>\n",
       "      <td>All</td>\n",
       "    </tr>\n",
       "    <tr>\n",
       "      <th>1</th>\n",
       "      <td>HP:0000002</td>\n",
       "      <td>Abnormality of body height</td>\n",
       "    </tr>\n",
       "    <tr>\n",
       "      <th>2</th>\n",
       "      <td>HP:0000003</td>\n",
       "      <td>Multicystic kidney dysplasia</td>\n",
       "    </tr>\n",
       "    <tr>\n",
       "      <th>3</th>\n",
       "      <td>HP:0000005</td>\n",
       "      <td>Mode of inheritance</td>\n",
       "    </tr>\n",
       "    <tr>\n",
       "      <th>4</th>\n",
       "      <td>HP:0000006</td>\n",
       "      <td>Autosomal dominant inheritance</td>\n",
       "    </tr>\n",
       "  </tbody>\n",
       "</table>\n",
       "</div>"
      ],
      "text/plain": [
       "       hpo_id                        hpo_name\n",
       "0  HP:0000001                             All\n",
       "1  HP:0000002      Abnormality of body height\n",
       "2  HP:0000003    Multicystic kidney dysplasia\n",
       "3  HP:0000005             Mode of inheritance\n",
       "4  HP:0000006  Autosomal dominant inheritance"
      ]
     },
     "execution_count": 7,
     "metadata": {},
     "output_type": "execute_result"
    }
   ],
   "source": [
    "terms.head()"
   ]
  },
  {
   "cell_type": "markdown",
   "metadata": {},
   "source": [
    "---"
   ]
  },
  {
   "cell_type": "markdown",
   "metadata": {},
   "source": [
    "## Cross references to other ids"
   ]
  },
  {
   "cell_type": "code",
   "execution_count": 8,
   "metadata": {
    "collapsed": true
   },
   "outputs": [],
   "source": [
    "xrefs[\"xtype\"] = xrefs[\"xref\"].map(lambda v: v[:v.find(\":\")])"
   ]
  },
  {
   "cell_type": "code",
   "execution_count": 9,
   "metadata": {},
   "outputs": [
    {
     "data": {
      "text/plain": [
       "(20268, 3)"
      ]
     },
     "execution_count": 9,
     "metadata": {},
     "output_type": "execute_result"
    }
   ],
   "source": [
    "xrefs.shape"
   ]
  },
  {
   "cell_type": "code",
   "execution_count": 10,
   "metadata": {},
   "outputs": [
    {
     "data": {
      "text/html": [
       "<div>\n",
       "<style>\n",
       "    .dataframe thead tr:only-child th {\n",
       "        text-align: right;\n",
       "    }\n",
       "\n",
       "    .dataframe thead th {\n",
       "        text-align: left;\n",
       "    }\n",
       "\n",
       "    .dataframe tbody tr th {\n",
       "        vertical-align: top;\n",
       "    }\n",
       "</style>\n",
       "<table border=\"1\" class=\"dataframe\">\n",
       "  <thead>\n",
       "    <tr style=\"text-align: right;\">\n",
       "      <th></th>\n",
       "      <th>hpo_id</th>\n",
       "      <th>xref</th>\n",
       "      <th>xtype</th>\n",
       "    </tr>\n",
       "  </thead>\n",
       "  <tbody>\n",
       "    <tr>\n",
       "      <th>0</th>\n",
       "      <td>HP:0000001</td>\n",
       "      <td>UMLS:C0444868</td>\n",
       "      <td>UMLS</td>\n",
       "    </tr>\n",
       "    <tr>\n",
       "      <th>1</th>\n",
       "      <td>HP:0000002</td>\n",
       "      <td>UMLS:C4025901</td>\n",
       "      <td>UMLS</td>\n",
       "    </tr>\n",
       "    <tr>\n",
       "      <th>2</th>\n",
       "      <td>HP:0000003</td>\n",
       "      <td>MSH:D021782</td>\n",
       "      <td>MSH</td>\n",
       "    </tr>\n",
       "    <tr>\n",
       "      <th>3</th>\n",
       "      <td>HP:0000003</td>\n",
       "      <td>SNOMEDCT_US:204962002</td>\n",
       "      <td>SNOMEDCT_US</td>\n",
       "    </tr>\n",
       "    <tr>\n",
       "      <th>4</th>\n",
       "      <td>HP:0000003</td>\n",
       "      <td>SNOMEDCT_US:82525005</td>\n",
       "      <td>SNOMEDCT_US</td>\n",
       "    </tr>\n",
       "  </tbody>\n",
       "</table>\n",
       "</div>"
      ],
      "text/plain": [
       "       hpo_id                   xref        xtype\n",
       "0  HP:0000001          UMLS:C0444868         UMLS\n",
       "1  HP:0000002          UMLS:C4025901         UMLS\n",
       "2  HP:0000003            MSH:D021782          MSH\n",
       "3  HP:0000003  SNOMEDCT_US:204962002  SNOMEDCT_US\n",
       "4  HP:0000003   SNOMEDCT_US:82525005  SNOMEDCT_US"
      ]
     },
     "execution_count": 10,
     "metadata": {},
     "output_type": "execute_result"
    }
   ],
   "source": [
    "xrefs.head()"
   ]
  },
  {
   "cell_type": "code",
   "execution_count": 11,
   "metadata": {},
   "outputs": [
    {
     "data": {
      "text/plain": [
       "11760"
      ]
     },
     "execution_count": 11,
     "metadata": {},
     "output_type": "execute_result"
    }
   ],
   "source": [
    "xrefs[\"hpo_id\"].nunique()"
   ]
  },
  {
   "cell_type": "markdown",
   "metadata": {},
   "source": [
    "Some 1026 HPO terms do not have any sort of cross reference to other ontologies. These can still be included in the network, but will probably have no connection to any other concepts."
   ]
  },
  {
   "cell_type": "code",
   "execution_count": 12,
   "metadata": {},
   "outputs": [
    {
     "data": {
      "text/plain": [
       "UMLS                                     13167\n",
       "SNOMEDCT_US                               4703\n",
       "MSH                                       2186\n",
       "MEDDRA                                      93\n",
       "ICD-10                                      38\n",
       "pmid                                        23\n",
       "EPCC                                        13\n",
       "NCIT                                        10\n",
       "MP                                          10\n",
       "ORPHA                                        6\n",
       "MPATH                                        4\n",
       "ICD-O                                        3\n",
       "ICD-9                                        3\n",
       "PMID                                         3\n",
       "DOI                                          2\n",
       "NCIT_C345                                    1\n",
       "http                                         1\n",
       "DOID                                         1\n",
       "Absence of ceruloplasmin in the blood        1\n",
       "Name: xtype, dtype: int64"
      ]
     },
     "execution_count": 12,
     "metadata": {},
     "output_type": "execute_result"
    }
   ],
   "source": [
    "xrefs[\"xtype\"].value_counts()"
   ]
  },
  {
   "cell_type": "markdown",
   "metadata": {},
   "source": [
    "---"
   ]
  },
  {
   "cell_type": "markdown",
   "metadata": {},
   "source": [
    "## Alternate identifiers\n",
    "\n",
    "Some of the HPO terms are outdated, and the official id has changed."
   ]
  },
  {
   "cell_type": "code",
   "execution_count": 13,
   "metadata": {},
   "outputs": [
    {
     "data": {
      "text/plain": [
       "(3518, 2)"
      ]
     },
     "execution_count": 13,
     "metadata": {},
     "output_type": "execute_result"
    }
   ],
   "source": [
    "alts.shape"
   ]
  },
  {
   "cell_type": "code",
   "execution_count": 14,
   "metadata": {},
   "outputs": [
    {
     "data": {
      "text/html": [
       "<div>\n",
       "<style>\n",
       "    .dataframe thead tr:only-child th {\n",
       "        text-align: right;\n",
       "    }\n",
       "\n",
       "    .dataframe thead th {\n",
       "        text-align: left;\n",
       "    }\n",
       "\n",
       "    .dataframe tbody tr th {\n",
       "        vertical-align: top;\n",
       "    }\n",
       "</style>\n",
       "<table border=\"1\" class=\"dataframe\">\n",
       "  <thead>\n",
       "    <tr style=\"text-align: right;\">\n",
       "      <th></th>\n",
       "      <th>alt_id</th>\n",
       "      <th>hpo_id</th>\n",
       "    </tr>\n",
       "  </thead>\n",
       "  <tbody>\n",
       "    <tr>\n",
       "      <th>0</th>\n",
       "      <td>HP:0004715</td>\n",
       "      <td>HP:0000003</td>\n",
       "    </tr>\n",
       "    <tr>\n",
       "      <th>1</th>\n",
       "      <td>HP:0001453</td>\n",
       "      <td>HP:0000005</td>\n",
       "    </tr>\n",
       "    <tr>\n",
       "      <th>2</th>\n",
       "      <td>HP:0001461</td>\n",
       "      <td>HP:0000005</td>\n",
       "    </tr>\n",
       "    <tr>\n",
       "      <th>3</th>\n",
       "      <td>HP:0001415</td>\n",
       "      <td>HP:0000006</td>\n",
       "    </tr>\n",
       "    <tr>\n",
       "      <th>4</th>\n",
       "      <td>HP:0001447</td>\n",
       "      <td>HP:0000006</td>\n",
       "    </tr>\n",
       "  </tbody>\n",
       "</table>\n",
       "</div>"
      ],
      "text/plain": [
       "       alt_id      hpo_id\n",
       "0  HP:0004715  HP:0000003\n",
       "1  HP:0001453  HP:0000005\n",
       "2  HP:0001461  HP:0000005\n",
       "3  HP:0001415  HP:0000006\n",
       "4  HP:0001447  HP:0000006"
      ]
     },
     "execution_count": 14,
     "metadata": {},
     "output_type": "execute_result"
    }
   ],
   "source": [
    "alts.head()"
   ]
  },
  {
   "cell_type": "markdown",
   "metadata": {},
   "source": [
    "## Save to file"
   ]
  },
  {
   "cell_type": "code",
   "execution_count": 15,
   "metadata": {
    "collapsed": true
   },
   "outputs": [],
   "source": [
    "terms.to_csv(\"data/hpo_terms.tsv\", sep='\\t', index=False)"
   ]
  },
  {
   "cell_type": "code",
   "execution_count": 16,
   "metadata": {
    "collapsed": true
   },
   "outputs": [],
   "source": [
    "xrefs.to_csv(\"data/hpo_xrefs.tsv\", sep='\\t', index=False)"
   ]
  },
  {
   "cell_type": "code",
   "execution_count": 17,
   "metadata": {
    "collapsed": true
   },
   "outputs": [],
   "source": [
    "alts.to_csv(\"data/hpo_alts.tsv\", sep='\\t', index=False)"
   ]
  }
 ],
 "metadata": {
  "kernelspec": {
   "display_name": "Python 3",
   "language": "python",
   "name": "python3"
  },
  "language_info": {
   "codemirror_mode": {
    "name": "ipython",
    "version": 3
   },
   "file_extension": ".py",
   "mimetype": "text/x-python",
   "name": "python",
   "nbconvert_exporter": "python",
   "pygments_lexer": "ipython3",
   "version": "3.5.3"
  }
 },
 "nbformat": 4,
 "nbformat_minor": 2
}
