{
 "cells": [
  {
   "cell_type": "markdown",
   "metadata": {},
   "source": [
    "# Parsing phenotype information for rare diseases\n",
    "\n",
    "Download the rare disease phenotype information from OrphaData and extract it for use in our rare disease network.\n",
    "\n",
    "Original file downloaded from: http://www.orphadata.org/cgi-bin/inc/product4.inc.php on 2017-08-01 (English edition)."
   ]
  },
  {
   "cell_type": "code",
   "execution_count": 1,
   "metadata": {
    "collapsed": true
   },
   "outputs": [],
   "source": [
    "import xml.etree.ElementTree as ET\n",
    "from collections import defaultdict\n",
    "\n",
    "import pandas as pd\n",
    "import numpy as np\n",
    "import seaborn as sns"
   ]
  },
  {
   "cell_type": "code",
   "execution_count": 2,
   "metadata": {
    "collapsed": true
   },
   "outputs": [],
   "source": [
    "%matplotlib inline"
   ]
  },
  {
   "cell_type": "markdown",
   "metadata": {},
   "source": [
    "## Phenotype XML parser"
   ]
  },
  {
   "cell_type": "code",
   "execution_count": 3,
   "metadata": {
    "collapsed": true
   },
   "outputs": [],
   "source": [
    "def parse_phenos(root):\n",
    "    \"\"\"Parse out phenotypes associated with rare diseases.\"\"\"\n",
    "    phenos = defaultdict(list)\n",
    "\n",
    "    for disease in root.iter(\"Disorder\"):\n",
    "        dise_id = disease.find(\"OrphaNumber\").text\n",
    "        dise_name = disease.find(\"Name\").text\n",
    "\n",
    "        for pheno in disease.iterfind(\"HPODisorderAssociationList/HPODisorderAssociation\"):\n",
    "            hpo_id = pheno.find(\"HPO/HPOId\").text\n",
    "            hpo_name = pheno.find(\"HPO/HPOTerm\").text\n",
    "            \n",
    "            freq = pheno.find(\"HPOFrequency/Name\").text\n",
    "\n",
    "            vals = [\"dise_id\", \"dise_name\", \"hpo_id\", \"hpo_name\", \"freq\"]\n",
    "            for vname in vals:\n",
    "                phenos[vname].append(locals()[vname])\n",
    "        \n",
    "    return (pd\n",
    "        .DataFrame(phenos)\n",
    "        .astype({\"dise_id\": np.int64})\n",
    "    )"
   ]
  },
  {
   "cell_type": "code",
   "execution_count": 4,
   "metadata": {
    "collapsed": true
   },
   "outputs": [],
   "source": [
    "tree = ET.parse(\"../data/raw/orphanet/rare_disease_phenotypes.xml\")\n",
    "\n",
    "root = tree.getroot()"
   ]
  },
  {
   "cell_type": "markdown",
   "metadata": {},
   "source": [
    "---"
   ]
  },
  {
   "cell_type": "markdown",
   "metadata": {},
   "source": [
    "## Examine results"
   ]
  },
  {
   "cell_type": "code",
   "execution_count": 5,
   "metadata": {
    "collapsed": true
   },
   "outputs": [],
   "source": [
    "phenos = parse_phenos(root)"
   ]
  },
  {
   "cell_type": "code",
   "execution_count": 6,
   "metadata": {},
   "outputs": [
    {
     "data": {
      "text/plain": [
       "(56392, 5)"
      ]
     },
     "execution_count": 6,
     "metadata": {},
     "output_type": "execute_result"
    }
   ],
   "source": [
    "phenos.shape"
   ]
  },
  {
   "cell_type": "code",
   "execution_count": 7,
   "metadata": {},
   "outputs": [
    {
     "data": {
      "text/html": [
       "<div>\n",
       "<style>\n",
       "    .dataframe thead tr:only-child th {\n",
       "        text-align: right;\n",
       "    }\n",
       "\n",
       "    .dataframe thead th {\n",
       "        text-align: left;\n",
       "    }\n",
       "\n",
       "    .dataframe tbody tr th {\n",
       "        vertical-align: top;\n",
       "    }\n",
       "</style>\n",
       "<table border=\"1\" class=\"dataframe\">\n",
       "  <thead>\n",
       "    <tr style=\"text-align: right;\">\n",
       "      <th></th>\n",
       "      <th>dise_id</th>\n",
       "      <th>dise_name</th>\n",
       "      <th>freq</th>\n",
       "      <th>hpo_id</th>\n",
       "      <th>hpo_name</th>\n",
       "    </tr>\n",
       "  </thead>\n",
       "  <tbody>\n",
       "    <tr>\n",
       "      <th>0</th>\n",
       "      <td>166024</td>\n",
       "      <td>Multiple epiphyseal dysplasia, Al-Gazali type</td>\n",
       "      <td>Very frequent (99-80%)</td>\n",
       "      <td>HP:0000256</td>\n",
       "      <td>Macrocephaly</td>\n",
       "    </tr>\n",
       "    <tr>\n",
       "      <th>1</th>\n",
       "      <td>166024</td>\n",
       "      <td>Multiple epiphyseal dysplasia, Al-Gazali type</td>\n",
       "      <td>Very frequent (99-80%)</td>\n",
       "      <td>HP:0000272</td>\n",
       "      <td>Malar flattening</td>\n",
       "    </tr>\n",
       "    <tr>\n",
       "      <th>2</th>\n",
       "      <td>166024</td>\n",
       "      <td>Multiple epiphyseal dysplasia, Al-Gazali type</td>\n",
       "      <td>Very frequent (99-80%)</td>\n",
       "      <td>HP:0000316</td>\n",
       "      <td>Hypertelorism</td>\n",
       "    </tr>\n",
       "    <tr>\n",
       "      <th>3</th>\n",
       "      <td>166024</td>\n",
       "      <td>Multiple epiphyseal dysplasia, Al-Gazali type</td>\n",
       "      <td>Very frequent (99-80%)</td>\n",
       "      <td>HP:0000369</td>\n",
       "      <td>Low-set ears</td>\n",
       "    </tr>\n",
       "    <tr>\n",
       "      <th>4</th>\n",
       "      <td>166024</td>\n",
       "      <td>Multiple epiphyseal dysplasia, Al-Gazali type</td>\n",
       "      <td>Very frequent (99-80%)</td>\n",
       "      <td>HP:0000470</td>\n",
       "      <td>Short neck</td>\n",
       "    </tr>\n",
       "  </tbody>\n",
       "</table>\n",
       "</div>"
      ],
      "text/plain": [
       "   dise_id                                      dise_name  \\\n",
       "0   166024  Multiple epiphyseal dysplasia, Al-Gazali type   \n",
       "1   166024  Multiple epiphyseal dysplasia, Al-Gazali type   \n",
       "2   166024  Multiple epiphyseal dysplasia, Al-Gazali type   \n",
       "3   166024  Multiple epiphyseal dysplasia, Al-Gazali type   \n",
       "4   166024  Multiple epiphyseal dysplasia, Al-Gazali type   \n",
       "\n",
       "                     freq      hpo_id          hpo_name  \n",
       "0  Very frequent (99-80%)  HP:0000256      Macrocephaly  \n",
       "1  Very frequent (99-80%)  HP:0000272  Malar flattening  \n",
       "2  Very frequent (99-80%)  HP:0000316     Hypertelorism  \n",
       "3  Very frequent (99-80%)  HP:0000369      Low-set ears  \n",
       "4  Very frequent (99-80%)  HP:0000470        Short neck  "
      ]
     },
     "execution_count": 7,
     "metadata": {},
     "output_type": "execute_result"
    }
   ],
   "source": [
    "phenos.head()"
   ]
  },
  {
   "cell_type": "code",
   "execution_count": 8,
   "metadata": {},
   "outputs": [
    {
     "data": {
      "text/plain": [
       "2743"
      ]
     },
     "execution_count": 8,
     "metadata": {},
     "output_type": "execute_result"
    }
   ],
   "source": [
    "phenos[\"dise_id\"].nunique()"
   ]
  },
  {
   "cell_type": "code",
   "execution_count": 9,
   "metadata": {},
   "outputs": [
    {
     "data": {
      "text/plain": [
       "4935"
      ]
     },
     "execution_count": 9,
     "metadata": {},
     "output_type": "execute_result"
    }
   ],
   "source": [
    "phenos[\"hpo_id\"].nunique()"
   ]
  },
  {
   "cell_type": "code",
   "execution_count": 10,
   "metadata": {},
   "outputs": [
    {
     "data": {
      "text/plain": [
       "Very frequent (99-80%)    22254\n",
       "Frequent (79-30%)         16604\n",
       "Occasional (29-5%)        16413\n",
       "Very rare (<4-1%)           596\n",
       "Obligate (100%)             395\n",
       "Excluded (0%)               130\n",
       "Name: freq, dtype: int64"
      ]
     },
     "execution_count": 10,
     "metadata": {},
     "output_type": "execute_result"
    }
   ],
   "source": [
    "phenos[\"freq\"].value_counts()"
   ]
  },
  {
   "cell_type": "markdown",
   "metadata": {},
   "source": [
    "## Number of phenotypes per disease"
   ]
  },
  {
   "cell_type": "code",
   "execution_count": 11,
   "metadata": {
    "scrolled": true
   },
   "outputs": [
    {
     "data": {
      "text/plain": [
       "<matplotlib.axes._subplots.AxesSubplot at 0x7f8b4b913390>"
      ]
     },
     "execution_count": 11,
     "metadata": {},
     "output_type": "execute_result"
    },
    {
     "data": {
      "image/png": "[encoded data removed]",
      "text/plain": [
       "<matplotlib.figure.Figure at 0x7f8b4b667ef0>"
      ]
     },
     "metadata": {},
     "output_type": "display_data"
    }
   ],
   "source": [
    "sns.violinplot(phenos.groupby(\"dise_id\").size())"
   ]
  },
  {
   "cell_type": "markdown",
   "metadata": {
    "collapsed": true
   },
   "source": [
    "---"
   ]
  },
  {
   "cell_type": "code",
   "execution_count": 12,
   "metadata": {
    "collapsed": true
   },
   "outputs": [],
   "source": [
    "phenos = phenos.query(\"freq != 'Excluded (0%)'\")"
   ]
  },
  {
   "cell_type": "code",
   "execution_count": 13,
   "metadata": {
    "collapsed": true
   },
   "outputs": [],
   "source": [
    "phenos.to_csv(\"data/orpha_phenos.tsv\", sep='\\t', index=False)"
   ]
  }
 ],
 "metadata": {
  "kernelspec": {
   "display_name": "Python 3",
   "language": "python",
   "name": "python3"
  },
  "language_info": {
   "codemirror_mode": {
    "name": "ipython",
    "version": 3
   },
   "file_extension": ".py",
   "mimetype": "text/x-python",
   "name": "python",
   "nbconvert_exporter": "python",
   "pygments_lexer": "ipython3",
   "version": "3.5.3"
  }
 },
 "nbformat": 4,
 "nbformat_minor": 2
}
