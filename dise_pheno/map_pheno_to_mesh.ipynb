{
 "cells": [
  {
   "cell_type": "markdown",
   "metadata": {},
   "source": [
    "## How many UMLS cuis do I need to map to mesh?\n",
    "\n",
    "How many UMLS cuis have mesh terms that aren't already here?"
   ]
  },
  {
   "cell_type": "code",
   "execution_count": 1,
   "metadata": {
    "collapsed": true
   },
   "outputs": [],
   "source": [
    "import pandas as pd"
   ]
  },
  {
   "cell_type": "markdown",
   "metadata": {},
   "source": [
    "---"
   ]
  },
  {
   "cell_type": "code",
   "execution_count": 2,
   "metadata": {
    "collapsed": true
   },
   "outputs": [],
   "source": [
    "terms = pd.read_csv(\"data/hpo_terms.tsv\", sep='\\t')\n",
    "xrefs = pd.read_csv(\"data/hpo_xrefs.tsv\", sep='\\t')\n",
    "alts = pd.read_csv(\"data/hpo_alts.tsv\", sep='\\t')"
   ]
  },
  {
   "cell_type": "markdown",
   "metadata": {},
   "source": [
    "---"
   ]
  },
  {
   "cell_type": "code",
   "execution_count": 3,
   "metadata": {
    "collapsed": true
   },
   "outputs": [],
   "source": [
    "phenos = pd.read_csv(\"data/orpha_phenos.tsv\", sep='\\t')"
   ]
  },
  {
   "cell_type": "markdown",
   "metadata": {},
   "source": [
    "---"
   ]
  },
  {
   "cell_type": "markdown",
   "metadata": {},
   "source": [
    "## Are any of the annotated phenotypes using alternate HPO terms?"
   ]
  },
  {
   "cell_type": "code",
   "execution_count": 4,
   "metadata": {},
   "outputs": [
    {
     "data": {
      "text/plain": [
       "25"
      ]
     },
     "execution_count": 4,
     "metadata": {},
     "output_type": "execute_result"
    }
   ],
   "source": [
    "len(set(phenos[\"hpo_id\"]) & set(alts[\"alt_id\"]))"
   ]
  },
  {
   "cell_type": "markdown",
   "metadata": {},
   "source": [
    "---"
   ]
  },
  {
   "cell_type": "markdown",
   "metadata": {},
   "source": [
    "## Map the alternate ids to the official ids"
   ]
  },
  {
   "cell_type": "code",
   "execution_count": 5,
   "metadata": {
    "collapsed": true
   },
   "outputs": [],
   "source": [
    "alt_ids = set(alts[\"alt_id\"])"
   ]
  },
  {
   "cell_type": "code",
   "execution_count": 6,
   "metadata": {
    "collapsed": true
   },
   "outputs": [],
   "source": [
    "phenos[\"is_alt_id\"] = phenos[\"hpo_id\"].map(lambda v: v in alt_ids)"
   ]
  },
  {
   "cell_type": "code",
   "execution_count": 7,
   "metadata": {},
   "outputs": [
    {
     "data": {
      "text/plain": [
       "False    55985\n",
       "True       277\n",
       "Name: is_alt_id, dtype: int64"
      ]
     },
     "execution_count": 7,
     "metadata": {},
     "output_type": "execute_result"
    }
   ],
   "source": [
    "phenos[\"is_alt_id\"].value_counts()"
   ]
  },
  {
   "cell_type": "markdown",
   "metadata": {},
   "source": [
    "Most of these are obsolete ids and need to be replaced."
   ]
  },
  {
   "cell_type": "code",
   "execution_count": 8,
   "metadata": {
    "collapsed": true
   },
   "outputs": [],
   "source": [
    "temp = (phenos\n",
    "    .query(\"is_alt_id\")\n",
    "    .drop(\"is_alt_id\", axis=1)\n",
    "    .rename(columns={\"hpo_id\": \"alt_id\"})\n",
    "    .merge(alts, how=\"inner\", on=\"alt_id\")\n",
    "    .drop(\"alt_id\", axis=1)\n",
    ")"
   ]
  },
  {
   "cell_type": "code",
   "execution_count": 9,
   "metadata": {
    "collapsed": true
   },
   "outputs": [],
   "source": [
    "good_phenos = (phenos\n",
    "    .query(\"~is_alt_id\")\n",
    "    .append(temp)\n",
    "    .drop([\"is_alt_id\", \"hpo_name\"], axis=1)\n",
    "    .merge(terms, how=\"inner\", on=\"hpo_id\")\n",
    ")"
   ]
  },
  {
   "cell_type": "code",
   "execution_count": 10,
   "metadata": {},
   "outputs": [
    {
     "data": {
      "text/plain": [
       "(56262, 5)"
      ]
     },
     "execution_count": 10,
     "metadata": {},
     "output_type": "execute_result"
    }
   ],
   "source": [
    "good_phenos.shape"
   ]
  },
  {
   "cell_type": "code",
   "execution_count": 11,
   "metadata": {},
   "outputs": [
    {
     "data": {
      "text/html": [
       "<div>\n",
       "<style>\n",
       "    .dataframe thead tr:only-child th {\n",
       "        text-align: right;\n",
       "    }\n",
       "\n",
       "    .dataframe thead th {\n",
       "        text-align: left;\n",
       "    }\n",
       "\n",
       "    .dataframe tbody tr th {\n",
       "        vertical-align: top;\n",
       "    }\n",
       "</style>\n",
       "<table border=\"1\" class=\"dataframe\">\n",
       "  <thead>\n",
       "    <tr style=\"text-align: right;\">\n",
       "      <th></th>\n",
       "      <th>dise_id</th>\n",
       "      <th>dise_name</th>\n",
       "      <th>freq</th>\n",
       "      <th>hpo_id</th>\n",
       "      <th>hpo_name</th>\n",
       "    </tr>\n",
       "  </thead>\n",
       "  <tbody>\n",
       "    <tr>\n",
       "      <th>0</th>\n",
       "      <td>166024</td>\n",
       "      <td>Multiple epiphyseal dysplasia, Al-Gazali type</td>\n",
       "      <td>Very frequent (99-80%)</td>\n",
       "      <td>HP:0000256</td>\n",
       "      <td>Macrocephaly</td>\n",
       "    </tr>\n",
       "    <tr>\n",
       "      <th>1</th>\n",
       "      <td>58</td>\n",
       "      <td>Alexander disease</td>\n",
       "      <td>Very frequent (99-80%)</td>\n",
       "      <td>HP:0000256</td>\n",
       "      <td>Macrocephaly</td>\n",
       "    </tr>\n",
       "    <tr>\n",
       "      <th>2</th>\n",
       "      <td>61</td>\n",
       "      <td>Alpha-mannosidosis</td>\n",
       "      <td>Occasional (29-5%)</td>\n",
       "      <td>HP:0000256</td>\n",
       "      <td>Macrocephaly</td>\n",
       "    </tr>\n",
       "    <tr>\n",
       "      <th>3</th>\n",
       "      <td>585</td>\n",
       "      <td>Multiple sulfatase deficiency</td>\n",
       "      <td>Frequent (79-30%)</td>\n",
       "      <td>HP:0000256</td>\n",
       "      <td>Macrocephaly</td>\n",
       "    </tr>\n",
       "    <tr>\n",
       "      <th>4</th>\n",
       "      <td>141</td>\n",
       "      <td>Canavan disease</td>\n",
       "      <td>Frequent (79-30%)</td>\n",
       "      <td>HP:0000256</td>\n",
       "      <td>Macrocephaly</td>\n",
       "    </tr>\n",
       "  </tbody>\n",
       "</table>\n",
       "</div>"
      ],
      "text/plain": [
       "   dise_id                                      dise_name  \\\n",
       "0   166024  Multiple epiphyseal dysplasia, Al-Gazali type   \n",
       "1       58                              Alexander disease   \n",
       "2       61                             Alpha-mannosidosis   \n",
       "3      585                  Multiple sulfatase deficiency   \n",
       "4      141                                Canavan disease   \n",
       "\n",
       "                     freq      hpo_id      hpo_name  \n",
       "0  Very frequent (99-80%)  HP:0000256  Macrocephaly  \n",
       "1  Very frequent (99-80%)  HP:0000256  Macrocephaly  \n",
       "2      Occasional (29-5%)  HP:0000256  Macrocephaly  \n",
       "3       Frequent (79-30%)  HP:0000256  Macrocephaly  \n",
       "4       Frequent (79-30%)  HP:0000256  Macrocephaly  "
      ]
     },
     "execution_count": 11,
     "metadata": {},
     "output_type": "execute_result"
    }
   ],
   "source": [
    "good_phenos.head()"
   ]
  },
  {
   "cell_type": "markdown",
   "metadata": {},
   "source": [
    "---"
   ]
  },
  {
   "cell_type": "markdown",
   "metadata": {},
   "source": [
    "## Determine which of these terms have Mesh cross references"
   ]
  },
  {
   "cell_type": "code",
   "execution_count": 12,
   "metadata": {},
   "outputs": [
    {
     "data": {
      "text/html": [
       "<div>\n",
       "<style>\n",
       "    .dataframe thead tr:only-child th {\n",
       "        text-align: right;\n",
       "    }\n",
       "\n",
       "    .dataframe thead th {\n",
       "        text-align: left;\n",
       "    }\n",
       "\n",
       "    .dataframe tbody tr th {\n",
       "        vertical-align: top;\n",
       "    }\n",
       "</style>\n",
       "<table border=\"1\" class=\"dataframe\">\n",
       "  <thead>\n",
       "    <tr style=\"text-align: right;\">\n",
       "      <th></th>\n",
       "      <th>hpo_id</th>\n",
       "      <th>xref</th>\n",
       "      <th>xtype</th>\n",
       "    </tr>\n",
       "  </thead>\n",
       "  <tbody>\n",
       "    <tr>\n",
       "      <th>0</th>\n",
       "      <td>HP:0000001</td>\n",
       "      <td>UMLS:C0444868</td>\n",
       "      <td>UMLS</td>\n",
       "    </tr>\n",
       "    <tr>\n",
       "      <th>1</th>\n",
       "      <td>HP:0000002</td>\n",
       "      <td>UMLS:C4025901</td>\n",
       "      <td>UMLS</td>\n",
       "    </tr>\n",
       "    <tr>\n",
       "      <th>2</th>\n",
       "      <td>HP:0000003</td>\n",
       "      <td>MSH:D021782</td>\n",
       "      <td>MSH</td>\n",
       "    </tr>\n",
       "    <tr>\n",
       "      <th>3</th>\n",
       "      <td>HP:0000003</td>\n",
       "      <td>SNOMEDCT_US:204962002</td>\n",
       "      <td>SNOMEDCT_US</td>\n",
       "    </tr>\n",
       "    <tr>\n",
       "      <th>4</th>\n",
       "      <td>HP:0000003</td>\n",
       "      <td>SNOMEDCT_US:82525005</td>\n",
       "      <td>SNOMEDCT_US</td>\n",
       "    </tr>\n",
       "  </tbody>\n",
       "</table>\n",
       "</div>"
      ],
      "text/plain": [
       "       hpo_id                   xref        xtype\n",
       "0  HP:0000001          UMLS:C0444868         UMLS\n",
       "1  HP:0000002          UMLS:C4025901         UMLS\n",
       "2  HP:0000003            MSH:D021782          MSH\n",
       "3  HP:0000003  SNOMEDCT_US:204962002  SNOMEDCT_US\n",
       "4  HP:0000003   SNOMEDCT_US:82525005  SNOMEDCT_US"
      ]
     },
     "execution_count": 12,
     "metadata": {},
     "output_type": "execute_result"
    }
   ],
   "source": [
    "xrefs.head()"
   ]
  },
  {
   "cell_type": "code",
   "execution_count": 13,
   "metadata": {},
   "outputs": [
    {
     "data": {
      "text/plain": [
       "UMLS                                     13167\n",
       "SNOMEDCT_US                               4703\n",
       "MSH                                       2186\n",
       "MEDDRA                                      93\n",
       "ICD-10                                      38\n",
       "pmid                                        23\n",
       "EPCC                                        13\n",
       "MP                                          10\n",
       "NCIT                                        10\n",
       "ORPHA                                        6\n",
       "MPATH                                        4\n",
       "PMID                                         3\n",
       "ICD-O                                        3\n",
       "ICD-9                                        3\n",
       "DOI                                          2\n",
       "NCIT_C345                                    1\n",
       "DOID                                         1\n",
       "http                                         1\n",
       "Absence of ceruloplasmin in the blood        1\n",
       "Name: xtype, dtype: int64"
      ]
     },
     "execution_count": 13,
     "metadata": {},
     "output_type": "execute_result"
    }
   ],
   "source": [
    "xrefs[\"xtype\"].value_counts()"
   ]
  },
  {
   "cell_type": "code",
   "execution_count": 14,
   "metadata": {},
   "outputs": [
    {
     "data": {
      "text/plain": [
       "4866"
      ]
     },
     "execution_count": 14,
     "metadata": {},
     "output_type": "execute_result"
    }
   ],
   "source": [
    "len(set(good_phenos[\"hpo_id\"]) & set(xrefs[\"hpo_id\"]))"
   ]
  },
  {
   "cell_type": "code",
   "execution_count": 15,
   "metadata": {},
   "outputs": [
    {
     "data": {
      "text/plain": [
       "4897"
      ]
     },
     "execution_count": 15,
     "metadata": {},
     "output_type": "execute_result"
    }
   ],
   "source": [
    "good_phenos[\"hpo_id\"].nunique()"
   ]
  },
  {
   "cell_type": "markdown",
   "metadata": {},
   "source": [
    "Most of the HPO terms have UMLS mappings, but it's not clear if the missing terms have mesh terms as well.\n",
    "\n",
    "A sampling of the HPO terms with UMLS CUIs but no Mesh ids shows that mappings for these terms do not exist at all. Therefore we will add the mappings for Mesh when possible and just use HPO ids if the mappings do not exist."
   ]
  },
  {
   "cell_type": "markdown",
   "metadata": {},
   "source": [
    "## Map to MeSH"
   ]
  },
  {
   "cell_type": "code",
   "execution_count": 16,
   "metadata": {
    "collapsed": true
   },
   "outputs": [],
   "source": [
    "res = good_phenos.merge(\n",
    "    (xrefs\n",
    "        .query(\"xtype == 'MSH'\")\n",
    "        .assign(mesh_id = lambda df: df[\"xref\"].str[4:])\n",
    "        .drop([\"xref\", \"xtype\"], axis=1)\n",
    "    ),\n",
    "    how=\"left\", on=\"hpo_id\"\n",
    ")"
   ]
  },
  {
   "cell_type": "code",
   "execution_count": 17,
   "metadata": {},
   "outputs": [
    {
     "data": {
      "text/plain": [
       "(58866, 6)"
      ]
     },
     "execution_count": 17,
     "metadata": {},
     "output_type": "execute_result"
    }
   ],
   "source": [
    "res.shape"
   ]
  },
  {
   "cell_type": "code",
   "execution_count": 18,
   "metadata": {},
   "outputs": [
    {
     "data": {
      "text/html": [
       "<div>\n",
       "<style>\n",
       "    .dataframe thead tr:only-child th {\n",
       "        text-align: right;\n",
       "    }\n",
       "\n",
       "    .dataframe thead th {\n",
       "        text-align: left;\n",
       "    }\n",
       "\n",
       "    .dataframe tbody tr th {\n",
       "        vertical-align: top;\n",
       "    }\n",
       "</style>\n",
       "<table border=\"1\" class=\"dataframe\">\n",
       "  <thead>\n",
       "    <tr style=\"text-align: right;\">\n",
       "      <th></th>\n",
       "      <th>dise_id</th>\n",
       "      <th>dise_name</th>\n",
       "      <th>freq</th>\n",
       "      <th>hpo_id</th>\n",
       "      <th>hpo_name</th>\n",
       "      <th>mesh_id</th>\n",
       "    </tr>\n",
       "  </thead>\n",
       "  <tbody>\n",
       "    <tr>\n",
       "      <th>0</th>\n",
       "      <td>166024</td>\n",
       "      <td>Multiple epiphyseal dysplasia, Al-Gazali type</td>\n",
       "      <td>Very frequent (99-80%)</td>\n",
       "      <td>HP:0000256</td>\n",
       "      <td>Macrocephaly</td>\n",
       "      <td>NaN</td>\n",
       "    </tr>\n",
       "    <tr>\n",
       "      <th>1</th>\n",
       "      <td>58</td>\n",
       "      <td>Alexander disease</td>\n",
       "      <td>Very frequent (99-80%)</td>\n",
       "      <td>HP:0000256</td>\n",
       "      <td>Macrocephaly</td>\n",
       "      <td>NaN</td>\n",
       "    </tr>\n",
       "    <tr>\n",
       "      <th>2</th>\n",
       "      <td>61</td>\n",
       "      <td>Alpha-mannosidosis</td>\n",
       "      <td>Occasional (29-5%)</td>\n",
       "      <td>HP:0000256</td>\n",
       "      <td>Macrocephaly</td>\n",
       "      <td>NaN</td>\n",
       "    </tr>\n",
       "    <tr>\n",
       "      <th>3</th>\n",
       "      <td>585</td>\n",
       "      <td>Multiple sulfatase deficiency</td>\n",
       "      <td>Frequent (79-30%)</td>\n",
       "      <td>HP:0000256</td>\n",
       "      <td>Macrocephaly</td>\n",
       "      <td>NaN</td>\n",
       "    </tr>\n",
       "    <tr>\n",
       "      <th>4</th>\n",
       "      <td>141</td>\n",
       "      <td>Canavan disease</td>\n",
       "      <td>Frequent (79-30%)</td>\n",
       "      <td>HP:0000256</td>\n",
       "      <td>Macrocephaly</td>\n",
       "      <td>NaN</td>\n",
       "    </tr>\n",
       "  </tbody>\n",
       "</table>\n",
       "</div>"
      ],
      "text/plain": [
       "   dise_id                                      dise_name  \\\n",
       "0   166024  Multiple epiphyseal dysplasia, Al-Gazali type   \n",
       "1       58                              Alexander disease   \n",
       "2       61                             Alpha-mannosidosis   \n",
       "3      585                  Multiple sulfatase deficiency   \n",
       "4      141                                Canavan disease   \n",
       "\n",
       "                     freq      hpo_id      hpo_name mesh_id  \n",
       "0  Very frequent (99-80%)  HP:0000256  Macrocephaly     NaN  \n",
       "1  Very frequent (99-80%)  HP:0000256  Macrocephaly     NaN  \n",
       "2      Occasional (29-5%)  HP:0000256  Macrocephaly     NaN  \n",
       "3       Frequent (79-30%)  HP:0000256  Macrocephaly     NaN  \n",
       "4       Frequent (79-30%)  HP:0000256  Macrocephaly     NaN  "
      ]
     },
     "execution_count": 18,
     "metadata": {},
     "output_type": "execute_result"
    }
   ],
   "source": [
    "res.head()"
   ]
  },
  {
   "cell_type": "markdown",
   "metadata": {},
   "source": [
    "## Write to file"
   ]
  },
  {
   "cell_type": "code",
   "execution_count": 19,
   "metadata": {
    "collapsed": true
   },
   "outputs": [],
   "source": [
    "res.to_csv(\"dise_pheno_links.tsv\", sep='\\t', index=False)"
   ]
  }
 ],
 "metadata": {
  "kernelspec": {
   "display_name": "Python 3",
   "language": "python",
   "name": "python3"
  },
  "language_info": {
   "codemirror_mode": {
    "name": "ipython",
    "version": 3
   },
   "file_extension": ".py",
   "mimetype": "text/x-python",
   "name": "python",
   "nbconvert_exporter": "python",
   "pygments_lexer": "ipython3",
   "version": "3.5.3"
  }
 },
 "nbformat": 4,
 "nbformat_minor": 2
}
